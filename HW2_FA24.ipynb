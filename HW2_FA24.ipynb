{
 "cells": [
  {
   "cell_type": "markdown",
   "id": "f8e3aa85",
   "metadata": {
    "id": "f8e3aa85"
   },
   "source": [
    "# Homework 2\n",
    "\n",
    "For each answer code cell, **do not** erase the line stating `#A1: your code here`; instead, write your answer code directly below the line.\n",
    "\n",
    "When you turn in this homework, all cells must be executed and the notebook saved with output included. You must also save your **fully executed notebook** as a pdf following the instructions in the Student Handbook posted on Canvas > Modules > Course Policies.\n",
    "\n",
    "A **fully executed notebook** means that you should be seeing the expected output printed below the cell after you click \"Restart Kernel and Run All Cells.\" *If any cell in the PDF of your notebook does not have the expected output printed below it, it will not be considered fully executed and you will not receive points for the questions in that cell.*\n",
    "\n",
    "**If you use any sources aside from the standard NumPy documentation, you must cite the sources (e.g., StackOverflow links) used to answer the below questions. If you use ChatGPT, you must include proof of the prompt you used, as well as an explanation of why the resulting code is correct.**\n",
    "\n",
    "This homework consists of three sections: practice using NumPy, Pandas, and SQL. The goal of HW2 Part 1 is to practice more NumPy array skills. W2 Parts 2 and 3 focus on using Pandas and SQL for basic statistics on real datasets and basic plotting for data visualization."
   ]
  },
  {
   "cell_type": "markdown",
   "id": "b4xUrlusq7IY",
   "metadata": {
    "id": "b4xUrlusq7IY"
   },
   "source": [
    "**NetID:** kl739"
   ]
  },
  {
   "cell_type": "markdown",
   "id": "eSAeA9uYqY_N",
   "metadata": {
    "id": "eSAeA9uYqY_N"
   },
   "source": [
    "---\n",
    "\n",
    "## Problem 0\n",
    "Do not move or modify this cell, we use it for automated homework analysis.\n",
    "\n",
    "**This problem is for you to use to cite your sources.**\n",
    "\n",
    "You will update this problem over the course of the homework. Describe problems, error messages, and bugs you encountered, and how you fixed or addressed them. List URLs for any online resources (like Stack Overflow) you found useful and mention fellow students, TAs, or other people who helped you. If you use ChatGPT, you must include proof of the prompt you used, as well as an explanation of why the resulting code is correct. If you do not appropriately fill out Problem 0, you will receive 0 points on the entire homework assignment.\n"
   ]
  },
  {
   "cell_type": "markdown",
   "id": "36100b46",
   "metadata": {
    "id": "36100b46"
   },
   "source": [
    "**ADD YOUR SOURCES HERE**\n",
    "https://www.geeksforgeeks.org/check-for-nan-in-pandas-dataframe/ \\\n",
    "\n",
    "https://www.atlassian.com/data/notebook/how-to-check-if-any-value-is-nan-in-a-pandas-dataframe#:~:text=Within%20pandas%2C%20a%20missing%20value,using%20missing%20throughout%20this%20tutorial. \\\n",
    "\n",
    "https://pandas.pydata.org/pandas-docs/stable/reference/api/pandas.DataFrame.dtypes.html \\\n",
    "\n",
    "ChatGPT prompt: \"Explain Facetgrid map_dataframe()\" I used this prompt to help me understand map_dataframe() and how to use it in Exercise D4. ChatGPT did not give me example code that was applicable to the context of D4, but I used it to determine what should be the arguments of map_dataframe().\n",
    "\n",
    "---"
   ]
  },
  {
   "cell_type": "markdown",
   "id": "a37a46a6-deb6-40bf-9f3d-033894bf6490",
   "metadata": {
    "id": "a37a46a6-deb6-40bf-9f3d-033894bf6490"
   },
   "source": [
    "# Part 0: Import Packages"
   ]
  },
  {
   "cell_type": "code",
   "execution_count": 1,
   "id": "fa0c4dcf",
   "metadata": {
    "id": "fa0c4dcf"
   },
   "outputs": [],
   "source": [
    "import numpy as np\n",
    "import pandas as pd\n",
    "import duckdb\n",
    "import seaborn\n",
    "import time\n",
    "from matplotlib import pyplot as plt"
   ]
  },
  {
   "cell_type": "markdown",
   "id": "1e01d9d3",
   "metadata": {
    "id": "1e01d9d3"
   },
   "source": [
    "---\n",
    "\n",
    "# Part 1"
   ]
  },
  {
   "cell_type": "markdown",
   "id": "3079df25",
   "metadata": {
    "id": "3079df25"
   },
   "source": [
    "### Goal: Use broadcasting to set array elements.\n",
    "\n",
    "*Broadcasting* refers to treating a value or a smaller array as a larger array. It is a convenient way to operate on arrays without writing `for` loops or explicitly constructing larger arrays.\n",
    "\n",
    "You might find the [NumPy reference for broadcasting](https://numpy.org/doc/stable/user/basics.broadcasting.html) helpful."
   ]
  },
  {
   "cell_type": "markdown",
   "id": "861f562a",
   "metadata": {
    "id": "861f562a"
   },
   "source": [
    "<span style=\"color:blue\">**Exercise A1.**</span> (1.5 points) Create a new array that is the same shape as A but has all entries equal to `0` (as a float) using a call to [`np.zeros()`](https://numpy.org/doc/stable/reference/generated/numpy.zeros.html). Note that the default data type of `np.zeros()` is a float.  Print the array.\n",
    "\n",
    "<span style=\"color:blue\">**Exercise A2.**</span> (1.5 points) Set the first four columns in array A to `0`  (as a float or int) using broadcasting. You will likely need to use two colon slices. Print the array. The output may be a float (as shown) or int.\n",
    "\n",
    "*Hint: when you assign values to a numpy array, the statement will consist of a left-hand-side that determines which positions in the array you want to replace, an `=` sign, and a right-hand-side that determines what values you want to put in those positions. If the RHS is not the same shape as the LHS, numpy will try to figure out what you mean. For this case, you want all of the positions to have the same value (0). The correct code will be simple.*\n",
    "\n",
    "<span style=\"color:blue\">**Exercise A3.**</span> (1.5 points) Add 100 to all the elements of array A using broadcasting. Print the array.\n"
   ]
  },
  {
   "cell_type": "code",
   "execution_count": 2,
   "id": "72385b3e",
   "metadata": {
    "id": "72385b3e",
    "scrolled": true
   },
   "outputs": [],
   "source": [
    "# Exercise A1-A3 Given code\n",
    "A = np.arange(24).reshape((3, 8))"
   ]
  },
  {
   "cell_type": "code",
   "execution_count": 3,
   "id": "369cfe8d-35e0-4fca-83ba-9b34b2e3249b",
   "metadata": {
    "id": "369cfe8d-35e0-4fca-83ba-9b34b2e3249b"
   },
   "outputs": [
    {
     "name": "stdout",
     "output_type": "stream",
     "text": [
      "[[0. 0. 0. 0. 0. 0. 0. 0.]\n",
      " [0. 0. 0. 0. 0. 0. 0. 0.]\n",
      " [0. 0. 0. 0. 0. 0. 0. 0.]]\n",
      "[[ 0  0  0  0  4  5  6  7]\n",
      " [ 0  0  0  0 12 13 14 15]\n",
      " [ 0  0  0  0 20 21 22 23]]\n",
      "[[100 100 100 100 104 105 106 107]\n",
      " [100 100 100 100 112 113 114 115]\n",
      " [100 100 100 100 120 121 122 123]]\n"
     ]
    }
   ],
   "source": [
    "# A1: your code here\n",
    "B = np.zeros((3,8))\n",
    "array1 = A * B\n",
    "print(array1)\n",
    "\n",
    "# A2: your code here\n",
    "A[:, 0:4] = np.zeros((3,4))\n",
    "print(A)\n",
    "\n",
    "# A3: your code here\n",
    "B = np.array([100])\n",
    "array2 = A + B\n",
    "print(array2)"
   ]
  },
  {
   "cell_type": "markdown",
   "id": "60584040",
   "metadata": {
    "id": "60584040"
   },
   "source": [
    "**Expected A1-A3 Output**:\n",
    "```\n",
    "[[0. 0. 0. 0. 0. 0. 0. 0.]\n",
    " [0. 0. 0. 0. 0. 0. 0. 0.]\n",
    " [0. 0. 0. 0. 0. 0. 0. 0.]]\n",
    "[[ 0  0  0  0  4  5  6  7]\n",
    " [ 0  0  0  0 12 13 14 15]\n",
    " [ 0  0  0  0 20 21 22 23]]\n",
    "[[100 100 100 100 104 105 106 107]\n",
    " [100 100 100 100 112 113 114 115]\n",
    " [100 100 100 100 120 121 122 123]]\n",
    "```"
   ]
  },
  {
   "cell_type": "markdown",
   "id": "cdb8b55c",
   "metadata": {
    "id": "cdb8b55c"
   },
   "source": [
    "----\n",
    "### Goal: Operate on specific axes of an array.\n",
    "\n",
    "Some built-in NumPy functions have an `axis` argument that determines how the function is applied. For example, specifying a value for the `axis` argument lets the function operate only on rows or only on columns. Note that exercises A4-A10 will use the same given array A, which should not be overwritten when completing the exercises."
   ]
  },
  {
   "cell_type": "markdown",
   "id": "212fe6a3",
   "metadata": {
    "id": "212fe6a3"
   },
   "source": [
    "<span style=\"color:blue\">**Exercise A4.**</span> (1 point) Use the [`np.sum()` function](https://numpy.org/doc/stable/reference/generated/numpy.sum.html) to print the sum of all of the elements in the array.\n",
    "\n",
    "<span style=\"color:blue\">**Exercise A5.**</span> (1 point) Use `np.sum()` to print the sum of each of the columns of the array.\n",
    "\n",
    "<span style=\"color:blue\">**Exercise A6.**</span> (1 point) Use `np.sum()` to print the sum of each of the rows of the array.\n",
    "\n",
    "<span style=\"color:blue\">**Exercise A7.**</span> Normalizing by a single value. (1.5 points) Normalize each entry in the array by the overall mean of the array's elements using [`np.mean()` function](https://numpy.org/doc/stable/reference/generated/numpy.mean.html) and print the result. In this example, each element will be divided by `5.5` (the array's overall mean).\n",
    "\n",
    "<span style=\"color:blue\">**Exercise A8.**</span> Normalizing by a different value for each column. (1.5 points) Normalize each entry by the mean of that entry's column using `np.mean()` and print the result. For example, `0` will be divided by `3` (the mean of `0` and `6`).\n",
    "\n",
    "<span style=\"color:blue\">**Exercise A9.**</span> Turning a column into a fraction. (1.5 points) Normalize each entry by the sum of that entry's column using `np.sum()` and print the result. For example, `1` will be divided by `8` (the sum of `1` and `7`).\n",
    "\n",
    "<span style=\"color:blue\">**Exercise A10.**</span> Turning a row into a fraction. (2 points) This can be tricky because using the previous strategy will result in a broadcasting shape error.\n",
    "\n",
    "Part a: Store the sum of the entries in each row in a new array. Print this array.\n",
    "\n",
    "Part b: Use [`np.newaxis`](https://numpy.org/doc/stable/reference/constants.html#numpy.newaxis) to add a new dimension to the array of row sums. The resulting array will have a 2x1 shape. Print this array.\n",
    "\n",
    "Part c: Normalize each entry in the original array `A` by the sum of that entry's row and print the result. For example, `0` will be divided by `15` (the sum of the first row).\n"
   ]
  },
  {
   "cell_type": "code",
   "execution_count": 4,
   "id": "68a1933c",
   "metadata": {
    "id": "68a1933c",
    "scrolled": true
   },
   "outputs": [],
   "source": [
    "# Exercise A4-A10 Given code\n",
    "A = np.arange(12).reshape((2, 6))"
   ]
  },
  {
   "cell_type": "code",
   "execution_count": 5,
   "id": "e85ec92d-d27b-4dab-918d-ca274e24be25",
   "metadata": {
    "id": "e85ec92d-d27b-4dab-918d-ca274e24be25"
   },
   "outputs": [
    {
     "name": "stdout",
     "output_type": "stream",
     "text": [
      "66\n",
      "[ 6  8 10 12 14 16]\n",
      "[15 51]\n",
      "[[0.         0.18181818 0.36363636 0.54545455 0.72727273 0.90909091]\n",
      " [1.09090909 1.27272727 1.45454545 1.63636364 1.81818182 2.        ]]\n",
      "[[0.         0.25       0.4        0.5        0.57142857 0.625     ]\n",
      " [2.         1.75       1.6        1.5        1.42857143 1.375     ]]\n",
      "[[0.         0.125      0.2        0.25       0.28571429 0.3125    ]\n",
      " [1.         0.875      0.8        0.75       0.71428571 0.6875    ]]\n",
      "[15 51]\n",
      "[[15]\n",
      " [51]]\n",
      "[[0.         0.06666667 0.13333333 0.2        0.26666667 0.33333333]\n",
      " [0.11764706 0.1372549  0.15686275 0.17647059 0.19607843 0.21568627]]\n"
     ]
    }
   ],
   "source": [
    "# A4: your code here\n",
    "sum_A = np.sum(A)\n",
    "print(sum_A)\n",
    "\n",
    "# A5: your code here\n",
    "sum_A_rows = np.sum(A, axis = 0)\n",
    "print(sum_A_rows)\n",
    "\n",
    "# A6: your code here\n",
    "sum_A_columns = np.sum(A, axis = 1)\n",
    "print(sum_A_columns)\n",
    "\n",
    "# A7: your code here\n",
    "mean_all = np.mean(A)\n",
    "norm_A = A / mean_all\n",
    "print(norm_A)\n",
    "\n",
    "# A8: your code here\n",
    "mean_column = np.mean(A, axis = 0)\n",
    "norm_A_column = A / mean_column\n",
    "print(norm_A_column)\n",
    "\n",
    "# A9: your code here\n",
    "frac_columns = np.sum(A, axis = 0)\n",
    "A_fraction = A / frac_columns\n",
    "print(A_fraction)\n",
    "\n",
    "# A10 part a: your code here\n",
    "rowsum = np.sum(A, axis = 1)\n",
    "print(rowsum)\n",
    "\n",
    "# A10 part b: your code here\n",
    "new_array = rowsum[:, np.newaxis]\n",
    "print(new_array)\n",
    "\n",
    "# A10 part c: your code here\n",
    "A = A / new_array\n",
    "print(A)"
   ]
  },
  {
   "cell_type": "markdown",
   "id": "93ebbd57-d9e4-4b93-8a4d-d9ea17ce0714",
   "metadata": {
    "id": "93ebbd57-d9e4-4b93-8a4d-d9ea17ce0714"
   },
   "source": [
    "**Expected A4-A10 Output**:\n",
    "```\n",
    "66\n",
    "[ 6  8 10 12 14 16]\n",
    "[15 51]\n",
    "[[0.         0.18181818 0.36363636 0.54545455 0.72727273 0.90909091]\n",
    " [1.09090909 1.27272727 1.45454545 1.63636364 1.81818182 2.        ]]\n",
    "[[0.         0.25       0.4        0.5        0.57142857 0.625     ]\n",
    " [2.         1.75       1.6        1.5        1.42857143 1.375     ]]\n",
    "[[0.         0.125      0.2        0.25       0.28571429 0.3125    ]\n",
    " [1.         0.875      0.8        0.75       0.71428571 0.6875    ]]\n",
    "[15 51]\n",
    "[[15]\n",
    " [51]]\n",
    "[[0.         0.06666667 0.13333333 0.2        0.26666667 0.33333333]\n",
    " [0.11764706 0.1372549  0.15686275 0.17647059 0.19607843 0.21568627]]\n",
    "```"
   ]
  },
  {
   "cell_type": "markdown",
   "id": "671235a3",
   "metadata": {
    "id": "671235a3"
   },
   "source": [
    "---\n",
    "\n",
    "NumPy offers many shorter (though often initially more confusing) ways of operating on arrays than explicitly writing `for` loops.\n",
    "\n",
    "<span style=\"color:blue\">**Exercise A11.**</span> Subtracting two arrays. (1 point) Rewrite the existing code that uses a for loop to subtract A from B into only one line of built-in NumPy arithmetic. Print the resulting array.\n",
    "\n"
   ]
  },
  {
   "cell_type": "code",
   "execution_count": 6,
   "id": "f16fe69a-d8ef-43b2-b478-00614e5bc71c",
   "metadata": {
    "id": "f16fe69a-d8ef-43b2-b478-00614e5bc71c"
   },
   "outputs": [],
   "source": [
    "# Given code\n",
    "A = np.arange(12).reshape((2, 6))\n",
    "B = np.arange(20, 32).reshape((2, 6))\n",
    "\n",
    "# for loop version\n",
    "C = np.empty((2,6))\n",
    "for i in range(A.shape[0]):\n",
    "    for j in range(B.shape[1]):\n",
    "        C[i, j] = B[i, j] - A[i, j]"
   ]
  },
  {
   "cell_type": "code",
   "execution_count": 7,
   "id": "8f01fa78",
   "metadata": {
    "id": "8f01fa78"
   },
   "outputs": [
    {
     "name": "stdout",
     "output_type": "stream",
     "text": [
      "[[20 20 20 20 20 20]\n",
      " [20 20 20 20 20 20]]\n"
     ]
    }
   ],
   "source": [
    "# A11: your code here\n",
    "C = B - A\n",
    "print(C)"
   ]
  },
  {
   "cell_type": "markdown",
   "id": "3fd320f5-f217-4745-a060-9832b365a582",
   "metadata": {
    "id": "3fd320f5-f217-4745-a060-9832b365a582"
   },
   "source": [
    "**Expected A11 Output**:\n",
    "```\n",
    "[[20 20 20 20 20 20]\n",
    " [20 20 20 20 20 20]]\n",
    "```"
   ]
  },
  {
   "cell_type": "markdown",
   "id": "K-8qP-1sz6xM",
   "metadata": {
    "id": "K-8qP-1sz6xM"
   },
   "source": [
    "### Goal: Combine data from two DataFrames using `.merge()`.\n",
    "\n",
    "The pandas [`.merge()` function](https://pandas.pydata.org/docs/reference/api/pandas.DataFrame.merge.html) creates a modified copy of the DataFrame, just like `.rename()`. *Note:* the default behavior of the pandas `.merge()` function is to perform an inner join.\n",
    "\n",
    "<span style=\"color:blue\">**Exercise B1.**</span> (3 points)\n",
    "\n",
    "Part a: Use the `population_df` DataFrame's [`.merge()` method](https://pandas.pydata.org/docs/reference/api/pandas.DataFrame.merge.html) to merge both DataFrames. To see the importance of saving the result of functions that do not operate in-place, *do not assign the result of this method to any variable.* Print the `population_df` DataFrame. It should be identical to the input.\n",
    "\n",
    "Part b: Repeat the above step, this time storing the result of the call to `.merge()` from the `population_df` variable in a new variable named `merged_df`. Print this DataFrame, which will contain the populations and areas for the cities that appear in both `population_df` and `area_df`.\n",
    "\n",
    "Part c: Perform the merge by using `duckdb.sql`. Print the resulting DataFrame, which will look the same as the output of Part b."
   ]
  },
  {
   "cell_type": "code",
   "execution_count": 8,
   "id": "f4ad96fc-348a-4214-aef3-39239055c735",
   "metadata": {
    "id": "f4ad96fc-348a-4214-aef3-39239055c735"
   },
   "outputs": [],
   "source": [
    "# Exercise B1 Given code\n",
    "population_df = pd.DataFrame({'City': ['Ithaca', 'New York', 'Boston'], \\\n",
    "                              'Population': [32108, 8804190, 675647]})\n",
    "area_df = pd.DataFrame({'City': ['Ithaca', 'Philadelphia', 'New York'], \\\n",
    "                        'Area': [6.07, 142.70, 472.43]})"
   ]
  },
  {
   "cell_type": "code",
   "execution_count": 9,
   "id": "hCDZZB4jz6OV",
   "metadata": {
    "id": "hCDZZB4jz6OV"
   },
   "outputs": [
    {
     "name": "stdout",
     "output_type": "stream",
     "text": [
      "       City  Population\n",
      "0    Ithaca       32108\n",
      "1  New York     8804190\n",
      "2    Boston      675647\n",
      "       City  Population    Area\n",
      "0    Ithaca       32108    6.07\n",
      "1  New York     8804190  472.43\n",
      "       City  Population    Area\n",
      "0    Ithaca       32108    6.07\n",
      "1  New York     8804190  472.43\n"
     ]
    }
   ],
   "source": [
    "# B1 part a: your code here\n",
    "population_df.merge(area_df)\n",
    "print(population_df)\n",
    "\n",
    "# B1 part b: your code here\n",
    "merged_df = population_df.merge(area_df)\n",
    "print(merged_df)\n",
    "\n",
    "# B1 part c: your code here\n",
    "print(duckdb.sql(\"\"\"SELECT population_df.city, population, area \\\n",
    "    FROM population_df \n",
    "    INNER JOIN area_df \n",
    "    ON population_df.city = area_df.city\"\"\").df())"
   ]
  },
  {
   "cell_type": "markdown",
   "id": "e1bdb5d7-031f-408e-9dd9-4b43f4346d8a",
   "metadata": {
    "id": "e1bdb5d7-031f-408e-9dd9-4b43f4346d8a"
   },
   "source": [
    "**Expected B1 Output**:\n",
    "```\n",
    "       City  Population\n",
    "0    Ithaca       32108\n",
    "1  New York     8804190\n",
    "2    Boston      675647\n",
    "       City  Population    Area\n",
    "0    Ithaca       32108    6.07\n",
    "1  New York     8804190  472.43\n",
    "       City  Population    Area\n",
    "0    Ithaca       32108    6.07\n",
    "1  New York     8804190  472.43\n",
    "```"
   ]
  },
  {
   "cell_type": "markdown",
   "id": "HqAwgYesz-bG",
   "metadata": {
    "id": "HqAwgYesz-bG"
   },
   "source": [
    "---\n",
    "### Goal: Combine data from two DataFrames using `.concat()`.\n",
    "\n",
    "The pandas [`pd.concat()` function](https://pandas.pydata.org/docs/reference/api/pandas.concat.html) will vertically combine DataFrames. It creates a new DataFrame that must be stored in a variable, just like `.rename()` and `.merge()`. Special care needs to be taken with the indexes/labels of the rows in the combined DataFrame, as we'll see, because `pd.concat()` by default does not change the labels of rows.\n",
    "\n",
    "<span style=\"color:blue\">**Exercise B2.**</span> (2 points)\n",
    "\n",
    "Part a: Our goal is to combine the two DataFrames into one DataFrame that contains all of the cities. Use the [`pd.concat()` function](https://pandas.pydata.org/docs/reference/api/pandas.concat.html) create this new combined DataFrame. Note that `pd.concat()` is not a DataFrame method, so you will need to pass in a list containing both DataFrames as an argument. Print the resulting DataFrame. Note the repeated indices/labels in the left-hand column.\n",
    "\n",
    "Part b: We most often want labels to be unique integers in increasing order. Repeat the above step, this time passing in the argument `ignore_index=True` to `pd.concat()`. Save this DataFrame as ```pop_df```. Print the combined DataFrame, and note that we get the indices we expect."
   ]
  },
  {
   "cell_type": "code",
   "execution_count": 10,
   "id": "dd2c52a7-5221-4f00-b2dc-07e045800bf7",
   "metadata": {
    "id": "dd2c52a7-5221-4f00-b2dc-07e045800bf7"
   },
   "outputs": [],
   "source": [
    "# Exercise B2 Given code\n",
    "population_1_df = pd.DataFrame({'City': ['Ithaca', 'New York'], \\\n",
    "                                'Population': [32108, 8804190]})\n",
    "population_2_df = pd.DataFrame({'City': ['Boston', 'Philadelphia'], \\\n",
    "                                'Population': [675647, 1603797]})"
   ]
  },
  {
   "cell_type": "code",
   "execution_count": 11,
   "id": "rSzMzSTw0A8S",
   "metadata": {
    "id": "rSzMzSTw0A8S"
   },
   "outputs": [
    {
     "name": "stdout",
     "output_type": "stream",
     "text": [
      "           City  Population\n",
      "0        Ithaca       32108\n",
      "1      New York     8804190\n",
      "0        Boston      675647\n",
      "1  Philadelphia     1603797\n",
      "           City  Population\n",
      "0        Ithaca       32108\n",
      "1      New York     8804190\n",
      "2        Boston      675647\n",
      "3  Philadelphia     1603797\n"
     ]
    }
   ],
   "source": [
    "# B2 part a: your code here\n",
    "new_df_cities = pd.concat([population_1_df, population_2_df])\n",
    "print(new_df_cities)\n",
    "\n",
    "# B2 part b: your code here\n",
    "pop_df = pd.concat([population_1_df, population_2_df], ignore_index = True)\n",
    "print(pop_df)\n",
    "\n",
    "# ignore_index is by default False so pd.concat() doesn't change the index values \n",
    "# when ignore_index is True, the rows are labeled and indexed accordingly (0...n-1)"
   ]
  },
  {
   "cell_type": "markdown",
   "id": "ac0758fc-c47b-4564-9238-549d41579404",
   "metadata": {
    "id": "ac0758fc-c47b-4564-9238-549d41579404"
   },
   "source": [
    "**Expected B2 Output**:\n",
    "```\n",
    "           City  Population\n",
    "0        Ithaca       32108\n",
    "1      New York     8804190\n",
    "0        Boston      675647\n",
    "1  Philadelphia     1603797\n",
    "           City  Population\n",
    "0        Ithaca       32108\n",
    "1      New York     8804190\n",
    "2        Boston      675647\n",
    "3  Philadelphia     1603797\n",
    "```"
   ]
  },
  {
   "cell_type": "markdown",
   "id": "fkQVDzJkfKzf",
   "metadata": {
    "id": "fkQVDzJkfKzf"
   },
   "source": [
    "---\n",
    "### Goal: See the differences between different kinds of joins (right, left, inner)."
   ]
  },
  {
   "cell_type": "code",
   "execution_count": 12,
   "id": "KWnCocNWfWIQ",
   "metadata": {
    "id": "KWnCocNWfWIQ"
   },
   "outputs": [],
   "source": [
    "# Exercise B3 Given code\n",
    "rainfall = pd.DataFrame({'City': ['Ithaca', 'Ithaca', 'Boston', \\\n",
    "                                  'New York', 'Albany'],\n",
    "                         'Month': ['Jan', 'Feb', 'Jan', \\\n",
    "                                   'Jan', 'Jan'],\n",
    "                         'Precipitation': [2.08, 1.98, 3.35, 3.9, \\\n",
    "                                           2.59]})"
   ]
  },
  {
   "cell_type": "markdown",
   "id": "P816uCD4iJo3",
   "metadata": {
    "id": "P816uCD4iJo3"
   },
   "source": [
    "<span style=\"color:blue\">**Exercise B3.**</span> (3 points)  Use **SQL** to do right, left, and inner join between the two dataframes `pop_df` and `rainfall` to create and print the following three dataframes (Each join corresponds to one expected output). In parts a-c, you will need to determine which join type to use (right, left, or inner join) in order to match the appropriate expected output.\n",
    "\n",
    "Note: You can break up long lines of SQL code using a backslash `\\`. This is useful for code readability, and you should try to keep a single line of code within 80 characters using a backslash to break up long lines of code.\n",
    "\n",
    "**In the following questions, use a backslash in your SQL code to break up long lines. However, keep in mind that the backslash does not work for Python code (like other pandas functions) more generally.**\n",
    "\n",
    "We want to output the following for B3.\n",
    "\n",
    "Part a.\n",
    "```\n",
    "       City Month  Precipitation    City_1  Population\n",
    "0    Ithaca   Jan           2.08    Ithaca       32108\n",
    "1    Ithaca   Feb           1.98    Ithaca       32108\n",
    "2    Boston   Jan           3.35    Boston      675647\n",
    "3  New York   Jan           3.90  New York     8804190\n",
    "```\n",
    "\n",
    "Part b.\n",
    "\n",
    "```\n",
    "       City Month  Precipitation    City_1  Population\n",
    "0    Ithaca   Jan           2.08    Ithaca     32108.0\n",
    "1    Ithaca   Feb           1.98    Ithaca     32108.0\n",
    "2    Boston   Jan           3.35    Boston    675647.0\n",
    "3  New York   Jan           3.90  New York   8804190.0\n",
    "4    Albany   Jan           2.59      None         NaN\n",
    "```\n",
    "\n",
    "Part c.\n",
    "```\n",
    "       City Month  Precipitation        City_1  Population\n",
    "0    Ithaca   Feb           1.98        Ithaca       32108\n",
    "1  New York   Jan           3.90      New York     8804190\n",
    "2    Boston   Jan           3.35        Boston      675647\n",
    "3    Ithaca   Jan           2.08        Ithaca       32108\n",
    "4      None  None            NaN  Philadelphia     1603797\n",
    "```\n",
    "\n",
    "*Hint: SELECTing everything, instead of specifying specific columns, will give you both columns that you merge on (one from each dataframe); if the columns were originally named the same thing, SELECTing everything with an asterisk will automatically rename one of them with a numeric suffix _1.*"
   ]
  },
  {
   "cell_type": "code",
   "execution_count": 13,
   "id": "QEfd6ruoiAM-",
   "metadata": {
    "id": "QEfd6ruoiAM-"
   },
   "outputs": [
    {
     "name": "stdout",
     "output_type": "stream",
     "text": [
      "       City Month  Precipitation    City_1  Population\n",
      "0    Ithaca   Jan           2.08    Ithaca       32108\n",
      "1    Ithaca   Feb           1.98    Ithaca       32108\n",
      "2    Boston   Jan           3.35    Boston      675647\n",
      "3  New York   Jan           3.90  New York     8804190\n",
      "       City Month  Precipitation    City_1  Population\n",
      "0    Ithaca   Jan           2.08    Ithaca     32108.0\n",
      "1    Ithaca   Feb           1.98    Ithaca     32108.0\n",
      "2    Boston   Jan           3.35    Boston    675647.0\n",
      "3  New York   Jan           3.90  New York   8804190.0\n",
      "4    Albany   Jan           2.59      None         NaN\n",
      "       City Month  Precipitation        City_1  Population\n",
      "0    Ithaca   Feb           1.98        Ithaca       32108\n",
      "1  New York   Jan           3.90      New York     8804190\n",
      "2    Boston   Jan           3.35        Boston      675647\n",
      "3    Ithaca   Jan           2.08        Ithaca       32108\n",
      "4      None  None            NaN  Philadelphia     1603797\n"
     ]
    }
   ],
   "source": [
    "# B3 part a: your code here\n",
    "inner = duckdb.sql(\"\"\"SELECT * FROM rainfall INNER JOIN pop_df \\\n",
    "                            ON rainfall.city = pop_df.city\"\"\").df()\n",
    "print(inner)\n",
    "\n",
    "# B3 part b: your code here \n",
    "left = duckdb.sql(\"\"\"SELECT * FROM rainfall LEFT JOIN pop_df \\\n",
    "                            ON rainfall.city = pop_df.city\"\"\").df()\n",
    "print(left)\n",
    "\n",
    "# B3 part c: your code here \n",
    "right = duckdb.sql(\"\"\"SELECT * FROM rainfall RIGHT JOIN pop_df \\\n",
    "                            ON rainfall.city = pop_df.city\"\"\").df()\n",
    "print(right)"
   ]
  },
  {
   "cell_type": "markdown",
   "id": "a67267a5",
   "metadata": {
    "id": "a67267a5"
   },
   "source": [
    "---\n",
    "<span style=\"color:blue\">**Exercise B4.**</span> Create a new column using arithmetic on another column with Pandas. (2 points) Add a new column to the ```pop_df``` DataFrame named `Population_Thousands` that stores the corresponding population in thousands for each row (i.e., dividing the Population in each City by `1,000`). Print the resulting DataFrame.\n",
    "\n",
    "<span style=\"color:blue\">**Exercise B5.**</span> Create a column using [`pd.Series.apply()`](https://pandas.pydata.org/docs/reference/api/pandas.Series.apply.html) on an existing column. (3 points) Our ultimate goal is to add a column to the DataFrame that qualititatively records whether the city in each row is `large` or `small` by population. We're going to treat any Population that has a population over `999,000` as `large`.\n",
    "\n",
    "Part a: Write a function named `rate_population` that takes in a number and returns the string `'large'` if the number is greater than or equal to `999`, and the string `'small'` otherwise.\n",
    "\n",
    "Part b: Apply this function to each of the Population_Thousands values in the DataFrame using the column's `.apply()`. The call to the column's `.apply()` will return a series, which you can assign to a new column named `Qualitative Population` in the DataFrame. Print the resulting DataFrame.\n",
    "\n",
    "<span style=\"color:blue\">**Exercise B6.**</span> (2 points) The pandas DataFrame [`.rename()` method](https://pandas.pydata.org/docs/reference/api/pandas.DataFrame.rename.html) can be used to rename columns in the DataFrame. Instead of directly modifying the DataFrame, it returns a modified copy of the DataFrame. This copy must be stored in a variable for you to notice the changes later.\n",
    "\n",
    "Part a: Use the DataFrame's [`.rename()` method](https://pandas.pydata.org/docs/reference/api/pandas.DataFrame.rename.html) to rename the 'Qualitative Population' column in the DataFrame to have the shorter name 'Qual_Pop'. To see the importance of saving the result of functions that do not operate in-place, *do not assign the result of this method to any variable.* Print the DataFrame. It should be identical to the input, with the original column names.\n",
    "\n",
    "Part b: Repeat the above step, this time storing the result of the call to `.rename()` in the `df` variable. Print the DataFrame."
   ]
  },
  {
   "cell_type": "code",
   "execution_count": 14,
   "id": "74271621",
   "metadata": {
    "id": "74271621"
   },
   "outputs": [
    {
     "name": "stdout",
     "output_type": "stream",
     "text": [
      "           City  Population  Population_Thousands\n",
      "0        Ithaca       32108                32.108\n",
      "1      New York     8804190              8804.190\n",
      "2        Boston      675647               675.647\n",
      "3  Philadelphia     1603797              1603.797\n",
      "           City  Population  Population_Thousands Qualitative Population\n",
      "0        Ithaca       32108                32.108                  small\n",
      "1      New York     8804190              8804.190                  large\n",
      "2        Boston      675647               675.647                  small\n",
      "3  Philadelphia     1603797              1603.797                  large\n",
      "           City  Population  Population_Thousands Qualitative Population\n",
      "0        Ithaca       32108                32.108                  small\n",
      "1      New York     8804190              8804.190                  large\n",
      "2        Boston      675647               675.647                  small\n",
      "3  Philadelphia     1603797              1603.797                  large\n",
      "           City  Population  Population_Thousands Qual_Pop\n",
      "0        Ithaca       32108                32.108    small\n",
      "1      New York     8804190              8804.190    large\n",
      "2        Boston      675647               675.647    small\n",
      "3  Philadelphia     1603797              1603.797    large\n"
     ]
    }
   ],
   "source": [
    "# B4: your code here\n",
    "pop_df['Population_Thousands'] = pop_df['Population']/1000\n",
    "print(pop_df)\n",
    "\n",
    "# B5 part a: your code here\n",
    "def rate_population(x):\n",
    "    if x >= 999:\n",
    "        return 'large'\n",
    "    else:\n",
    "        return 'small'\n",
    "\n",
    "# B5 part b: your code here\n",
    "pop_df['Qualitative Population'] = pop_df['Population_Thousands']\\\n",
    "                                            .apply(rate_population)\n",
    "print(pop_df)\n",
    "\n",
    "# B6 part a: your code here\n",
    "pop_df.rename(columns = {'Qualitative Population':'Qual_Pop'})\n",
    "print(pop_df)\n",
    "\n",
    "# B6 part b: your code here\n",
    "df = pop_df.rename(columns = {'Qualitative Population':'Qual_Pop'})\n",
    "print(df)"
   ]
  },
  {
   "cell_type": "markdown",
   "id": "ee75b1a2-a494-4a4d-a700-e701e677354e",
   "metadata": {
    "id": "ee75b1a2-a494-4a4d-a700-e701e677354e"
   },
   "source": [
    "**Expected B4-B6 Output**:\n",
    "```    \n",
    "           City  Population  Population_Thousands\n",
    "0        Ithaca       32108                32.108\n",
    "1      New York     8804190              8804.190\n",
    "2        Boston      675647               675.647\n",
    "3  Philadelphia     1603797              1603.797\n",
    "           City  Population  Population_Thousands Qualitative Population\n",
    "0        Ithaca       32108                32.108                  small\n",
    "1      New York     8804190              8804.190                  large\n",
    "2        Boston      675647               675.647                  small\n",
    "3  Philadelphia     1603797              1603.797                  large\n",
    "           City  Population  Population_Thousands Qualitative Population\n",
    "0        Ithaca       32108                32.108                  small\n",
    "1      New York     8804190              8804.190                  large\n",
    "2        Boston      675647               675.647                  small\n",
    "3  Philadelphia     1603797              1603.797                  large\n",
    "           City  Population  Population_Thousands Qual_Pop\n",
    "0        Ithaca       32108                32.108    small\n",
    "1      New York     8804190              8804.190    large\n",
    "2        Boston      675647               675.647    small\n",
    "3  Philadelphia     1603797              1603.797    large\n",
    "```"
   ]
  },
  {
   "cell_type": "markdown",
   "id": "d9f0793e",
   "metadata": {
    "id": "d9f0793e"
   },
   "source": [
    "---\n",
    "# Part 2: Airbnb Dataset\n",
    "\n",
    "In this problem we will consider some real data scraped from [Airbnb](https://insideairbnb.com/get-the-data/). We provide you with two data files, one containing information about all Airbnb listings in Albany for the last 12 months and a second containing the dates of reviews for each listing.\n",
    "\n",
    "Note: this dataset comes from [InsideAirbnb](https://insideairbnb.com/get-the-data/), which is a mission driven data advocacy project to make Airbnb data more transparent. They provide recent data pulls of Airbnb data for many cities and countries throughout the world. See more about the data [here](https://insideairbnb.com/explore/).\n",
    "\n",
    "Detailed documentation on each of the variables included in the data can be found in their data dictionary [here](https://docs.google.com/spreadsheets/d/1iWCNJcSutYqpULSQHlNyGInUvHg2BoUGoNRIGa6Szc4/edit?gid=982310896#gid=982310896)."
   ]
  },
  {
   "cell_type": "markdown",
   "id": "16a92447",
   "metadata": {
    "id": "16a92447"
   },
   "source": [
    "\n",
    "\n",
    "### Goal: Data loading.\n",
    "\n",
    "<span style=\"color:blue\">**Exercise C1.**</span> (1 point) Load the CSV files into two pandas data frames called `listings_df` and `listings_detailed_df`. This should be done in two lines of code.\n",
    "\n",
    "<span style=\"color:blue\">**Exercise C2.**</span> (1 point) Print the `.shape` property of the two data frames, in the order of `listings_df` and `listings_detailed_df`.\n",
    "\n",
    "**Confidence check: The `shape` property of these data frames should be `(402, 18) (402, 59)`**\n",
    "\n",
    "<span style=\"color:blue\">**Exercise C3.**</span> (1 point) Print the unique values of the `neighborhood` column from the listings dataframe using the [`unique()` function](https://pandas.pydata.org/docs/reference/api/pandas.unique.html) from Pandas.\n",
    "\n",
    "<span style=\"color:blue\">**Exercise C4.**</span> (1 point) Using DuckDB's SQL interface, recreate the `listings_df` DataFrame by querying it directly with SQL. Print the `.shape` property of the newly created `listings_sql_df`, and check to see if it is the same as the output from C2."
   ]
  },
  {
   "cell_type": "code",
   "execution_count": 15,
   "id": "58c21d78",
   "metadata": {
    "id": "58c21d78"
   },
   "outputs": [
    {
     "name": "stdout",
     "output_type": "stream",
     "text": [
      "(402, 18)\n",
      "(402, 59)\n",
      "['THIRD WARD' 'SIXTH WARD' 'SECOND WARD' 'TENTH WARD' 'FOURTEENTH WARD'\n",
      " 'FIFTEENTH WARD' 'ELEVENTH WARD' 'NINTH WARD' 'FIFTH WARD' 'SEVENTH WARD'\n",
      " 'THIRTEENTH WARD' 'EIGHTH WARD' 'FOURTH WARD' 'FIRST WARD' 'TWELFTH WARD']\n",
      "(402, 18)\n"
     ]
    }
   ],
   "source": [
    "# C1: your code here\n",
    "listings_df = pd.read_csv('listings.csv')\n",
    "listings_detailed_df = pd.read_csv('listings_detailed.csv')\n",
    "\n",
    "# C2: your code here\n",
    "print(listings_df.shape)\n",
    "print(listings_detailed_df.shape)\n",
    "\n",
    "# C3: your code here\n",
    "print(pd.unique(listings_df['neighborhood']))\n",
    "\n",
    "# C4: your code here\n",
    "listings_sql_df = duckdb.sql(\"SELECT * FROM listings_df\").df()\n",
    "print(listings_sql_df.shape)"
   ]
  },
  {
   "cell_type": "markdown",
   "id": "3684f217",
   "metadata": {
    "id": "3684f217"
   },
   "source": [
    "---\n",
    "\n",
    "### Goal: Using Pandas to perform GroupBy.\n",
    "What we would like to achieve in this section C5-C11 is to figure out neighborhoods that have a disproportionately high number of expensive Airbnb listings.\n",
    "\n",
    "<span style=\"color:blue\">**Exercise C5.**</span> (1 point) Using `pandas`, start by grouping the `listings_df` by `neighborhood` to a new grouped object named `grouped`. Typically, as we will see in C6, this grouped object is used when getting a certain statistic (e.g. mean price) from each group (e.g. neighborhoods). Print `grouped`, which will output where in the memory the object is stored (this location is different across machines and might look something like `<pandas.core.groupby.generic.DataFrameGroupBy object at 0x166211340>`).\n",
    "\n",
    "<span style=\"color:blue\">**Exercise C6.**</span> (2 point) For each `neighborhood` in the grouped object, calculate some summary statistics using Pandas. Save each statistic using the variable name suggested in parentheses. Print the shape of each new series.\n",
    "\n",
    "*   the average price (`sample_average_price`)\n",
    "*   the standard deviation of the price (`sample_std_price`)\n",
    "*   the total number of listings (`total_listing_count`)"
   ]
  },
  {
   "cell_type": "code",
   "execution_count": 16,
   "id": "d26c9474",
   "metadata": {
    "id": "d26c9474"
   },
   "outputs": [
    {
     "name": "stdout",
     "output_type": "stream",
     "text": [
      "<pandas.core.groupby.generic.DataFrameGroupBy object at 0x1271b1910>\n",
      "(15,)\n",
      "(15,)\n",
      "(15,)\n"
     ]
    }
   ],
   "source": [
    "# C5: your code here\n",
    "grouped = listings_df.groupby('neighborhood')\n",
    "print(grouped)\n",
    "\n",
    "# C6: your code here\n",
    "sample_average_price = grouped['price'].mean()\n",
    "sample_std_price = grouped['price'].std()\n",
    "total_listing_count = grouped['price'].count()\n",
    "\n",
    "print(sample_average_price.shape)\n",
    "print(sample_std_price.shape)\n",
    "print(total_listing_count.shape)"
   ]
  },
  {
   "cell_type": "markdown",
   "id": "15683bba-3af5-4764-a416-8cedec4a0e2e",
   "metadata": {
    "id": "15683bba-3af5-4764-a416-8cedec4a0e2e"
   },
   "source": [
    "---\n",
    "<span style=\"color:blue\">**Exercise C7.**</span> (2 point) Once you've calculated the statistics, produce a pandas dataframe called `results_df`. Use `pd.DataFrame()` with a dictionary where the appropriate column names are the keys and the summary statistics are the values. The dataframe `results_df` should be structured so that each row is a neighborhood and every column is a calculated summary statistic for that neighborhood. Use `results_df.head()` to display the first five rows of this dataframe."
   ]
  },
  {
   "cell_type": "code",
   "execution_count": 17,
   "id": "92e2f437-e5ba-4a68-b5bb-6dbf6e936336",
   "metadata": {
    "id": "92e2f437-e5ba-4a68-b5bb-6dbf6e936336",
    "scrolled": true
   },
   "outputs": [
    {
     "name": "stdout",
     "output_type": "stream",
     "text": [
      "                sample_average_price  sample_std_price  total_listing_count\n",
      "neighborhood                                                               \n",
      "EIGHTH WARD               257.428571        156.441530                    7\n",
      "ELEVENTH WARD              89.388889         56.572846                   18\n",
      "FIFTEENTH WARD            363.333333        386.332696                   15\n",
      "FIFTH WARD                104.833333         17.656916                    6\n",
      "FIRST WARD                167.142857         99.120177                    7\n"
     ]
    }
   ],
   "source": [
    "# C7: your code here\n",
    "results_df = pd.DataFrame({\\\n",
    "    'sample_average_price': sample_average_price, \\\n",
    "    'sample_std_price': sample_std_price, \\\n",
    "    'total_listing_count': total_listing_count \\\n",
    "})\n",
    "print(results_df.head())"
   ]
  },
  {
   "cell_type": "markdown",
   "id": "a830a3ed-83bd-4f20-90d5-7dc4e435623f",
   "metadata": {
    "id": "a830a3ed-83bd-4f20-90d5-7dc4e435623f"
   },
   "source": [
    "---\n",
    "<span style=\"color:blue\">**Exercise C8.**</span> (1 point) Currently, the `neighborhood` is an index of the `results_df` (you can see that it doesn't appear as a column header like the other column names). To make it a column in the same level as `sample_average_price`, `sample_std_price`, and `sample_count`, we need to *reset the index*. Use the [pd.reset_index() function](https://pandas.pydata.org/docs/reference/api/pandas.DataFrame.reset_index.html) to do this. Reassign the resulting dataframe to the same `results_df`. Use `results_df.head()` to display the first five rows of this dataframe."
   ]
  },
  {
   "cell_type": "code",
   "execution_count": 18,
   "id": "2f50090b-6a9c-472e-995c-2d5e56976e43",
   "metadata": {
    "id": "2f50090b-6a9c-472e-995c-2d5e56976e43"
   },
   "outputs": [
    {
     "name": "stdout",
     "output_type": "stream",
     "text": [
      "     neighborhood  sample_average_price  sample_std_price  total_listing_count\n",
      "0     EIGHTH WARD            257.428571        156.441530                    7\n",
      "1   ELEVENTH WARD             89.388889         56.572846                   18\n",
      "2  FIFTEENTH WARD            363.333333        386.332696                   15\n",
      "3      FIFTH WARD            104.833333         17.656916                    6\n",
      "4      FIRST WARD            167.142857         99.120177                    7\n"
     ]
    }
   ],
   "source": [
    "# C8: your code here\n",
    "results_df = results_df.reset_index()\n",
    "print(results_df.head())"
   ]
  },
  {
   "cell_type": "markdown",
   "id": "05b09a93-4986-4753-9cb0-144a57710480",
   "metadata": {
    "id": "05b09a93-4986-4753-9cb0-144a57710480"
   },
   "source": [
    "---\n",
    "<span style=\"color:blue\">**Exercise C9.**</span> (2 points) Merge the summary data `results_df` with `listings_df` based on the `neighborhood` column. This will associate each listing with overall statistics about the neighborhood. You should use the [`pd.merge()` function](https://pandas.pydata.org/docs/reference/api/pandas.DataFrame.merge.html) for this. Print the shape of this merged data frame.\n",
    "\n",
    "*Hint: `pd.merge()` function has a `how= ` parameter, where you specify whether you want to right, left, or inner join.*"
   ]
  },
  {
   "cell_type": "code",
   "execution_count": 19,
   "id": "91d4b998-c6c3-4e45-a6dc-790e8485768b",
   "metadata": {
    "id": "91d4b998-c6c3-4e45-a6dc-790e8485768b"
   },
   "outputs": [
    {
     "name": "stdout",
     "output_type": "stream",
     "text": [
      "(402, 21)\n"
     ]
    }
   ],
   "source": [
    "# C9: your code here\n",
    "merged_df = results_df.merge(listings_df, how = 'inner', \\\n",
    "                             on = 'neighborhood')\n",
    "print(merged_df.shape)"
   ]
  },
  {
   "cell_type": "markdown",
   "id": "d514e685-1909-4a6f-ad9f-b81d719ab18a",
   "metadata": {
    "id": "d514e685-1909-4a6f-ad9f-b81d719ab18a"
   },
   "source": [
    "---\n",
    "<span style=\"color:blue\">**Exercise C10.**</span> (2 points) Identify listings where there's a significant discrepancy: using the merged dataframe, identify listings that have a price greater than 2 standard deviations above the average neighborhood price (exclusive). Save the results into a dataframe called `discrepancy_df`.\n",
    "\n",
    "Display the first five rows of the dataframe using `.head()` and show only the following columns: `id`, `neighborhood`, `price`, `sample_average_price`, `sample_std_price`. Sort by `id` using the pandas function [`.sort_values()`](https://pandas.pydata.org/docs/reference/api/pandas.DataFrame.sort_values.html).\n",
    "\n",
    "*Think about:* Visually check that the output makes sense to you based on the columns you've selected. Do any of the outlier prices surprise you? Would you have chosen a different method to identify discrepancies?"
   ]
  },
  {
   "cell_type": "code",
   "execution_count": 20,
   "id": "4d038b0c-e74b-457b-8e50-5c580710ee68",
   "metadata": {
    "id": "4d038b0c-e74b-457b-8e50-5c580710ee68"
   },
   "outputs": [
    {
     "name": "stdout",
     "output_type": "stream",
     "text": [
      "                     id     neighborhood   price  sample_average_price  \\\n",
      "64   621960198566758900  FOURTEENTH WARD  1714.0            167.240000   \n",
      "93   786196811078165173      FOURTH WARD   699.0            160.750000   \n",
      "53   845960193409947556       FIRST WARD   386.0            167.142857   \n",
      "18   937838302933205871    ELEVENTH WARD   209.0             89.388889   \n",
      "40  1043698525924990350   FIFTEENTH WARD  1464.0            363.333333   \n",
      "\n",
      "    sample_std_price  \n",
      "64        332.898793  \n",
      "93        171.348197  \n",
      "53         99.120177  \n",
      "18         56.572846  \n",
      "40        386.332696  \n"
     ]
    }
   ],
   "source": [
    "# C10: your code here\n",
    "condition = merged_df.sample_average_price + 2 * merged_df.sample_std_price\n",
    "\n",
    "discrepancy_df = merged_df[merged_df['price'] > condition]\n",
    "print(discrepancy_df.loc[:, ('id','neighborhood','price',\\\n",
    "                             'sample_average_price','sample_std_price')]\\\n",
    "                              .head().sort_values(by = 'id'))"
   ]
  },
  {
   "cell_type": "markdown",
   "id": "ce8ada1e-f052-43f9-8dd0-799926e0102f",
   "metadata": {
    "id": "ce8ada1e-f052-43f9-8dd0-799926e0102f"
   },
   "source": [
    "---\n",
    "<span style=\"color:blue\">**Exercise C11.**</span> (2 points) In this exercise, we're interested in identifying whether certain neighborhoods have a disproportionately high number of expensive Airbnb listings. To do this, we'll produce a frequency table of the neighborhood variable from the subset of listings that have been flagged as potentially overpriced using the Pandas function [`value_counts()`](https://pandas.pydata.org/docs/reference/api/pandas.Series.value_counts.html). Save this dataframe as `discrepancy_nhood_counts` and merge this onto the `results_df` to add the count of overpriced listings per neighborhood. Use an inner join on the neighborhood column, as we're only interested in neighborhoods that are present in both dataframes. Display the results of the merge. Use `loc()` to display only the columns `neighborhood`, `count`, and `total_listing_count`.\n",
    "\n",
    "**Confidence Check:** The second and sixth wards seem to have the most disproportionately expensive Airbnb listings, but are also the wards with the most listings overall."
   ]
  },
  {
   "cell_type": "code",
   "execution_count": 21,
   "id": "61cb7cda-4839-40c2-ad8e-acf9d3476ad6",
   "metadata": {
    "id": "61cb7cda-4839-40c2-ad8e-acf9d3476ad6"
   },
   "outputs": [
    {
     "name": "stdout",
     "output_type": "stream",
     "text": [
      "       neighborhood  count  total_listing_count\n",
      "0     ELEVENTH WARD      1                   18\n",
      "1    FIFTEENTH WARD      1                   15\n",
      "2        FIRST WARD      1                    7\n",
      "3   FOURTEENTH WARD      1                   25\n",
      "4       FOURTH WARD      1                   12\n",
      "5        NINTH WARD      1                   33\n",
      "6       SECOND WARD      5                   50\n",
      "7        SIXTH WARD      6                   81\n",
      "8        TENTH WARD      2                   37\n",
      "9        THIRD WARD      1                   36\n",
      "10  THIRTEENTH WARD      1                   33\n"
     ]
    }
   ],
   "source": [
    "# C11: your code here\n",
    "discrepancy_nhood_counts = discrepancy_df.value_counts('neighborhood')\n",
    "\n",
    "merged_freq_df = results_df.merge(discrepancy_nhood_counts, \\\n",
    "                                  how = 'inner', on = 'neighborhood')\n",
    "print(merged_freq_df.loc[:, ('neighborhood', 'count', \\\n",
    "                             'total_listing_count')])"
   ]
  },
  {
   "cell_type": "markdown",
   "id": "8ada052d",
   "metadata": {
    "id": "8ada052d"
   },
   "source": [
    "---\n",
    "\n",
    "### Goal: Querying with SQL.\n"
   ]
  },
  {
   "cell_type": "markdown",
   "id": "5d6ed389",
   "metadata": {
    "id": "5d6ed389"
   },
   "source": [
    "<span style=\"color:blue\">**Exercise D1.**</span> (3 points) We are interested in exploring detailed information about each Airbnb listing by combining the general and detailed datasets. You will compare different neighborhood wards to each other by looking at summary statistics using SQL and plotting the output with seaborn. Create a data frame `listing_mgd_df` using duckdb.sql(). Use SQL to select all columns from the inner join of `listings_df` and `listings_detailed_df` where the `id` values match.  Include `ORDER BY` in the SQL query to sort the dataframe by id. Remember to convert the output to a pandas dataframe. Use `iloc` to display the first five rows and columns of this dataframe.\n",
    "\n",
    "*Remember:* if you want to split lines of SQL code within parentheses (so SELECT is on a different line from FROM, and so on), you can use the backslash character `\\`."
   ]
  },
  {
   "cell_type": "code",
   "execution_count": 22,
   "id": "3c61dde7",
   "metadata": {
    "id": "3c61dde7"
   },
   "outputs": [
    {
     "name": "stdout",
     "output_type": "stream",
     "text": [
      "        id                                              name   host_id  \\\n",
      "0  2992450                        Luxury 2 bedroom apartment   4621559   \n",
      "1  3820211         Restored Precinct in Center Sq. w/Parking  19648678   \n",
      "2  5651579        Large studio apt  by Capital Center & ESP@  29288920   \n",
      "3  6623339  Center Sq. Loft in Converted Precinct w/ Parking  19648678   \n",
      "4  8035768            Entire Beautiful French Victorian 1884  42430824   \n",
      "\n",
      "  host_name  neighborhood_group  \n",
      "0   Kenneth                 NaN  \n",
      "1     Terra                 NaN  \n",
      "2     Gregg                 NaN  \n",
      "3     Terra                 NaN  \n",
      "4    John M                 NaN  \n",
      "                      id                                               name  \\\n",
      "0                2992450                         Luxury 2 bedroom apartment   \n",
      "1                3820211          Restored Precinct in Center Sq. w/Parking   \n",
      "2                5651579         Large studio apt  by Capital Center & ESP@   \n",
      "3                6623339   Center Sq. Loft in Converted Precinct w/ Parking   \n",
      "4                8035768             Entire Beautiful French Victorian 1884   \n",
      "..                   ...                                                ...   \n",
      "397   610090811367811938     Cozy rental near hospitals! Off street parking   \n",
      "398   724566770267420045    Cozy Greenwood Flat (1 BDR Apartment in Albany)   \n",
      "399   937927979762952955                        Hudson 4 at The Argus Hotel   \n",
      "400  1010759799610182054   Cozy Room in grand home with hot tub and coffee!   \n",
      "401   744430701454304507  1 Bedroom on Lincoln Park, near Lark and Downtown   \n",
      "\n",
      "       host_id host_name  neighborhood_group     neighborhood   latitude  \\\n",
      "0      4621559   Kenneth                 NaN       THIRD WARD  42.657890   \n",
      "1     19648678     Terra                 NaN       SIXTH WARD  42.652220   \n",
      "2     29288920     Gregg                 NaN      SECOND WARD  42.646150   \n",
      "3     19648678     Terra                 NaN       SIXTH WARD  42.652220   \n",
      "4     42430824    John M                 NaN       TENTH WARD  42.660880   \n",
      "..         ...       ...                 ...              ...        ...   \n",
      "397   40548251    Reyana                 NaN       NINTH WARD  42.652049   \n",
      "398  360287870      Mela                 NaN       SIXTH WARD  42.651372   \n",
      "399  526358730     Argus                 NaN       TENTH WARD  42.660430   \n",
      "400  382970529    Thomas                 NaN  THIRTEENTH WARD  42.669710   \n",
      "401   65414985     James                 NaN     SEVENTH WARD  42.649600   \n",
      "\n",
      "     longitude        room_type  price  ...  review_scores_accuracy  \\\n",
      "0   -73.753700  Entire home/apt   70.0  ...                    3.44   \n",
      "1   -73.767240  Entire home/apt  118.0  ...                    4.89   \n",
      "2   -73.759660  Entire home/apt   75.0  ...                    4.62   \n",
      "3   -73.767240  Entire home/apt  131.0  ...                    4.83   \n",
      "4   -73.781470  Entire home/apt  305.0  ...                    4.81   \n",
      "..         ...              ...    ...  ...                     ...   \n",
      "397 -73.794967  Entire home/apt  105.0  ...                    4.95   \n",
      "398 -73.767316  Entire home/apt  113.0  ...                    5.00   \n",
      "399 -73.774320     Private room    NaN  ...                     NaN   \n",
      "400 -73.797550     Private room   54.0  ...                    4.75   \n",
      "401 -73.767920  Entire home/apt   83.0  ...                    5.00   \n",
      "\n",
      "     review_scores_cleanliness review_scores_checkin  \\\n",
      "0                         3.56                  4.22   \n",
      "1                         4.88                  4.86   \n",
      "2                         4.46                  4.82   \n",
      "3                         4.72                  4.82   \n",
      "4                         4.78                  4.92   \n",
      "..                         ...                   ...   \n",
      "397                       4.84                  4.95   \n",
      "398                       4.94                  5.00   \n",
      "399                        NaN                   NaN   \n",
      "400                       4.86                  4.79   \n",
      "401                       4.92                  5.00   \n",
      "\n",
      "     review_scores_communication  review_scores_location  review_scores_value  \\\n",
      "0                           4.56                    3.22                 3.67   \n",
      "1                           4.81                    4.82                 4.79   \n",
      "2                           4.87                    4.78                 4.64   \n",
      "3                           4.69                    4.80                 4.72   \n",
      "4                           4.80                    4.74                 4.75   \n",
      "..                           ...                     ...                  ...   \n",
      "397                         4.98                    4.86                 4.84   \n",
      "398                         5.00                    4.62                 4.97   \n",
      "399                          NaN                     NaN                  NaN   \n",
      "400                         4.86                    4.82                 4.82   \n",
      "401                         5.00                    4.75                 4.92   \n",
      "\n",
      "     instant_bookable  calculated_host_listings_count_entire_homes  \\\n",
      "0                   f                                            1   \n",
      "1                   f                                            4   \n",
      "2                   f                                            1   \n",
      "3                   f                                            4   \n",
      "4                   f                                            1   \n",
      "..                ...                                          ...   \n",
      "397                 f                                            1   \n",
      "398                 f                                            1   \n",
      "399                 t                                            1   \n",
      "400                 f                                            1   \n",
      "401                 t                                            2   \n",
      "\n",
      "     calculated_host_listings_count_private_rooms  \\\n",
      "0                                               0   \n",
      "1                                               0   \n",
      "2                                               1   \n",
      "3                                               0   \n",
      "4                                               1   \n",
      "..                                            ...   \n",
      "397                                             0   \n",
      "398                                             0   \n",
      "399                                            11   \n",
      "400                                            11   \n",
      "401                                             0   \n",
      "\n",
      "     calculated_host_listings_count_shared_rooms  \n",
      "0                                              0  \n",
      "1                                              0  \n",
      "2                                              0  \n",
      "3                                              0  \n",
      "4                                              0  \n",
      "..                                           ...  \n",
      "397                                            0  \n",
      "398                                            0  \n",
      "399                                            0  \n",
      "400                                            0  \n",
      "401                                            0  \n",
      "\n",
      "[402 rows x 77 columns]\n"
     ]
    }
   ],
   "source": [
    "# D1: your code here\n",
    "listing_mgd_df = duckdb.sql(\"\"\"SELECT * \\\n",
    "                            FROM listings_df \\\n",
    "                            INNER JOIN listings_detailed_df \\\n",
    "                            ON listings_df.id = listings_detailed_df.id \\\n",
    "                            ORDER BY 'id'\n",
    "                \"\"\").df()\n",
    "\n",
    "#print(listing_mgd_df.head())\n",
    "print(listing_mgd_df.iloc[0:5, 0:5])\n",
    "print(listing_mgd_df)"
   ]
  },
  {
   "cell_type": "markdown",
   "id": "c04935ee-631d-4fe6-95d7-9eda74e00dba",
   "metadata": {
    "id": "c04935ee-631d-4fe6-95d7-9eda74e00dba"
   },
   "source": [
    "---\n",
    "<span style=\"color:blue\">**Exercise D2.**</span> (4 points) Now that we have combined the datasets, we will analyze the data to understand key metrics such as property types, number of listings, and review statistics, both by neighborhood and overall. This analysis will help us identify whether certain neighborhoods have distinct characteristics compared to the overall city.\n",
    "\n",
    "Part a: Use a SQL SELECT query to get all of the following from the `listing_mgd_df` table, in one query:\n",
    "* the modal property type (rename to `modal_prop_type`)\n",
    "* the total number of listings (*hint:* use `COUNT()` and rename the column to `total_listings`)\n",
    "* the mean of `calculated_host_listings_count` (rename to `avg_host_listings`)\n",
    "* the mean of `reviews_per_month` (rename to `avg_reviews`)\n",
    "* the mean of `price` (rename to `avg_price`)\n",
    "* the mean of `review_scores_rating` (rename to `avg_scores`)\n",
    "\n",
    "Sort the output by the total number of listings in descending order. Group by `neighborhood`. Use `iloc` to display the first five rows and columns of the dataframe.\n",
    "\n",
    "Part b: Repeat the query from Part a, but this time without grouping by neighborhood. This will give us overall summary statistics for the entire city. Remember, when calculating summary statistics across an entire dataset, you do not need a `GROUP BY` statement. Use backslashes to break up long lines of SQL code. Use `iloc` to display (up to) the first five rows and columns of the dataframe."
   ]
  },
  {
   "cell_type": "code",
   "execution_count": 23,
   "id": "7cf9c82a-5483-4c85-ad43-fa267ec4d4ad",
   "metadata": {
    "id": "7cf9c82a-5483-4c85-ad43-fa267ec4d4ad"
   },
   "outputs": [
    {
     "name": "stdout",
     "output_type": "stream",
     "text": [
      "        modal_prop_type  total_listings  avg_host_listings  avg_reviews  \\\n",
      "0    Entire rental unit              90           4.300000     2.403571   \n",
      "1    Entire rental unit              51           7.647059     2.513913   \n",
      "2  Private room in home              41           7.463415     1.650937   \n",
      "3    Entire rental unit              37           4.000000     2.104231   \n",
      "4    Entire rental unit              34           8.941176     2.085714   \n",
      "\n",
      "    avg_price  \n",
      "0  114.148148  \n",
      "1  140.640000  \n",
      "2  141.972973  \n",
      "3   96.833333  \n",
      "4  134.545455  \n"
     ]
    }
   ],
   "source": [
    "# D2 part a: your code here\n",
    "query = duckdb.sql(\"\"\"SELECT MODE(property_type) \\\n",
    "                                AS modal_prop_type, \\\n",
    "                        COUNT(*) AS total_listings, \\\n",
    "                        AVG(calculated_host_listings_count) \\\n",
    "                            AS avg_host_listings, \\\n",
    "                        AVG(reviews_per_month) \\\n",
    "                            AS avg_reviews, \\\n",
    "                        AVG(price) AS avg_price, \\\n",
    "                        AVG(review_scores_rating) \\\n",
    "                             AS avg_scores \\\n",
    "                        FROM listing_mgd_df \\\n",
    "                        GROUP BY neighborhood \\\n",
    "                        ORDER BY total_listings DESC \\\n",
    "                    \"\"\").df()\n",
    "print(query.iloc[:5, :5])"
   ]
  },
  {
   "cell_type": "code",
   "execution_count": 24,
   "id": "69a49407-d105-4f51-a701-37f3728047f0",
   "metadata": {
    "id": "69a49407-d105-4f51-a701-37f3728047f0"
   },
   "outputs": [
    {
     "name": "stdout",
     "output_type": "stream",
     "text": [
      "      modal_prop_type  total_listings  avg_host_listings  avg_reviews  \\\n",
      "0  Entire rental unit             402            5.41791     2.102911   \n",
      "\n",
      "    avg_price  \n",
      "0  139.094488  \n"
     ]
    }
   ],
   "source": [
    "# D2 part b: your code here\n",
    "query = duckdb.sql(\"\"\"SELECT MODE(property_type) \\\n",
    "                            AS modal_prop_type, \\\n",
    "                        COUNT(*) AS total_listings, \\\n",
    "                        AVG(calculated_host_listings_count) \\\n",
    "                            AS avg_host_listings, \\\n",
    "                        AVG(reviews_per_month) AS avg_reviews, \\\n",
    "                        AVG(price) AS avg_price, \\\n",
    "                        AVG(review_scores_rating) AS avg_scores \\\n",
    "                        FROM listing_mgd_df \\\n",
    "                    \"\"\").df()\n",
    "print(query.iloc[:5, :5])"
   ]
  },
  {
   "cell_type": "markdown",
   "id": "936af80c",
   "metadata": {
    "id": "936af80c"
   },
   "source": [
    "---\n",
    "\n",
    "### Goal: Plotting histograms.\n",
    "\n",
    "<span style=\"color:blue\">**Exercise D3.**</span> (2 points) Create a new data frame `four_nhoods` containing only the listings for four neighborhoods, which you may select yourself. **Remember to use single quotes `'` for strings in SQL, not double quotes `\"`. Otherwise you will get a RuntimeError stating that a column is missing.** You do not need to print any output for this question. Use the confidence check to ensure you did it correctly.\n",
    "\n",
    "**Confidence check:** The number of unique values in the neighborhood column of `four_nhoods` should be 4."
   ]
  },
  {
   "cell_type": "code",
   "execution_count": 25,
   "id": "7e09ac03-3004-4177-9074-0f454df6e20b",
   "metadata": {
    "id": "7e09ac03-3004-4177-9074-0f454df6e20b"
   },
   "outputs": [
    {
     "data": {
      "text/plain": [
       "4"
      ]
     },
     "execution_count": 25,
     "metadata": {},
     "output_type": "execute_result"
    }
   ],
   "source": [
    "# D3: your code here\n",
    "four_nhoods = duckdb.sql(\"\"\"SELECT * \\\n",
    "                                FROM listings_df \\\n",
    "                                GROUP BY * \\\n",
    "                                LIMIT 4 \\\n",
    "                        \"\"\").df()\n",
    "\n",
    "# Given code (confidence check):\n",
    "four_nhoods['neighborhood'].nunique()"
   ]
  },
  {
   "cell_type": "markdown",
   "id": "efa18976-e742-4577-87dd-f59c62a5bdbe",
   "metadata": {
    "id": "efa18976-e742-4577-87dd-f59c62a5bdbe"
   },
   "source": [
    "---\n",
    "<span style=\"color:blue\">**Exercise D4.**</span> (5 points) Use a seaborn `FacetGrid` with `neighborhood` as the columns and `price` as the `x` variable to display histograms for each neighborhood. See the [documentation for FacetGrid](https://seaborn.pydata.org/generated/seaborn.FacetGrid.html) for examples. Arrange the subplots in a 2x2 grid for better visualization.\n",
    "\n",
    "*Hint: For a FacetGrid we have to first specify the variable to use to divide into multiple sub-plots (in this case, `neighborhood`), along with the data that will be plotted on that grid (`four_nhoods`).  Then, you can use use the `map_dataframe()` function to tell seaborn what variable to plot in the sub-plots and how to plot that data. Instead of **calling** the function `histplot` we will pass the plotting function itself as an argument.*\n",
    "\n",
    "**Package version error:** If you have an older version of seaborn, the next cell may not run correctly (returning error `OptionError: No such keys(s): 'mode.use_inf_as_null'`. If you get this error, make sure you have a seaborn version >= 0.12.2 installed.)"
   ]
  },
  {
   "cell_type": "code",
   "execution_count": 26,
   "id": "bcb3f61d",
   "metadata": {
    "id": "bcb3f61d"
   },
   "outputs": [
    {
     "data": {
      "image/png": "[encoded data removed]",
      "text/plain": [
       "<Figure size 600x600 with 4 Axes>"
      ]
     },
     "metadata": {},
     "output_type": "display_data"
    }
   ],
   "source": [
    "# D4: your code here\n",
    "fg = seaborn.FacetGrid(four_nhoods, col = 'neighborhood', col_wrap = 2)\n",
    "plot = fg.map_dataframe(seaborn.histplot, x = 'price')\n",
    "plt.show()"
   ]
  },
  {
   "cell_type": "markdown",
   "id": "88f6d85f",
   "metadata": {
    "id": "88f6d85f"
   },
   "source": [
    "---\n",
    "<span style=\"color:blue\">**Exercise D5.**</span> (2 points) In no more than 3 sentences: describe any differences between the neighborhood summary statistics and the overall summary statistics for the city of Albany in a text markdown cell. Compare the sample sizes and averages between the neighborhood-level results and the overall results. Focus on any significant differences in the averages (e.g., price, review scores) and examine neighborhoods with extreme values. Consider whether some neighborhoods are more representative of the overall sample than others. Comment in no more than 3 sentences on whether you think the summary statistics for the neighborhoods are representative of the overall sample, and why."
   ]
  },
  {
   "cell_type": "markdown",
   "id": "abdf6c59",
   "metadata": {
    "id": "abdf6c59"
   },
   "source": [
    "**ENTER YOUR ANSWER HERE:**\n",
    "I think that neighborhood summary statistics would be representative of the overall sample because we can see the most popular property types of each neighborhood and the statistics for each of them. Neighborhoods that have more of the popular property types (entire rental units) would be more representative of the overall sample since there would be more of those properties. While the numbers won't be 100% accurate because of the existence of other types of property types, summary statistics for neighborhoods provide a good representation of the overall sample as a whole. "
   ]
  },
  {
   "cell_type": "markdown",
   "id": "e56542a5",
   "metadata": {
    "id": "e56542a5"
   },
   "source": [
    "---\n",
    "\n",
    "# Part 3: COVID Dataset\n",
    "\n",
    "Here we will study statewide COVID case numbers for NY state. The data file is released by [New York State](https://health.data.ny.gov/Health/New-York-State-Statewide-COVID-19-Testing/jvfi-ffup/about_data). Data are updated daily with a 3-day lag. The zip file contains a file `covid_statewide.tsv`. `tsv`, or `tab-separated values`, is similar to a `csv` but values within a record are separated by `tab` rather than `comma`."
   ]
  },
  {
   "cell_type": "markdown",
   "id": "897f4d51",
   "metadata": {
    "id": "897f4d51"
   },
   "source": [
    "### Goal: Preprocessing data."
   ]
  },
  {
   "cell_type": "markdown",
   "id": "93b335b5",
   "metadata": {
    "id": "93b335b5"
   },
   "source": [
    "<span style=\"color:blue\">**Exercise E1.**</span> (3 points) The `dtype` for the column `\"Total New Positives\"` is `object`.\n",
    "In pandas dataframes, columns with mixed types or strings are stored as the `object` type. The `dtype` of `\"Total New Positives\"` is `object` because the numbers contain thousands commas (e.g. \"1,000\"). By default, the thousands comma is treated as a character and so the column doesn’t get parsed as a numeric type.\n",
    "\n",
    "Use `pd.read_csv()` to read the tsv files. Please read the [`pd.read_csv()`](https://pandas.pydata.org/docs/reference/api/pandas.read_csv.html) documentation to see how to both 1) read tsv and 2) resolve the thousands comma. Name the dataframe `statewide_covid_df`. Use `iloc` to display the **last** five rows and **first** five columns of this dataframe.\n",
    "\n",
    "*Hint: you'll need to specify how each column in the tsv file is separated when running `pd.read_csv()`.*\n",
    "\n",
    "* **Confidence check 1:** Make sure that the data type of column `\"Total New Positives\"` is `int64`.\n",
    "\n",
    "* **Confidence check 2:** If you print the dataframe, numbers in `Total New Positives` will appear without commas.\n",
    "\n",
    "<span style=\"color:blue\">**--Additional Resources--**</span>\n",
    "\n",
    "Read more about `object` here: https://stackoverflow.com/questions/34881079/pandas-distinction-between-str-and-object-types"
   ]
  },
  {
   "cell_type": "code",
   "execution_count": 27,
   "id": "c2111ce2",
   "metadata": {
    "id": "c2111ce2"
   },
   "outputs": [
    {
     "name": "stdout",
     "output_type": "stream",
     "text": [
      "       Test Date Geography Description Geography Level  Total New Positives  \\\n",
      "1978  03/05/2020             STATEWIDE       STATEWIDE                   17   \n",
      "1979  03/04/2020             STATEWIDE       STATEWIDE                   20   \n",
      "1980  03/03/2020             STATEWIDE       STATEWIDE                   11   \n",
      "1981  03/02/2020             STATEWIDE       STATEWIDE                    2   \n",
      "1982  03/01/2020             STATEWIDE       STATEWIDE                    2   \n",
      "\n",
      "     Total Cases Per 100k  \n",
      "1978                 NONE  \n",
      "1979                  NaN  \n",
      "1980                 NONE  \n",
      "1981                   **  \n",
      "1982                 NONE  \n"
     ]
    }
   ],
   "source": [
    "# E1: your code here\n",
    "statewide_covid_df = pd.read_csv('covid_statewide.tsv', \\\n",
    "                                 sep = '\\t', thousands = ',')\n",
    "\n",
    "print(statewide_covid_df.iloc[-5:, :5])"
   ]
  },
  {
   "cell_type": "code",
   "execution_count": 28,
   "id": "8afabe01-40e6-4c33-8411-bdc08d6bb987",
   "metadata": {
    "id": "8afabe01-40e6-4c33-8411-bdc08d6bb987"
   },
   "outputs": [
    {
     "name": "stdout",
     "output_type": "stream",
     "text": [
      "int64\n",
      "    Test Date Geography Description Geography Level  Total New Positives  \\\n",
      "0  06/11/2022             STATEWIDE       STATEWIDE                 3607   \n",
      "1  07/20/2024             STATEWIDE       STATEWIDE                 1503   \n",
      "2  11/07/2022             STATEWIDE       STATEWIDE                 7067   \n",
      "3  09/01/2021             STATEWIDE       STATEWIDE                 5439   \n",
      "4  08/14/2021             STATEWIDE       STATEWIDE                 3134   \n",
      "\n",
      "  Total Cases Per 100k  Total Cases Per 100k (7-day avg)  New Positives PCR  \\\n",
      "0                18.46                             29.73               2691   \n",
      "1                 7.68                             10.42                841   \n",
      "2                36.16                             27.99               5377   \n",
      "3                27.83                             25.20               4400   \n",
      "4                16.04                             21.69               2442   \n",
      "\n",
      "   Cases Per 100k PCR  New Positives Antigen  Cases Per 100k Antigen  \\\n",
      "0               13.77                    916                    4.69   \n",
      "1                4.30                    662                    3.38   \n",
      "2               27.51                   1690                    8.65   \n",
      "3               22.52                   1039                    5.32   \n",
      "4               12.50                    692                    3.54   \n",
      "\n",
      "   Total Cases Per 100korig Test Date - Orig  \n",
      "0                     18.46       2022-06-11  \n",
      "1                      7.68       2024-07-20  \n",
      "2                     36.16       2022-11-07  \n",
      "3                     27.83       2021-09-01  \n",
      "4                     16.04       2021-08-14  \n"
     ]
    }
   ],
   "source": [
    "# Given code (confidence check 1):\n",
    "print(statewide_covid_df['Total New Positives'].dtype)\n",
    "\n",
    "# Given code (confidence check 2):\n",
    "print(statewide_covid_df.head())"
   ]
  },
  {
   "cell_type": "markdown",
   "id": "038db78c",
   "metadata": {
    "id": "038db78c"
   },
   "source": [
    "---\n",
    "\n",
    "<span style=\"color:blue\">**Exercise E2.**</span> (1 point)\n",
    "\n",
    "You will notice `NaN` values in some of the entries when you print the dataframe (for example, if you print `statewide_covid_df.iloc[-5:,:5]`). Look at the data file and online resources (e.g. documentation of `pandas` library). In the markdown cell, explain what `NaN` means, what datatype is `NaN`, and why these values appear.\n",
    "Remember to update `Problem 0` with the online resources you use."
   ]
  },
  {
   "cell_type": "markdown",
   "id": "06c8502f",
   "metadata": {
    "id": "06c8502f"
   },
   "source": [
    "**ENTER YOUR ANSWER HERE:**\n",
    "NaN represents missing data and stands for \"Not a Number\" in python. NaN is a float, and they appear in place of missing data values in a pandas dataframe. "
   ]
  },
  {
   "cell_type": "markdown",
   "id": "560ec141",
   "metadata": {
    "id": "560ec141"
   },
   "source": [
    "---\n",
    "### Goal: Fixing wrong data and setting desired datatypes.\n",
    "\n",
    "\n"
   ]
  },
  {
   "cell_type": "markdown",
   "id": "03a5286f",
   "metadata": {
    "id": "03a5286f"
   },
   "source": [
    "\n",
    "If you run the _first_ cell below, you'll notice that the data type (`dtype`) of the column `\"Total Cases Per 100k\"` is `object` instead of a numeric data type such as `int` or `float`.  \n",
    "\n",
    "If you run the _second_ cell below, you'll notice it's because some values in the column are `\"NONE` or `\"**\"`. So, `pandas` was not able to convert the column into numeric data.\n"
   ]
  },
  {
   "cell_type": "code",
   "execution_count": 29,
   "id": "6c67d414",
   "metadata": {
    "id": "6c67d414"
   },
   "outputs": [
    {
     "name": "stdout",
     "output_type": "stream",
     "text": [
      "object\n"
     ]
    }
   ],
   "source": [
    "# E3 Given code\n",
    "print(statewide_covid_df['Total Cases Per 100k'].dtype)"
   ]
  },
  {
   "cell_type": "code",
   "execution_count": 30,
   "id": "94d849ef",
   "metadata": {
    "id": "94d849ef"
   },
   "outputs": [
    {
     "name": "stdout",
     "output_type": "stream",
     "text": [
      "['**' '10.01' '10.02' ... '99.5' 'NONE' nan]\n"
     ]
    }
   ],
   "source": [
    "# E3 Given code\n",
    "print(statewide_covid_df['Total Cases Per 100k'].sort_values().unique())"
   ]
  },
  {
   "cell_type": "markdown",
   "id": "c20effb5",
   "metadata": {
    "id": "c20effb5"
   },
   "source": [
    "<span style=\"color:blue\">**Exercise E3.**</span> (2 points) Convert the `\"NONE\"` or `\"**\"` values in the `\"Total Cases Per 100k\"` to `np.nan` (which is the `NaN` value). You can use `pd.Series.replace()` to achieve this. Remember to assign the resulting column back to the same column name, so the column in the dataframe actually gets updated.\n",
    "\n",
    "**Confidence check:** You should not see `\"NONE\"` or `\"**\"` in `print(statewide_covid_df[\"Total Cases Per 100k\"].sort_values().unique())` afterwards."
   ]
  },
  {
   "cell_type": "code",
   "execution_count": 31,
   "id": "8b72cc5f",
   "metadata": {
    "id": "8b72cc5f"
   },
   "outputs": [
    {
     "name": "stdout",
     "output_type": "stream",
     "text": [
      "['10.01' '10.02' '10.08' ... '96.72' '99.5' nan]\n"
     ]
    }
   ],
   "source": [
    "# E3: your code here\n",
    "statewide_covid_df[\"Total Cases Per 100k\"] = statewide_covid_df\\\n",
    "                [\"Total Cases Per 100k\"].replace([\"NONE\", \"**\"], np.nan)\n",
    "\n",
    "# Given code (confidence check)\n",
    "print(statewide_covid_df[\"Total Cases Per 100k\"].sort_values().unique())"
   ]
  },
  {
   "cell_type": "markdown",
   "id": "b53d030d",
   "metadata": {
    "id": "b53d030d"
   },
   "source": [
    "---\n",
    "\n",
    "<span style=\"color:blue\">**Exercise E4.**</span> (2 points) Transform the same column to `float` type. Again, remember to name the resulting column with the same name, so the `\"Total Cases Per 100k\"` column in the dataframe actually gets updated. Use `iloc` to display the first five rows and columns of this dataframe.\n",
    "\n",
    "**Confidence check:** Check using `.dtype` that `\"Total Cases Per 100k\"` has changed to `float64`."
   ]
  },
  {
   "cell_type": "code",
   "execution_count": 32,
   "id": "350b566e",
   "metadata": {
    "id": "350b566e"
   },
   "outputs": [
    {
     "name": "stdout",
     "output_type": "stream",
     "text": [
      "    Test Date Geography Description Geography Level  Total New Positives  \\\n",
      "0  06/11/2022             STATEWIDE       STATEWIDE                 3607   \n",
      "1  07/20/2024             STATEWIDE       STATEWIDE                 1503   \n",
      "2  11/07/2022             STATEWIDE       STATEWIDE                 7067   \n",
      "3  09/01/2021             STATEWIDE       STATEWIDE                 5439   \n",
      "4  08/14/2021             STATEWIDE       STATEWIDE                 3134   \n",
      "\n",
      "   Total Cases Per 100k  \n",
      "0                 18.46  \n",
      "1                  7.68  \n",
      "2                 36.16  \n",
      "3                 27.83  \n",
      "4                 16.04  \n"
     ]
    }
   ],
   "source": [
    "# E4: your code here\n",
    "statewide_covid_df[\"Total Cases Per 100k\"] = statewide_covid_df\\\n",
    "                [\"Total Cases Per 100k\"].astype(float)\n",
    "print(statewide_covid_df.iloc[:5, :5])"
   ]
  },
  {
   "cell_type": "code",
   "execution_count": 33,
   "id": "0ed077fd-0373-4ed8-aa0d-07418b1e376a",
   "metadata": {
    "id": "0ed077fd-0373-4ed8-aa0d-07418b1e376a"
   },
   "outputs": [
    {
     "name": "stdout",
     "output_type": "stream",
     "text": [
      "float64\n"
     ]
    }
   ],
   "source": [
    "# Given code (confidence check):\n",
    "print(statewide_covid_df[\"Total Cases Per 100k\"].dtype)"
   ]
  },
  {
   "cell_type": "markdown",
   "id": "1a021db9",
   "metadata": {
    "id": "1a021db9"
   },
   "source": [
    "---\n",
    "\n",
    "<span style=\"color:blue\">**Exercise E5.**</span> (2 points) There are a number of missing values in `\"TotalCasesPer100k\"`. After fixing the ** and NONE values, additional data documentation tells you that missing values occur when the number of cases per 100k is less than 3. Using `SQL`, create a new dataframe called `recode_missing_sql` that sets all missing values of `\"TotalCasesPer100k\"` to 3 using the SQL [`CASE`](https://duckdb.org/docs/sql/expressions/case.html) function. Display only the columns `\"TestDate\"` and `\"TotalCasesPer100k\"` in the output. Use `iloc` to display the first fifteen rows of this dataframe.\n",
    "\n",
    "*Hint: handling missing values is sometimes inconsistent across systems, so we'll give you this one. In SQL, you can use:* `isnan(TotalCasesPer100k) is null`"
   ]
  },
  {
   "cell_type": "code",
   "execution_count": 34,
   "id": "a6e2d965",
   "metadata": {
    "id": "a6e2d965"
   },
   "outputs": [
    {
     "name": "stdout",
     "output_type": "stream",
     "text": [
      "      Test Date  \\\n",
      "0    06/11/2022   \n",
      "1    07/20/2024   \n",
      "2    11/07/2022   \n",
      "3    09/01/2021   \n",
      "4    08/14/2021   \n",
      "5    08/05/2020   \n",
      "6   Apr 08 2020   \n",
      "7    12/09/2022   \n",
      "8   May 08 2023   \n",
      "9    09/29/2020   \n",
      "10  Mar-30-2021   \n",
      "11   05/28/2023   \n",
      "12     07/16/20   \n",
      "13   04/13/2024   \n",
      "14     07/28/21   \n",
      "\n",
      "    CASE  WHEN ((\"Total Cases Per 100k\" IS NULL)) THEN (3) ELSE \"Total Cases Per 100k\" END  \n",
      "0                                               18.46                                       \n",
      "1                                                7.68                                       \n",
      "2                                               36.16                                       \n",
      "3                                               27.83                                       \n",
      "4                                               16.04                                       \n",
      "5                                                3.85                                       \n",
      "6                                               54.48                                       \n",
      "7                                               38.07                                       \n",
      "8                                                4.08                                       \n",
      "9                                                8.32                                       \n",
      "10                                              44.96                                       \n",
      "11                                               3.00                                       \n",
      "12                                               4.72                                       \n",
      "13                                               3.00                                       \n",
      "14                                              16.01                                       \n"
     ]
    }
   ],
   "source": [
    "# E5: your code here\n",
    "recode_missing_sql = duckdb.sql(\"\"\"SELECT \"Test Date\", \\\n",
    "                            CASE \\\n",
    "                                WHEN \"Total Cases Per 100k\" IS NULL THEN 3 \\\n",
    "                                ELSE \"Total Cases Per 100k\" \\\n",
    "                            END \\\n",
    "                            FROM statewide_covid_df\"\"\").df()\n",
    "print(recode_missing_sql.iloc[:15])                                                                         "
   ]
  },
  {
   "cell_type": "markdown",
   "id": "a8b56a45",
   "metadata": {
    "id": "a8b56a45"
   },
   "source": [
    "---\n",
    "\n",
    "<span style=\"color:blue\">**Exercise E6.**</span> (2 points) Now, using pandas, modify the original dataframe `statewide_covid_df` to set all missing values of `\"TotalCasesPer100k\"` to 3. Display `statewide_covid_df` with only the columns `Test Date` and `Total Cases Per 100k`. Use `iloc` to display the first fifteen rows of this dataframe."
   ]
  },
  {
   "cell_type": "code",
   "execution_count": 35,
   "id": "c20d8899",
   "metadata": {
    "id": "c20d8899"
   },
   "outputs": [
    {
     "name": "stdout",
     "output_type": "stream",
     "text": [
      "      Test Date  Total Cases Per 100k\n",
      "0    06/11/2022                 18.46\n",
      "1    07/20/2024                  7.68\n",
      "2    11/07/2022                 36.16\n",
      "3    09/01/2021                 27.83\n",
      "4    08/14/2021                 16.04\n",
      "5    08/05/2020                  3.85\n",
      "6   Apr 08 2020                 54.48\n",
      "7    12/09/2022                 38.07\n",
      "8   May 08 2023                  4.08\n",
      "9    09/29/2020                  8.32\n",
      "10  Mar-30-2021                 44.96\n",
      "11   05/28/2023                  3.00\n",
      "12     07/16/20                  4.72\n",
      "13   04/13/2024                  3.00\n",
      "14     07/28/21                 16.01\n"
     ]
    }
   ],
   "source": [
    "# E6: your code here\n",
    "statewide_covid_df['Total Cases Per 100k'] = statewide_covid_df\\\n",
    "                ['Total Cases Per 100k'].replace([np.NaN], 3)\n",
    "print(statewide_covid_df[['Test Date', 'Total Cases Per 100k']].iloc[:15])"
   ]
  },
  {
   "cell_type": "markdown",
   "id": "fe3b869b",
   "metadata": {
    "id": "fe3b869b"
   },
   "source": [
    "---\n",
    "\n",
    "<span style=\"color:blue\">**Exercise E7.**</span> (2 points) If you print the data type of the `Test Date` column, you'll notice that the `Test Date` column is being read as a string. Modifying `statewide_covid_df`, convert this field to a date using the `pandas` function `to_datetime`. You may need to specify the argument `format` in order to convert successfully. Use `iloc` to display the first five rows and columns of this dataframe."
   ]
  },
  {
   "cell_type": "code",
   "execution_count": 36,
   "id": "a08124cf",
   "metadata": {
    "id": "a08124cf"
   },
   "outputs": [
    {
     "name": "stdout",
     "output_type": "stream",
     "text": [
      "   Test Date Geography Description Geography Level  Total New Positives  \\\n",
      "0 2022-06-11             STATEWIDE       STATEWIDE                 3607   \n",
      "1 2024-07-20             STATEWIDE       STATEWIDE                 1503   \n",
      "2 2022-11-07             STATEWIDE       STATEWIDE                 7067   \n",
      "3 2021-09-01             STATEWIDE       STATEWIDE                 5439   \n",
      "4 2021-08-14             STATEWIDE       STATEWIDE                 3134   \n",
      "\n",
      "   Total Cases Per 100k  \n",
      "0                 18.46  \n",
      "1                  7.68  \n",
      "2                 36.16  \n",
      "3                 27.83  \n",
      "4                 16.04  \n"
     ]
    }
   ],
   "source": [
    "# E7: your code here\n",
    "statewide_covid_df['Test Date'] = pd.to_datetime(statewide_covid_df\\\n",
    "                                        ['Test Date'], format = 'mixed')\n",
    "print(statewide_covid_df.iloc[:5, :5])"
   ]
  },
  {
   "cell_type": "markdown",
   "id": "e9daf7d4",
   "metadata": {
    "id": "e9daf7d4"
   },
   "source": [
    "---\n",
    "\n",
    "<span style=\"color:blue\">**Exercise E8.**</span> (1 point) Briefly explain why you need to specify `format` in `Problem E7`.\n",
    "\n",
    "\n",
    "\n"
   ]
  },
  {
   "cell_type": "markdown",
   "id": "c190f2a8",
   "metadata": {
    "id": "c190f2a8"
   },
   "source": [
    "**ENTER YOUR ANSWER HERE:**\n",
    "The time data values were either in the \"%m/%d/%Y\" format or the ISO8601 format. Since it is hard to determine which values followed which format in a concise amount of code, specifying that the format was mixed is important to successfully converting the Test Date column from a string to dates. "
   ]
  },
  {
   "cell_type": "markdown",
   "id": "0677d110",
   "metadata": {
    "id": "0677d110"
   },
   "source": [
    "---\n",
    "\n",
    "<span style=\"color:blue\">**Exercise E9.**</span> (2 points) Create three new columns: `Year`, `Month`, and `Quarter`. Set these to the value of the `year`, `month`, and `quarter` properties for the `Test Date` field. You can do this by extracting the relevant datetime attributes from `Test Date` (e.g., [`dt.month`](https://pandas.pydata.org/docs/reference/api/pandas.Series.dt.month.html)). Use `loc` to display the three newly created columns and use `head()` to display the first five rows."
   ]
  },
  {
   "cell_type": "code",
   "execution_count": 37,
   "id": "e55c07f1",
   "metadata": {
    "id": "e55c07f1"
   },
   "outputs": [
    {
     "name": "stdout",
     "output_type": "stream",
     "text": [
      "   Year  Month  Quarter\n",
      "0  2022      6        2\n",
      "1  2024      7        3\n",
      "2  2022     11        4\n",
      "3  2021      9        3\n",
      "4  2021      8        3\n"
     ]
    }
   ],
   "source": [
    "# E9: your code here\n",
    "Year = statewide_covid_df['Test Date'].dt.year\n",
    "Month = statewide_covid_df['Test Date'].dt.month\n",
    "Quarter = statewide_covid_df['Test Date'].dt.quarter\n",
    "\n",
    "statewide_covid_df['Year'] = Year\n",
    "statewide_covid_df['Month'] = Month\n",
    "statewide_covid_df['Quarter'] = Quarter\n",
    "\n",
    "print(statewide_covid_df.loc[:, ['Year', 'Month', 'Quarter']].head())"
   ]
  },
  {
   "cell_type": "markdown",
   "id": "f5f185dc",
   "metadata": {
    "id": "f5f185dc"
   },
   "source": [
    "---\n",
    "\n",
    "<span style=\"color:blue\">**Exercise E10.**</span> (1 point) Describe at least one advantage to use a parsed date object over a string representation.\n"
   ]
  },
  {
   "cell_type": "markdown",
   "id": "24815c0d",
   "metadata": {
    "id": "24815c0d"
   },
   "source": [
    "**ENTER YOUR ANSWER HERE**: A parsed date object allows you to extract the year, month, and quarter directly from the dataframe while a string representation doesn't allow you to extract parts of the date. Using these extractions, you can more efficiently gather data and perform calculations. "
   ]
  },
  {
   "cell_type": "markdown",
   "id": "2c29d8de",
   "metadata": {
    "id": "2c29d8de"
   },
   "source": [
    "---\n",
    "\n",
    "### Goal: Cleaning duplicated data.\n",
    "\n",
    "The number of unique values in the `Test Date` column is less than the number of records in the dataframe. This means there are duplicated values in the `Test Date` column. Duplicates are a problem because they may produce incorrect results when computing summary statistics. For example, if you want to count the number of observations by `Test Date`, the duplicates in the data will result in doubled counts.\n",
    "\n",
    "<span style=\"color:blue\">**--Additional Resources--**</span>\n",
    "\n",
    "Read more about `nunique()` here: https://pandas.pydata.org/docs/reference/api/pandas.DataFrame.nunique.html"
   ]
  },
  {
   "cell_type": "code",
   "execution_count": 38,
   "id": "89293412",
   "metadata": {
    "id": "89293412"
   },
   "outputs": [
    {
     "name": "stdout",
     "output_type": "stream",
     "text": [
      "Number of records:  1983\n",
      "Number of unique values of Date:  1642\n"
     ]
    }
   ],
   "source": [
    "# E11 Given code\n",
    "print(\"Number of records: \", len(statewide_covid_df['Test Date']))\n",
    "print(\"Number of unique values of Date: \", statewide_covid_df\\\n",
    "                                      ['Test Date'].nunique())"
   ]
  },
  {
   "cell_type": "markdown",
   "id": "5b1a7cc1",
   "metadata": {
    "id": "5b1a7cc1"
   },
   "source": [
    "---\n",
    "\n",
    "<span style=\"color:blue\">**Exercise E11.**</span> (2 points) In the COVID dataset, we expect that there is only one row for each `Test Date`. The cell below shows rows with the same `Test Date`. For example, we see that there are two rows with date `2020-03-01`. Observe that many of these are perfect duplicates, which means that every entry in the row is the same. As a result, you can simply drop duplicates using the pandas function `pd.drop_duplicates()`. Set the appropriate `keep` argument. Remember to name the resulting dataframe as `statewide_covid_df` (the same name) so the dataframe actually gets updated. Use `iloc` to display the first five rows and columns of this dataframe.\n",
    "\n",
    "**Confidence check:** Check that the size of the dataframe now matches the number of unique values of `Test Date`: `statewide_covid_df.shape[0] == statewide_covid_df['Test Date'].nunique()`\n",
    "\n",
    "<span style=\"color:blue\">**--Additional Resources--**</span>\n",
    "\n",
    "Read more about `df.duplicated()` here: https://pandas.pydata.org/docs/reference/api/pandas.DataFrame.duplicated.html\n",
    "\n",
    "**Note:** In E11, you are now redefining `statewide_covid_df` so be careful if you run previous cells after you run E10. Be sure to always clear all outputs and run the notebook from top to bottom to ensure you are getting the outputs you want."
   ]
  },
  {
   "cell_type": "code",
   "execution_count": 39,
   "id": "776bc67e",
   "metadata": {
    "id": "776bc67e"
   },
   "outputs": [
    {
     "data": {
      "text/html": [
       "<div>\n",
       "<style scoped>\n",
       "    .dataframe tbody tr th:only-of-type {\n",
       "        vertical-align: middle;\n",
       "    }\n",
       "\n",
       "    .dataframe tbody tr th {\n",
       "        vertical-align: top;\n",
       "    }\n",
       "\n",
       "    .dataframe thead th {\n",
       "        text-align: right;\n",
       "    }\n",
       "</style>\n",
       "<table border=\"1\" class=\"dataframe\">\n",
       "  <thead>\n",
       "    <tr style=\"text-align: right;\">\n",
       "      <th></th>\n",
       "      <th>Test Date</th>\n",
       "      <th>Geography Description</th>\n",
       "      <th>Geography Level</th>\n",
       "      <th>Total New Positives</th>\n",
       "      <th>Total Cases Per 100k</th>\n",
       "      <th>Total Cases Per 100k (7-day avg)</th>\n",
       "      <th>New Positives PCR</th>\n",
       "      <th>Cases Per 100k PCR</th>\n",
       "      <th>New Positives Antigen</th>\n",
       "      <th>Cases Per 100k Antigen</th>\n",
       "      <th>Total Cases Per 100korig</th>\n",
       "      <th>Test Date - Orig</th>\n",
       "      <th>Year</th>\n",
       "      <th>Month</th>\n",
       "      <th>Quarter</th>\n",
       "    </tr>\n",
       "  </thead>\n",
       "  <tbody>\n",
       "    <tr>\n",
       "      <th>1982</th>\n",
       "      <td>2020-03-01</td>\n",
       "      <td>STATEWIDE</td>\n",
       "      <td>STATEWIDE</td>\n",
       "      <td>2</td>\n",
       "      <td>3.0</td>\n",
       "      <td>0.01</td>\n",
       "      <td>2</td>\n",
       "      <td>0.01</td>\n",
       "      <td>0</td>\n",
       "      <td>0.00</td>\n",
       "      <td>0.01</td>\n",
       "      <td>2020-03-01</td>\n",
       "      <td>2020</td>\n",
       "      <td>3</td>\n",
       "      <td>1</td>\n",
       "    </tr>\n",
       "    <tr>\n",
       "      <th>196</th>\n",
       "      <td>2020-03-01</td>\n",
       "      <td>STATEWIDE</td>\n",
       "      <td>STATEWIDE</td>\n",
       "      <td>2</td>\n",
       "      <td>3.0</td>\n",
       "      <td>0.01</td>\n",
       "      <td>2</td>\n",
       "      <td>0.01</td>\n",
       "      <td>0</td>\n",
       "      <td>0.00</td>\n",
       "      <td>0.01</td>\n",
       "      <td>2020-03-01</td>\n",
       "      <td>2020</td>\n",
       "      <td>3</td>\n",
       "      <td>1</td>\n",
       "    </tr>\n",
       "    <tr>\n",
       "      <th>1981</th>\n",
       "      <td>2020-03-02</td>\n",
       "      <td>STATEWIDE</td>\n",
       "      <td>STATEWIDE</td>\n",
       "      <td>2</td>\n",
       "      <td>3.0</td>\n",
       "      <td>0.01</td>\n",
       "      <td>2</td>\n",
       "      <td>0.01</td>\n",
       "      <td>0</td>\n",
       "      <td>0.00</td>\n",
       "      <td>0.01</td>\n",
       "      <td>2020-03-02</td>\n",
       "      <td>2020</td>\n",
       "      <td>3</td>\n",
       "      <td>1</td>\n",
       "    </tr>\n",
       "    <tr>\n",
       "      <th>268</th>\n",
       "      <td>2020-03-02</td>\n",
       "      <td>STATEWIDE</td>\n",
       "      <td>STATEWIDE</td>\n",
       "      <td>2</td>\n",
       "      <td>3.0</td>\n",
       "      <td>0.01</td>\n",
       "      <td>2</td>\n",
       "      <td>0.01</td>\n",
       "      <td>0</td>\n",
       "      <td>0.00</td>\n",
       "      <td>0.01</td>\n",
       "      <td>2020-03-02</td>\n",
       "      <td>2020</td>\n",
       "      <td>3</td>\n",
       "      <td>1</td>\n",
       "    </tr>\n",
       "    <tr>\n",
       "      <th>1975</th>\n",
       "      <td>2020-03-08</td>\n",
       "      <td>STATEWIDE</td>\n",
       "      <td>STATEWIDE</td>\n",
       "      <td>56</td>\n",
       "      <td>3.0</td>\n",
       "      <td>0.13</td>\n",
       "      <td>28</td>\n",
       "      <td>0.14</td>\n",
       "      <td>28</td>\n",
       "      <td>0.14</td>\n",
       "      <td>0.29</td>\n",
       "      <td>2020-03-08</td>\n",
       "      <td>2020</td>\n",
       "      <td>3</td>\n",
       "      <td>1</td>\n",
       "    </tr>\n",
       "  </tbody>\n",
       "</table>\n",
       "</div>"
      ],
      "text/plain": [
       "      Test Date Geography Description Geography Level  Total New Positives  \\\n",
       "1982 2020-03-01             STATEWIDE       STATEWIDE                    2   \n",
       "196  2020-03-01             STATEWIDE       STATEWIDE                    2   \n",
       "1981 2020-03-02             STATEWIDE       STATEWIDE                    2   \n",
       "268  2020-03-02             STATEWIDE       STATEWIDE                    2   \n",
       "1975 2020-03-08             STATEWIDE       STATEWIDE                   56   \n",
       "\n",
       "      Total Cases Per 100k  Total Cases Per 100k (7-day avg)  \\\n",
       "1982                   3.0                              0.01   \n",
       "196                    3.0                              0.01   \n",
       "1981                   3.0                              0.01   \n",
       "268                    3.0                              0.01   \n",
       "1975                   3.0                              0.13   \n",
       "\n",
       "      New Positives PCR  Cases Per 100k PCR  New Positives Antigen  \\\n",
       "1982                  2                0.01                      0   \n",
       "196                   2                0.01                      0   \n",
       "1981                  2                0.01                      0   \n",
       "268                   2                0.01                      0   \n",
       "1975                 28                0.14                     28   \n",
       "\n",
       "      Cases Per 100k Antigen  Total Cases Per 100korig Test Date - Orig  Year  \\\n",
       "1982                    0.00                      0.01       2020-03-01  2020   \n",
       "196                     0.00                      0.01       2020-03-01  2020   \n",
       "1981                    0.00                      0.01       2020-03-02  2020   \n",
       "268                     0.00                      0.01       2020-03-02  2020   \n",
       "1975                    0.14                      0.29       2020-03-08  2020   \n",
       "\n",
       "      Month  Quarter  \n",
       "1982      3        1  \n",
       "196       3        1  \n",
       "1981      3        1  \n",
       "268       3        1  \n",
       "1975      3        1  "
      ]
     },
     "execution_count": 39,
     "metadata": {},
     "output_type": "execute_result"
    }
   ],
   "source": [
    "# E11 Given code\n",
    "statewide_covid_df[statewide_covid_df.duplicated(keep=False)]\\\n",
    "                .sort_values('Test Date').head()"
   ]
  },
  {
   "cell_type": "code",
   "execution_count": 40,
   "id": "6176edb6",
   "metadata": {
    "id": "6176edb6"
   },
   "outputs": [
    {
     "name": "stdout",
     "output_type": "stream",
     "text": [
      "   Test Date Geography Description Geography Level  Total New Positives  \\\n",
      "0 2022-06-11             STATEWIDE       STATEWIDE                 3607   \n",
      "1 2024-07-20             STATEWIDE       STATEWIDE                 1503   \n",
      "2 2022-11-07             STATEWIDE       STATEWIDE                 7067   \n",
      "3 2021-09-01             STATEWIDE       STATEWIDE                 5439   \n",
      "4 2021-08-14             STATEWIDE       STATEWIDE                 3134   \n",
      "\n",
      "   Total Cases Per 100k  \n",
      "0                 18.46  \n",
      "1                  7.68  \n",
      "2                 36.16  \n",
      "3                 27.83  \n",
      "4                 16.04  \n"
     ]
    }
   ],
   "source": [
    "# E11: your code here\n",
    "statewide_covid_df = statewide_covid_df.drop_duplicates\\\n",
    "            (subset = ['Test Date'])\n",
    "print(statewide_covid_df.iloc[:5, :5])"
   ]
  },
  {
   "cell_type": "markdown",
   "id": "b72ebea7",
   "metadata": {
    "id": "b72ebea7"
   },
   "source": [
    "---\n",
    "\n",
    "### Goal: Renaming columns.\n",
    "\n",
    "The column names of the original CSV file were intended to be read by people, so they include spaces and additional words. When working with DataFrames, we want columns to be easy to use as variables."
   ]
  },
  {
   "cell_type": "markdown",
   "id": "8b21cc24",
   "metadata": {
    "id": "8b21cc24"
   },
   "source": [
    "<span style=\"color:blue\">**Exercise E12.**</span> (2 points) Use either `pandas` or `SQL` to replace the following column headers.\n",
    "\n",
    "    \"Test Date\" -> \"TestDate\",\n",
    "    \"Total New Positives\" -> \"TotalNewPositives\",\n",
    "    \"Total Cases Per 100k\" -> \"TotalCasesPer100k\",\n",
    "    \"Total Cases Per 100k (7-day avg)\" -> \"TotalCasesPer100k7DayAvg\"\n",
    "\n",
    "Include only the `TestDate`, `Year`, `Month`, `Quarter`,  `TotalNewPositives`, `TotalCasesPer100k`, and `TotalCasesPer100k7DayAvg` in the resulting dataframe. Make sure you name the resulting dataframe `statewide_covid_df` so the variable gets updated. Use `iloc` to display the first five rows and columns of this dataframe."
   ]
  },
  {
   "cell_type": "code",
   "execution_count": 41,
   "id": "a418fb38",
   "metadata": {
    "id": "a418fb38"
   },
   "outputs": [
    {
     "name": "stdout",
     "output_type": "stream",
     "text": [
      "    TestDate  Year  Month  Quarter  TotalNewPositives\n",
      "0 2022-06-11  2022      6        2               3607\n",
      "1 2024-07-20  2024      7        3               1503\n",
      "2 2022-11-07  2022     11        4               7067\n",
      "3 2021-09-01  2021      9        3               5439\n",
      "4 2021-08-14  2021      8        3               3134\n"
     ]
    }
   ],
   "source": [
    "# E12: your code here\n",
    "statewide_covid_df = duckdb.sql(\"\"\"SELECT \"Test Date\" AS TestDate, \\\n",
    "                                    \"Year\", \\\n",
    "                                    \"Month\", \\\n",
    "                                    \"Quarter\", \\\n",
    "                                    \"Total New Positives\" \\\n",
    "                                        AS TotalNewPositives, \\\n",
    "                                    \"Total Cases Per 100k\" \\\n",
    "                                        AS TotalCasesPer100k, \\\n",
    "                                    \"Total Cases Per 100k (7-day avg)\" \\\n",
    "                                        AS TotalCasesPer100k7DayAvg \\\n",
    "                                FROM statewide_covid_df\"\"\").df()\n",
    "\n",
    "# E12 Given code\n",
    "print(statewide_covid_df.iloc[:5,:5])"
   ]
  },
  {
   "cell_type": "markdown",
   "id": "d8fe68fb",
   "metadata": {
    "id": "d8fe68fb"
   },
   "source": [
    "---\n",
    "\n",
    "### Goal: Using Pandas and SQL to perform Groupby.\n"
   ]
  },
  {
   "cell_type": "markdown",
   "id": "c776af17",
   "metadata": {
    "id": "c776af17"
   },
   "source": [
    "\n",
    "\n",
    "<span style=\"color:blue\">**Exercise F1.**</span> (2 points)\n",
    "\n",
    "Part a: Using `time.time()` from the `time` package, save the start time in a variable called `start_time_sql`.\n",
    "\n",
    "Part b:\n",
    "Use a SQL `SELECT` statement to display the year, month, and average number of positive tests per month from January 2023 to August 2024 (*hint*: August 2024 is the most recent month included in the dataframe). Order by Year and Month chronologically (from earliest to latest month). Name the resulting dataframe `year_month_summary_sql` and print it.\n",
    "\n",
    "Part c:\n",
    "Subtract `start_time_sql` from `time.time()` once you've finished the SQL query and display it."
   ]
  },
  {
   "cell_type": "code",
   "execution_count": 42,
   "id": "760f7aad",
   "metadata": {
    "id": "760f7aad"
   },
   "outputs": [
    {
     "name": "stdout",
     "output_type": "stream",
     "text": [
      "    Year  Month  avg(TotalNewPositives)\n",
      "0   2023      1             5247.838710\n",
      "1   2023      2             2849.821429\n",
      "2   2023      3             1489.000000\n",
      "3   2023      4              764.366667\n",
      "4   2023      5              635.935484\n",
      "5   2023      6              542.833333\n",
      "6   2023      7              797.774194\n",
      "7   2023      8             2099.032258\n",
      "8   2024      1             4243.967742\n",
      "9   2024      2             1782.620690\n",
      "10  2024      3              684.870968\n",
      "11  2024      4              493.200000\n",
      "12  2024      5              657.806452\n",
      "13  2024      6             1124.666667\n",
      "14  2024      7             1979.354839\n",
      "15  2024      8             1868.642857\n",
      "0.0047070980072021484\n"
     ]
    }
   ],
   "source": [
    "# F1 part a: your code here\n",
    "start_time_sql = time.time()\n",
    "\n",
    "# F1 part b: your code here\n",
    "year_month_summary_sql = duckdb.sql(\"\"\"SELECT Year, Month, \\\n",
    "                                            AVG(TotalNewPositives) \\\n",
    "                                        FROM statewide_covid_df \\\n",
    "                                        WHERE Year >= 2023 \\\n",
    "                                            AND Month BETWEEN 1 AND 8 \\\n",
    "                                        GROUP BY Year, Month\n",
    "                                        ORDER BY Year, Month\"\"\").df()\n",
    "print(year_month_summary_sql)\n",
    "\n",
    "# F1 part c: your code here\n",
    "print(time.time() - start_time_sql)"
   ]
  },
  {
   "cell_type": "markdown",
   "id": "7feb78cc",
   "metadata": {
    "id": "7feb78cc"
   },
   "source": [
    "---\n",
    "\n",
    "<span style=\"color:blue\">**Exercise F2.**</span> (2 points)\n",
    "\n",
    "Part a: Using `time.time()` from the `time` package, save the start time in a variable called `start_time_pd`.\n",
    "\n",
    "Part b: Use pandas `groupby()` and `mean()` to display the same information as the previous question (year, month, average of total new positives). Use `loc[]` to filter for the appropriate Year and Month values. Name the resulting dataframe `year_month_summary_pd` and reset the index using `reset_index()`. Print `year_month_summary_pd` and ensure it is sorted by Year and Month chronologically (from earliest to latest month).\n",
    "\n",
    "Part c:\n",
    "Subtract `start_time_pd` from `time.time()` once you've finished the SQL query and display it.\n",
    "\n",
    "**Confidence check:** Your answer should be the same as F1.\n"
   ]
  },
  {
   "cell_type": "code",
   "execution_count": 43,
   "id": "c60f371a",
   "metadata": {
    "id": "c60f371a"
   },
   "outputs": [
    {
     "name": "stdout",
     "output_type": "stream",
     "text": [
      "    Year  Month  TotalNewPositives\n",
      "0   2023      1        5247.838710\n",
      "1   2023      2        2849.821429\n",
      "2   2023      3        1489.000000\n",
      "3   2023      4         764.366667\n",
      "4   2023      5         635.935484\n",
      "5   2023      6         542.833333\n",
      "6   2023      7         797.774194\n",
      "7   2023      8        2099.032258\n",
      "8   2024      1        4243.967742\n",
      "9   2024      2        1782.620690\n",
      "10  2024      3         684.870968\n",
      "11  2024      4         493.200000\n",
      "12  2024      5         657.806452\n",
      "13  2024      6        1124.666667\n",
      "14  2024      7        1979.354839\n",
      "15  2024      8        1868.642857\n",
      "0.004168987274169922\n"
     ]
    }
   ],
   "source": [
    "# F2 part a: your code here\n",
    "start_time_pd = time.time()\n",
    "\n",
    "# F2 part b: your code here\n",
    "year_month_summary_pd = statewide_covid_df.groupby(['Year', 'Month'])\\\n",
    "                                    ['TotalNewPositives'].mean().reset_index()\n",
    "\n",
    "year_month_summary_pd = year_month_summary_pd.loc[(year_month_summary_pd\\\n",
    "                ['Year'] >= 2023) & (year_month_summary_pd['Month'] >= 1) & \\\n",
    "                (year_month_summary_pd['Month'] <= 8)].sort_values(by = 'Year')\\\n",
    "                .reset_index(drop = True)\n",
    "print(year_month_summary_pd)\n",
    "\n",
    "# F2 part c: your code here\n",
    "print(time.time() - start_time_pd)"
   ]
  },
  {
   "cell_type": "markdown",
   "id": "2608481f",
   "metadata": {
    "id": "2608481f"
   },
   "source": [
    "---\n",
    "\n",
    "<span style=\"color:blue\">**Problem F3.**</span> (1 point)\n",
    "\n",
    "Which method of merging (either pandas or SQL) was faster? *Hint:* Consider the elapsed time in F1 and F2. Note that the dataframes we are using here are small and the time calculations are subject to small fluctuations, so your results may be unexpected."
   ]
  },
  {
   "cell_type": "markdown",
   "id": "9e6acc83",
   "metadata": {
    "id": "9e6acc83"
   },
   "source": [
    "**ENTER YOUR ANSWER HERE:** \n",
    "Using Pandas to merge was faster. The elapsed time when using pandas is always about 0.001 faster than when using SQL."
   ]
  },
  {
   "cell_type": "markdown",
   "id": "544e4c91",
   "metadata": {
    "id": "544e4c91"
   },
   "source": [
    "---\n",
    "\n",
    "<span style=\"color:blue\">**Problem F4.**</span> (1 point)\n",
    "\n",
    "Which do you prefer: `sql` or `pandas`? Why?\n",
    "\n",
    "\n"
   ]
  },
  {
   "cell_type": "markdown",
   "id": "3b1781ee",
   "metadata": {
    "id": "3b1781ee"
   },
   "source": [
    "**ENTER YOUR ANSWER HERE:** \n",
    "I prefer to use SQL because I found that the process of selecting the columns to display while also averaging the values of an existing column was much more straightforward than using pandas. It was also easier to group and sort the data when using SQL. Trying to select the Year and Month columns while also taking the average of the TotalNewPositives column was difficult for me when using pandas. "
   ]
  },
  {
   "cell_type": "markdown",
   "id": "08e1858e-9896-441e-850d-7bff7eedc56f",
   "metadata": {},
   "source": [
    "### ET "
   ]
  },
  {
   "cell_type": "markdown",
   "id": "8b81a23c",
   "metadata": {
    "id": "8b81a23c"
   },
   "source": [
    "---\n",
    "\n",
    "### Goal: Plotting time-series data.\n",
    "\n",
    "<span style=\"color:blue\">**Exercise G1.**</span> (2 points) Use the `seaborn` function `lineplot` to display a plot of `year_month_summary_pd`. Display the average number of new positive tests recorded per Month and use the `hue` argument to change the color of the line depending on the `Year`. The x-axis should be `Month` and the y-axis should be `TotalNewPositives`. Use the `pyplot` function [`xticks`](https://matplotlib.org/stable/api/_as_gen/matplotlib.pyplot.xticks.html) to rotate the tick labels for the dates in the x-axis by 60 degrees. Note the plot should have two separate lines, one for each year.\n"
   ]
  },
  {
   "cell_type": "code",
   "execution_count": 44,
   "id": "aff2ea40",
   "metadata": {
    "id": "aff2ea40"
   },
   "outputs": [
    {
     "data": {
      "image/png": "[encoded data removed]",
      "text/plain": [
       "<Figure size 640x480 with 1 Axes>"
      ]
     },
     "metadata": {},
     "output_type": "display_data"
    }
   ],
   "source": [
    "# G1: your code here\n",
    "seaborn.lineplot(data = year_month_summary_pd, x = 'Month', \\\n",
    "                 y = 'TotalNewPositives', hue = 'Year')\n",
    "plt.xticks(rotation = 60)\n",
    "plt.show()"
   ]
  },
  {
   "cell_type": "markdown",
   "id": "d49888c3",
   "metadata": {
    "id": "d49888c3"
   },
   "source": [
    "---\n",
    "\n",
    "<span style=\"color:blue\">**Exercise G2.**</span> (3 points) Use either SQL or pandas to create a new dataframe that contains only the data since June 1, 2024 (inclusive)."
   ]
  },
  {
   "cell_type": "code",
   "execution_count": 45,
   "id": "9e81b0c7",
   "metadata": {
    "id": "9e81b0c7"
   },
   "outputs": [
    {
     "name": "stdout",
     "output_type": "stream",
     "text": [
      "     TestDate  Year  Month  Quarter  TotalNewPositives  TotalCasesPer100k  \\\n",
      "0  2024-07-20  2024      7        3               1503               7.68   \n",
      "1  2024-06-29  2024      6        2               1034               5.25   \n",
      "2  2024-06-07  2024      6        2                826               4.20   \n",
      "3  2024-07-26  2024      7        3               2168              11.08   \n",
      "4  2024-06-22  2024      6        2                932               4.74   \n",
      "..        ...   ...    ...      ...                ...                ...   \n",
      "84 2024-06-05  2024      6        2                998               5.07   \n",
      "85 2024-06-04  2024      6        2               1057               5.37   \n",
      "86 2024-06-03  2024      6        2               1080               5.49   \n",
      "87 2024-06-02  2024      6        2                620               3.15   \n",
      "88 2024-06-01  2024      6        2                508               3.00   \n",
      "\n",
      "    TotalCasesPer100k7DayAvg  \n",
      "0                      10.42  \n",
      "1                       7.08  \n",
      "2                       4.42  \n",
      "3                      11.54  \n",
      "4                       6.42  \n",
      "..                       ...  \n",
      "84                      4.33  \n",
      "85                      4.30  \n",
      "86                      4.32  \n",
      "87                      3.96  \n",
      "88                      3.91  \n",
      "\n",
      "[89 rows x 7 columns]\n"
     ]
    }
   ],
   "source": [
    "# G2: your code here\n",
    "data_since_june = duckdb.sql(\"SELECT * FROM statewide_covid_df \\\n",
    "                                WHERE Year >= 2024 AND MONTH >= 6\").df()\n",
    "print(data_since_june)"
   ]
  },
  {
   "cell_type": "markdown",
   "id": "f1bb9ecf",
   "metadata": {
    "id": "f1bb9ecf"
   },
   "source": [
    "---\n",
    "\n",
    "<span style=\"color:blue\">**Exercise G3.**</span> (1 point) Plot the number of daily new positives tests for this subset by `\"TestDate\"` as the x-axis. Pick any color of your choosing to plot this line by specifying the `color` argument.\n",
    "\n",
    "<span style=\"color:blue\">**--Additional Resources--**</span>\n",
    "\n",
    "Changing color for seaborn lineplot: https://stackoverflow.com/questions/58432235/changing-color-of-seaborn-plot-line"
   ]
  },
  {
   "cell_type": "code",
   "execution_count": 46,
   "id": "df120133",
   "metadata": {
    "id": "df120133"
   },
   "outputs": [
    {
     "data": {
      "image/png": "[encoded data removed]",
      "text/plain": [
       "<Figure size 640x480 with 1 Axes>"
      ]
     },
     "metadata": {},
     "output_type": "display_data"
    }
   ],
   "source": [
    "# G3: your code here\n",
    "seaborn.lineplot(data = data_since_june, x = 'TestDate', \\\n",
    "                 y = 'TotalNewPositives', color = 'purple')\n",
    "plt.xticks(rotation = 60)\n",
    "plt.show()"
   ]
  },
  {
   "cell_type": "markdown",
   "id": "7515458a-33ce-440a-b422-89ec9fab242e",
   "metadata": {
    "id": "7515458a-33ce-440a-b422-89ec9fab242e"
   },
   "source": [
    "---\n",
    "<span style=\"color:blue\">**Exercise G4.**</span> (3 points) Create a line plot showing the values for `\"TotalCasesPer100k\"` by `\"TestDate\"`. Specify `linewidth` argument to make the line thicker than default (i.e. thicker than the line in **Problem G1**).\n"
   ]
  },
  {
   "cell_type": "code",
   "execution_count": 47,
   "id": "43c0c858-c7fc-4d14-a005-4bfa2e2a2fa4",
   "metadata": {
    "id": "43c0c858-c7fc-4d14-a005-4bfa2e2a2fa4"
   },
   "outputs": [
    {
     "data": {
      "image/png": "[encoded data removed]",
      "text/plain": [
       "<Figure size 640x480 with 1 Axes>"
      ]
     },
     "metadata": {},
     "output_type": "display_data"
    }
   ],
   "source": [
    "# G4: your code here:\n",
    "seaborn.lineplot(data = statewide_covid_df, x = 'TestDate', \\\n",
    "                 y = 'TotalCasesPer100k', linewidth = 3)\n",
    "plt.xticks(rotation = 60)\n",
    "plt.show()"
   ]
  },
  {
   "cell_type": "markdown",
   "id": "2e27ae09",
   "metadata": {
    "id": "2e27ae09"
   },
   "source": [
    "---\n",
    "\n",
    "<span style=\"color:blue\">**Exercise G5.**</span> (1 point) Describe any patterns you observe from the plot of Problem G3. Between G2 and G3, which do you think is more informative?\n"
   ]
  },
  {
   "cell_type": "markdown",
   "id": "36f6f996",
   "metadata": {
    "id": "36f6f996"
   },
   "source": [
    "**ENTER YOUR ANSWER HERE:** \n",
    "The plot of problem G3 fluctuates up and down but follows the same upwards trend. Towards the end of the time frame, the plot begins to flatten out and slightly decrease, though it does still while still fluctuating. The plot of problem G4 is more dramatic and has a high peak at the beginning of 2022. There are smaller peaks throughout the time frame, but they are generally steady other than the main peak. \n",
    "\n",
    "The plot for G3 displays the total number of new positives cases that meet a certain time condition (dates since June 1, 2024). The plot for G4 displays the total number of positive cases for every population of 100,000 and across all dates. \n",
    "\n",
    "I think the plot for G4 is more informative because it provides the total number of positive cases for every 100k people, which means that you can compare this number to different populations around the world. In addition, the time range is greater for G4 so you can see more data over a larger range of time. Using the plot from G4, you can see all the data for several years and compare that to other populations. The plot for G3, while also informative, only allows you to observe the number of daily positive cases for dates after June 1, 2024. "
   ]
  },
  {
   "cell_type": "markdown",
   "id": "eafcaf21",
   "metadata": {
    "id": "eafcaf21"
   },
   "source": [
    "---\n",
    "\n",
    "<span style=\"color:blue\">**Exercise G6.**</span> (3 points)\n",
    "\n",
    "Use the `.corr()` DataFrame function to display the correlations between `TotalNewPositives`, `TotalCasesPer100k`,  `TotalCasesPer100k7DayAvg`, `Year`, and `Quarter`. Display the result of this function (i.e. by typing `corr_df` instead of printing the result using `print(corr_df)`)."
   ]
  },
  {
   "cell_type": "code",
   "execution_count": 51,
   "id": "6869744e",
   "metadata": {
    "id": "6869744e",
    "scrolled": true
   },
   "outputs": [
    {
     "data": {
      "text/html": [
       "<div>\n",
       "<style scoped>\n",
       "    .dataframe tbody tr th:only-of-type {\n",
       "        vertical-align: middle;\n",
       "    }\n",
       "\n",
       "    .dataframe tbody tr th {\n",
       "        vertical-align: top;\n",
       "    }\n",
       "\n",
       "    .dataframe thead th {\n",
       "        text-align: right;\n",
       "    }\n",
       "</style>\n",
       "<table border=\"1\" class=\"dataframe\">\n",
       "  <thead>\n",
       "    <tr style=\"text-align: right;\">\n",
       "      <th></th>\n",
       "      <th>TotalNewPositives</th>\n",
       "      <th>TotalCasesPer100k</th>\n",
       "      <th>TotalCasesPer100k7DayAvg</th>\n",
       "      <th>Year</th>\n",
       "      <th>Quarter</th>\n",
       "    </tr>\n",
       "  </thead>\n",
       "  <tbody>\n",
       "    <tr>\n",
       "      <th>TotalNewPositives</th>\n",
       "      <td>1.000000</td>\n",
       "      <td>0.999973</td>\n",
       "      <td>0.912120</td>\n",
       "      <td>-0.133917</td>\n",
       "      <td>0.010137</td>\n",
       "    </tr>\n",
       "    <tr>\n",
       "      <th>TotalCasesPer100k</th>\n",
       "      <td>0.999973</td>\n",
       "      <td>1.000000</td>\n",
       "      <td>0.911977</td>\n",
       "      <td>-0.134877</td>\n",
       "      <td>0.009168</td>\n",
       "    </tr>\n",
       "    <tr>\n",
       "      <th>TotalCasesPer100k7DayAvg</th>\n",
       "      <td>0.912120</td>\n",
       "      <td>0.911977</td>\n",
       "      <td>1.000000</td>\n",
       "      <td>-0.127016</td>\n",
       "      <td>-0.049382</td>\n",
       "    </tr>\n",
       "    <tr>\n",
       "      <th>Year</th>\n",
       "      <td>-0.133917</td>\n",
       "      <td>-0.134877</td>\n",
       "      <td>-0.127016</td>\n",
       "      <td>1.000000</td>\n",
       "      <td>-0.208148</td>\n",
       "    </tr>\n",
       "    <tr>\n",
       "      <th>Quarter</th>\n",
       "      <td>0.010137</td>\n",
       "      <td>0.009168</td>\n",
       "      <td>-0.049382</td>\n",
       "      <td>-0.208148</td>\n",
       "      <td>1.000000</td>\n",
       "    </tr>\n",
       "  </tbody>\n",
       "</table>\n",
       "</div>"
      ],
      "text/plain": [
       "                          TotalNewPositives  TotalCasesPer100k  \\\n",
       "TotalNewPositives                  1.000000           0.999973   \n",
       "TotalCasesPer100k                  0.999973           1.000000   \n",
       "TotalCasesPer100k7DayAvg           0.912120           0.911977   \n",
       "Year                              -0.133917          -0.134877   \n",
       "Quarter                            0.010137           0.009168   \n",
       "\n",
       "                          TotalCasesPer100k7DayAvg      Year   Quarter  \n",
       "TotalNewPositives                         0.912120 -0.133917  0.010137  \n",
       "TotalCasesPer100k                         0.911977 -0.134877  0.009168  \n",
       "TotalCasesPer100k7DayAvg                  1.000000 -0.127016 -0.049382  \n",
       "Year                                     -0.127016  1.000000 -0.208148  \n",
       "Quarter                                  -0.049382 -0.208148  1.000000  "
      ]
     },
     "execution_count": 51,
     "metadata": {},
     "output_type": "execute_result"
    }
   ],
   "source": [
    "# G6: your code here\n",
    "correlation = statewide_covid_df.loc[:, ['TotalNewPositives', \\\n",
    "    'TotalCasesPer100k', 'TotalCasesPer100k7DayAvg', 'Year', 'Quarter']]\n",
    "correlation.corr()"
   ]
  },
  {
   "cell_type": "markdown",
   "id": "108ca5de-f821-4754-a4a1-f693a87ad133",
   "metadata": {
    "id": "108ca5de-f821-4754-a4a1-f693a87ad133"
   },
   "source": [
    "---\n",
    "\n",
    "<span style=\"color:blue\">**Exercise G7.**</span> (1 point) In no more than three sentences, comment on the relationship between (1) `TotalNewPositives` and `Year` and (2) `TotalNewPositives` and `TotalCasesPer100k`. Are the results that you observe expected?\n"
   ]
  },
  {
   "cell_type": "markdown",
   "id": "b8bf765d-bf85-4e0b-bf1b-09f8302b9101",
   "metadata": {
    "id": "b8bf765d-bf85-4e0b-bf1b-09f8302b9101"
   },
   "source": [
    "**ENTER YOUR ANSWER HERE:**\n",
    "(1) As time progresses (as the Year increases and becomes closer to the present day), the number of Total New Positives decreases, and there is a negative correlation. (2) As the number of Total New Positives increases, the number of Total Cases Per 100k also increases though at a slightly different (or slower) rate. This is a positive, but not perfect, correlation. "
   ]
  }
 ],
 "metadata": {
  "colab": {
   "provenance": []
  },
  "kernelspec": {
   "display_name": "Python 3 (ipykernel)",
   "language": "python",
   "name": "python3"
  },
  "language_info": {
   "codemirror_mode": {
    "name": "ipython",
    "version": 3
   },
   "file_extension": ".py",
   "mimetype": "text/x-python",
   "name": "python",
   "nbconvert_exporter": "python",
   "pygments_lexer": "ipython3",
   "version": "3.12.2"
  }
 },
 "nbformat": 4,
 "nbformat_minor": 5
}
