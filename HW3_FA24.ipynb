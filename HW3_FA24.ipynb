{
 "cells": [
  {
   "cell_type": "markdown",
   "metadata": {
    "id": "5zs-zzbHge7d"
   },
   "source": [
    "# INFO 2950 Fall 2024 Homework 3"
   ]
  },
  {
   "cell_type": "markdown",
   "metadata": {
    "id": "zBX8_pjiMAW3"
   },
   "source": [
    "For each answer code cell, **do not** erase the line stating `#A1: your code here`; instead, write your answer code directly below the line.\n",
    "\n",
    "When you turn in this homework, all cells must be executed and the notebook saved with output included. You must also save your **fully executed notebook** as a pdf following the instructions in the Student Handbook posted on Canvas > Modules > Course Policies.\n",
    "\n",
    "A **fully executed notebook** means that you should be seeing the expected output printed below the cell after you click \"Restart Kernel and Run All Cells.\" *If any cell in the PDF of your notebook does not have the expected output printed below it, it will not be considered fully executed and you will not receive points for the questions in that cell.*\n",
    "\n",
    "**If you use any sources aside from the standard NumPy documentation, you must cite the sources (e.g., StackOverflow links) used to answer the below questions. If you use ChatGPT, you must include proof of the prompt you used, as well as an explanation of why the resulting code is correct.**\n",
    "\n",
    "The goal of this homework is to get hands-on experience with linear regression in two real-world datasets. You will investigate covariance, correlation, linear regression, and logistic regression. Througout the problem set, you will be asked to interpret your results.\n",
    "\n",
    "Part of this homework will involve practicing how to use online resources. *Nobody* remembers everything. There is no level of experience that will allow you to never use documentation and question-answer forums. The key is to use these in ways that help you grow your skills, not in ways that prevent you from growing. They also provide an opportunity to express gratitude for people who helped you."
   ]
  },
  {
   "cell_type": "markdown",
   "metadata": {
    "id": "6frBFW3EL52Z"
   },
   "source": [
    "**NetID:** kl739"
   ]
  },
  {
   "cell_type": "markdown",
   "metadata": {
    "id": "IRRwGqgkMJ1H"
   },
   "source": [
    "---\n",
    "\n",
    "### Problem 0\n",
    "Do not move or modify this cell, we use it for automated homework analysis.\n",
    "\n",
    "**This problem is for you to use to cite your sources.**\n",
    "\n",
    "You will update this problem over the course of the homework. Describe problems, error messages, and bugs you encountered, and how you fixed or addressed them. List URLs for any online resources (like Stack Overflow) you found useful and mention fellow students, TAs, or other people who helped you. If you use ChatGPT, you must include proof of the prompt you used, as well as an explanation of why the resulting code is correct. If you do not appropriately fill out Problem 0, you will receive 0 points on the entire homework assignment.\n"
   ]
  },
  {
   "cell_type": "markdown",
   "metadata": {
    "id": "yzqFxy-zMHQD"
   },
   "source": [
    "**ADD YOUR SOURCES HERE**\n",
    "\n",
    "---"
   ]
  },
  {
   "cell_type": "markdown",
   "metadata": {
    "id": "RN4l7ilvi0JI"
   },
   "source": [
    "# Part 0: Import Packages"
   ]
  },
  {
   "cell_type": "code",
   "execution_count": 1,
   "metadata": {
    "id": "qPjioQnbge7g"
   },
   "outputs": [],
   "source": [
    "import numpy as np\n",
    "import pandas as pd\n",
    "import matplotlib.pyplot as plt\n",
    "import seaborn as sns\n",
    "import datetime\n",
    "from sklearn.linear_model import LinearRegression, LogisticRegression\n",
    "import duckdb\n",
    "import requests\n",
    "from bs4 import BeautifulSoup\n",
    "import time"
   ]
  },
  {
   "cell_type": "markdown",
   "metadata": {
    "id": "vyjlYHnv3GwD"
   },
   "source": [
    "**Note:** If you receive a `ModuleNotFoundError: No module named \"sklearn\"` when you run the import statements above, you should:\n",
    "1. Uncomment and run the below cell: `%pip install scikit-learn`\n",
    "2. Click 'Kernel > Restart Kernel and Clear Outputs of All Cells...'\n",
    "4. Rerun the import statements"
   ]
  },
  {
   "cell_type": "code",
   "execution_count": 2,
   "metadata": {
    "id": "GaKENuwn3GwE"
   },
   "outputs": [
    {
     "name": "stdout",
     "output_type": "stream",
     "text": [
      "Requirement already satisfied: scikit-learn in /opt/anaconda3/envs/info2950/lib/python3.12/site-packages (1.5.2)\n",
      "Requirement already satisfied: numpy>=1.19.5 in /opt/anaconda3/envs/info2950/lib/python3.12/site-packages (from scikit-learn) (1.26.4)\n",
      "Requirement already satisfied: scipy>=1.6.0 in /opt/anaconda3/envs/info2950/lib/python3.12/site-packages (from scikit-learn) (1.14.1)\n",
      "Requirement already satisfied: joblib>=1.2.0 in /opt/anaconda3/envs/info2950/lib/python3.12/site-packages (from scikit-learn) (1.4.2)\n",
      "Requirement already satisfied: threadpoolctl>=3.1.0 in /opt/anaconda3/envs/info2950/lib/python3.12/site-packages (from scikit-learn) (3.5.0)\n",
      "Note: you may need to restart the kernel to use updated packages.\n"
     ]
    }
   ],
   "source": [
    "%pip install scikit-learn"
   ]
  },
  {
   "cell_type": "markdown",
   "metadata": {
    "id": "z22fsc4Bge7h"
   },
   "source": [
    "---\n",
    "\n",
    "### Goal: Data Cleaning\n",
    "For this homework, you'll be using a dataset about number of yearly visitors to United States national parks.\n",
    "\n",
    "### Problem A1 (1 points)\n",
    "Load in `national_parks_visitors.csv` with `pandas`. Name the dataframe `national_park_df`. Print the shape of the dataframe."
   ]
  },
  {
   "cell_type": "code",
   "execution_count": 3,
   "metadata": {
    "id": "VC09vViZge7i"
   },
   "outputs": [
    {
     "name": "stdout",
     "output_type": "stream",
     "text": [
      "(231, 21)\n"
     ]
    }
   ],
   "source": [
    "## A1: your code here\n",
    "national_park_df = pd.read_csv('national_parks_visitors.csv')\n",
    "print(national_park_df.shape)"
   ]
  },
  {
   "cell_type": "markdown",
   "metadata": {
    "id": "pIGGANDZwCZx"
   },
   "source": [
    "**A1 Expected Output**:\n",
    "\n",
    "```\n",
    "(231, 21)\n",
    "```"
   ]
  },
  {
   "cell_type": "markdown",
   "metadata": {
    "id": "1WjERtoFge7j"
   },
   "source": [
    "---\n",
    "\n",
    "### Problem A2 (2 points)\n",
    "Convert the `national_park_df` dataframe to tidy (i.e. \"narrow\" or \"long\") format. The resulting dataframe columns should be `ParkName`, `ParkType`, `Region`, `State`, `Acres`, `Year`, and `Visitors`. We'd recommend you use the [`pd.melt()`](https://pandas.pydata.org/docs/reference/api/pandas.melt.html) function to do this. Print the shape of the dataframe. Display the first five rows of the dataframe."
   ]
  },
  {
   "cell_type": "code",
   "execution_count": 4,
   "metadata": {
    "id": "6FQLmfsbge7k"
   },
   "outputs": [
    {
     "name": "stdout",
     "output_type": "stream",
     "text": [
      "(3696, 7)\n",
      "               ParkName                  ParkType         Region State  \\\n",
      "0             Acadia NP             National Park      Northeast    ME   \n",
      "1             Adams NHP  National Historical Park      Northeast    MA   \n",
      "2  Agate Fossil Beds NM         National Monument        Midwest    NE   \n",
      "3           Amistad NRA  National Recreation Area  Intermountain    TX   \n",
      "4     Andersonville NHS    National Historic Site      Southeast    GA   \n",
      "\n",
      "      Acres  Year   Visitors  \n",
      "0  49071.40  2023  3879890.0  \n",
      "1     23.82  2023    25229.0  \n",
      "2   3057.87  2023    15562.0  \n",
      "3  62945.15  2023   836733.0  \n",
      "4    515.61  2023    77740.0  \n"
     ]
    }
   ],
   "source": [
    "## A2: your code here\n",
    "national_park_df = pd.melt(national_park_df, id_vars = \\\n",
    "                ['ParkName', 'ParkType', 'Region', 'State', 'Acres'], \\\n",
    "            value_vars = ['2023', '2022', '2021', '2020','2019', '2018', \\\n",
    "                 '2017', '2016', '2015', '2014', '2013', '2012', \\\n",
    "                 '2011', '2010', '2009', '2008'], \\\n",
    "            var_name = 'Year', value_name = 'Visitors')\n",
    "print(national_park_df.shape)\n",
    "print(national_park_df.head())"
   ]
  },
  {
   "cell_type": "markdown",
   "metadata": {
    "id": "K6NvWnj03GwF"
   },
   "source": [
    "**A2 Expected Output**:\n",
    "\n",
    "```\n",
    "(3696, 7)\n",
    "               ParkName                  ParkType          Region State  \\\n",
    "0             Acadia NP             National Park      Northeast     ME   \n",
    "1             Adams NHP  National Historical Park      Northeast     MA   \n",
    "2  Agate Fossil Beds NM         National Monument        Midwest     NE   \n",
    "3           Amistad NRA  National Recreation Area  Intermountain     TX   \n",
    "4     Andersonville NHS    National Historic Site      Southeast     GA   \n",
    "\n",
    "      Acres  Year   Visitors  \n",
    "0  49071.40  2023  3879890.0  \n",
    "1     23.82  2023    25229.0  \n",
    "2   3057.87  2023    15562.0  \n",
    "3  62945.15  2023   836733.0  \n",
    "4    515.61  2023    77740.0  \n",
    "```\n"
   ]
  },
  {
   "cell_type": "markdown",
   "metadata": {
    "id": "GFu59Vcoge7l"
   },
   "source": [
    "---\n",
    "\n",
    "### Problem A3 (1 points)\n",
    "Convert data in the `Year` column to an `int`. Print the `dtype` of the `Year` column before and after you convert it."
   ]
  },
  {
   "cell_type": "code",
   "execution_count": 5,
   "metadata": {
    "id": "CT0lJol2ge7l"
   },
   "outputs": [
    {
     "name": "stdout",
     "output_type": "stream",
     "text": [
      "object\n",
      "int64\n"
     ]
    }
   ],
   "source": [
    "## A3: your code here\n",
    "print(national_park_df['Year'].dtype)\n",
    "print(national_park_df['Year'].astype(int).dtype)"
   ]
  },
  {
   "cell_type": "markdown",
   "metadata": {
    "id": "T4FhSe_t3GwF"
   },
   "source": [
    "**A3 Expected Output:**  \n",
    "\n",
    "```\n",
    "object\n",
    "int64\n",
    "```\n",
    "\n",
    "*Note: it is also fine if you get `int32` instead of `int64`. This means your machine is working with 4 bytes instead of 8 bytes.*\n",
    "\n"
   ]
  },
  {
   "cell_type": "markdown",
   "metadata": {
    "id": "RkJDOHHIge7l"
   },
   "source": [
    "---\n",
    "\n",
    "### Problem A4 (3 points)\n",
    "Use `sns.lineplot` to visualize the number of `Visitors` of `National Parks` in the `Northeast` Region as a time series.\n",
    "\n",
    "*Hint: not every park in the dataset has `ParkType == National Park` - make sure you're filtering on all relevant variables!*\n",
    "\n",
    "Make sure your plot follows the 5 specifications below:\n",
    "1. Use `Year` as the x-axis and `Visitors` as the y-axis.\n",
    "2. Visualize this data as a line plot with markers (Set parameter `marker='o'`).\n",
    "3. Use a different color for each `ParkName`. You can look up the `hue` parameter in `seaborn`'s [official documentation](https://seaborn.pydata.org/generated/seaborn.lineplot.html)\n",
    "4. Let's put the legend outside of the graph so that it's easier to read. You can look up the `move_legend` function in `seaborn`'s [official documentation](https://seaborn.pydata.org/generated/seaborn.move_legend.html)\n",
    "5. Lastly, use the `pyplot` function [`xticks`](https://matplotlib.org/stable/api/_as_gen/matplotlib.pyplot.xticks.html) to rotate the tick labels for the dates in the x-axis by 45 degrees.\n",
    "\n",
    "*Note: if you don't want to print out a bunch of extra text when plotting, you can put a `;` at the end of your code.*"
   ]
  },
  {
   "cell_type": "code",
   "execution_count": 6,
   "metadata": {
    "id": "RGUY6qu5ge7l"
   },
   "outputs": [
    {
     "data": {
      "image/png": "[encoded data removed]",
      "text/plain": [
       "<Figure size 640x480 with 1 Axes>"
      ]
     },
     "metadata": {},
     "output_type": "display_data"
    }
   ],
   "source": [
    "## A4: your code here\n",
    "visual_data = national_park_df[(national_park_df['ParkType'] \\\n",
    "                    == 'National Park') & \\\n",
    "                    (national_park_df['Region'] == 'Northeast')]\n",
    "plot = sns.lineplot(data = visual_data, x = 'Year', y = 'Visitors'\\\n",
    "                , marker = 'o', hue = 'ParkName', legend = 'auto')\n",
    "sns.move_legend(plot, 'upper left', bbox_to_anchor=(1, 1))\n",
    "plt.xticks(rotation = 45)\n",
    "plt.show()"
   ]
  },
  {
   "cell_type": "markdown",
   "metadata": {
    "id": "KYDuIJH2ge7m"
   },
   "source": [
    "---\n",
    "\n",
    "### Problem A5 (2 points)\n",
    "Examine the plot from Problem A4. Have you noticed any missing data? Report `ParkName`, `Year`."
   ]
  },
  {
   "cell_type": "markdown",
   "metadata": {
    "id": "M5MV0scsMlQE"
   },
   "source": [
    "**A5: Your answer here.**  \n",
    "The number of visitors for Acadia NP in 2013 is missing. "
   ]
  },
  {
   "cell_type": "markdown",
   "metadata": {
    "id": "hP0T37KSMoCf"
   },
   "source": [
    "---\n",
    "\n",
    "### Problem A6 (2 points)\n",
    "\n",
    "The missing number of `Visitors` from `ParkName`, `Year` identified in Problem A5 is `2,254,922`.\n",
    "\n",
    "Use `pd.DataFrame.loc` to set the correct value in the national parks dataframe. Print the mean of `Visitors`, rounded to the second decimal place using `round`.\n",
    "\n",
    "**Additional Resources:**  \n",
    "- `pd.DataFrame.loc`: https://pandas.pydata.org/docs/reference/api/pandas.DataFrame.loc.html\n",
    "- `round`: https://docs.python.org/3/library/functions.html#round"
   ]
  },
  {
   "cell_type": "code",
   "execution_count": 7,
   "metadata": {
    "id": "TJ_i-ywWge7m"
   },
   "outputs": [
    {
     "name": "stdout",
     "output_type": "stream",
     "text": [
      "902907.13\n"
     ]
    }
   ],
   "source": [
    "## A6: your code here\n",
    "national_park_df.loc[(national_park_df['ParkName'] == 'Acadia NP') \\\n",
    "        & (national_park_df['Year'] == '2013'), 'Visitors'] = 2254922\n",
    "print(round(national_park_df['Visitors'].mean(), 2))"
   ]
  },
  {
   "cell_type": "markdown",
   "metadata": {
    "id": "70Cvj-ZX3GwG"
   },
   "source": [
    "**A6 Expected Output:**\n",
    "```\n",
    "902907.13\n",
    "```"
   ]
  },
  {
   "cell_type": "markdown",
   "metadata": {
    "id": "ZuP8gp5Oge7m"
   },
   "source": [
    "---\n",
    "\n",
    "### Problem A7 (3 points)\n",
    "\n",
    "Visualize the number of `Visitors` of national parks in `Northeast` Region as a time series again. Use the same specification as in **Problem A4**.\n",
    "\n",
    "Additionally, use the `pyplot` function `title` to give the plot a title: `\"Number of Visitors to National Parks in the Northeast Region\"`."
   ]
  },
  {
   "cell_type": "code",
   "execution_count": 8,
   "metadata": {
    "id": "ZA1V8Mq2MxnH"
   },
   "outputs": [
    {
     "data": {
      "image/png": "[encoded data removed]",
      "text/plain": [
       "<Figure size 640x480 with 1 Axes>"
      ]
     },
     "metadata": {},
     "output_type": "display_data"
    }
   ],
   "source": [
    "## A7: your code here\n",
    "visual_data = national_park_df[(national_park_df['ParkType'] \\\n",
    "                    == 'National Park') & \\\n",
    "                    (national_park_df['Region'] == 'Northeast')]\n",
    "plot = sns.lineplot(data = visual_data, x = 'Year', y = 'Visitors'\n",
    "                , marker = 'o', hue = 'ParkName', legend = 'auto')\n",
    "sns.move_legend(plot, 'upper left', bbox_to_anchor=(1, 1))\n",
    "plt.title(\"Number of Visitors to National Parks in the Northeast Region\")\n",
    "plt.xticks(rotation = 45)\n",
    "plt.show()"
   ]
  },
  {
   "cell_type": "markdown",
   "metadata": {
    "id": "8Iuu8M-AM0iU"
   },
   "source": [
    "---\n",
    "\n",
    "### Problem A8 (2 points)\n",
    "\n",
    "In a couple sentences, point out two things you learned about national parks in the Northeast by visualizing the time series data."
   ]
  },
  {
   "cell_type": "markdown",
   "metadata": {
    "id": "5F65tdF4ge7m"
   },
   "source": [
    "**A8: Your answer here.** (1) The most popular national park in the Northeast region is Acadia NP. (2) While both Acadia NP and New River Gorge NP & PRES experienced a decrease in visitors in 2020 (during COVID), Shenandoah NP actually had an increase in visitors in 2020. \n"
   ]
  },
  {
   "cell_type": "markdown",
   "metadata": {
    "id": "v-xZgEp9ge7n"
   },
   "source": [
    "---\n",
    "\n",
    "### Goal: Correlation vs Covariance\n",
    "\n",
    "### Problem B1 (2 points)\n",
    "For parks with `ParkType == 'National Park'` only, calculate the correlation between each pair of variables in this set: `Year`, `Visitors`, and `Acres`. You can do this easily in correlation matrix form using `pd.DataFrame.corr()`. Print the correlation matrix.\n",
    "\n",
    "**Additional Resources**\n",
    "\n",
    "- `pd.DataFrame.corr()`: https://pandas.pydata.org/docs/reference/api/pandas.DataFrame.corr.html"
   ]
  },
  {
   "cell_type": "code",
   "execution_count": 9,
   "metadata": {
    "id": "FPyKCNfYge7n"
   },
   "outputs": [
    {
     "name": "stdout",
     "output_type": "stream",
     "text": [
      "                  Year  Visitors         Acres\n",
      "Year      1.000000e+00  0.089494  6.427938e-16\n",
      "Visitors  8.949362e-02  1.000000  2.384902e-01\n",
      "Acres     6.427938e-16  0.238490  1.000000e+00\n"
     ]
    }
   ],
   "source": [
    "# B1: your code here\n",
    "corr_of_np = national_park_df[national_park_df['ParkType'] \\\n",
    "                                == 'National Park']\n",
    "print(corr_of_np[['Year', 'Visitors', 'Acres']].corr())"
   ]
  },
  {
   "cell_type": "markdown",
   "metadata": {
    "id": "P_rKt6CV3GwG"
   },
   "source": [
    "**B1 Expected Output:**\n",
    "\n",
    "```\n",
    "                  Year  Visitors         Acres\n",
    "Year      1.000000e+00  0.089494  6.427938e-16\n",
    "Visitors  8.949362e-02  1.000000  2.384902e-01\n",
    "Acres     6.427938e-16  0.238490  1.000000e+00\n",
    "```\n",
    "\n",
    "*Note: different machines may calculate these numbers slightly differently. If you find that almost (but not all) of your values match our example output, it is probably related to the machine you're using.  We will not deduct points for this.*"
   ]
  },
  {
   "cell_type": "markdown",
   "metadata": {
    "id": "lFzvkuFzge7n"
   },
   "source": [
    "---\n",
    "\n",
    "### Problem B2 (2 points)\n",
    "For parks with `ParkType == 'National Park'` only, calculate the covariance between each pair of variables in this set: `Year`, `Visitors`, and `Acres`. You can do this easily in covariance matrix form using `pd.DataFrame.cov()`. Print the covariance matrix."
   ]
  },
  {
   "cell_type": "code",
   "execution_count": 10,
   "metadata": {
    "id": "QSZlXXb0ge7n"
   },
   "outputs": [
    {
     "name": "stdout",
     "output_type": "stream",
     "text": [
      "                  Year      Visitors         Acres\n",
      "Year      2.127714e+01  5.040804e+05 -5.947143e-12\n",
      "Visitors  5.040804e+05  1.491084e+12  1.861916e+11\n",
      "Acres    -5.947143e-12  1.861916e+11  4.087679e+11\n"
     ]
    }
   ],
   "source": [
    "# B2: your code here\n",
    "print(corr_of_np[['Year', 'Visitors', 'Acres']].cov())"
   ]
  },
  {
   "cell_type": "markdown",
   "metadata": {
    "id": "OSMEdX8d3GwG"
   },
   "source": [
    "**B2 Expected Output:**\n",
    "\n",
    "```\n",
    "                  Year      Visitors         Acres\n",
    "Year      2.127714e+01  5.040804e+05 -5.947143e-12\n",
    "Visitors  5.040804e+05  1.491084e+12  1.861916e+11\n",
    "Acres    -5.947143e-12  1.861916e+11  4.087679e+11\n",
    "```\n",
    "\n",
    "*Note: different machines may calculate these numbers slightly differently. If you find that almost (but not all) of your values match our example output, it is probably related to the machine you're using.  We will not deduct points for this.*"
   ]
  },
  {
   "cell_type": "markdown",
   "metadata": {
    "id": "kkNeMqobge7n"
   },
   "source": [
    "---\n",
    "\n",
    "### Problem B3 (2 points)\n",
    "\n",
    "In one sentence each:\n",
    "- Describe the relationship between `Year` and `Visitors`.\n",
    "- How does this compare to the correlation between `Acres` and `Visitors`?\n",
    "- Are you surprised that the correlation between `Year` and `Acres` is so small? Why or why not?\n",
    "- Why are the correlation and covariance values so different?"
   ]
  },
  {
   "cell_type": "markdown",
   "metadata": {
    "id": "Aw5PrMgaNJK0"
   },
   "source": [
    "**B3: Your answer here.** \n",
    "Since the correlation between Year and Visitors is close to 0, this means that the number of visitors per year as time progresses is not heavily impacted by the year and there is no linear relationship between the two.\n",
    "On the other hand, the correlation between Acres and Visitors is ~0.24 (which is also close to 0), meaning that there is a slightly greater linear relationship and the amount of Acres slightly affects the number of visitors. \n",
    "I am not very surprised that the correlation between Year and Acres is so small because what year it is currently rarely affects the amount of acres a national park has. \n",
    "Covariance values depend on the units of measurement, while correlation values are normalized to the same unit. "
   ]
  },
  {
   "cell_type": "markdown",
   "metadata": {
    "id": "1DX4sYigge7o"
   },
   "source": [
    "---\n",
    "\n",
    "### Goal: Calculate averages with GroupBy\n",
    "\n",
    "### Problem C1 (2 points)\n",
    "Using pandas, calculate the average number of `Visitors` for each `ParkType` in each `Year`.\n",
    "\n",
    "*Hint #1:* You might find it helpful to first create a dataframe called avg_year_parktype_df that you can use as an input to the sns.lineplot function\n",
    "\n",
    "*Hint #2:* When creating your avg_year_parktype_df, remember that you can group by multiple variables!\n",
    "\n",
    "*Hint #3:* You may find it helpful to reset the index after doing this calculation, in order to select the columns that you will need for plotting.\n",
    "\n",
    "Use `sns.lineplot` to visualize the average yearly number of `Visitors` of `National Parks` by `ParkType` as a time series.\n",
    "\n",
    "Make sure your plot follows the 5 specifications below:\n",
    "1. Use `Year` as the x-axis and `Visitors` as the y-axis.\n",
    "2. Visualize this data as a line plot with markers (Set parameter `marker='o'`).\n",
    "3. Use a different color for each `ParkType`. You can look up the `hue` parameter in `seaborn`'s [official documentation](https://seaborn.pydata.org/generated/seaborn.lineplot.html)\n",
    "4. Let's put the legend outside of the graph so that it's easier to read. You can look up the `move_legend` function in `seaborn`'s [official documentation](https://seaborn.pydata.org/generated/seaborn.move_legend.html)\n",
    "5. Lastly, use the `pyplot` function [`xticks`](https://matplotlib.org/stable/api/_as_gen/matplotlib.pyplot.xticks.html) to rotate the tick labels for the dates in the x-axis by 45 degrees.\n",
    "\n",
    "The graph you produce should have one line per park type. Each line should display the mean number of visitors ($y$ value) for each year ($x$ value) for that line's park type."
   ]
  },
  {
   "cell_type": "code",
   "execution_count": 11,
   "metadata": {
    "id": "utvqVnnwNOk8"
   },
   "outputs": [
    {
     "data": {
      "image/png": "[encoded data removed]",
      "text/plain": [
       "<Figure size 640x480 with 1 Axes>"
      ]
     },
     "metadata": {},
     "output_type": "display_data"
    }
   ],
   "source": [
    "# C1: your code here\n",
    "avg_year_parktype_df = national_park_df.groupby(['ParkType', \\\n",
    "                'Year'])['Visitors'].mean().reset_index()\n",
    "graph_visitor_avg = sns.lineplot(data = avg_year_parktype_df, \\\n",
    "                x = 'Year', y = 'Visitors', marker = 'o', hue = 'ParkType')\n",
    "sns.move_legend(graph_visitor_avg, 'upper left', bbox_to_anchor=(1, 1))\n",
    "plt.xticks(rotation = 45)\n",
    "plt.show()"
   ]
  },
  {
   "cell_type": "markdown",
   "metadata": {
    "id": "6ws2BY-V3GwH"
   },
   "source": [
    "---\n",
    "\n",
    "### Problem C2 (2 points)\n",
    "\n",
    "In one sentence each:\n",
    "- What `ParkType` has the most average yearly visitors?\n",
    "- Why do you think that is? (You might want to look at the `ParkNames` included in the `ParkType` you identified above to help answer this.)"
   ]
  },
  {
   "cell_type": "markdown",
   "metadata": {
    "id": "lB82E5_c3GwH"
   },
   "source": [
    "**C2: Your answer here.** National Parkways have the most average yearly visitors. This may be because there are only two national parks that are classified as National Parkways, which reduces the chances for outliers in the number of visitors at each park. \n"
   ]
  },
  {
   "cell_type": "markdown",
   "metadata": {
    "id": "vl2thzU6ge7o"
   },
   "source": [
    "---\n",
    "\n",
    "### Problem C3 (3 points)\n",
    "**For the following problems, we will focus on parks with `ParkType == National Park` only. Create a new dataframe called `np_df_parks_only` that only contains parks from the `national_park_df` dataframe with `ParkType == National Park`.**\n",
    "\n",
    "Using SQL, calculate the *total* number of visitors each year to parks using the new `np_df_parks_only` dataframe. Save the SQL output with the total number of visitors as a new dataframe called `yearly_sum_df`. Print the resulting dataframe. Make sure your results are printed in descending order of year.\n",
    "\n",
    "*Note:* Remember to use a backslash `\\` to break up long lines of SQL code."
   ]
  },
  {
   "cell_type": "code",
   "execution_count": 12,
   "metadata": {
    "id": "db4P_204ge7o"
   },
   "outputs": [
    {
     "name": "stdout",
     "output_type": "stream",
     "text": [
      "    Year    Visitors\n",
      "0   2023  70104579.0\n",
      "1   2022  67020383.0\n",
      "2   2021  69606122.0\n",
      "3   2020  49722916.0\n",
      "4   2019  68930907.0\n",
      "5   2018  67147809.0\n",
      "6   2017  69072706.0\n",
      "7   2016  67585393.0\n",
      "8   2015  61668514.0\n",
      "9   2014  56767085.0\n",
      "10  2013  53359813.0\n",
      "11  2012  54850944.0\n",
      "12  2011  53240448.0\n",
      "13  2010  55216816.0\n",
      "14  2009  53407279.0\n",
      "15  2008  51740480.0\n"
     ]
    }
   ],
   "source": [
    "# C3: your code here\n",
    "np_df_parks_only = national_park_df[national_park_df['ParkType'] \\\n",
    "                            == 'National Park']\n",
    "\n",
    "yearly_sum_df = duckdb.sql(\"\"\"SELECT \"Year\", SUM(\"Visitors\") AS Visitors \\\n",
    "                                FROM np_df_parks_only \\\n",
    "                                GROUP BY Year \\\n",
    "                                ORDER BY Year DESC\"\"\").df()\n",
    "print(yearly_sum_df)"
   ]
  },
  {
   "cell_type": "markdown",
   "metadata": {
    "id": "Q684zGXj3GwK"
   },
   "source": [
    "**C3 Expected Output:**\n",
    "\n",
    "```\n",
    "    Year    Visitors\n",
    "0   2023  70104579.0\n",
    "1   2022  67020383.0\n",
    "2   2021  69606122.0\n",
    "3   2020  49722916.0\n",
    "4   2019  68930907.0\n",
    "5   2018  67147809.0\n",
    "6   2017  69072706.0\n",
    "7   2016  67585393.0\n",
    "8   2015  61668514.0\n",
    "9   2014  56767085.0\n",
    "10  2013  53359813.0\n",
    "11  2012  54850944.0\n",
    "12  2011  53240448.0\n",
    "13  2010  55216816.0\n",
    "14  2009  53407279.0\n",
    "15  2008  51740480.0\n",
    "```"
   ]
  },
  {
   "cell_type": "markdown",
   "metadata": {
    "id": "-is3125oNVT0"
   },
   "source": [
    "---\n",
    "\n",
    "### Problem C4 (1 point)\n",
    "Visualize the yearly total (using the `yearly_sum_df` dataframe) with a scatterplot using the `pyplot` function `plt.plot()`.\n",
    "Also, make `Year` as the x label using `plt.xlabel()` and `Total Number of Visitors` as the y label using `plt.ylabel()`."
   ]
  },
  {
   "cell_type": "code",
   "execution_count": 13,
   "metadata": {
    "id": "tvY-Qtwnge7o"
   },
   "outputs": [
    {
     "data": {
      "image/png": "[encoded data removed]",
      "text/plain": [
       "<Figure size 640x480 with 1 Axes>"
      ]
     },
     "metadata": {},
     "output_type": "display_data"
    }
   ],
   "source": [
    "# C4: your code here\n",
    "plt.plot(yearly_sum_df['Year'], yearly_sum_df['Visitors'], 'o')\n",
    "plt.xlabel('Year')\n",
    "plt.ylabel('Total Number of Visitors')\n",
    "plt.xticks(rotation = 45)\n",
    "plt.show()"
   ]
  },
  {
   "cell_type": "markdown",
   "metadata": {
    "id": "Pimm812TNZzZ"
   },
   "source": [
    "---\n",
    "\n",
    "### Problem C5 (2 points)\n",
    "In 1-2 sentences, point out two things you notice about the national park total number of visitors over time."
   ]
  },
  {
   "cell_type": "markdown",
   "metadata": {
    "id": "9vFWrACNNcVR"
   },
   "source": [
    "**C5: Your answer here.** Over time, the total number of visitors increases (with an outlier in the data occurring in 2020 due to COVID). In addition, the total number of visitors increases at a slower rate over time. "
   ]
  },
  {
   "cell_type": "markdown",
   "metadata": {
    "id": "yV7NtODlN846"
   },
   "source": [
    "---\n",
    "\n",
    "### Goal: Linear Regression\n",
    "We want to train a [scikit-learn linear regression model](https://scikit-learn.org/stable/modules/generated/sklearn.linear_model.LinearRegression.html) to predict the *total* number of visitors across all parks based on the year. In this part, use the `yearly_sum_df` dataframe you created in problem **C3**.\n",
    "\n",
    "### Problem D1 (2 points)\n",
    "It is conventional for the input data to be assigned to a variable called `X` and the output to a variable called `y`. In this case, the `Year` is the input and the number of `Visitors` is the output. You need both of these variables to be 2-d arrays, and you can either reshape with numpy or use double bracketing to achieve this. To get just the values of a series (and not the index names) you can use `.values`. Print the shape of `X` and `y`."
   ]
  },
  {
   "cell_type": "code",
   "execution_count": 14,
   "metadata": {
    "id": "IB_6Z8PuOA5N"
   },
   "outputs": [
    {
     "name": "stdout",
     "output_type": "stream",
     "text": [
      "(16, 1)\n",
      "(16, 1)\n"
     ]
    }
   ],
   "source": [
    "# D1: your code here\n",
    "X = yearly_sum_df[['Year']].values\n",
    "y = yearly_sum_df[['Visitors']].values\n",
    "print(X.shape)\n",
    "print(y.shape)"
   ]
  },
  {
   "cell_type": "markdown",
   "metadata": {
    "id": "J0htlGS73GwL"
   },
   "source": [
    "**D1 Expected Output:**\n",
    "```\n",
    "(16, 1)\n",
    "(16, 1)\n",
    "```"
   ]
  },
  {
   "cell_type": "markdown",
   "metadata": {
    "id": "vVitIC8kPFUn"
   },
   "source": [
    "---\n",
    "\n",
    "### Problem D2 (3 points)\n",
    "\n",
    "Fit your linear regression model to `X` and `y`. Name the model `visitor_model`.\n",
    "\n",
    "- Report the _slope_ of the linear regression model by using the model's `.coef_` function. Use [string formatting](https://docs.python.org/3/tutorial/inputoutput.html) to print \"The model's slope is: `your calculation`\". Round the slope number to two decimals.\n",
    "- Report the _intercept_ of the linear regression model by using the model's `.intercept_` function. Use [string formatting](https://docs.python.org/3/tutorial/inputoutput.html) to print \"The model's intecept is: `your calculation`\". Round the intercept number to two decimals.\n",
    "\n",
    "*Hint #1: Play around with indexing/bracketing to print only the number, without brackets.*\n",
    "\n",
    "*Hint #2: Try using [numpy's `round` function](https://numpy.org/doc/stable/reference/generated/numpy.round.html) to round your output - you should not be rounding manually!*"
   ]
  },
  {
   "cell_type": "code",
   "execution_count": 15,
   "metadata": {
    "id": "D6gvteY5OCfg"
   },
   "outputs": [
    {
     "name": "stdout",
     "output_type": "stream",
     "text": [
      "The model's slope is: 1160867.47\n",
      "The model's intercept is: -2279138243.92\n"
     ]
    }
   ],
   "source": [
    "# D2: your code here\n",
    "visitor_model = LinearRegression().fit(X, y)\n",
    "print(\"The model's slope is:\", round(visitor_model.coef_[0, 0], 2))\n",
    "print(\"The model's intercept is:\", \\\n",
    "      round(visitor_model.intercept_[0], 2))"
   ]
  },
  {
   "cell_type": "markdown",
   "metadata": {
    "id": "JV6ZD-0Z3GwL"
   },
   "source": [
    "**D2 Expected Output:**\n",
    "```\n",
    "The model's slope is: 1160867.47\n",
    "The model's intercept is: -2279138243.92\n",
    "```"
   ]
  },
  {
   "cell_type": "markdown",
   "metadata": {
    "id": "igkUQupMge7p"
   },
   "source": [
    "---\n",
    "\n",
    "### Problem D3 (3 points)\n",
    "Use your trained model to make predictions for years beyond the data we have.\n",
    "* Using numpy, create a new 2d array of years between 2024-2035 (inclusive, so you should have a prediction for 2024 and a prediction for 2035, plus all years between).\n",
    "* Use `visitor_model` to predict the number of visitors for these new years. Print the predicted number of visitors."
   ]
  },
  {
   "cell_type": "code",
   "execution_count": 16,
   "metadata": {
    "id": "vBKeNqHjge7p"
   },
   "outputs": [
    {
     "name": "stdout",
     "output_type": "stream",
     "text": [
      "[[70457510.5999999 ]\n",
      " [71618378.06764698]\n",
      " [72779245.53529406]\n",
      " [73940113.00294113]\n",
      " [75100980.4705882 ]\n",
      " [76261847.93823528]\n",
      " [77422715.40588236]\n",
      " [78583582.87352943]\n",
      " [79744450.34117651]\n",
      " [80905317.80882359]\n",
      " [82066185.27647018]\n",
      " [83227052.74411726]]\n",
      "[[805462.54117632]]\n"
     ]
    }
   ],
   "source": [
    "# D3: your code here\n",
    "future_years = np.array([2024, 2025, 2026, 2027, 2028, 2029, \\\n",
    "                2030, 2031, 2032, 2033, 2034, 2035]).reshape(12, 1)\n",
    "future_predictions = visitor_model.predict(future_years)\n",
    "print(future_predictions)\n",
    "\n",
    "past = np.array([[1964]])\n",
    "print(visitor_model.predict(past))"
   ]
  },
  {
   "cell_type": "markdown",
   "metadata": {
    "id": "OirUENy53GwL"
   },
   "source": [
    "**D3 Expected Output:**\n",
    "\n",
    "```\n",
    "[[177135.69463869]\n",
    " [180366.99254079]\n",
    " [183598.29044289]\n",
    " [186829.58834499]\n",
    " [190060.88624709]\n",
    " [193292.18414918]\n",
    " [196523.48205128]\n",
    " [199754.77995338]\n",
    " [202986.07785548]\n",
    " [206217.37575758]\n",
    " [209448.67365967]\n",
    " [212679.97156177]]\n",
    "```"
   ]
  },
  {
   "cell_type": "markdown",
   "metadata": {
    "id": "N-DitCAZge7p"
   },
   "source": [
    "---\n",
    "\n",
    "### Problem D4 (3 points)\n",
    "In Lecture 7, we learned how to interpret regressions by summarizing relationships between variables, making predictions, and inspecting oddities. What relationship is there between the variables `Year` and `Visitor`? How can you use this relationship to predict the years that are not available? What odd predictions do you observe?\n"
   ]
  },
  {
   "cell_type": "markdown",
   "metadata": {
    "id": "HL-P-Lhkge7p"
   },
   "source": [
    "**D4: Your answer here.**\n",
    "* As time goes on (as Year increases by 1), the number of Visitors also increases by approximately 1160867.47 visitors. \n",
    "* When X = 1900, X = 2030, and X = 2500, the number of visitors will be about -73490055, 77422715, and 623030425, respectively. \n",
    "* This model does not accurately or reasonably predict the number of Visitors when X = 1900 (or when X < 1964) as it will return a negative number of visitors, which is not possible.  "
   ]
  },
  {
   "cell_type": "markdown",
   "metadata": {
    "id": "l5xcHIfLge7p"
   },
   "source": [
    "---\n",
    "\n",
    "### Goal: Compare trends between 2 sets of parks with Linear Regression\n",
    "From this point on, **we will only work with data prior to the pandemic**. In this part, start with the `np_df_parks_only` dataframe you created in problem **C3**.\n",
    "\n",
    "We will be running two separate regressions for _most visited_ and _least visited_ parks.\n",
    "\n",
    "### Problem E1 (2 points)\n",
    "\n",
    "Using SQL, create a new dataframe from `np_df_parks_only` called `np_df_parks_only_pre_2020`, which only includes years up until 2019 and excludes years from 2020 onwards. Order by `Year` (in descending order) and then by `ParkName` (in ascending order). Print the first five rows of the resulting dataframe."
   ]
  },
  {
   "cell_type": "code",
   "execution_count": 17,
   "metadata": {
    "id": "goyl4EKSwMQr"
   },
   "outputs": [
    {
     "name": "stdout",
     "output_type": "stream",
     "text": [
      "      ParkName       ParkType         Region State      Acres  Year   Visitors\n",
      "0    Acadia NP  National Park      Northeast    ME   49071.40  2019  3437286.0\n",
      "1    Arches NP  National Park  Intermountain    UT   76678.98  2019  1659702.0\n",
      "2  Badlands NP  National Park        Midwest    SD  242755.94  2019   970998.0\n",
      "3  Big Bend NP  National Park  Intermountain    TX  801163.21  2019   463832.0\n",
      "4  Biscayne NP  National Park      Southeast    FL  172971.11  2019   708522.0\n"
     ]
    }
   ],
   "source": [
    "## E1: your code here\n",
    "np_df_parks_only_pre_2020 = duckdb.sql(\\\n",
    "    \"\"\"SELECT * \\\n",
    "        FROM np_df_parks_only \\\n",
    "        WHERE Year < '2020' \\\n",
    "        ORDER BY \"Year\" DESC, \"ParkName\"\n",
    "        \"\"\").df()\n",
    "print(np_df_parks_only_pre_2020.head())"
   ]
  },
  {
   "cell_type": "markdown",
   "metadata": {
    "id": "yHb-75zw3GwN"
   },
   "source": [
    "**E1 Expected Output:**\n",
    "```\n",
    "      ParkName       ParkType         Region State      Acres  Year   Visitors\n",
    "0    Acadia NP  National Park      Northeast    ME   49071.40  2019  3437286.0\n",
    "1    Arches NP  National Park  Intermountain    UT   76678.98  2019  1659702.0\n",
    "2  Badlands NP  National Park        Midwest    SD  242755.94  2019   970998.0\n",
    "3  Big Bend NP  National Park  Intermountain    TX  801163.21  2019   463832.0\n",
    "4  Biscayne NP  National Park      Southeast    FL  172971.11  2019   708522.0\n",
    "```"
   ]
  },
  {
   "cell_type": "markdown",
   "metadata": {
    "id": "HoYwkm3c-kii"
   },
   "source": [
    "---\n",
    "\n",
    "### Problem E2 (4 points)\n",
    "Using SQL, create a new table called `average_park_visitors_df` that groups the `np_df_parks_only_pre_2020` data by `ParkName` and finds the average number of visitors. Print the first five rows of the resulting dataframe, sorted by the average number of visitors in descending order."
   ]
  },
  {
   "cell_type": "code",
   "execution_count": 18,
   "metadata": {
    "id": "VDB4XbAWB4lJ"
   },
   "outputs": [
    {
     "name": "stdout",
     "output_type": "stream",
     "text": [
      "          ParkName      Visitors\n",
      "0  Grand Canyon NP  5.108550e+06\n",
      "1      Yosemite NP  4.033108e+06\n",
      "2   Yellowstone NP  3.679352e+06\n",
      "3          Zion NP  3.428734e+06\n",
      "4       Olympic NP  3.144111e+06\n"
     ]
    }
   ],
   "source": [
    "# E2: your code here\n",
    "average_park_visitors_df = duckdb.sql(\\\n",
    "    \"\"\"SELECT \"ParkName\", AVG(\"Visitors\") AS Visitors \\\n",
    "        FROM np_df_parks_only_pre_2020 \\\n",
    "        GROUP BY \"ParkName\" \\\n",
    "        ORDER BY \"Visitors\" DESC \\\n",
    "    \"\"\").df()\n",
    "print(average_park_visitors_df.head())"
   ]
  },
  {
   "cell_type": "markdown",
   "metadata": {
    "id": "RYvOfwbH3GwO"
   },
   "source": [
    "**E2 Expected Output:**\n",
    "```\n",
    "          ParkName      Visitors\n",
    "0  Grand Canyon NP  5.108550e+06\n",
    "1      Yosemite NP  4.033108e+06\n",
    "2   Yellowstone NP  3.679352e+06\n",
    "3          Zion NP  3.428734e+06\n",
    "4       Olympic NP  3.144111e+06\n",
    "```"
   ]
  },
  {
   "cell_type": "markdown",
   "metadata": {
    "id": "m2-okJ5f-sM9"
   },
   "source": [
    "---\n",
    "\n",
    "### Problem E3 (2 points)\n",
    "\n",
    "Using SQL, create a list of the names of the `10` parks with the highest average number of visitors. Name the list `most_visited_parks`. Similarly, create a list of the names of the `10` parks with the lowest average number of visitors in a variable called `least_visited_parks`. You can turn a `pd.Series` to a list by using the [`tolist()` function](https://pandas.pydata.org/docs/reference/api/pandas.Series.tolist.html). Print both `most_visited_parks` and `least_visited_parks`.\n",
    "\n",
    "*Hint: To select just ten parks, use the SQL [LIMIT](https://www.w3schools.com/mysql/mysql_limit.asp) keyword.*"
   ]
  },
  {
   "cell_type": "code",
   "execution_count": 19,
   "metadata": {
    "id": "qkKGWVNPB4lL"
   },
   "outputs": [
    {
     "name": "stdout",
     "output_type": "stream",
     "text": [
      "['Grand Canyon NP', 'Yosemite NP', 'Yellowstone NP', 'Zion NP', 'Olympic NP', 'Grand Teton NP', 'Acadia NP', 'Glacier NP', 'Cuyahoga Valley NP', 'Gateway Arch NP']\n",
      "['Kobuk Valley NP', 'Isle Royale NP', 'North Cascades NP', 'Dry Tortugas NP', 'Great Basin NP', 'Congaree NP', 'Pinnacles NP', 'Voyageurs NP', 'Kenai Fjords NP', 'Channel Islands NP']\n"
     ]
    }
   ],
   "source": [
    "## E3: your code here\n",
    "most_visited_parks = duckdb.sql(\\\n",
    "    \"\"\"SELECT \"ParkName\" \\\n",
    "        FROM average_park_visitors_df \\\n",
    "        ORDER BY \"Visitors\" DESC\n",
    "        LIMIT 10\"\"\").df()\n",
    "most_visited_parks = most_visited_parks['ParkName'].tolist()\n",
    "print(most_visited_parks)\n",
    "\n",
    "least_visited_parks = duckdb.sql(\\\n",
    "    \"\"\"SELECT \"ParkName\" \\\n",
    "        FROM average_park_visitors_df \\\n",
    "        ORDER BY \"Visitors\" ASC \\\n",
    "        LIMIT 10\"\"\").df()\n",
    "least_visited_parks = least_visited_parks['ParkName'].tolist()\n",
    "print(least_visited_parks)"
   ]
  },
  {
   "cell_type": "markdown",
   "metadata": {
    "id": "O8XyEuz63GwO"
   },
   "source": [
    "**E3 Expected Output:**\n",
    "```\n",
    "['Grand Canyon NP', 'Yosemite NP', 'Yellowstone NP', 'Zion NP', 'Olympic NP', 'Grand Teton NP', 'Acadia NP', 'Glacier NP', 'Cuyahoga Valley NP', 'Gateway Arch NP']\n",
    "['Kobuk Valley NP', 'Isle Royale NP', 'North Cascades NP', 'Dry Tortugas NP', 'Great Basin NP', 'Congaree NP', 'Pinnacles NP', 'Voyageurs NP', 'Kenai Fjords NP', 'Channel Islands NP']\n",
    "```"
   ]
  },
  {
   "cell_type": "markdown",
   "metadata": {
    "id": "Dc3gg6l0-wOT"
   },
   "source": [
    "---\n",
    "\n",
    "### Problem E4 (2 points)\n",
    "\n",
    "Using pandas, create two tables,\n",
    "- `most_visited_parks_df` by subsetting `np_df_parks_only_pre_2020` to only contain parks that are in the list of `most_visited_parks`.\n",
    "- `least_visited_parks_df` by subsetting `np_df_parks_only_pre_2020` to only contain parks that are in the list of `least_visited_parks`.\n",
    "\n",
    "Then, calculate the average number of visitors over all years of data prior to 2020 (i.e. the average of the `Visitors` column; you do not have to group by any variables) for the most visited set of parks and for the least visited parks.\n",
    "- Use string formatting to print \"The average number of visitors to the 10 most popular national parks: `your calculation`\". Round to two decimals.\n",
    "- Use string formatting to print \"The average number of visitors to the 10 least popular national parks: `your calculation`\". Round to two decimals.\n",
    "\n",
    "*Hint #1: You may find the pandas function [`.isin()`](https://pandas.pydata.org/docs/reference/api/pandas.Series.isin.html) useful.*\n",
    "\n",
    "*Hint #2: Try using [numpy's `round` function](https://numpy.org/doc/stable/reference/generated/numpy.round.html) to round your output - you should not be rounding manually!*"
   ]
  },
  {
   "cell_type": "code",
   "execution_count": 20,
   "metadata": {
    "id": "R-HYsRPf-yJ3"
   },
   "outputs": [
    {
     "name": "stdout",
     "output_type": "stream",
     "text": [
      "The average number of visitors to the 10 most popular national parks: 3184917.36\n",
      "The average number of visitors to the 10 least popular national parks: 143207.07\n"
     ]
    }
   ],
   "source": [
    "# E4: your code here\n",
    "most_visited_parks_df = np_df_parks_only_pre_2020\\\n",
    "    [np_df_parks_only_pre_2020['ParkName'].isin(most_visited_parks)]\n",
    "least_visited_parks_df = np_df_parks_only_pre_2020\\\n",
    "    [np_df_parks_only_pre_2020['ParkName'].isin(least_visited_parks)]\n",
    "\n",
    "print(\\\n",
    "\"The average number of visitors to the 10 most popular national parks:\",\\\n",
    "    round(most_visited_parks_df['Visitors'].mean(), 2))\n",
    "print(\\\n",
    "\"The average number of visitors to the 10 least popular national parks:\",\\\n",
    "    round(least_visited_parks_df['Visitors'].mean(), 2))"
   ]
  },
  {
   "cell_type": "markdown",
   "metadata": {
    "id": "FLlkQOMp3GwP"
   },
   "source": [
    "**E4 Expected Output:**\n",
    "\n",
    "```\n",
    "The average number of visitors to the 10 most popular national park: 3184917.36\n",
    "The average number of visitors to the 10 least popular national park: 143207.07\n",
    "```"
   ]
  },
  {
   "cell_type": "markdown",
   "metadata": {
    "id": "t59OSFbm-zjh"
   },
   "source": [
    "---\n",
    "\n",
    "### Problem E5 (3 points)\n",
    "Fit a linear regression to the `most_visited_parks_df`. Specifically, use `Year` as the input and the number of `Visitors` as the output. Calculate the slope and intercept for the most visited parks.\n",
    "- Use string formatting to print \"The model's slope is: `your calculation`\". Round to two decimals.\n",
    "- Use string formatting to print \"The model's intercept is: `your calculation`\". Round to two decimals."
   ]
  },
  {
   "cell_type": "code",
   "execution_count": 21,
   "metadata": {
    "id": "9GV7Xtqn-2iE"
   },
   "outputs": [
    {
     "name": "stdout",
     "output_type": "stream",
     "text": [
      "The model's slope is: 87540.0\n",
      "The model's intercept is: -173076873.35\n"
     ]
    }
   ],
   "source": [
    "# E5: your code here\n",
    "lin_reg_most_visited = LinearRegression().fit(most_visited_parks_df\\\n",
    "        [['Year']].values, most_visited_parks_df[['Visitors']].values)\n",
    "print(\"The model's slope is:\", \\\n",
    "      round(lin_reg_most_visited.coef_[0, 0], 2))\n",
    "print(\"The model's intercept is:\", \\\n",
    "      round(lin_reg_most_visited.intercept_[0], 2))"
   ]
  },
  {
   "cell_type": "markdown",
   "metadata": {
    "id": "BwYyR4G0i0Je"
   },
   "source": [
    "**E5 expected Output:**  \n",
    "\n",
    "```\n",
    "The model's slope is: 87540.0\n",
    "The model's intercept is: -173076873.35\n",
    "```"
   ]
  },
  {
   "cell_type": "markdown",
   "metadata": {
    "id": "o4P2p2kS-3mU"
   },
   "source": [
    "---\n",
    "\n",
    "### Problem E6 (3 points)\n",
    "Fit a linear regression to the `least_visited_parks_df`. Specifically, use `Year` as the input and the number of `Visitors` as the output. Calculate the slope and intercept for the most visited parks.\n",
    "- Use string formatting to print \"The model's slope is: `your calculation`\". Round to two decimals.\n",
    "- Use string formatting to print \"The model's intercept is: `your calculation`\". Round to two decimals."
   ]
  },
  {
   "cell_type": "code",
   "execution_count": 22,
   "metadata": {
    "id": "wqTR8xUo-5Uq"
   },
   "outputs": [
    {
     "name": "stdout",
     "output_type": "stream",
     "text": [
      "The model's slope is: 3231.3\n",
      "The model's intercept is: -6363011.26\n"
     ]
    }
   ],
   "source": [
    "# E6: your code here\n",
    "lin_reg_least_visited = LinearRegression().fit(least_visited_parks_df\\\n",
    "        [['Year']].values, least_visited_parks_df[['Visitors']].values)\n",
    "print(\"The model's slope is:\", \\\n",
    "      round(lin_reg_least_visited.coef_[0, 0], 2))\n",
    "print(\"The model's intercept is:\", \\\n",
    "      round(lin_reg_least_visited.intercept_[0], 2))"
   ]
  },
  {
   "cell_type": "markdown",
   "metadata": {
    "id": "QwSzmIM-i0Jf"
   },
   "source": [
    "**E6 Expected Output**  \n",
    "\n",
    "```\n",
    "The model's slope is: 3231.30\n",
    "The model's intercept is: -6363011.26\n",
    "```"
   ]
  },
  {
   "cell_type": "markdown",
   "metadata": {
    "id": "x3XPYKznCPW6"
   },
   "source": [
    "---\n",
    "\n",
    "### Problem E7 (2 points)\n",
    "In 1-2 sentences, compare the slope of the least visited parks to the slope of the most visited parks. Explain why these numbers are different and/or similar."
   ]
  },
  {
   "cell_type": "markdown",
   "metadata": {
    "id": "bMBja8ATCPW6"
   },
   "source": [
    "**E7: Your answer here.**  \n",
    "The slope of the least visited parks is less than the slope of the most visited parks because the number of Visitors for each Year increases at a slower rate for least visited parks than than for most visited parks. This may be because the most visited parks get more publicity and acknowledgement than the least visited parks, which leads to an increasing number of visitors each year to those parks. "
   ]
  },
  {
   "cell_type": "markdown",
   "metadata": {
    "id": "-4NaFR-El24a"
   },
   "source": [
    "---\n",
    "\n",
    "### Goal: Transformations and Logistic Regression"
   ]
  },
  {
   "cell_type": "markdown",
   "metadata": {
    "id": "ee2hUqrege7s"
   },
   "source": [
    "### Problem F1 (5 points)\n",
    "\n",
    "In class we mentioned that there are four combinations of logs for inputs and outputs (assume that $\\log(x) = \\ln(x)$):\n",
    "\n",
    "1. $y_i = \\alpha + \\beta x_i + \\epsilon_i$\n",
    "1. $y_i = \\alpha + \\beta \\log(x_i) + \\epsilon_i$\n",
    "1. $\\log(y_i) = \\alpha + \\beta x_i + \\epsilon_i$ or equivalently $y_i = e^{\\alpha + \\beta x_i + \\epsilon_i}$\n",
    "1. $\\log(y_i) = \\alpha + \\beta \\log(x_i) + \\epsilon_i$ or equivalently $y_i = e^{\\alpha + \\beta \\log(x_i) + \\epsilon_i}$\n",
    "\n",
    "Match these equations to the following statements. Remember that $e^{λ + μ} = e^\\lambda e^\\mu$.\n",
    "\n",
    "- (A) If you increase $x$ by 1, we expect $y$ to change by $\\beta$\n",
    "- (B) If you multiply $x$ by $e\\ (≈ 2.7)$, we expect $y$ to change by a factor of $e^\\beta$\n",
    "- (C) If you multiply $x$ by $e\\ (≈ 2.7)$, we expect $y$ to change by $\\beta$\n",
    "- (D) If you increase $x$ by 1, we expect $y$ to change by a factor of $e^\\beta$"
   ]
  },
  {
   "cell_type": "markdown",
   "metadata": {
    "id": "vCknyu9Wge7t"
   },
   "source": [
    "**F1: Your answer here.**\n",
    "**Match each equation (1,2,3,4) with its description (A,B,C,D).**\n",
    "\n",
    "Equation 1 matches with Description A. Equation 2 matches with Description C. Equation 3 matches with Description D. Equation 4 matches with Description B.  "
   ]
  },
  {
   "cell_type": "markdown",
   "metadata": {
    "id": "OaV6pLEEge7t"
   },
   "source": [
    "---\n",
    "\n",
    "### Problem F2 (5 points)\n",
    "\n",
    "Match the following scenarios to one of the four equations in **Problem F1**, which may be used multiple times or not at all.  Type out the equation each corresponds to (e.g. options 1-4 from F1) using Markdown.\n",
    "\n",
    "*Hint: We don't expect you to be familiar with these relationships off the top of your head! Click the links to read more about them.*\n",
    "\n",
    "|| Input | Output |\n",
    "|---| --- | --- |\n",
    "|a.| Days since deposit | [$50 that you leave in your savings account to collect compound interest](https://www.investor.gov/financial-tools-calculators/calculators/compound-interest-calculator) |\n",
    "|b.| Years from 1950-2023 | [The population of the US](https://ourworldindata.org/explorers/population-and-demography?facet=none&country=~USA&hideControls=false&Metric=Population&Sex=Both+sexes&Age+group=Total&Projection+Scenario=None) |\n",
    "|c.| Years 10,000 BCE to 2024 | [The population of the world](https://ourworldindata.org/population-growth-over-time)   |\n",
    "|d.| An animal's body mass | [The animal's metabolic rate](https://www.nature.com/scitable/knowledge/library/body-size-and-temperature-why-they-matter-15157011/)\n",
    "|e.| Days after Feb 1, 2020 | [Cumulative Global COVID cases](https://ourworldindata.org/grapher/cumulative-deaths-and-cases-covid-19) |\n",
    "\n"
   ]
  },
  {
   "cell_type": "markdown",
   "metadata": {
    "id": "jD0BJPZLge7t"
   },
   "source": [
    "**F2: Your answer here.** \\\n",
    "A. $\\log(y_i) = \\alpha + \\beta x_i + \\epsilon_i$ (log-linear) \\\n",
    "B. $y_i = \\alpha + \\beta x_i + \\epsilon_i$ (linear) \\\n",
    "C. $\\log(y_i) = \\alpha + \\beta x_i + \\epsilon_i$ (log-linear) \\\n",
    "D. $\\log(y_i) = \\alpha + \\beta \\log(x_i) + \\epsilon_i$ (log-log) \\\n",
    "E. $y_i = \\alpha + \\beta \\log(x_i) + \\epsilon_i$ (linear-log) "
   ]
  },
  {
   "cell_type": "markdown",
   "metadata": {
    "id": "kawbQUiQge7t"
   },
   "source": [
    "---\n",
    "\n",
    "### Goal: Logistic Regression in Python\n",
    "\n",
    "The following questions were inspired by [Kaggle's \"Titanic\" competition](https://www.kaggle.com/competitions/titanic/overview) (which we encourage you to check out - and maybe compete in - during and after completing this homework!).\n",
    "\n",
    "### Problem G1 (1 points)\n",
    "\n",
    "Each row of the file `titanic.csv` represents one passenger on board the Titanic, which famously sank on April 15, 1921. The column `Survived` is equal to `1` if the passenger survived the shipwreck and `0` otherwise. The passenger's `Sex`, `Age`, and `Fare` (the price they paid for their ticket) are all included in the dataset. Load the file and name the dataframe `titanic`. Print the first five rows."
   ]
  },
  {
   "cell_type": "code",
   "execution_count": 23,
   "metadata": {
    "id": "7E4QUcowge7t"
   },
   "outputs": [
    {
     "name": "stdout",
     "output_type": "stream",
     "text": [
      "   Survived     Sex   Age  Fare\n",
      "0         0    male  22.0     7\n",
      "1         1  female  38.0    71\n",
      "2         1  female  26.0     8\n",
      "3         1  female  35.0    53\n",
      "4         0    male  35.0     8\n"
     ]
    }
   ],
   "source": [
    "# G1: your code here\n",
    "titanic = pd.read_csv('titanic.csv')\n",
    "print(titanic.head())"
   ]
  },
  {
   "cell_type": "markdown",
   "metadata": {
    "id": "Sj9LidND3GwR"
   },
   "source": [
    "**G1 Expected Output:**\n",
    "```\n",
    "   Survived     Sex   Age  Fare\n",
    "0         0    male  22.0     7\n",
    "1         1  female  38.0    71\n",
    "2         1  female  26.0     8\n",
    "3         1  female  35.0    53\n",
    "4         0    male  35.0     8\n",
    "```"
   ]
  },
  {
   "cell_type": "markdown",
   "metadata": {
    "id": "7DJNkFbF7QrR"
   },
   "source": [
    "---\n",
    "\n",
    "### Problem G2 (3 points)\n",
    "\n",
    "Use `seaborn` to create a scatter plot showing the survival rates of passengers based on their `Fare`, `Age`, and `Sex`.\n",
    "\n",
    "Plot `Fare` on the $x$-axis and `Age` on the $y$-axis. Color by `Survived` using the `hue` parameter. Finally, set the shape of each marker based on `Sex` by using the `style` parameter (see [seaborn's documentation](https://seaborn.pydata.org/generated/seaborn.scatterplot.html) for details).\n",
    "\n",
    "*Hint: it's fine to pass string values to `hue` and `style`.*"
   ]
  },
  {
   "cell_type": "code",
   "execution_count": 24,
   "metadata": {
    "id": "eBKPzDBuge7t"
   },
   "outputs": [
    {
     "data": {
      "image/png": "[encoded data removed]",
      "text/plain": [
       "<Figure size 640x480 with 1 Axes>"
      ]
     },
     "metadata": {},
     "output_type": "display_data"
    }
   ],
   "source": [
    "# G2: your code here\n",
    "sns.scatterplot(titanic, x = 'Fare', y = 'Age', \\\n",
    "                hue = 'Survived', style = 'Sex')\n",
    "plt.show()"
   ]
  },
  {
   "cell_type": "markdown",
   "metadata": {
    "id": "lEndzqb_7Pfr"
   },
   "source": [
    "---\n",
    "\n",
    "### Problem G3 (2 points)\n",
    "\n",
    "Answer in 2-3 sentences: Comment on whether you think `Survived` can be predicted from `Sex`, `Fare`, and `Age`, and which of those variables will be more accurate. Explain your answer by describing properties of the scatter plot."
   ]
  },
  {
   "cell_type": "markdown",
   "metadata": {
    "id": "jXF3xce_ge7u"
   },
   "source": [
    "**G3: Your discussion here.**\n",
    "I think Survived can be predicted more accurately from Sex and Fare but not Age. For the points that show that Survived = 1, most of them show that Sex = female, and these points are also much more concentrated on the side where Fare is less. However, these points are randomly distributed among Age, making it less accurate to predict Survived. "
   ]
  },
  {
   "cell_type": "markdown",
   "metadata": {
    "id": "gim2HGJHCPW7"
   },
   "source": [
    "---\n",
    "\n",
    "### Problem G4 (3 points)\n",
    "We have to do a little bit of work before we can run a logistic regression on our data:\n",
    "- First, let's convert the `Sex` variable into a binary indicator `Is_Male` that is equal to `1` if the passenger's sex is `male` and `0` if the passenger's sex is `female`. The [.map()](https://pandas.pydata.org/docs/reference/api/pandas.Series.map.html) function can help you do this.\n",
    "- Second, let's make sure we don't have missing data, which will cause sklearn to throw an error. Let's remove rows with missing data from our dataset using the `dropna` function in pandas (see the [pandas documentation](https://pandas.pydata.org/docs/reference/api/pandas.DataFrame.dropna.html) for details).\n",
    "- Print the first five rows of the `titanic` dataframe.\n",
    "- Print the shape of the `titanic` dataframe"
   ]
  },
  {
   "cell_type": "code",
   "execution_count": 25,
   "metadata": {
    "id": "VmshbW4eCPW7"
   },
   "outputs": [
    {
     "name": "stdout",
     "output_type": "stream",
     "text": [
      "   Survived     Sex   Age  Fare  Is_Male\n",
      "0         0    male  22.0     7        1\n",
      "1         1  female  38.0    71        0\n",
      "2         1  female  26.0     8        0\n",
      "3         1  female  35.0    53        0\n",
      "4         0    male  35.0     8        1\n",
      "(714, 5)\n"
     ]
    }
   ],
   "source": [
    "# G4: your code here\n",
    "titanic['Is_Male'] = titanic['Sex'].map({'male': 1, \\\n",
    "                                    'female': 0})\n",
    "titanic = titanic.dropna()\n",
    "print(titanic.head())\n",
    "print(titanic.shape)"
   ]
  },
  {
   "cell_type": "markdown",
   "metadata": {
    "id": "QBh3je9Wi0Ji"
   },
   "source": [
    "**G4 Expected Output:**\n",
    "```\n",
    "   Survived     Sex   Age  Fare  Is_Male\n",
    "0         0    male  22.0     7        1\n",
    "1         1  female  38.0    71        0\n",
    "2         1  female  26.0     8        0\n",
    "3         1  female  35.0    53        0\n",
    "4         0    male  35.0     8        1\n",
    "(714, 5)\n",
    "```"
   ]
  },
  {
   "cell_type": "markdown",
   "metadata": {
    "id": "fEaomXAsge7u"
   },
   "source": [
    "---\n",
    "\n",
    "### Problem G5 (3 points)\n",
    "\n",
    "Use `sklearn` to fit a [logistic regression](https://scikit-learn.org/stable/modules/generated/sklearn.linear_model.LogisticRegression.html) model that predicts `Survived` given `Fare` and name the model `fare_model`.  Print the coefficient and intercept of the resulting model in a string formatting. Round these numbers to two decimals.\n",
    "- Use string formatting to print \"The model's coefficient is: `your calculation`\". Round to two decimals.\n",
    "- Use string formatting to print \"The model's intercept is: `your calculation`\". Round to two decimals."
   ]
  },
  {
   "cell_type": "code",
   "execution_count": 26,
   "metadata": {
    "id": "zCbvAlPIge7u"
   },
   "outputs": [
    {
     "name": "stdout",
     "output_type": "stream",
     "text": [
      "The model's coefficient is: 0.02\n",
      "The model's intercept is: -0.9\n"
     ]
    }
   ],
   "source": [
    "# G5: your code here\n",
    "X = titanic[['Fare']].values\n",
    "y = titanic['Survived'].values\n",
    "fare_model = LogisticRegression()\n",
    "fare_model.fit(X, y)\n",
    "\n",
    "print(\"The model's coefficient is:\", \\\n",
    "      round(fare_model.coef_[0, 0], 2))\n",
    "print(\"The model's intercept is:\" , \\\n",
    "      round(fare_model.intercept_[0], 2))"
   ]
  },
  {
   "cell_type": "markdown",
   "metadata": {
    "id": "kEYZKSCg3GwS"
   },
   "source": [
    "**G5 Expected Output:**\n",
    "```\n",
    "The model's coefficient is: 0.02\n",
    "The model's intercept is: -0.9\n",
    "```"
   ]
  },
  {
   "cell_type": "markdown",
   "metadata": {
    "id": "6une9Ju26tHY"
   },
   "source": [
    "---\n",
    "\n",
    "### Problem G6 (4 points)\n",
    "\n",
    "Use `fare_model`'s `predict_proba` to calculate the probability that each passenger will have a value of `Survived`. Add predicted probability as a new variable `Fare_Survival_Pred` on the dataframe.\n",
    "\n",
    "*Hint: the function `predict_proba` returns a 2D array containing the probability of each output (`0`, or did not survive, and `1`, or did survive) for each input. Select the column with index `1`, corresponding to 'did survive'.*\n",
    "\n",
    "Create a scatter plot showing `Fare` on the $x$-axis, `Fare_Survival_Pred` on the $y$-axis, with `hue` from `Survived`.\n"
   ]
  },
  {
   "cell_type": "code",
   "execution_count": 27,
   "metadata": {
    "id": "wLaYxKMrge7u"
   },
   "outputs": [
    {
     "data": {
      "image/png": "[encoded data removed]",
      "text/plain": [
       "<Figure size 640x480 with 1 Axes>"
      ]
     },
     "metadata": {},
     "output_type": "display_data"
    }
   ],
   "source": [
    "# G6: your code here\n",
    "titanic['Fare_Survival_Pred'] = \\\n",
    "            fare_model.predict_proba(X)[:,1]\n",
    "sns.scatterplot(titanic, x = 'Fare', \\\n",
    "            y = 'Fare_Survival_Pred', hue = 'Survived')\n",
    "plt.show()"
   ]
  },
  {
   "cell_type": "markdown",
   "metadata": {
    "id": "2mLiWUNQXzpZ"
   },
   "source": [
    "---\n",
    "\n",
    "### Problem G7 (4 points)\n",
    "\n",
    "Summarize relationships between variables, make predictions, and inspect oddities. What probability of survival would a passenger with a free ($0) ticket on the Titanic have?"
   ]
  },
  {
   "cell_type": "markdown",
   "metadata": {
    "id": "wlXn73L8bDtL"
   },
   "source": [
    "**G7: Your answer here.**\n",
    "\n",
    "* **Replace this with your summary of relationships between variables (1 sentence).**\n",
    "* For a 1% increase in the fare for the titanic, we expect to see a corresponding increase 0.01(0.02) = 0.0002 in probability that the passenger will have surived.\n",
    "* **Replace this with your predictions (1 sentence).**\n",
    "* If x = e (Fare = 2.72), this model predicts that the probability of survival is -0.88.\n",
    "* **Replace this with your inspection of oddities (1 sentence).**\n",
    "* If the fare is free (x = 0), the model cannot accurately predict a reasonable probability of survival. "
   ]
  },
  {
   "cell_type": "markdown",
   "metadata": {
    "id": "4hsfICyM--C2"
   },
   "source": [
    "---\n",
    "\n",
    "### Problem G8 (3 points)\n",
    "\n",
    "Repeat the process from G5, replacing `Fare` with `Age` and name the model `age_model`.\n",
    "- Use string formatting to print \"The model's coefficient is: `your calculation`\". Round to two decimals.\n",
    "- Use string formatting to print \"The model's intercept is: `your calculation`\". Round to two decimals."
   ]
  },
  {
   "cell_type": "code",
   "execution_count": 28,
   "metadata": {
    "id": "8n8BNotVge7u"
   },
   "outputs": [
    {
     "name": "stdout",
     "output_type": "stream",
     "text": [
      "The model's coefficient is: -0.01\n",
      "The model's intercept is: -0.06\n"
     ]
    }
   ],
   "source": [
    "# G8: your code here\n",
    "X = titanic[['Age']].values\n",
    "y = titanic['Survived'].values\n",
    "age_model = LogisticRegression()\n",
    "age_model.fit(X, y)\n",
    "\n",
    "print(\"The model's coefficient is:\", \\\n",
    "      round(age_model.coef_[0, 0], 2))\n",
    "print(\"The model's intercept is:\" , \\\n",
    "      round(age_model.intercept_[0], 2))"
   ]
  },
  {
   "cell_type": "markdown",
   "metadata": {
    "id": "KhJwV1373GwT"
   },
   "source": [
    "**G8 Expected Output:**\n",
    "```\n",
    "The model's coefficient is: -0.01\n",
    "The model's intercept is: -0.06\n",
    "```"
   ]
  },
  {
   "cell_type": "markdown",
   "metadata": {
    "id": "uHVa-K1rxROy"
   },
   "source": [
    "---\n",
    "\n",
    "### Problem G9 (4 points)\n",
    "Using the new predictions of the `age_model`, create a new column named `Age_Survival_Pred` in the `titanic` dataframe. Then, generate a scatterplot where the x-axis is `Age` and y-axis is `Age_Survival_Pred`. Set `hue` parameter to `Survived`.\n",
    "\n",
    "*Hint: remember that this function returns a 2D array containing the probability of each output (`0`, or did not survive, and `1`, or did survive) for each input. Select the column with index `1`, corresponding to 'did survive'.*"
   ]
  },
  {
   "cell_type": "code",
   "execution_count": 29,
   "metadata": {
    "id": "_eh-p28lge7v"
   },
   "outputs": [
    {
     "data": {
      "image/png": "[encoded data removed]",
      "text/plain": [
       "<Figure size 640x480 with 1 Axes>"
      ]
     },
     "metadata": {},
     "output_type": "display_data"
    }
   ],
   "source": [
    "# G9: your code here\n",
    "titanic['Age_Survival_Pred'] = \\\n",
    "        age_model.predict_proba(X)[:, 1]\n",
    "sns.scatterplot(titanic, x = 'Age', \\\n",
    "        y = 'Age_Survival_Pred', hue = 'Survived')\n",
    "plt.show()"
   ]
  },
  {
   "cell_type": "markdown",
   "metadata": {
    "id": "Gs8sE551ge7v"
   },
   "source": [
    "---\n",
    "\n",
    "### Problem G10 (3 points)\n",
    "\n",
    "Train a third logistic regression model with *all three explanatory variables*, `Fare`, `Age`, and `Is_Male`, as inputs.\n",
    "- Use string formatting to print \"The model's Fare coefficient is: `your calculation`\". Round to two decimals.\n",
    "- Use string formatting to print \"The model's Age coefficient is: `your calculation`\". Round to two decimals.\n",
    "- Use string formatting to print \"The model's Is_Male coefficient is: `your calculation`\". Round to two decimals.\n",
    "- Use string formatting to print \"The model's intercept is: `your calculation`\". Round to two decimals."
   ]
  },
  {
   "cell_type": "code",
   "execution_count": 30,
   "metadata": {
    "id": "iVBeVpkQge7v"
   },
   "outputs": [
    {
     "name": "stdout",
     "output_type": "stream",
     "text": [
      "The model's Fare coefficient is: 0.01\n",
      "The model's Age coefficient is: -0.01\n",
      "The model's Is_Male coefficient is: -2.27\n",
      "The model's intercept is: 0.89\n"
     ]
    }
   ],
   "source": [
    "# G10: your code here\n",
    "x = titanic[['Fare', 'Age', 'Is_Male']].values\n",
    "y = titanic['Survived'].values\n",
    "\n",
    "all_model = LogisticRegression()\n",
    "all_model.fit(x, y)\n",
    "\n",
    "print(\"The model's Fare coefficient is:\", \\\n",
    "      round(all_model.coef_[0, 0], 2))\n",
    "print(\"The model's Age coefficient is:\", \\\n",
    "      round(all_model.coef_[0, 1], 2))\n",
    "print(\"The model's Is_Male coefficient is:\", \\\n",
    "      round(all_model.coef_[0, 2], 2))\n",
    "print(\"The model's intercept is:\", \\\n",
    "      round(all_model.intercept_[0], 2))"
   ]
  },
  {
   "cell_type": "markdown",
   "metadata": {
    "id": "lZ77ABcq3GwT"
   },
   "source": [
    "**G10 Expected Output:**\n",
    "```\n",
    "The model's Fare coefficient is: 0.01\n",
    "The model's Age coefficient is: -0.01\n",
    "The model's Is_Male coefficient is: -2.27\n",
    "The model's intercept is: 0.89\n",
    "```"
   ]
  },
  {
   "cell_type": "markdown",
   "metadata": {
    "id": "e33Uv0MlwCaL"
   },
   "source": [
    "---\n",
    "\n",
    "### Problem G11 (2 points)\n",
    "In Lecture 7, we learned how to interpret regressions by summarizing relationships between variables, making predictions, and inspecting oddities. What relationship is there between the variables `Age` and `Survived`? What about between the variables `Sex` and `Survived`? What odd predictions do you observe?"
   ]
  },
  {
   "cell_type": "markdown",
   "metadata": {
    "id": "qoBckIs1wCaL"
   },
   "source": [
    "**G11: Your answer here.**\n",
    "\n",
    "* As Age increases by 1 when all else is equal, we expect that the probability of those passengers surviving decreases by 0.01. \n",
    "* As Is_Male increases by 1 (where Sex = male) when all else is equal, we expect that the probability of those passengers surviving decreases by 2.27 relative to the passenger being a female. \n",
    "* When all else is equal, the equation for the predicted probability of passengers surviving the Titanic still returns a valid probability even when Is_Male = 2, which should never happen since Is_Male only takes two values (0 or 1)."
   ]
  },
  {
   "cell_type": "markdown",
   "metadata": {
    "id": "qHF0RM8q3GwT"
   },
   "source": [
    "---\n",
    "\n",
    "### Problem G12 (2 points)\n",
    "\n",
    "- In two sentences: Compare the signs of the coefficients among models G5, G8, and G10. Why are they the same or different?\n",
    "- In one sentence: revisit your response to **G3**. Which variable among `Fare`, `Age`, and `Sex` appears to have the biggest impact on predicting survival?\n",
    "- How much would a male passenger need to have paid for his ticket to have the same chance of survival as a female passenger who paid $10, assuming both passengers are 18 years old?"
   ]
  },
  {
   "cell_type": "markdown",
   "metadata": {},
   "source": [
    "**G12: Your answer here.**\n",
    "The signs of the coefficients among models G5, G8, and G10 are different because the covariates that are being fit into the models are different. Each explanatory variable has a different relationship with the probability of Survived, which will give us different signs for their coefficients.  \\\n",
    "In G3, I believed that Sex and Fare had the greatest impact on predicting survival, but now I believe that Sex has the single greated impact on survival probability. \\\n",
    "A male passenger would have needed to pay 237 dollars for his ticket to have the same chance of survival as a female passenger who paid $10, assuming both passengers are 18 years old."
   ]
  },
  {
   "cell_type": "markdown",
   "metadata": {
    "id": "hWnK9fMY3GwT"
   },
   "source": [
    "---\n",
    "### Goal: Web-Scraping in Python\n",
    "\n",
    "Remember the web-scraping tutorial we went over in Discussion 3? We will be scraping data from (a copy of) the [Wikipedia page of Cornell](https://koenecke.infosci.cornell.edu/files/info2950/Cornell%20University%20-%20Wikipedia.html) and outputting the information in a nice Pandas DataFrame. We will use the `requests` library to do this. Read more about it [here](https://requests.readthedocs.io/en/latest/).\n",
    "\n",
    "Note that we are going through the entirety of Section H in Discussion 4!"
   ]
  },
  {
   "cell_type": "code",
   "execution_count": 31,
   "metadata": {
    "id": "dahD4olk3GwU"
   },
   "outputs": [],
   "source": [
    "# Given code:\n",
    "wiki_url = \"https://koenecke.infosci.cornell.edu/files/info2950/Cornell%20University%20-%20Wikipedia.html\""
   ]
  },
  {
   "cell_type": "markdown",
   "metadata": {
    "id": "Dj1icaOZ3GwU"
   },
   "source": [
    "### Problem H1 (2 points)\n",
    "Use request's `get()` function and save the output to `wiki_result`. Print the wiki_result's `status_code`. If the status code is not `200`, it means that something went wrong in the request. Write code to print the wiki_result's `reason` for what went wrong if the status code is not `200`."
   ]
  },
  {
   "cell_type": "code",
   "execution_count": 32,
   "metadata": {
    "id": "36F46y_k3GwU"
   },
   "outputs": [
    {
     "name": "stdout",
     "output_type": "stream",
     "text": [
      "200\n"
     ]
    }
   ],
   "source": [
    "# H1: your code here\n",
    "wiki_result = requests.get(wiki_url)\n",
    "print(wiki_result.status_code)\n",
    "if wiki_result.status_code != 200:\n",
    "    print(\"Something went wrong:\", \\\n",
    "          wiki_result.status_code, wiki_result.reason)"
   ]
  },
  {
   "cell_type": "markdown",
   "metadata": {
    "id": "aWtNfxUE3GwU"
   },
   "source": [
    "**H1 Expected Output:**\n",
    "```\n",
    "200\n",
    "```"
   ]
  },
  {
   "cell_type": "markdown",
   "metadata": {
    "id": "5bYRjGTP3GwU"
   },
   "source": [
    "---\n",
    "\n",
    "### Problem H2 (1 point)"
   ]
  },
  {
   "cell_type": "markdown",
   "metadata": {
    "id": "CAXOFslZ3GwU"
   },
   "source": [
    "Convert `wiki_result` with the `requests` library to a text string using `.text` and save the converted output as `wiki_text`. Print the `type` of the converted output."
   ]
  },
  {
   "cell_type": "code",
   "execution_count": 33,
   "metadata": {
    "id": "WHcCbr2F3GwU"
   },
   "outputs": [
    {
     "name": "stdout",
     "output_type": "stream",
     "text": [
      "<class 'str'>\n"
     ]
    }
   ],
   "source": [
    "## H2: your code here\n",
    "wiki_text = wiki_result.text\n",
    "print(type(wiki_text))"
   ]
  },
  {
   "cell_type": "markdown",
   "metadata": {
    "id": "RTsn1po-3GwU"
   },
   "source": [
    "**H2 Expected Output:**\n",
    "```\n",
    "<class 'str'>\n",
    "```"
   ]
  },
  {
   "cell_type": "markdown",
   "metadata": {
    "id": "dA1ZqamR3GwU"
   },
   "source": [
    "---\n",
    "\n",
    "### Problem H3 (1 point)\n",
    "Use the function `BeautifulSoup` on the `wiki_text` object we created in H2. Include the parameter \"html.parser\" to parse the text as HTML and save the output as an object called `page`. Print the type of `page`.\n",
    "\n",
    "Here is the documentation for [BeautifulSoup](https://www.crummy.com/software/BeautifulSoup/bs4/doc/)"
   ]
  },
  {
   "cell_type": "code",
   "execution_count": 34,
   "metadata": {
    "id": "rAYapJmK3GwU"
   },
   "outputs": [
    {
     "name": "stdout",
     "output_type": "stream",
     "text": [
      "<class 'bs4.BeautifulSoup'>\n"
     ]
    }
   ],
   "source": [
    "# H3: your code here\n",
    "page = BeautifulSoup(wiki_text, \"html.parser\")\n",
    "print(type(page))"
   ]
  },
  {
   "cell_type": "markdown",
   "metadata": {
    "id": "ZVo_o0LK3GwU"
   },
   "source": [
    "**H3 Expected Output:**\n",
    "```\n",
    "<class 'bs4.BeautifulSoup'>\n",
    "```"
   ]
  },
  {
   "cell_type": "markdown",
   "metadata": {
    "id": "p-Olul4O3GwU"
   },
   "source": [
    "---\n",
    "\n",
    "### Problem H4 (2 point)\n",
    "Using the `inspect` menu after right-clicking, manually inspect element on the website. In the HTML, locate the main table on the website, which includes Motto, Type, Established, Founder, Etc. Identify the tag and class for this table.\n",
    "\n",
    "**Write the tag and class here:**\n",
    "The tag for this table is \"table\", and its class is \"infobox vcard.\""
   ]
  },
  {
   "cell_type": "markdown",
   "metadata": {
    "id": "nkzf9pjd3GwU"
   },
   "source": [
    "---\n",
    "\n",
    "### Problem H5 (1 point)\n",
    "Use page's `find` to locate that same tag and class, and save the output as an object called `infobox`. Print the length of `infobox`."
   ]
  },
  {
   "cell_type": "code",
   "execution_count": 35,
   "metadata": {
    "id": "-_myrEst3GwU"
   },
   "outputs": [
    {
     "name": "stdout",
     "output_type": "stream",
     "text": [
      "2\n"
     ]
    }
   ],
   "source": [
    "# H5: your code here\n",
    "infobox = page.find(\"table\", {\"class\": \"infobox vcard\"})\n",
    "print(len(infobox))"
   ]
  },
  {
   "cell_type": "markdown",
   "metadata": {
    "id": "sPQfOObV3GwV"
   },
   "source": [
    "**H5 Expected Output:**\n",
    "```\n",
    "2\n",
    "```"
   ]
  },
  {
   "cell_type": "markdown",
   "metadata": {
    "id": "qK5oA5AY3GwV"
   },
   "source": [
    "---\n",
    "\n",
    "### Problem H6 (1 point)\n",
    "\n",
    "Now we will extract the information that we need from the table. First, we need to identify the table rows. From `infobox`, use `find_all` to find all the table rows \"tr\" and save the output to an object called `table_rows`. Print the length of `table_rows`.\n",
    "\n",
    "*Note:* `tr` tags define a table row in HTML."
   ]
  },
  {
   "cell_type": "code",
   "execution_count": 36,
   "metadata": {
    "id": "OP2xnj4b3GwV"
   },
   "outputs": [
    {
     "name": "stdout",
     "output_type": "stream",
     "text": [
      "26\n"
     ]
    }
   ],
   "source": [
    "# H6: your code here\n",
    "table_rows = infobox.find_all(\"tr\")\n",
    "print(len(table_rows))"
   ]
  },
  {
   "cell_type": "markdown",
   "metadata": {
    "id": "ddeT9qHr3GwV"
   },
   "source": [
    "**H6 Expected Output:**\n",
    "```\n",
    "26\n",
    "```"
   ]
  },
  {
   "cell_type": "markdown",
   "metadata": {
    "id": "yrA6zamL3GwV"
   },
   "source": [
    "---\n",
    "\n",
    "### Problem H7 (2 point)\n",
    "\n",
    "Now that we have the table rows, we can iterate through the columns to extract the relevant labels and corresponding values. Part (a): Using the helper code below, convert each label and value to text.\n",
    "\n",
    "*Note:* `th` tags define a header cell in an HTML table while `td` defines a standard \"data\" cell.\""
   ]
  },
  {
   "cell_type": "code",
   "execution_count": 37,
   "metadata": {
    "id": "CCKUFZth3GwV"
   },
   "outputs": [],
   "source": [
    "# Given code\n",
    "labels = []\n",
    "values = []\n",
    "for table in table_rows: # for every row, get the label and the value\n",
    " label = table.find('th')\n",
    " value = table.find('td')\n",
    " if label != None:\n",
    "     # H7 part a: Your code here\n",
    "    label = label.text\n",
    "\n",
    " if value != None:\n",
    "     # H7 part a: Your code here\n",
    "     value = value.text\n",
    "\n",
    " labels.append(label)\n",
    " values.append(value)"
   ]
  },
  {
   "cell_type": "markdown",
   "metadata": {
    "id": "1asPuuzj3GwV"
   },
   "source": [
    "Part (b): Print `True` if the length of the labels is equal to the length of the values. Otherwise, print `False`."
   ]
  },
  {
   "cell_type": "code",
   "execution_count": 38,
   "metadata": {
    "id": "O5xF2-TR3GwV"
   },
   "outputs": [
    {
     "name": "stdout",
     "output_type": "stream",
     "text": [
      "True\n"
     ]
    }
   ],
   "source": [
    "# H7 part b: Your code here\n",
    "if len(labels) == len(values):\n",
    "    print(True)\n",
    "else: \n",
    "    print(False)"
   ]
  },
  {
   "cell_type": "markdown",
   "metadata": {
    "id": "HolS5XRB3GwV"
   },
   "source": [
    "---\n",
    "\n",
    "### Problem H8 (1 point)\n",
    "Using the labels and values, make a Pandas Dataframe. Filter out all rows where `Labels` is `None`. Print the full dataframe.\n",
    "\n",
    "*Hint: Remember that `None` is **not** a string called \"None\"; it is an object! In pandas, you can filter out `None` data with the [`notna()` function](https://pandas.pydata.org/docs/reference/api/pandas.Series.notna.html).*"
   ]
  },
  {
   "cell_type": "code",
   "execution_count": 39,
   "metadata": {
    "id": "5DTk26Yr3GwV"
   },
   "outputs": [
    {
     "name": "stdout",
     "output_type": "stream",
     "text": [
      "                   Labels                                             Values\n",
      "2                   Motto  “I would found an institution where any person...\n",
      "3                    Type          Private[4] land-grant research university\n",
      "4             Established         April 28, 1864; 160 years ago (1864-04-28)\n",
      "5                 Founder             \\nEzra Cornell\\nAndrew Dickson White\\n\n",
      "6           Accreditation                                              MSCHE\n",
      "7   Academic affiliations           AAUCOFHENAICUSUNYURASea-grantSpace-grant\n",
      "8               Endowment                            $10.0 billion (2023)[5]\n",
      "9                  Budget                             $5.4 billion (2023)[6]\n",
      "10              President                                  Michael Kotlikoff\n",
      "11                Provost                                     John Siliciano\n",
      "12         Academic staff  1,639 in Ithaca, New York1,235 in New York Cit...\n",
      "13               Students                              26,284 (fall 2023)[7]\n",
      "14         Undergraduates                              16,071 (fall 2023)[7]\n",
      "15          Postgraduates                              10,207 (fall 2023)[7]\n",
      "16               Location  Ithaca, New York, United States42°27′13″N 76°2...\n",
      "17                 Campus  Small city[8], 745 acres (301 ha)[citation nee...\n",
      "18      Other campuses[9]                                       New YorkDoha\n",
      "19              Newspaper             The Cornell Daily SunCornell Chronicle\n",
      "20                 Colors                     Carnelian red and white[10]   \n",
      "21               Nickname                                            Big Red\n",
      "22  Sporting affiliations       NCAA Division I FCS – Ivy LeagueIRAEARCEAWRC\n",
      "23                 Mascot                Touchdown the Bear (unofficial)[11]\n",
      "24                Website                                       cornell.edu \n"
     ]
    }
   ],
   "source": [
    "# H8: Your code here\n",
    "dict = {\"Labels\": labels, \"Values\": values}\n",
    "wiki_df = pd.DataFrame(data = dict)\n",
    "wiki_df = wiki_df[wiki_df[\"Labels\"].notna()]\n",
    "print(wiki_df)"
   ]
  },
  {
   "cell_type": "markdown",
   "metadata": {
    "id": "ftYpV3Rx3GwV"
   },
   "source": [
    "**H8 Expected Output:**\n",
    "```\n",
    "                   Labels                                             Values\n",
    "2                   Motto  “I would found an institution where any person...\n",
    "3                    Type          Private[4] land-grant research university\n",
    "4             Established         April 28, 1864; 160 years ago (1864-04-28)\n",
    "5                 Founder             \\nEzra Cornell\\nAndrew Dickson White\\n\n",
    "6           Accreditation                                              MSCHE\n",
    "7   Academic affiliations           AAUCOFHENAICUSUNYURASea-grantSpace-grant\n",
    "8               Endowment                            $10.0 billion (2023)[5]\n",
    "9                  Budget                             $5.4 billion (2023)[6]\n",
    "10              President                                  Michael Kotlikoff\n",
    "11                Provost                                     John Siliciano\n",
    "12         Academic staff  1,639 in Ithaca, New York1,235 in New York Cit...\n",
    "13               Students                              26,284 (fall 2023)[7]\n",
    "14         Undergraduates                              16,071 (fall 2023)[7]\n",
    "15          Postgraduates                              10,207 (fall 2023)[7]\n",
    "16               Location  Ithaca, New York, United States42°27′13″N 76°2...\n",
    "17                 Campus  Small city[8], 745 acres (301 ha)[citation nee...\n",
    "18      Other campuses[9]                                       New YorkDoha\n",
    "19              Newspaper             The Cornell Daily SunCornell Chronicle\n",
    "20                 Colors                     Carnelian red and white[10]   \n",
    "21               Nickname                                            Big Red\n",
    "22  Sporting affiliations       NCAA Division I FCS – Ivy LeagueIRAEARCEAWRC\n",
    "23                 Mascot                Touchdown the Bear (unofficial)[11]\n",
    "24                Website                                       cornell.edu\n",
    "```"
   ]
  },
  {
   "cell_type": "markdown",
   "metadata": {
    "id": "jmZ0F2W4wCaQ"
   },
   "source": [
    "---\n",
    "\n",
    "### Problem H9 (1 point)\n",
    "Use the `iloc` function to print the full value associated with the \"Motto\" label from wiki_df."
   ]
  },
  {
   "cell_type": "code",
   "execution_count": 40,
   "metadata": {
    "id": "eiJchGfawCaQ"
   },
   "outputs": [
    {
     "name": "stdout",
     "output_type": "stream",
     "text": [
      "“I would found an institution where any person can find instruction in any study”[2][3]\n"
     ]
    }
   ],
   "source": [
    "# H9: Your code here\n",
    "print(wiki_df.iloc[0, 1])"
   ]
  },
  {
   "cell_type": "markdown",
   "metadata": {
    "id": "bqWTFD-QwCaQ"
   },
   "source": [
    "**H9 Expected Output:**\n",
    "\n",
    "```\n",
    "“I would found an institution where any person can find instruction in any study”[2][3]\n",
    "```"
   ]
  },
  {
   "cell_type": "markdown",
   "metadata": {
    "id": "qGqP4BnrwCaQ"
   },
   "source": [
    "---\n",
    "**How long it did it take you to complete this homework?**\n",
    "\n",
    "Add your answer (an estimate in hours) in the cell below."
   ]
  },
  {
   "cell_type": "markdown",
   "metadata": {
    "id": "Y7Bue0mNwCaQ"
   },
   "source": [
    "*Time taken here*: 10-12 hours"
   ]
  }
 ],
 "metadata": {
  "colab": {
   "provenance": []
  },
  "kernelspec": {
   "display_name": "Python 3 (ipykernel)",
   "language": "python",
   "name": "python3"
  },
  "language_info": {
   "codemirror_mode": {
    "name": "ipython",
    "version": 3
   },
   "file_extension": ".py",
   "mimetype": "text/x-python",
   "name": "python",
   "nbconvert_exporter": "python",
   "pygments_lexer": "ipython3",
   "version": "3.12.2"
  }
 },
 "nbformat": 4,
 "nbformat_minor": 4
}
