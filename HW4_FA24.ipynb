{
 "cells": [
  {
   "cell_type": "markdown",
   "metadata": {
    "id": "5zs-zzbHge7d"
   },
   "source": [
    "# INFO 2950 Fall 2024 Homework 4"
   ]
  },
  {
   "cell_type": "markdown",
   "metadata": {
    "id": "zBX8_pjiMAW3"
   },
   "source": [
    "For each answer code cell, **do not** erase the line stating `#A1: your code here`; instead, write your answer code directly below the line.\n",
    "\n",
    "You will turn in this notebook without any of the data files. When you turn in this homework, all cells must be executed and the notebook saved with output included. You must also save your **fully executed notebook** as a pdf following the instructions in the Student Handbook posted on Canvas > Modules > Course Policies.\n",
    "\n",
    "A **fully executed notebook** means that you should be seeing the expected output printed below the cell after you click \"Restart Kernel and Run All Cells.\" *If any cell in the PDF of your notebook does not have the expected output printed below it, it will not be considered fully executed and you will not receive points for the questions in that cell.*\n",
    "\n",
    "**If you use any sources aside from the standard documentation of Python libraries, you must cite the sources (e.g., StackOverflow links) used to answer the below questions. If you use ChatGPT, you must include proof of the prompt you used, as well as a line-by-line explanation of why the code is correct. Simply noting that the code makes sense does not suffice as an explanation.**\n",
    "\n",
    "The goal of this homework is to get hands-on experience with linear and logistic regression in two real-world datasets. In this homework, you will practice using train and test splits with linear and logistic regression. You will evaluate the model's performance on the train/test splits using various evaluation metrics.\n",
    "\n",
    "Part of this homework will involve practicing how to use online resources. *Nobody* remembers everything. There is no level of experience that will allow you to never use documentation and question-answer forums. The key is to use these in ways that help you grow your skills, not in ways that prevent you from growing. They also provide an opportunity to express gratitude for people who helped you."
   ]
  },
  {
   "cell_type": "markdown",
   "metadata": {
    "id": "6frBFW3EL52Z"
   },
   "source": [
    "**NetID:** kl739"
   ]
  },
  {
   "cell_type": "markdown",
   "metadata": {
    "id": "IRRwGqgkMJ1H"
   },
   "source": [
    "---\n",
    "\n",
    "## Problem 0\n",
    "Do not move or modify this cell, we use it for automated homework analysis.\n",
    "\n",
    "**This problem is for you to use to cite your sources.**\n",
    "\n",
    "You will update this problem over the course of the homework. Describe problems, error messages, and bugs you encountered, and how you fixed or addressed them. List URLs for any online resources (like Stack Overflow) you found useful and mention fellow students, TAs, or other people who helped you. If you use ChatGPT, you must include proof of the prompt you used, as well as an explanation of why the resulting code is correct. If you do not appropriately fill out Problem 0, you will receive 0 points on the entire homework assignment.\n",
    "\n"
   ]
  },
  {
   "cell_type": "markdown",
   "metadata": {
    "id": "yzqFxy-zMHQD"
   },
   "source": [
    "**ADD YOUR SOURCES HERE**\n",
    "\n",
    "---"
   ]
  },
  {
   "cell_type": "code",
   "execution_count": 1,
   "metadata": {
    "id": "Q5LywxCKeIeo"
   },
   "outputs": [],
   "source": [
    "import pandas as pd\n",
    "import numpy as np\n",
    "\n",
    "from sklearn.linear_model import LinearRegression, LogisticRegression\n",
    "from sklearn.model_selection import train_test_split, \\\n",
    "    KFold, cross_val_score\n",
    "from sklearn.metrics import root_mean_squared_error, mean_absolute_error, \\\n",
    "    mean_absolute_percentage_error, accuracy_score, precision_score, \\\n",
    "        recall_score, f1_score, precision_recall_curve\n",
    "from sklearn import preprocessing\n",
    "\n",
    "from scipy import stats\n",
    "\n",
    "import seaborn as sns\n",
    "import matplotlib.pyplot as plt"
   ]
  },
  {
   "cell_type": "markdown",
   "metadata": {
    "id": "665a9fd0"
   },
   "source": [
    "# Section A: Multivariable Linear Regression\n",
    "\n",
    "The goal of this section is to develop a generalizable linear regression model to predict flight delays based on relevant airplane, airport, and weather attributes. We will use flight data from the book [*R for Data Science*](https://r4ds.hadley.nz/) by Wickham and Grolemund.\n",
    "\n",
    "The file `flights.csv` contains detailed information on a sample of flights departing from NYC to destinations in the United States, Puerto Rico, and the American Virgin Islands in 2013. More information about the dataset can be found on the [GitHub page](https://github.com/tidyverse/nycflights13) associated with the R package that maintains the data.\n",
    "\n",
    "More recent R packages have been developed to pull updated versions of the data. For example, you can check out the R package [`anyflights`](https://github.com/simonpcouch/anyflights) or [`nycflights`](https://github.com/simonpcouch/anyflights)."
   ]
  },
  {
   "cell_type": "markdown",
   "metadata": {
    "id": "Z8nWvVXgCm6C"
   },
   "source": [
    "## Problem A1 (2 points)\n",
    "\n",
    "Using `pandas`, create a DataFrame called `flights` from the CSV file `flights.csv`. Print the shape of the dataframe. Then print the first five rows and the first five columns using `.iloc`."
   ]
  },
  {
   "cell_type": "code",
   "execution_count": 2,
   "metadata": {
    "id": "ff59cd69"
   },
   "outputs": [
    {
     "name": "stdout",
     "output_type": "stream",
     "text": [
      "(100000, 25)\n",
      "   month  day  dep_delay  arr_time  sched_arr_time\n",
      "0     10   20        -11      1651            1728\n",
      "1      8   20         30      2215            2242\n",
      "2      4   20         -2      1002            1012\n",
      "3      8    6         -2      1956            2010\n",
      "4      3   29         -5       802             816\n"
     ]
    }
   ],
   "source": [
    "## A1: your code here\n",
    "flights = pd.read_csv(\"flights.csv\")\n",
    "print(flights.shape)\n",
    "print(flights.iloc[:5, :5])"
   ]
  },
  {
   "cell_type": "markdown",
   "metadata": {
    "id": "R37B9U10Cm6F"
   },
   "source": [
    "**A1 Expected Output**  \n",
    "```\n",
    "(100000, 25)\n",
    "   month  day  dep_delay  arr_time  sched_arr_time\n",
    "0     10   20        -11      1651            1728\n",
    "1      8   20         30      2215            2242\n",
    "2      4   20         -2      1002            1012\n",
    "3      8    6         -2      1956            2010\n",
    "4      3   29         -5       802             816\n",
    "```"
   ]
  },
  {
   "cell_type": "markdown",
   "metadata": {
    "id": "d1e60fdf"
   },
   "source": [
    "## Problem A2 (3 points)\n",
    "\n",
    "Linear regression assumes that the input values are numbers, but the values for many attributes in the `flights` data are non-numeric. Some of these columns are categorical and may require the creation of indicator variables to be useful in our regressions.\n",
    "\n",
    "Use [`pd.get_dummies()`](https://pandas.pydata.org/docs/reference/api/pandas.get_dummies.html) function to create the appropriate indicator variables for the three `origin` airports. Use the argument `drop_first=True` to avoid multicollinearity issues.\n",
    "\n",
    "*Hint #1:* You might find it helpful to first create a dataframe called `origin_df` using `pd.get_dummies()`.\n",
    "\n",
    "*Hint #2:* Then you can merge this dataframe back onto `flights` using `pd.concat()`. You should call the resulting dataframe `flights`, which will effectively overwrite the original dataframe you produced in A1.\n",
    "\n",
    "Print the shape of the dataframe after this transformation."
   ]
  },
  {
   "cell_type": "code",
   "execution_count": 3,
   "metadata": {
    "id": "uGX0NhHzCm6G"
   },
   "outputs": [
    {
     "name": "stdout",
     "output_type": "stream",
     "text": [
      "(100000, 27)\n"
     ]
    }
   ],
   "source": [
    "## A2: your code here\n",
    "origin_df = pd.get_dummies(flights['origin'], drop_first = True)\n",
    "flights = pd.concat([flights, origin_df], axis = 1)\n",
    "print(flights.shape)"
   ]
  },
  {
   "cell_type": "markdown",
   "metadata": {
    "id": "TG4ZyoW-Cm6I"
   },
   "source": [
    "**A2 Expected Output**\n",
    "\n",
    "`\n",
    "(100000, 27)\n",
    "`"
   ]
  },
  {
   "cell_type": "markdown",
   "metadata": {
    "id": "qHBwRQGXCm6J"
   },
   "source": [
    "## Problem A3 (2 points)\n",
    "\n",
    "Use the [`map()`](https://pandas.pydata.org/docs/reference/api/pandas.Series.map.html) function to **replace** the string values in the `engines` column with the proper numeric values. We've included a dictionary to help you with this.\n",
    "\n",
    "Print the head of `flights[\"engines\"]` after this transformation. You may see dtypes `int32` or `int64` in the output. Either is fine."
   ]
  },
  {
   "cell_type": "code",
   "execution_count": 4,
   "metadata": {
    "id": "HeciYMg_Cm6J"
   },
   "outputs": [],
   "source": [
    "# Given code\n",
    "# These dictionaries map strings to numeric values for the engine variable\n",
    "\n",
    "engine_map = {\"1 engine\": 1, \"2 engines\": 2, \"3 engines\": 3, \"4 engines\": 4}"
   ]
  },
  {
   "cell_type": "code",
   "execution_count": 5,
   "metadata": {
    "id": "njAywF4ECm6K"
   },
   "outputs": [
    {
     "name": "stdout",
     "output_type": "stream",
     "text": [
      "0    2\n",
      "1    2\n",
      "2    2\n",
      "3    2\n",
      "4    2\n",
      "Name: engines, dtype: int64\n"
     ]
    }
   ],
   "source": [
    "## A3: your code here\n",
    "flights['engines'] = flights['engines'].map(engine_map)\n",
    "print(flights['engines'].head())"
   ]
  },
  {
   "cell_type": "markdown",
   "metadata": {
    "id": "daWTXsW5Cm6K"
   },
   "source": [
    "**A3 Expected Output**\n",
    "```\n",
    "0    2\n",
    "1    2\n",
    "2    2\n",
    "3    2\n",
    "4    2\n",
    "Name: engines, dtype: int64\n",
    "```"
   ]
  },
  {
   "cell_type": "markdown",
   "metadata": {
    "id": "d276572c"
   },
   "source": [
    "## Problem A4 (3 points)\n",
    "\n",
    "Use the function [`train_test_split`](https://scikit-learn.org/stable/modules/generated/sklearn.model_selection.train_test_split.html) to create two new dataframes, `flights_train` and `flights_test`, with 10% of the data in the test set and a random state of 2950 (setting the random state will ensure that the TAs can check your outputs quickly). Print the shape of `flights_train` and the shape of `flights_test`, in that order.\n",
    "\n",
    "*Hint #1:* You can set the output of `train_test_split` to two variables."
   ]
  },
  {
   "cell_type": "code",
   "execution_count": 6,
   "metadata": {
    "id": "d7b12607"
   },
   "outputs": [
    {
     "name": "stdout",
     "output_type": "stream",
     "text": [
      "(90000, 27)\n",
      "(10000, 27)\n"
     ]
    }
   ],
   "source": [
    "## A4: your code here\n",
    "flights_train, flights_test = train_test_split(flights, \\\n",
    "                            test_size = 0.1, random_state = 2950)\n",
    "print(flights_train.shape)\n",
    "print(flights_test.shape)"
   ]
  },
  {
   "cell_type": "markdown",
   "metadata": {
    "id": "LCLlWVKPCm6M"
   },
   "source": [
    "**A4 Expected Output**\n",
    "```\n",
    "(90000, 27)\n",
    "(10000, 27)\n",
    "```"
   ]
  },
  {
   "cell_type": "markdown",
   "metadata": {
    "id": "La09R31YeIey"
   },
   "source": [
    "## Problem A5 (4 points)\n",
    "\n",
    "Part a: Run a linear regression with the training dataframe, `flights_train`, using the input variables in `input_vars` (`dep_delay`, `engines`, `wind_speed`, `visib`, `JFK`, and `LGA`) and output variable `arr_delay`. Name the regression `model`.\n",
    "\n",
    "Part b: Using the given code that loops through `input_vars` and the trained model's coefficients, print out each variable name and coefficient value (e.g. `engines: 2.35`). Note: a helpful way to loop through a paired set of values is to use the [`zip()`](https://www.programiz.com/python-programming/methods/built-in/zip) function. We have already implemented this approach for you in the code below.\n",
    "\n",
    "Part c: Print the model's intercept (e.g. `intercept: -3.83`). You should do this outside of the loop.\n",
    "\n",
    "For all printed variable and value combinations, use string formatting and round all numbers to two decimals."
   ]
  },
  {
   "cell_type": "code",
   "execution_count": 7,
   "metadata": {
    "id": "M0dZyNGdeIez"
   },
   "outputs": [
    {
     "name": "stdout",
     "output_type": "stream",
     "text": [
      "dep_delay: 1.01\n",
      "engines: 2.35\n",
      "wind_speed: 0.18\n",
      "visib: -1.17\n",
      "JFK: -1.65\n",
      "LGA: 2.73\n",
      "intercept: -3.83\n"
     ]
    }
   ],
   "source": [
    "# Given input list\n",
    "input_vars = [\"dep_delay\", \"engines\", \"wind_speed\", \"visib\", \"JFK\", \"LGA\"]\n",
    "\n",
    "## A5 part a: your code here\n",
    "X = flights_train[input_vars]\n",
    "y = flights_train['arr_delay']\n",
    "model = LinearRegression().fit(X, y)\n",
    "\n",
    "# Given code\n",
    "for var_name, var_coef in zip(input_vars, model.coef_):\n",
    "    # A5 part b: your code here\n",
    "    print(f\"{var_name}: {round(var_coef, 2)}\")\n",
    "\n",
    "\n",
    "# A5 part c: your code here\n",
    "print(\"intercept:\", round(model.intercept_, 2))"
   ]
  },
  {
   "cell_type": "markdown",
   "metadata": {
    "id": "Bm5Rb4kyCm6N"
   },
   "source": [
    "**A5 Expected Output**\n",
    "\n",
    "```\n",
    "dep_delay: 1.01\n",
    "engines: 2.35\n",
    "wind_speed: 0.18\n",
    "visib: -1.17\n",
    "JFK: -1.65\n",
    "LGA: 2.73\n",
    "intercept: -3.83\n",
    "```"
   ]
  },
  {
   "cell_type": "markdown",
   "metadata": {
    "id": "XkUzJRT_FUfE"
   },
   "source": [
    "## Problem A6 (3 points)\n",
    "Consider the trained model's coefficients in the previous question. To understand what each of the coefficients means, you can read the documentation from the associated R package [here](https://cran.r-project.org/web/packages/nycflights13/nycflights13.pdf).\n",
    "\n",
    "In 1-2 complete sentences, interpret the regression by summarizing the effect of `visib` (visibility in miles) on `arr_delay` (arrival delay in minutes). Note: negative values of `arr_delay` represent early arrivals."
   ]
  },
  {
   "cell_type": "markdown",
   "metadata": {
    "id": "wgmbtrztFUfF"
   },
   "source": [
    "**A6: Your interpretation here**  \n",
    "When visibility (by miles) increases, arrival delays decrease and the flights arrive earliers. More specifically, as visibility increases by 1.0 miles, arrival delays decrease by 1.17 minutes. "
   ]
  },
  {
   "cell_type": "markdown",
   "metadata": {
    "id": "US7zydcieIez"
   },
   "source": [
    "## Problem A7 (3 points)\n",
    "To further interpret this regression, we want to make predictions. In class, we have done this by making predictions based on one specific value for each of the inputs (`dep_delay`, `engines`, `wind_speed`, `visib`, `JFK`, and `LGA`). Here, we want to make predictions with our model based on the specific values of each of the inputs that were in our original training set and test set.\n",
    "\n",
    "Use the training set data as input to create an array of predicted $\\hat{y}$ values called `train_predictions`. Then, use the test set data as input to create an array of predicted $\\hat{y}$ values called `test_predictions`.\n",
    "\n",
    "Then, print the length of `train_predictions` and `test_predictions`, in that order."
   ]
  },
  {
   "cell_type": "code",
   "execution_count": 8,
   "metadata": {
    "id": "2VjhI_TgeIez"
   },
   "outputs": [
    {
     "name": "stdout",
     "output_type": "stream",
     "text": [
      "90000\n",
      "10000\n"
     ]
    }
   ],
   "source": [
    "## A7: your code here\n",
    "train_predictions = model.predict(X)\n",
    "print(len(train_predictions))\n",
    "\n",
    "test_predictions = model.predict(flights_test[input_vars])\n",
    "print(len(test_predictions))"
   ]
  },
  {
   "cell_type": "markdown",
   "metadata": {
    "id": "pMp9gI2yCm6R"
   },
   "source": [
    "**A7 Expected Output**\n",
    "\n",
    "\n",
    "```\n",
    "90000\n",
    "10000\n",
    "```"
   ]
  },
  {
   "cell_type": "markdown",
   "metadata": {
    "id": "yoeNv_u7eIe6"
   },
   "source": [
    "## Problem A8 (4 points)\n",
    "\n",
    "Root Mean Squared Error (RMSE) is defined as RMSE = $\\sqrt{\\frac{1}{n}Σ(y_{i} - ŷ_{i})^2}$\n",
    "\n",
    "Use basic numpy functions (like `np.sqrt()` and `np.mean()`) to calculate the RMSE between $\\hat{y}$  (`train_predictions`) and y (the true value of y, which is the `arr_delay` column of the training set `flights_train`). Repeat this to find the RMSE between the test set’s $\\hat{y}$ and the test set’s y.\n",
    "\n",
    "Print the train and test set RMSEs using string formatting and rounding all numbers to two decimals."
   ]
  },
  {
   "cell_type": "code",
   "execution_count": 9,
   "metadata": {
    "id": "7fr6JyOpeIe6"
   },
   "outputs": [
    {
     "name": "stdout",
     "output_type": "stream",
     "text": [
      "Train RMSE: 18.47\n",
      "Test RMSE: 18.5\n"
     ]
    }
   ],
   "source": [
    "## A8: your code here\n",
    "train_rmse = np.sqrt(np.mean((y - train_predictions)**2))\n",
    "print(\"Train RMSE:\", round(train_rmse, 2))\n",
    "\n",
    "test_rmse = np.sqrt(np.mean((flights_test['arr_delay'] - \\\n",
    "                             test_predictions)**2))\n",
    "print(\"Test RMSE:\", round(test_rmse, 2))"
   ]
  },
  {
   "cell_type": "markdown",
   "metadata": {
    "id": "ctoltrzqCm6S"
   },
   "source": [
    "**A8 Expected Output**\n",
    "```\n",
    "Train RMSE: 18.47\n",
    "Test RMSE: 18.5\n",
    "```\n"
   ]
  },
  {
   "cell_type": "code",
   "execution_count": 10,
   "metadata": {
    "id": "9QkOJvosCm6T"
   },
   "outputs": [
    {
     "name": "stdout",
     "output_type": "stream",
     "text": [
      "Train RMSE: 18.47\n",
      "Test RMSE: 18.5\n"
     ]
    }
   ],
   "source": [
    "## Confidence check: use sklearn's root_mean_squared_error function to check your calculated results\n",
    "print(f\"Train RMSE: {round(root_mean_squared_error(flights_train[\"arr_delay\"], \\\n",
    "                                                train_predictions), 2)}\")\n",
    "print(f\"Test RMSE: {round(root_mean_squared_error(flights_test[\"arr_delay\"], \\\n",
    "                                                test_predictions), 2)}\")"
   ]
  },
  {
   "cell_type": "markdown",
   "metadata": {
    "id": "d_19ZUcMeIe7"
   },
   "source": [
    "## Problem A9 (4 points)\n",
    "\n",
    "Mean Absolute Error (MAE) is defined as MAE = $\\frac{1}{n}Σ|y_{i} - ŷ_{i}|$\n",
    "\n",
    "Use basic numpy functions (like `np.mean()` and `np.abs()`) to calculate the MAE between $\\hat{y}$ (`train_predictions`) and y (the true value of y, which is the `arr_delay` column of the training set `flights_train`). Repeat this to find the MAE between the test set’s $\\hat{y}$  and the test set’s y.\n",
    "\n",
    "Print the train and test set MAEs using string formatting and rounding all numbers to two decimals."
   ]
  },
  {
   "cell_type": "code",
   "execution_count": 11,
   "metadata": {
    "id": "fr3uKzsYeIe7"
   },
   "outputs": [
    {
     "name": "stdout",
     "output_type": "stream",
     "text": [
      "Train MAE: 13.55\n",
      "Test MAE: 13.57\n"
     ]
    }
   ],
   "source": [
    "## A9: your code here\n",
    "train_mae = np.mean(np.abs(y - train_predictions))\n",
    "print(\"Train MAE:\", round(train_mae, 2))\n",
    "\n",
    "test_mae = np.mean(np.abs(flights_test['arr_delay'] - test_predictions))\n",
    "print(\"Test MAE:\", round(test_mae, 2))"
   ]
  },
  {
   "cell_type": "markdown",
   "metadata": {
    "id": "-veSJfL1Cm6V"
   },
   "source": [
    "**A9 Expected Output**  \n",
    "```\n",
    "Train MAE: 13.55\n",
    "Test MAE: 13.57\n",
    "```"
   ]
  },
  {
   "cell_type": "code",
   "execution_count": 12,
   "metadata": {
    "id": "GeU3CEtjCm6V"
   },
   "outputs": [
    {
     "name": "stdout",
     "output_type": "stream",
     "text": [
      "Train MAE: 13.55\n",
      "Test MAE: 13.57\n"
     ]
    }
   ],
   "source": [
    "## Confidence check: use sklearn's mean_absolute_error function to check your calculated results\n",
    "print(f\"Train MAE: {round(mean_absolute_error(flights_train[\"arr_delay\"], \\\n",
    "                                            train_predictions), 2)}\")\n",
    "print(f\"Test MAE: {round(mean_absolute_error(flights_test[\"arr_delay\"], \\\n",
    "                                             test_predictions), 2)}\")"
   ]
  },
  {
   "cell_type": "markdown",
   "metadata": {
    "id": "BvpS-V8cFUfI"
   },
   "source": [
    "## Problem A10 (2 points)\n",
    "In 1-2 sentences, explain why is it useful to look at both the RMSE and the MAE instead of only one of these metrics."
   ]
  },
  {
   "cell_type": "markdown",
   "metadata": {
    "id": "nIAre9IHFUfI"
   },
   "source": [
    "**A10: Your answer here**  \n",
    "Both the RMSE and the MAE are ways to measure the difference between the actual values and the predicted y values, but because the RMSE squares the difference, it is more sensitive to outliers. Looking at both the RMSE and the MAE gives us a better look at if the model is an accurate fit. "
   ]
  },
  {
   "cell_type": "markdown",
   "metadata": {
    "id": "m4YfbTMZCm6X"
   },
   "source": [
    "## Problem A11 (2 points)\n",
    "In 1-2 sentences, based on the RMSE and the MAE that you observe for both the training and test data, do you think this model generalizes well out of sample?"
   ]
  },
  {
   "cell_type": "markdown",
   "metadata": {
    "id": "E9CXY6ivCm6X"
   },
   "source": [
    "**A11: Your answer here**  \n",
    "Based on the RMSE and the MAE that were calculated for both the training and test data, I think the model generalizes well out of sample. The RMSE and MAE for the training set were both close to those of the test set, and all of these values were reasonably low. "
   ]
  },
  {
   "cell_type": "markdown",
   "metadata": {
    "id": "3c0pvSzPCm6Y"
   },
   "source": [
    "## Problem A12 (4 points)\n",
    "\n",
    "For the rest of Section A, we will only use the `flights_train` dataframe and not the `flights_test` dataframe, since we’re trying to explore the data without biasing how we run our final analysis.\n",
    "\n",
    "Using the predictions that we generated in A6 called `train_predictions` and the true `arr_delay` value from the `flights_train` dataframe, calculate the residuals of our `model` and save the residuals value to the variable `residuals`. Print the head of `residuals`."
   ]
  },
  {
   "cell_type": "code",
   "execution_count": 13,
   "metadata": {
    "id": "akinuAoHCm6Y"
   },
   "outputs": [
    {
     "name": "stdout",
     "output_type": "stream",
     "text": [
      "7171      7.194330\n",
      "11350     0.977870\n",
      "63208   -11.077568\n",
      "1230     43.660877\n",
      "90340     7.198414\n",
      "Name: arr_delay, dtype: float64\n"
     ]
    }
   ],
   "source": [
    "## A12: your code here\n",
    "residuals = flights_train['arr_delay'] - train_predictions\n",
    "print(residuals.head())"
   ]
  },
  {
   "cell_type": "markdown",
   "metadata": {
    "id": "KE5fcL8rCm6Y"
   },
   "source": [
    "**A12 Expected Output**  \n",
    "\n",
    "```\n",
    "7171      7.194330\n",
    "11350     0.977870\n",
    "63208   -11.077568\n",
    "1230     43.660877\n",
    "90340     7.198414\n",
    "Name: arr_delay, dtype: float64\n",
    "```"
   ]
  },
  {
   "cell_type": "markdown",
   "metadata": {
    "id": "2EAvc0xgCm6Z"
   },
   "source": [
    "## Problem A13 (3 points)\n",
    "\n",
    "\n",
    "Write a function called `generate_residual_plot` that takes in two arguments (`pred` and `resid`) and produces a residual plot. Using this function, vsualize the `train_predictions` and `residuals` from A7 as a scatterplot. Make sure your plot follows the two specifications below:\n",
    "\n",
    "1. Use `pred` as the x-axis and `resid` as the y-axis. Name the axes \"Predicted Flight Delays\" and \"Residuals,\" respectively.\n",
    "2. Visualize this data as a scatter plot with markers (set parameter `marker=\"o\"`).\n",
    "3. Use matplotlib's [`axhline`](https://matplotlib.org/stable/api/_as_gen/matplotlib.pyplot.axhline.html) function to draw a horizonal line at $y=0$ (set parameter `color=\"black\"`)."
   ]
  },
  {
   "cell_type": "code",
   "execution_count": 14,
   "metadata": {
    "id": "0sluPwDFCm6Z",
    "scrolled": true
   },
   "outputs": [
    {
     "data": {
      "image/png": "[encoded data removed]",
      "text/plain": [
       "<Figure size 640x480 with 1 Axes>"
      ]
     },
     "metadata": {},
     "output_type": "display_data"
    }
   ],
   "source": [
    "## A13: your code here\n",
    "def generate_residual_plot(pred, resid):\n",
    "    plt.scatter(pred, resid, marker = 'o', s = 5)\n",
    "    plt.xlabel('Predicted Flight Delays')\n",
    "    plt.ylabel('Residuals')\n",
    "    plt.axhline(y = 0, color = 'black')\n",
    "\n",
    "generate_residual_plot(train_predictions, residuals)\n",
    "plt.show()"
   ]
  },
  {
   "cell_type": "markdown",
   "metadata": {
    "id": "t3KwcGyXCm6a"
   },
   "source": [
    "## Problem A14 (2 points)\n",
    "\n",
    "What does the shape of the residual plot tell you about the underlying data? Is this problematic? If so, what can we do to fix this?"
   ]
  },
  {
   "cell_type": "markdown",
   "metadata": {
    "id": "7WT_-kSkCm6b"
   },
   "source": [
    "**A14: Your answer here.**\n",
    "\n",
    "* The residual plot is heteroskedastic which tells me that the underlying data is not linear and needs to be transformed. \n",
    "* This is a problem because it means that our data has differing variance of residuals which can skew our analysis.\n",
    "* We can use transforms on the data to ensure the residuals have equal variance. "
   ]
  },
  {
   "cell_type": "markdown",
   "metadata": {
    "id": "JnvorzzQCm6b"
   },
   "source": [
    "## Problem A15 (2 points)\n",
    "\n",
    "Part a: Revisit the model you generated in A4. Now, you will run a linear regression to predict `arr_delay` with a modified set of `input_vars` (`engines`, `wind_speed`, `visib`, `JFK`, and `LGA`) that excludes `dep_delay` (i.e., the plane's departure delay). Name this regression `model` as before.\n",
    "\n",
    "Part b: As before, loop through `input_vars` and the trained model's coefficients to print out each variable name and coefficient value (e.g. `engines: 1.67`). We have provided given code that implements the loop using [`zip()`](https://www.programiz.com/python-programming/methods/built-in/zip) function.\n",
    "\n",
    "Part c: Print the model's intercept (e.g. `intercept: 19.92`). You should do this outside of the loop.\n",
    "\n",
    "For all printed variable and value combinations, use string formatting and round all numbers to two decimals."
   ]
  },
  {
   "cell_type": "code",
   "execution_count": 15,
   "metadata": {
    "id": "MsPTsRt-Cm6c"
   },
   "outputs": [
    {
     "name": "stdout",
     "output_type": "stream",
     "text": [
      "engines: 1.67\n",
      "wind_speed: 0.52\n",
      "visib: -2.64\n",
      "JFK: -5.87\n",
      "LGA: -0.57\n",
      "intercept: 19.92\n"
     ]
    }
   ],
   "source": [
    "# Given input list\n",
    "input_vars = [\"engines\", \"wind_speed\", \"visib\", \"JFK\", \"LGA\"]\n",
    "\n",
    "# A15 part a: your code here\n",
    "X = flights_train[input_vars]\n",
    "y = flights_train['arr_delay']\n",
    "model = LinearRegression().fit(X, y)\n",
    "\n",
    "# Given code\n",
    "for var_name, var_coef in zip(input_vars, model.coef_):\n",
    "    # A15 part b: your code here\n",
    "    print(f\"{var_name}: {round(var_coef, 2)}\")\n",
    "\n",
    "# A15 part c: your code here\n",
    "print(\"intercept:\", round(model.intercept_, 2))"
   ]
  },
  {
   "cell_type": "markdown",
   "metadata": {
    "id": "lsKXH2XzCm6c"
   },
   "source": [
    "**A15 Expected Output**\n",
    "```\n",
    "engines: 1.67\n",
    "wind_speed: 0.52\n",
    "visib: -2.64\n",
    "JFK: -5.87\n",
    "LGA: -0.57\n",
    "intercept: 19.92\n",
    "```"
   ]
  },
  {
   "cell_type": "markdown",
   "metadata": {
    "id": "iyqocJ0LCm6d"
   },
   "source": [
    "## Problem A16 (4 points)\n",
    "\n",
    "On the training set only, produce new predictions and residuals. Call them `train_predictions` and `residuals` as before. Using the function you wrote in A13, generate a new residual plot."
   ]
  },
  {
   "cell_type": "code",
   "execution_count": 16,
   "metadata": {
    "id": "V7vqpGppCm6d"
   },
   "outputs": [
    {
     "data": {
      "image/png": "[encoded data removed]",
      "text/plain": [
       "<Figure size 640x480 with 1 Axes>"
      ]
     },
     "metadata": {},
     "output_type": "display_data"
    }
   ],
   "source": [
    "## A16: your code here\n",
    "\n",
    "# Make predictions on train\n",
    "train_predictions = model.predict(X)\n",
    "residuals = flights_train['arr_delay'] - train_predictions\n",
    "\n",
    "# Generate residual plot\n",
    "generate_residual_plot(train_predictions, residuals)"
   ]
  },
  {
   "cell_type": "markdown",
   "metadata": {
    "id": "8kUaRpSqCm6e"
   },
   "source": [
    "## Problem A17 (2 points)\n",
    "\n",
    "Compare the plot in A16 to the plot in A13. What differences do you observe? What was the importance of excluding `dep_delay` (i.e., the delay of the plane's departure) from the regression?"
   ]
  },
  {
   "cell_type": "markdown",
   "metadata": {
    "id": "vOycC2JDCm6e"
   },
   "source": [
    "**A17: Your answer here.**\n",
    "\n",
    "* There is a greater range of residuals and smaller range of the number of predicted flight delays, and the residuals seem more randomly dispersed than the plot in A13. \n",
    "* Removing `dep_delay` from the regression means our model cannot make predictions based on/taking into account departure delays. "
   ]
  },
  {
   "cell_type": "markdown",
   "metadata": {
    "id": "tBz6sqvkCm6f"
   },
   "source": [
    "## Problem A18 (2 points)\n",
    "Recalculate RMSE and MAE using `sklearn`'s [`root_mean_squared_error`](https://scikit-learn.org/stable/modules/generated/sklearn.metrics.root_mean_squared_error.html) and [`mean_absolute_error`](https://scikit-learn.org/stable/modules/generated/sklearn.metrics.mean_absolute_error.html) functions.\n",
    "\n",
    "Print the train set RMSEs and MAEs using string formatting and rounding all numbers to two decimals."
   ]
  },
  {
   "cell_type": "code",
   "execution_count": 17,
   "metadata": {
    "id": "1tKgB1eOCm6f"
   },
   "outputs": [
    {
     "name": "stdout",
     "output_type": "stream",
     "text": [
      "Train RMSE: 41.63\n",
      "Train MAE: 24.68\n"
     ]
    }
   ],
   "source": [
    "## A18: your code here\n",
    "train_rmse = root_mean_squared_error(y_true = flights_train['arr_delay'], \\\n",
    "                                     y_pred = train_predictions)\n",
    "print(\"Train RMSE:\", round(train_rmse, 2))\n",
    "\n",
    "train_mae = mean_absolute_error(y_true = flights_train['arr_delay'], \\\n",
    "                                y_pred = train_predictions)\n",
    "print(\"Train MAE:\", round(train_mae, 2))"
   ]
  },
  {
   "cell_type": "markdown",
   "metadata": {
    "id": "SUV4x2NsCm6g"
   },
   "source": [
    "**A18 Expected Output**\n",
    "```\n",
    "Train RMSE: 41.63\n",
    "Train MAE: 24.68\n",
    "```"
   ]
  },
  {
   "cell_type": "markdown",
   "metadata": {
    "id": "CrP21Xj4Cm6g"
   },
   "source": [
    "## Problem A19\n",
    "In one sentence, compare the train RMSE and MAE from your original model (with `dep_delay` included as an input variable) and your new model (without `dep_delay`)."
   ]
  },
  {
   "cell_type": "markdown",
   "metadata": {
    "id": "7XSeMgJcCm6g"
   },
   "source": [
    "**A19: Your answer here.**\n",
    "The train RMSE and MAE from my original model (with `dep_delay` included as an input variable) were a lot lower than the train RMSE and MAE of my new model (without `dep_delay`). \n"
   ]
  },
  {
   "cell_type": "markdown",
   "metadata": {
    "id": "-putrZmvORjd"
   },
   "source": [
    "## Problem A20 (2 points)\n",
    "\n",
    "Now, we will try producing a model that uses a modified version of the outcome: `arr_delay` - `dep_delay`. This will allow us to predict arrival delays that are *not strictly* due to the departure delay and may be affected by other explanatory factors.\n",
    "\n",
    "Produce a column in `flights_train` that is equal to `arr_delay` - `dep_delay`. Name this column `arr_delay_diff`. Print the head of `flights_train[\"arr_delay_diff\"]`.\n"
   ]
  },
  {
   "cell_type": "code",
   "execution_count": 18,
   "metadata": {
    "id": "Sv0PltvnORjd"
   },
   "outputs": [
    {
     "name": "stdout",
     "output_type": "stream",
     "text": [
      "7171     -3\n",
      "11350    -9\n",
      "63208   -21\n",
      "1230     37\n",
      "90340     6\n",
      "Name: arr_delay_diff, dtype: int64\n"
     ]
    }
   ],
   "source": [
    "# A20: your code here\n",
    "flights_train['arr_delay_diff'] = flights_train['arr_delay'] - \\\n",
    "    flights_train['dep_delay']\n",
    "print(flights_train['arr_delay_diff'].head())\n"
   ]
  },
  {
   "cell_type": "markdown",
   "metadata": {
    "id": "8qi1cyJlORje"
   },
   "source": [
    "**A20 Expected Output**\n",
    "```\n",
    "7171     -3\n",
    "11350    -9\n",
    "63208   -21\n",
    "1230     37\n",
    "90340     6\n",
    "Name: arr_delay_diff, dtype: int64\n",
    "```"
   ]
  },
  {
   "cell_type": "markdown",
   "metadata": {
    "id": "0ui65d19ORje"
   },
   "source": [
    "## Problem A21 (3 points)\n",
    "\n",
    "Part a: With `arr_delay_diff` as the outcome, run a linear regression with the `input_vars` (`engines`, `wind_speed`, `visib`, `JFK`, and `LGA`) from A15. Name this regression `model2`.\n",
    "\n",
    "Part b: Loop through `input_vars` and the trained model's coefficients to print out each variable name and coefficient value (e.g. `engines: 1.67`). We have provided given code that implements the loop using [`zip()`](https://www.programiz.com/python-programming/methods/built-in/zip) function.\n",
    "\n",
    "Part c: Print the model's intercept (e.g. `intercept: -3.68`). You should do this outside of the loop.\n",
    "\n",
    "For all printed variable and value combinations, use string formatting and round all numbers to two decimals.\n",
    "\n",
    "**Note: the coefficients look similar to A7! Think about why this might be the case.**\n"
   ]
  },
  {
   "cell_type": "code",
   "execution_count": 19,
   "metadata": {
    "id": "9Gwp_wYfORje"
   },
   "outputs": [
    {
     "name": "stdout",
     "output_type": "stream",
     "text": [
      "engines: 2.35\n",
      "wind_speed: 0.18\n",
      "visib: -1.18\n",
      "JFK: -1.68\n",
      "LGA: 2.71\n",
      "intercept: -3.68\n"
     ]
    }
   ],
   "source": [
    "# Given input list\n",
    "input_vars = [\"engines\", \"wind_speed\", \"visib\", \"JFK\", \"LGA\"]\n",
    "\n",
    "# A21 part a: your code here\n",
    "X = flights_train[input_vars]\n",
    "y = flights_train['arr_delay_diff']\n",
    "model2 = LinearRegression().fit(X, y)\n",
    "\n",
    "# Given code\n",
    "for var_name, var_coef in zip(input_vars, model2.coef_):\n",
    "    # A21 part b: your code here\n",
    "    print(f\"{var_name}: {round(var_coef, 2)}\")\n",
    "\n",
    "# A21 part c: your code here\n",
    "print(\"intercept:\", round(model2.intercept_, 2))"
   ]
  },
  {
   "cell_type": "markdown",
   "metadata": {
    "id": "3xNLTzkRORje"
   },
   "source": [
    "**A21 Expected Output**\n",
    "\n",
    "```\n",
    "engines: 2.35\n",
    "wind_speed: 0.18\n",
    "visib: -1.18\n",
    "JFK: -1.68\n",
    "LGA: 2.71\n",
    "intercept: -3.68\n",
    "```"
   ]
  },
  {
   "cell_type": "markdown",
   "metadata": {
    "id": "H_2eYLrbORje"
   },
   "source": [
    "## Problem A22 (2 points)\n",
    "\n",
    "On the training set only, produce new predictions and residuals. Call them `train_predictions_2` and `residuals_2`. Using the function you wrote in A13, generate a new residual plot. Make sure you are using the new outcome variable ``arr_delay_diff`."
   ]
  },
  {
   "cell_type": "code",
   "execution_count": 20,
   "metadata": {
    "id": "dNCsE2csORje"
   },
   "outputs": [
    {
     "data": {
      "image/png": "[encoded data removed]",
      "text/plain": [
       "<Figure size 640x480 with 1 Axes>"
      ]
     },
     "metadata": {},
     "output_type": "display_data"
    }
   ],
   "source": [
    "## A22: your code here\n",
    "\n",
    "# Make predictions on train\n",
    "train_predictions_2 = model2.predict(X)\n",
    "residuals_2 = y - train_predictions_2\n",
    "\n",
    "# Generate residual plot\n",
    "generate_residual_plot(train_predictions_2, residuals_2)"
   ]
  },
  {
   "cell_type": "markdown",
   "metadata": {
    "id": "SkuD3bNFORje"
   },
   "source": [
    "You should see that the residual plot no longer is heteroskedastic. Because we accounted for the effect of departure delay in our outcome variable, we no longer see that it is skewing the variability of our predictions in relation to the true delay values. However, you may also observe that the coefficients are the same as our first model. The reason the coefficients are the same is because multivariate linear regression \"holds constant\" the effects of each explanatory variable. By subtracting `dep_delay` from `arr_delay`, we are effectively holding constant the effect of `dep_delay` when we look at the effects of the other `input_vars`."
   ]
  },
  {
   "cell_type": "markdown",
   "metadata": {
    "id": "PWwwQtDHeIe9"
   },
   "source": [
    "---\n",
    "# Section B: Multivariable Logistic Regression"
   ]
  },
  {
   "cell_type": "markdown",
   "metadata": {
    "id": "wISp2Uy-eIe9"
   },
   "source": [
    "The goal of this section is to develop a generalizable logistic regression model to predict whether movies will receive high IMDb user ratings based on their budget, runtime, and other attributes. We will use data on movies that has been scraped from IMDb and is hosted on Kaggle.\n",
    "\n",
    "The file `movies.csv` contains detailed information on a sample of movies (220 movies per year between 1986 and 2016) that are listed in IMDb. More information about the dataset can be found on the [Kaggle page](https://www.kaggle.com/datasets/danielgrijalvas/movies) associated with the data."
   ]
  },
  {
   "cell_type": "markdown",
   "metadata": {
    "id": "lpGzOycRCm6i"
   },
   "source": [
    "## Problem B1 (2 points)\n",
    "\n",
    "Using `pandas`, create a DataFrame called `movies` from the CSV file `movies.csv`.\n",
    "\n",
    "Use string formatting to print the shape of movies in the following format: `Shape before dropping: (7668, 15)`\n",
    "\n",
    "This dataset contains `NaN` values for a number of columns, and we only want to include movies with complete data. Use the  [`dropna()`](https://pandas.pydata.org/docs/reference/api/pandas.DataFrame.dropna.html) function to remove rows with missing values. Reassign this smaller dataframe to the original `movies` variable. Then, use string formatting to print the shape of movies after dropping the missing data in the following format: `Shape after dropping: (5421, 15)`"
   ]
  },
  {
   "cell_type": "code",
   "execution_count": 21,
   "metadata": {
    "id": "3hLVM5nseIe9"
   },
   "outputs": [
    {
     "name": "stdout",
     "output_type": "stream",
     "text": [
      "Shape before dropping: (7668, 15)\n",
      "Shape after dropping: (5421, 15)\n"
     ]
    }
   ],
   "source": [
    "## B1: your code here\n",
    "movies = pd.read_csv(\"movies.csv\")\n",
    "\n",
    "print(\"Shape before dropping:\", movies.shape)\n",
    "\n",
    "movies = movies.dropna()\n",
    "print(\"Shape after dropping:\", movies.shape)"
   ]
  },
  {
   "cell_type": "markdown",
   "metadata": {
    "id": "MT2UeZD4Cm6j"
   },
   "source": [
    "**B1 Expected Output**\n",
    "\n",
    "```\n",
    "Shape before dropping: (7668, 15)\n",
    "Shape after dropping: (5421, 15)\n",
    "```"
   ]
  },
  {
   "cell_type": "markdown",
   "metadata": {
    "id": "RCqW2r4eeIe9"
   },
   "source": [
    "## Problem B2 (3 points)\n",
    "In the `movies` dataset, `votes` refers to the count of IMDb user votes and `runtime` is the movie's duration. With the two columns, create a scatterplot using `matplotlib`. Make sure your plot follows the two specifications below:\n",
    "\n",
    "1. Use `runtime` as x-axis and `votes` as y-axis. Name the axes `Runtime` and `Votes`.\n",
    "2. Visualize this data as a scatter plot with markers (set parameter `marker=\"o\"`).\n"
   ]
  },
  {
   "cell_type": "code",
   "execution_count": 22,
   "metadata": {
    "id": "ixvRMwMteIe9"
   },
   "outputs": [
    {
     "data": {
      "image/png": "[encoded data removed]",
      "text/plain": [
       "<Figure size 640x480 with 1 Axes>"
      ]
     },
     "metadata": {},
     "output_type": "display_data"
    }
   ],
   "source": [
    "## B2: your code here\n",
    "plt.scatter(x = movies['runtime'], y = movies['votes'], marker = \"o\", s = 5)\n",
    "plt.xlabel('Runtime')\n",
    "plt.ylabel('Votes')\n",
    "plt.show()"
   ]
  },
  {
   "cell_type": "markdown",
   "metadata": {
    "id": "QCbgXfXueIe-"
   },
   "source": [
    "## Problem B3 (4 points)\n",
    "\n",
    "For the provided dataset of movies, generate rankings based on `runtime` and `votes`, creating two new columns named `runtime_rank` and `votes_rank`, respectively. When computing the rankings, handle tied ranks by using the average method.\n",
    "\n",
    "Then, calculate Spearman correlation between the generated rankings `runtime_rank` and `votes_rank`, and Pearson correlation between the raw  `runtime` and `votes` columns using the `scipy.stats` functions [`stats.pearsonr`](https://docs.scipy.org/doc/scipy/reference/generated/scipy.stats.pearsonr.html#scipy.stats.pearsonr) and [`stats.spearmanr`](https://docs.scipy.org/doc/scipy/reference/generated/scipy.stats.spearmanr.html#scipy.stats.spearmanr). Print Spearman correlation and Pearson correlation, in that order, with string formatting. Round these numbers to two decimals.\n",
    "\n",
    "*Hint #1:* Remember you can assign multiple variables at once from a function. Play around with this to print only the correlation and not the p-value, without brackets.\n",
    "\n",
    "*Hint #2:* You can create rankings using the `pandas` [`rank`](https://pandas.pydata.org/docs/reference/api/pandas.Series.rank.html) function."
   ]
  },
  {
   "cell_type": "code",
   "execution_count": 23,
   "metadata": {
    "id": "XK9MeGG56oQF"
   },
   "outputs": [
    {
     "name": "stdout",
     "output_type": "stream",
     "text": [
      "Spearman correlation is 0.30 and Pearson correlation is 0.35\n"
     ]
    }
   ],
   "source": [
    "## B3: your code here\n",
    "movies['runtime_rank'] = movies['runtime'].rank()\n",
    "movies['votes_rank'] = movies['votes'].rank()\n",
    "\n",
    "# Print the Spearman and Pearson correlations\n",
    "spearman_corr, spearman_pvalue = stats.spearmanr(movies['runtime_rank'], \\\n",
    "                                                 movies['votes_rank'])\n",
    "pearson_corr, pearson_pvalue = stats.pearsonr(movies['runtime'], \\\n",
    "                                              movies['votes'])\n",
    "\n",
    "print(f\"Spearman correlation is {\\\n",
    "    spearman_corr:.2f} and Pearson correlation is {pearson_corr:.2f}\")"
   ]
  },
  {
   "cell_type": "markdown",
   "metadata": {
    "id": "NpIzo244Cm6l"
   },
   "source": [
    "**B3 Expected Output**  \n",
    "```\n",
    "Spearman correlation is 0.30 and Pearson correlation is 0.35\n",
    "```"
   ]
  },
  {
   "cell_type": "markdown",
   "metadata": {
    "id": "NaxJMVMmeIe_"
   },
   "source": [
    "## Problem B4 (3 points)\n",
    "\n",
    "Using the `movies` dataset, screate a scatterplot of the `votes` and `score` variables using `matplotlib`. Make sure your plot follows the two specifications below:\n",
    "\n",
    "1. Use `votes` as x-axis and `score` as y-axis. Name the axes `Votes` and `Score`.\n",
    "2. Visualize this data as a scatter plot with markers (set parameter `marker=\"o\"`)."
   ]
  },
  {
   "cell_type": "code",
   "execution_count": 24,
   "metadata": {
    "id": "Zs-S3OqdeIe_"
   },
   "outputs": [
    {
     "data": {
      "image/png": "[encoded data removed]",
      "text/plain": [
       "<Figure size 640x480 with 1 Axes>"
      ]
     },
     "metadata": {},
     "output_type": "display_data"
    }
   ],
   "source": [
    "## B4: your code here\n",
    "plt.scatter(x = movies['votes'], y = movies['score'], marker = \"o\", s = 5)\n",
    "plt.xlabel('Votes')\n",
    "plt.ylabel('Score')\n",
    "plt.show()"
   ]
  },
  {
   "cell_type": "markdown",
   "metadata": {
    "id": "Lvyn-WvfCm6m"
   },
   "source": [
    "## Problem B5 (2 points)\n",
    "What does the scatterplot tell you about the relationship between `votes` and `score`?"
   ]
  },
  {
   "cell_type": "markdown",
   "metadata": {
    "id": "JFqFt0duCm6m"
   },
   "source": [
    "**B5: Your answer here.**\n",
    "\n",
    "* The relationship between `votes` and `score` is linear-log.\n",
    "* Using a linear model to predict `score` based on `votes` would be a problem because the scatterplot does not allow for a good linear fit with the data as the points are not distributed randomly.\n",
    "* We should perform a transformation on the scatterplot before running predictions. "
   ]
  },
  {
   "cell_type": "markdown",
   "metadata": {
    "id": "dAGql3sB7wXv"
   },
   "source": [
    "## Problem B6 (1 point)\n",
    "Now, we want to train a classifier to predict whether a movie is high-scoring (meaning that the `score` was **strictly greater than 7**).\n",
    "\n",
    "Create a column `high_score` in the `movies` dataframe. `high_score` should equal `1` if a movie's `score` is greater than `7` (exclusive), and `0` otherwise. Print the mean of `high_score` rounded to 2 decimal places."
   ]
  },
  {
   "cell_type": "code",
   "execution_count": 25,
   "metadata": {
    "id": "SjEH3D4t7rz0"
   },
   "outputs": [
    {
     "name": "stdout",
     "output_type": "stream",
     "text": [
      "0.25\n"
     ]
    }
   ],
   "source": [
    "# B6: your code here\n",
    "movies['high_score'] = (movies['score'] > 7).astype(int)\n",
    "print(round(movies['high_score'].mean(), 2))"
   ]
  },
  {
   "cell_type": "markdown",
   "metadata": {
    "id": "ArXcmQWVCm6o"
   },
   "source": [
    "**B6 Expected Output**\n",
    "```\n",
    "0.25\n",
    "```"
   ]
  },
  {
   "cell_type": "markdown",
   "metadata": {
    "id": "NdaodigOCm6o"
   },
   "source": [
    "## Problem B7 (1 point)\n",
    "Next, we create a `log_votes` column by taking the natural log of the `votes` column. We will be using `log_votes` as one of the input variables to predict `high_score`. Print the mean of `log_votes` rounded to 2 decimal places.\n"
   ]
  },
  {
   "cell_type": "code",
   "execution_count": 26,
   "metadata": {
    "id": "HU5N3fXaCm6p"
   },
   "outputs": [
    {
     "name": "stdout",
     "output_type": "stream",
     "text": [
      "10.76\n"
     ]
    }
   ],
   "source": [
    "# B7: your code here\n",
    "movies['log_votes'] = np.log(movies['votes'])\n",
    "print(round(movies['log_votes'].mean(), 2))"
   ]
  },
  {
   "cell_type": "markdown",
   "metadata": {
    "id": "uXhsFC0dCm6p"
   },
   "source": [
    "**B7 Expected Output**\n",
    "```\n",
    "10.76\n",
    "```"
   ]
  },
  {
   "cell_type": "markdown",
   "metadata": {
    "id": "v0GkneDWCm6p"
   },
   "source": [
    "## Problem B8 (2 points)\n",
    "In the `movies` dataframe, there are 15 unique values for the `genre` variable. To use `genre` as an input to our classifier, we need to create dummy variables for the `genre` variable. Use the [`pd.get_dummies()`](https://pandas.pydata.org/docs/reference/api/pandas.get_dummies.html) function to create a new dataframe called `genre_dummies` with 15 boolean series (i.e. a series for each genre category). Specify the `dtype` to be `int`.\n",
    "\n",
    "**Do *not* drop the first variable.**\n",
    "\n",
    "Print the first five rows of `genre_dummies`."
   ]
  },
  {
   "cell_type": "code",
   "execution_count": 27,
   "metadata": {
    "id": "HZ3GKqUl7yK_"
   },
   "outputs": [
    {
     "name": "stdout",
     "output_type": "stream",
     "text": [
      "   Action  Adventure  Animation  Biography  Comedy  Crime  Drama  Family  \\\n",
      "0       0          0          0          0       0      0      1       0   \n",
      "1       0          1          0          0       0      0      0       0   \n",
      "2       1          0          0          0       0      0      0       0   \n",
      "3       0          0          0          0       1      0      0       0   \n",
      "4       0          0          0          0       1      0      0       0   \n",
      "\n",
      "   Fantasy  Horror  Mystery  Romance  Sci-Fi  Thriller  Western  \n",
      "0        0       0        0        0       0         0        0  \n",
      "1        0       0        0        0       0         0        0  \n",
      "2        0       0        0        0       0         0        0  \n",
      "3        0       0        0        0       0         0        0  \n",
      "4        0       0        0        0       0         0        0  \n"
     ]
    }
   ],
   "source": [
    "## B8: your code here\n",
    "genre_dummies = pd.get_dummies(movies['genre'], dtype = int)\n",
    "print(genre_dummies.head())"
   ]
  },
  {
   "cell_type": "markdown",
   "metadata": {
    "id": "aq-QPbqZCm6q"
   },
   "source": [
    "**B8 Expected Output**\n",
    "\n",
    "```\n",
    "   Action  Adventure  Animation  Biography  Comedy  Crime  Drama  Family  \\\n",
    "0       0          0          0          0       0      0      1       0   \n",
    "1       0          1          0          0       0      0      0       0   \n",
    "2       1          0          0          0       0      0      0       0   \n",
    "3       0          0          0          0       1      0      0       0   \n",
    "4       0          0          0          0       1      0      0       0   \n",
    "\n",
    "   Fantasy  Horror  Mystery  Romance  Sci-Fi  Thriller  Western  \n",
    "0        0       0        0        0       0         0        0  \n",
    "1        0       0        0        0       0         0        0  \n",
    "2        0       0        0        0       0         0        0  \n",
    "3        0       0        0        0       0         0        0  \n",
    "4        0       0        0        0       0         0        0\n",
    "```"
   ]
  },
  {
   "cell_type": "markdown",
   "metadata": {
    "id": "fb_Ta0AZ73SA"
   },
   "source": [
    "## Problem B9 (2 points)\n",
    "\n",
    "Use `pd.concat` to concatenate `movies` with `genre_dummies` (i.e., side by side). Name the resulting dataframe `movies_with_dummies`.\n",
    "\n",
    "Print the shape of `movies_with_dummies`."
   ]
  },
  {
   "cell_type": "code",
   "execution_count": 28,
   "metadata": {
    "id": "F7qyBbCMy6RL"
   },
   "outputs": [
    {
     "name": "stdout",
     "output_type": "stream",
     "text": [
      "(5421, 34)\n"
     ]
    }
   ],
   "source": [
    "## B9: your code here\n",
    "movies_with_dummies = pd.concat(objs = [movies, genre_dummies], \\\n",
    "                                axis = 1)\n",
    "print(movies_with_dummies.shape)"
   ]
  },
  {
   "cell_type": "markdown",
   "metadata": {
    "id": "j-4M0Hi5Cm6s"
   },
   "source": [
    "**B9 Expected Output**\n",
    "\n",
    "```\n",
    "(5421, 34)\n",
    "```"
   ]
  },
  {
   "cell_type": "markdown",
   "metadata": {
    "id": "-NBKxrgl77RE"
   },
   "source": [
    "## Problem B10 (3 points)\n",
    "Next, we want to create train and test dataframes from `movies_with_dummies`. As in Section A, use the function [`train_test_split`](https://scikit-learn.org/stable/modules/generated/sklearn.model_selection.train_test_split.html) to create two new dataframes, `movies_highscore_train` and `movies_highscore_test`, with 30% of the data in the test set and a random state of 2950 (setting the random state will ensure that the TAs can check your outputs quickly).\n",
    "\n",
    "Print the shape of `movies_highscore_train` and `movies_highscore_test`."
   ]
  },
  {
   "cell_type": "code",
   "execution_count": 29,
   "metadata": {
    "id": "PM9Ac7wmCm6s"
   },
   "outputs": [
    {
     "name": "stdout",
     "output_type": "stream",
     "text": [
      "(3794, 34)\n",
      "(1627, 34)\n"
     ]
    }
   ],
   "source": [
    "## B10: your code here\n",
    "movies_highscore_train, movies_highscore_test = \\\n",
    "    train_test_split(movies_with_dummies, test_size = 0.3, \\\n",
    "                     random_state = 2950)\n",
    "print(movies_highscore_train.shape)\n",
    "print(movies_highscore_test.shape)"
   ]
  },
  {
   "cell_type": "markdown",
   "metadata": {
    "id": "QcCqyRJICm6t"
   },
   "source": [
    "**B10 Expected Output**\n",
    "\n",
    "```\n",
    "(3794, 34)\n",
    "(1627, 34)\n",
    "```"
   ]
  },
  {
   "cell_type": "markdown",
   "metadata": {
    "id": "yNMvrXTK7qjQ"
   },
   "source": [
    "## Problem B11 (4 points)\n",
    "Next we want to train a logistic regression model to predict whether a movie is high scoring. To predict a score, we will use a combination of genre variables and other metadata about the movie, including `votes` (total number of votes), `runtime` (the movie's duration in minutes), `budget` (the total amount of money used to make the money), and `gross` (the total amount of money the movie actually earned). We will use the following setup:\n",
    "\n",
    "Name the logistic regression model `logistic_model`.\n",
    "\n",
    "- Dataset: `movies_highscore_train`\n",
    "- Model:\n",
    "  \n",
    "  `high_score` ~ $\\sigma$(`runtime` + `budget` + `gross` + `log_votes` +  `Action` + `Adventure` + `Animation` + `Biography` + `Comedy` + `Crime`,\n",
    "       `Drama` + `Family` + `Fantasy` + `Horror` + `Mystery` + `Romance` + `Sci-Fi` + `Thriller`)\n",
    "\n",
    "Notice that we drop the `Western` genre dummy variable from the inputs. This is because the 15 genre dummy variables are mutually exclusive, so we need to drop one dummy to be the reference variable.\n",
    "\n",
    "We've provided a `Normalizer()` function that will normalize your input values. Recall how pressing the \"normalize\" button in the Wines user interface we played with in class helped us get a better MSE. In a similar way to how we normalized the wine variables, the `Normalizer()` function we've provided uses scikit-learn's [StandardScaler()](https://scikit-learn.org/stable/modules/preprocessing.html) to normalize our input.\n",
    "\n",
    "Use the `Normalizer()` function on your input columns when fitting the model.\n",
    "\n",
    "Print the coefficient for `runtime`, `budget`, `gross`, `log(votes)`, and `Drama` with string formatting. Round the numbers to two decimals."
   ]
  },
  {
   "cell_type": "code",
   "execution_count": 30,
   "metadata": {
    "id": "em1mFMp67snS"
   },
   "outputs": [],
   "source": [
    "## Given code\n",
    "input_columns = ['runtime', 'budget', 'gross', 'log_votes', \\\n",
    "                 'Action', 'Adventure', 'Animation', 'Biography', \\\n",
    "                 'Comedy', 'Crime', 'Drama', 'Family', 'Fantasy', \\\n",
    "                 'Horror', 'Mystery', 'Romance', 'Sci-Fi', 'Thriller']\n",
    "\n",
    "def Normalizer(df_cols):\n",
    "    scaler = preprocessing.StandardScaler().fit(df_cols)\n",
    "    return(scaler.transform(df_cols))"
   ]
  },
  {
   "cell_type": "code",
   "execution_count": 31,
   "metadata": {
    "id": "5maVWHkiUSyk"
   },
   "outputs": [
    {
     "name": "stdout",
     "output_type": "stream",
     "text": [
      "The model's runtime coefficient is 0.88\n",
      "The model's budget coefficient is -1.09\n",
      "The model's gross coefficient is 0.19\n",
      "The model's log_votes coefficient is 1.80\n",
      "The model's Drama coefficient is 0.20\n"
     ]
    }
   ],
   "source": [
    "## B11: your code here\n",
    "X = Normalizer(movies_highscore_train[input_columns])\n",
    "y = movies_highscore_train['high_score']\n",
    "logistic_model = LogisticRegression().fit(X, y)\n",
    "\n",
    "print(f\"The model's runtime coefficient is {\\\n",
    "    logistic_model.coef_[0, 0]:.2f}\")\n",
    "print(f\"The model's budget coefficient is {\\\n",
    "    logistic_model.coef_[0, 1]:.2f}\")\n",
    "print(f\"The model's gross coefficient is {\\\n",
    "    logistic_model.coef_[0, 2]:.2f}\")\n",
    "print(f\"The model's log_votes coefficient is {\\\n",
    "    logistic_model.coef_[0, 3]:.2f}\")\n",
    "print(f\"The model's Drama coefficient is {\\\n",
    "    logistic_model.coef_[0, 10]:.2f}\")"
   ]
  },
  {
   "cell_type": "markdown",
   "metadata": {
    "id": "DFDrsMVFCm6u"
   },
   "source": [
    "**Expected Output**\n",
    "\n",
    "```\n",
    "The model's runtime coefficient is 0.88\n",
    "The model's budget coefficient is -1.09\n",
    "The model's gross coefficient is 0.19\n",
    "The model's log_votes coefficient is 1.80\n",
    "The model's Drama coefficient is 0.20\n",
    "```"
   ]
  },
  {
   "cell_type": "markdown",
   "metadata": {
    "id": "6cKoJ1liUVV7"
   },
   "source": [
    "## Problem B12 (3 points)\n",
    "Summarize the relationship between `budget` and `high_score`, as well as `log_votes` and `high_score`. Explain this in 1-2 sentences."
   ]
  },
  {
   "cell_type": "markdown",
   "metadata": {
    "id": "XSDhzMAcUXlU"
   },
   "source": [
    "**B12: Your answer here:**\n",
    "\n",
    "**Fill in the blanks below:**\n",
    "\n",
    "1. Budget and high score: Our model estimates that, (a) ______, for each additional (b) $_______ increase in the film's budget, the odds of the movie being high scoring are (c) [increased/decreased]. The odds are multiplied by (d) ___.\n",
    "\n",
    "- a: all else equal\n",
    "- b: $1 \n",
    "- c: decreased \n",
    "- d: e^{-1.09} or approximately 0.336\n",
    "\n",
    "\n",
    "\n",
    "2. Our model estimates that, (a) ______,  a (b) ______\\% change in the count of IMDb voters is associated with a (c) ______\\% (d) [increase/decrease] in the odds of the movie being high scoring. The odds are multiplied by (e) ___.\n",
    "\n",
    "- a: all else equal\n",
    "- b: 1% \n",
    "- c: 1.80\n",
    "- d: increase\n",
    "- e: e^{1.80} or approximately 6.05. \n"
   ]
  },
  {
   "cell_type": "markdown",
   "metadata": {
    "id": "SPECg7txUZ1R"
   },
   "source": [
    "## Problem B13 (2 points)\n",
    "Would it make sense to include an interaction variable for `Romance*Comedy` in this regression? Explain this in 1-2 sentences."
   ]
  },
  {
   "cell_type": "markdown",
   "metadata": {
    "id": "lPJ3Q2SSUakO"
   },
   "source": [
    "**B13: Your answer here**\n",
    "It would make sense to include an interaction variable for `Romance*Comedy` in this regression because it helps us summarize the combined effect of a movie being both Romance and Comedy genre on its rating/high_score. \n"
   ]
  },
  {
   "cell_type": "markdown",
   "metadata": {
    "id": "LwFO6dw37_sX"
   },
   "source": [
    "---\n",
    "\n",
    "# Section C: Evaluation Metrics for Classification\n",
    "\n",
    "## Problem C1 (3 points)\n",
    "Now, we will start using the test set, `movies_highscore_test`.\n",
    "\n",
    "Use `.predict()` to apply `logistic_model` to make predictions on `movies_highscore_test`, with the same list of `input_columns` as used to train the model. Don't forget to normalize these input columns with your `Normalizer()` first. Name the resulting array `y_pred`.\n",
    "\n",
    "\n",
    "Print the first 10 values of `y_pred`.\n",
    "\n",
    "Hint 1: `y_pred` is a *numpy array* and not a dataframe, so think back to how we would index an array."
   ]
  },
  {
   "cell_type": "code",
   "execution_count": 32,
   "metadata": {
    "id": "49c7vmVY8BnV"
   },
   "outputs": [
    {
     "name": "stdout",
     "output_type": "stream",
     "text": [
      "[0 1 0 0 0 0 0 0 0 0]\n"
     ]
    }
   ],
   "source": [
    "## C1: your code here\n",
    "X_test = Normalizer(movies_highscore_test[input_columns])\n",
    "y_pred = logistic_model.predict(X_test)\n",
    "print(y_pred[0:10])"
   ]
  },
  {
   "cell_type": "markdown",
   "metadata": {
    "id": "M9-4q642Cm6x"
   },
   "source": [
    "**C1 Expected Output**\n",
    "\n",
    "```\n",
    "[0 1 0 0 0 0 0 0 0 0]\n",
    "```"
   ]
  },
  {
   "cell_type": "markdown",
   "metadata": {
    "id": "NcvjvLKu8DA4"
   },
   "source": [
    "## Problem C2  (4 points)\n",
    "Evaluate the model by calculating accuracy, precision, recall, and F1 score between the predictions (`y_pred`) and true values (`movies_highscore_test['high_score']`).\n",
    "\n",
    "Use the following functions to calculate the evaluation metric values on the test set:\n",
    "- accuracy: [`accuracy_score()`](https://scikit-learn.org/stable/modules/generated/sklearn.metrics.accuracy_score.html)\n",
    "- precision: [`precision_score()`](https://scikit-learn.org/stable/modules/generated/sklearn.metrics.precision_score.html)\n",
    "\n",
    "- recall: [`recall_score()`](https://scikit-learn.org/stable/modules/generated/sklearn.metrics.recall_score.html)\n",
    "- F1: [`f1_score()`](https://scikit-learn.org/stable/modules/generated/sklearn.metrics.f1_score.html)\n",
    "\n",
    "Print the test set evaluation metric values using string formatting. Round these numbers to two decimals.\n"
   ]
  },
  {
   "cell_type": "code",
   "execution_count": 33,
   "metadata": {
    "id": "O2otN1v68F99"
   },
   "outputs": [
    {
     "name": "stdout",
     "output_type": "stream",
     "text": [
      "accuracy: 0.85\n",
      "precision: 0.74\n",
      "recall: 0.58\n",
      "F1: 0.65\n"
     ]
    }
   ],
   "source": [
    "## C2: your code here\n",
    "y_true = movies_highscore_test['high_score']\n",
    "\n",
    "accuracy = accuracy_score(y_true, y_pred)\n",
    "precision = precision_score(y_true, y_pred)\n",
    "recall = recall_score(y_true, y_pred)\n",
    "F1 = f1_score(y_true, y_pred)\n",
    "\n",
    "print(\"accuracy:\", round(accuracy, 2))\n",
    "print(\"precision:\", round(precision, 2))\n",
    "print(\"recall:\", round(recall, 2))\n",
    "print(\"F1:\", round(F1, 2))"
   ]
  },
  {
   "cell_type": "markdown",
   "metadata": {
    "id": "PvWxj4v8Cm6y"
   },
   "source": [
    "**C2 Expected Output**\n",
    "\n",
    "```\n",
    "accuracy: 0.85\n",
    "precision: 0.74\n",
    "recall: 0.58\n",
    "F1: 0.65\n",
    "```"
   ]
  },
  {
   "cell_type": "markdown",
   "metadata": {
    "id": "mCWQn7u18HVB"
   },
   "source": [
    "## Problem C3  (3 points)\n",
    "\n",
    "Interpret the accuracy, precision, recall, and F1 score you get from the previous question. Each interpretation should be approximately one sentence."
   ]
  },
  {
   "cell_type": "markdown",
   "metadata": {
    "id": "vTB4Mtus8Iwj"
   },
   "source": [
    "**C3: Your answer here**\n",
    "* **Accuracy:** Our model accurately predicts whether or not a movie is high scoring 85% of the time.\n",
    "* **Precision:** From the movies that the model predicts as high scoring, the model is correct 74% of the time. \n",
    "* **Recall:** Out of the total of high scoring movies, our model accurately predicts the high scoring movies only 58% of the time. \n",
    "* **F1:** A F1 score of 0.65 means precision and recall are relatively balanced. \n"
   ]
  },
  {
   "cell_type": "markdown",
   "metadata": {
    "id": "offEdIB58lrt"
   },
   "source": [
    "---\n",
    "# Section D: Cross Validation\n",
    "## Problem D1 (3 points)\n",
    "\n",
    "Instead of creating a single train test split as we did in the prior sections, we'll perform cross validation on the full `movies_with_dummies` dataframe.\n",
    "\n",
    "Use [`KFold`](https://scikit-learn.org/stable/modules/generated/sklearn.model_selection.KFold.html) to create a K-Fold cross-validator with 6 splits that do *not* randomly shuffle (i.e., set `shuffle=False` and `random_state=None`). *You do not need to input `movies_with_dummies` to `KFold`.*\n",
    "\n",
    "Name the resulting variable `kf`. We will use `kf` in the next question to perform cross-validation.\n",
    "\n",
    "Print the data type of `kf`."
   ]
  },
  {
   "cell_type": "code",
   "execution_count": 34,
   "metadata": {
    "id": "lRZAIh4s8nPB"
   },
   "outputs": [
    {
     "name": "stdout",
     "output_type": "stream",
     "text": [
      "<class 'sklearn.model_selection._split.KFold'>\n"
     ]
    }
   ],
   "source": [
    "## D1: your code here\n",
    "kf = KFold(n_splits = 6)\n",
    "print(type(kf))"
   ]
  },
  {
   "cell_type": "markdown",
   "metadata": {
    "id": "niGPQsjtCm6-"
   },
   "source": [
    "**D1 Expected Output**\n",
    "```\n",
    "<class 'sklearn.model_selection._split.KFold'>\n",
    "```"
   ]
  },
  {
   "cell_type": "markdown",
   "metadata": {
    "id": "g2P1TiFZ8oq-"
   },
   "source": [
    "## Problem D2 (4 points)\n",
    "\n",
    "Use the [`cross_val_score`](https://scikit-learn.org/stable/modules/generated/sklearn.model_selection.cross_val_score.html) in scikit-learn to evaluate `precision` scores of logistic regression on the 6 splits.\n",
    "\n",
    "- `estimator`: `LogisticRegression(solver=\"liblinear\")`\n",
    "- `X`: the 19 columns included in the `input_columns` list, selected from the `movies_with_dummies` df. Don't forget to normalize these columns with `Normalizer()`.\n",
    "- `y`: `high_score` column from the `movies_with_dummies` df.\n",
    "- `cv`: `kf` from previous question.\n",
    "- `scoring`: `precision`\n",
    "\n",
    "Print the average precision score across splits (i.e., the average of `precision_cv`), and the standard deviation of the precision score across splits (i.e., the standard deviation of `precision_cv`). Round each number to two decimals using string formatting."
   ]
  },
  {
   "cell_type": "code",
   "execution_count": 35,
   "metadata": {
    "id": "xQTlvcM28qGA"
   },
   "outputs": [
    {
     "name": "stdout",
     "output_type": "stream",
     "text": [
      "Mean precision: 0.76\n",
      "Std precision: 0.08\n"
     ]
    }
   ],
   "source": [
    "## D2: your code here\n",
    "estimator = LogisticRegression(solver = \"liblinear\")\n",
    "X = Normalizer(movies_with_dummies[input_columns])\n",
    "y = movies_with_dummies['high_score']\n",
    "\n",
    "precision_cv = cross_val_score(estimator, X, y, \\\n",
    "                        scoring = 'precision', cv = kf)\n",
    "\n",
    "print(f\"Mean precision: {precision_cv.mean():.2f}\")\n",
    "print(f\"Std precision: {precision_cv.std():.2f}\")"
   ]
  },
  {
   "cell_type": "markdown",
   "metadata": {
    "id": "lhzUtNYGCm6_"
   },
   "source": [
    "**D2 Expected Output**\n",
    "\n",
    "```\n",
    "Mean precision: 0.76\n",
    "Std precision: 0.08\n",
    "```"
   ]
  },
  {
   "cell_type": "markdown",
   "metadata": {
    "id": "hJ-FSPNC8rfY"
   },
   "source": [
    "## Problem D3 (3 points)\n",
    "In a couple sentences, explain:\n",
    "- 1 reason why you would trust the precision from problem C2 (based on the test set) more than the precision from problem D2 (based on the average of cross validation sets), and\n",
    "- 1 reason why you would trust the precision from problem D2 more than the precision from problem C2\n",
    "\n",
    "*Hint:* Notice that the precision scores are very close, so we’re looking for an answer that doesn’t involve a comparison of those numbers."
   ]
  },
  {
   "cell_type": "markdown",
   "metadata": {
    "id": "msT1jMPa8snh"
   },
   "source": [
    "**D3: Your answer here**\n",
    "* I would trust the precision from problem C2 more than the precision from problem D2 because precision on a train/test set is more straightforward and only has 2 different sets (train and test). Since the train and test sets are fixed and more simple than cross validation folds, the precision from problem C2 is more accurate in real-world contexts and applications. \n",
    "* I would trust the precision from problem D2 more than the precision from problem C2 because having different folds of data provides a more generalizable view of the data. Because there are more data splits/folds, the effects of variability is decreased, and the precision from problem D2 is generally more informative and accurate. \n"
   ]
  }
 ],
 "metadata": {
  "colab": {
   "provenance": [],
   "toc_visible": true
  },
  "kernelspec": {
   "display_name": "Python 3 (ipykernel)",
   "language": "python",
   "name": "python3"
  },
  "language_info": {
   "codemirror_mode": {
    "name": "ipython",
    "version": 3
   },
   "file_extension": ".py",
   "mimetype": "text/x-python",
   "name": "python",
   "nbconvert_exporter": "python",
   "pygments_lexer": "ipython3",
   "version": "3.12.2"
  }
 },
 "nbformat": 4,
 "nbformat_minor": 4
}
