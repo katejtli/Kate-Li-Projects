{
 "cells": [
  {
   "cell_type": "markdown",
   "metadata": {
    "id": "5zs-zzbHge7d"
   },
   "source": [
    "# INFO 2950 Fall 2024 Homework 6"
   ]
  },
  {
   "cell_type": "markdown",
   "metadata": {
    "id": "zBX8_pjiMAW3"
   },
   "source": [
    "For each answer code cell, **do not** erase the line stating `#A1: your code here`; instead, write your answer code directly below the line.\n",
    "\n",
    "When you turn in this homework, all cells must be executed and the notebook saved with output included. You must also save your **fully executed notebook** as a pdf following the instructions in the Student Handbook posted on Canvas > Modules > Course Policies. You will turn in this notebook without any of the data files.\n",
    "\n",
    "A **fully executed notebook** means that you should be seeing the expected output printed below the cell after you click \"Restart Kernel and Run All Cells.\" *If any cell in the PDF of your notebook does not have the expected output printed below it, it will not be considered fully executed and you will not receive points for the questions in that cell.*\n",
    "\n",
    "**If you use any sources aside from the standard documentation of Python libraries, you must cite the sources (e.g., StackOverflow links) used to answer the below questions. If you use ChatGPT, you must include proof of the prompt you used, as well as an explanation of why the resulting code is correct.**\n",
    "\n",
    "In this homework, you will practice more with probability and machine learning methods. You will implement methods like sentiment analysis, Singular Value Decomposition, K-means clustering, and Naïve Bayes.\n",
    "\n",
    "Part of this homework will involve practicing how to use online resources. *Nobody* remembers everything. There is no level of experience that will allow you to never use documentation and question-answer forums. The key is to use these in ways that help you grow your skills, not in ways that prevent you from growing. They also provide an opportunity to express gratitude for people who helped you."
   ]
  },
  {
   "cell_type": "markdown",
   "metadata": {
    "id": "6frBFW3EL52Z"
   },
   "source": [
    "**NetID:** kl739"
   ]
  },
  {
   "cell_type": "markdown",
   "metadata": {
    "id": "IRRwGqgkMJ1H"
   },
   "source": [
    "---\n",
    "\n",
    "## Problem 0\n",
    "Do not move or modify this cell, we use it for automated homework analysis.\n",
    "\n",
    "**This problem is for you to use to cite your sources.**\n",
    "\n",
    "You will update this problem over the course of the homework. Describe problems, error messages, and bugs you encountered, and how you fixed or addressed them. List URLs for any online resources (like Stack Overflow) you found useful and mention fellow students, TAs, or other people who helped you. If you use ChatGPT, you must include proof of the prompt you used, as well as an explanation of why the resulting code is correct. If you do not appropriately fill out Problem 0, you will receive 0 points on the entire homework assignment.\n",
    "\n"
   ]
  },
  {
   "cell_type": "markdown",
   "metadata": {
    "id": "yzqFxy-zMHQD"
   },
   "source": [
    "**ADD YOUR SOURCES HERE**\n",
    "* **Chatgpt prompt: \"How do you multiply the dimensions of a CountVectorizer() matrix by 8?\"** -> This prompt gave me the answer that I had to get the dimensions of word_counts using .shape, which was my first thought as well. I originally wasn't sure how to multiply the dimensions by 8. I didn't know if I needed to multiply rows by 8 and add that to columns multiplied 8. But Chatgpt said that I simply needed to multiply rows by columns by 8. After following this steps, my code output matched the expected output.\n",
    "* **Chatgpt prompt: \"How do you used the sorted function to sort tuples?\"** -> I asked Chatgpt this prompt because my code for C9 was not matching the expected output. My original tuple had the first element as tfidf_vocabulary and the second element as diff. However, sorting the tuples by diff (the second element) was rather complex. So as a solution, I switched the elements of the tuple so that the first element was now diff and the second element was tfidf_vocabulary.\n",
    "* **Chatgpt prompt: \"How do i round in python so that it prints 1.30 and not 1.3?\"** -> My code was outputting rounded values like 1.3 instead of the expected output of 1.30, so I asked Chatgpt how to fix this issue. Chatgpt gave me the solution of f-strings with precision specifier. By using a specifier like `:.2f`, this ensures that my output is rounded to 2 decimal places, even if the last decimal place is a 0.\n",
    "* **Error message = \"TypeError: 'KMeans' object is not subscriptable\"** -> I Googled this error, but I didn't find anything helpful. I used trial and error to get the expected output for D2, but I wasn't sure if I was allowed to index the labels. I used Chatgpt to check my answer, and this was my Chatgpt prompt: **how do i use .labels_ to find the cluster associated with the review at a certain index?** It confirmed my trial-and-error process, so my final code is `target_cluster = clustering.labels_[39]`.\n",
    "* I didn't know how to calculate an un-normalized probability for Bayes. I used StackExchange and ChatGPT to help me. **StackExchange** (https://stats.stackexchange.com/questions/12112/normalizing-constant-in-bayes-theorem) helped me learn that \"Pr(data) [the denominator of the Bayes Rule] is nothing but a \"normalising constant.\" **My ChatGPT prompt was this: \"How to you unnormalize a bayes rule probability?\"** Chatgpt explained that I just needed to ignore the denominator of the Bayes Rule.\n",
    "\n",
    "\n",
    "---"
   ]
  },
  {
   "cell_type": "code",
   "execution_count": 1,
   "metadata": {
    "id": "1c40ec90",
    "tags": []
   },
   "outputs": [],
   "source": [
    "import numpy as np\n",
    "import pandas as pd\n",
    "\n",
    "import seaborn\n",
    "from matplotlib import pyplot\n",
    "\n",
    "from sklearn.feature_extraction.text import CountVectorizer, TfidfVectorizer\n",
    "from sklearn.preprocessing import normalize\n",
    "\n",
    "from sklearn.cluster import KMeans\n",
    "from sklearn.naive_bayes import MultinomialNB\n",
    "from sklearn.linear_model import LogisticRegression\n",
    "from sklearn.model_selection import train_test_split\n",
    "\n",
    "from wordcloud import WordCloud, STOPWORDS\n",
    "import string\n",
    "from matplotlib import pyplot as plt"
   ]
  },
  {
   "cell_type": "markdown",
   "metadata": {
    "id": "RDXeVO5yG3lR"
   },
   "source": [
    "**Note:** If you receive a `ModuleNotFoundError: No module named 'wordcloud'` when you run the import statements above, you should:\n",
    "1. Uncomment and run the below cell: `%pip install wordcloud`\n",
    "2. Click 'Kernel > Restart Kernel and Clear Outputs of All Cells...'\n",
    "4. Rerun the import statements"
   ]
  },
  {
   "cell_type": "code",
   "execution_count": 2,
   "metadata": {
    "id": "AZocU-MTG3lS",
    "tags": []
   },
   "outputs": [],
   "source": [
    "#%pip install wordcloud"
   ]
  },
  {
   "cell_type": "markdown",
   "metadata": {
    "id": "nUC7qCbmgWpr"
   },
   "source": [
    "# Part A: Letter Probabilities and Language Detection"
   ]
  },
  {
   "cell_type": "markdown",
   "metadata": {
    "id": "f0aj2io41GYC"
   },
   "source": [
    "In class, we calculated the probability of ghost or pumpkin from two \"urns\", and used those numbers to guess which urn was more likely to have produced that sequence of emoji.\n",
    "In this problem you will do the same thing but with a sequence of letters. Instead of urns, you will compare the probability of each sequence of letters to the probability of each letter for several European languages.\n",
    "\n",
    "\n"
   ]
  },
  {
   "cell_type": "markdown",
   "metadata": {
    "id": "706g6HwGCxjJ"
   },
   "source": [
    "## Problem A1 (2 points)\n",
    "\n",
    "\n",
    "Start by loading letter frequency data from the file `letter_frequency.csv`, using `pd.read_csv`. This data is from [Wikipedia](https://en.wikipedia.org/wiki/Letter_frequency#Relative_frequencies_of_letters_in_other_languages), collected by Adrianus Kleemans in a data file at [this Github repo](https://github.com/akleemans/letter-frequency). You will need to specify the correct delimiter (it might help to open the contents of the csv in a text editor, or through Jupyter) using the `delimiter` parameter. You should also set the index column (`index_col`) parameter to be the  `Letter` column.\n",
    "\n",
    "The numeric values in the file are percentages, but we want probabilities. Multiply the dataset by `0.01` and save the output dataframe in a variable `letter_data`. Print the first five rows of the dataframe using a combination of `print` and `head`.\n",
    "\n",
    "\n",
    "*Hint*: if your output doesn’t look exactly like ours, it might be because you’re only displaying and not printing the head of the dataframe."
   ]
  },
  {
   "cell_type": "code",
   "execution_count": 3,
   "metadata": {
    "id": "OqO5Xy-a1uqW",
    "tags": []
   },
   "outputs": [
    {
     "name": "stdout",
     "output_type": "stream",
     "text": [
      "         French   German  Spanish  Portuguese  Esperanto  Italian  Turkish  \\\n",
      "Letter                                                                       \n",
      "a       0.07636  0.06516  0.11525     0.14634    0.12117  0.11745  0.12920   \n",
      "b       0.00901  0.01886  0.02215     0.01043    0.00980  0.00927  0.02844   \n",
      "c       0.03260  0.02732  0.04019     0.03882    0.00776  0.04501  0.01463   \n",
      "d       0.03669  0.05076  0.05010     0.04992    0.03044  0.03736  0.05206   \n",
      "e       0.14715  0.16396  0.12181     0.12570    0.08995  0.11792  0.09912   \n",
      "\n",
      "        Swedish   Polish    Dutch   Danish  Icelandic  Finnish    Czech  \n",
      "Letter                                                                   \n",
      "a       0.09383  0.10503  0.07486  0.06025    0.10110  0.12217  0.08421  \n",
      "b       0.01535  0.01740  0.01584  0.02000    0.01043  0.00281  0.00822  \n",
      "c       0.01486  0.03895  0.01242  0.00565    0.00000  0.00281  0.00740  \n",
      "d       0.04702  0.03725  0.05933  0.05858    0.01575  0.01043  0.03475  \n",
      "e       0.10149  0.07352  0.17324  0.15453    0.06418  0.07968  0.07562  \n"
     ]
    }
   ],
   "source": [
    "# A1: your code here\n",
    "letter_frequency = pd.read_csv('letter_frequency.csv', delimiter = ';', \\\n",
    "                               index_col = 'Letter')\n",
    "letter_data = 0.01 * letter_frequency\n",
    "print(letter_data.head())"
   ]
  },
  {
   "cell_type": "markdown",
   "metadata": {
    "id": "3_zTvX5MG3lT"
   },
   "source": [
    "\n",
    "**A1 Expected Output**\n",
    "```\n",
    "         French   German  Spanish  Portuguese  Esperanto  Italian  Turkish  \\\n",
    "Letter                                                                       \n",
    "a       0.07636  0.06516  0.11525     0.14634    0.12117  0.11745  0.12920   \n",
    "b       0.00901  0.01886  0.02215     0.01043    0.00980  0.00927  0.02844   \n",
    "c       0.03260  0.02732  0.04019     0.03882    0.00776  0.04501  0.01463   \n",
    "d       0.03669  0.05076  0.05010     0.04992    0.03044  0.03736  0.05206   \n",
    "e       0.14715  0.16396  0.12181     0.12570    0.08995  0.11792  0.09912   \n",
    "\n",
    "        Swedish   Polish    Dutch   Danish  Icelandic  Finnish    Czech  \n",
    "Letter                                                                   \n",
    "a       0.09383  0.10503  0.07486  0.06025    0.10110  0.12217  0.08421  \n",
    "b       0.01535  0.01740  0.01584  0.02000    0.01043  0.00281  0.00822  \n",
    "c       0.01486  0.03895  0.01242  0.00565    0.00000  0.00281  0.00740  \n",
    "d       0.04702  0.03725  0.05933  0.05858    0.01575  0.01043  0.03475  \n",
    "e       0.10149  0.07352  0.17324  0.15453    0.06418  0.07968  0.07562  \n",
    "```"
   ]
  },
  {
   "cell_type": "markdown",
   "metadata": {
    "id": "TtKW2PBy1xSs"
   },
   "source": [
    "## Problem A2 (3 Points)\n",
    "\n",
    "a) Create a variable `polish` and set it equal to the column for `\"Polish\"` from the data frame. Print the first 26 values of this series.\n",
    "\n",
    "b) Use the `.loc` accessor on the `letter_data` df to get the row in the original data set for `\"c\"`. Print this row (not specific to Polish); it will be displayed vertically.\n",
    "\n",
    "c) Finally, take the natural logarithm of that row for the letter `\"c\"` (use `np.log()` on your answer from part b). Print the result.\n",
    "\n",
    "*Note:* In part (c), you may get a warning ` RuntimeWarning: divide by zero encountered in log`! This is expected behavior as `log(0)` is undefined. In such cases, the probability returned will be undefined."
   ]
  },
  {
   "cell_type": "code",
   "execution_count": 4,
   "metadata": {
    "id": "h4MP5yh5bN5I",
    "tags": []
   },
   "outputs": [
    {
     "name": "stdout",
     "output_type": "stream",
     "text": [
      "Letter\n",
      "a    0.10503\n",
      "b    0.01740\n",
      "c    0.03895\n",
      "d    0.03725\n",
      "e    0.07352\n",
      "f    0.00143\n",
      "g    0.01731\n",
      "h    0.01015\n",
      "i    0.08328\n",
      "j    0.01836\n",
      "k    0.02753\n",
      "l    0.02564\n",
      "m    0.02515\n",
      "n    0.06237\n",
      "o    0.06667\n",
      "p    0.02445\n",
      "q    0.00000\n",
      "r    0.05243\n",
      "s    0.05224\n",
      "t    0.02475\n",
      "u    0.02062\n",
      "v    0.00012\n",
      "w    0.05813\n",
      "x    0.00004\n",
      "y    0.03206\n",
      "z    0.04852\n",
      "Name: Polish, dtype: float64\n"
     ]
    }
   ],
   "source": [
    "# A2(a): your code here\n",
    "polish = letter_data.iloc[:, 8]\n",
    "print(polish[:26])"
   ]
  },
  {
   "cell_type": "markdown",
   "metadata": {
    "id": "ZHkTZ4PWG3lT"
   },
   "source": [
    "\n",
    "**A2(a) Expected Output**\n",
    "```\n",
    "Letter\n",
    "a    0.10503\n",
    "b    0.01740\n",
    "c    0.03895\n",
    "d    0.03725\n",
    "e    0.07352\n",
    "f    0.00143\n",
    "g    0.01731\n",
    "h    0.01015\n",
    "i    0.08328\n",
    "j    0.01836\n",
    "k    0.02753\n",
    "l    0.02564\n",
    "m    0.02515\n",
    "n    0.06237\n",
    "o    0.06667\n",
    "p    0.02445\n",
    "q    0.00000\n",
    "r    0.05243\n",
    "s    0.05224\n",
    "t    0.02475\n",
    "u    0.02062\n",
    "v    0.00012\n",
    "w    0.05813\n",
    "x    0.00004\n",
    "y    0.03206\n",
    "z    0.04852\n",
    "Name: Polish, dtype: float64\n",
    "```"
   ]
  },
  {
   "cell_type": "code",
   "execution_count": 5,
   "metadata": {
    "id": "XC4I3vlfbN5I",
    "tags": []
   },
   "outputs": [
    {
     "name": "stdout",
     "output_type": "stream",
     "text": [
      "French        0.03260\n",
      "German        0.02732\n",
      "Spanish       0.04019\n",
      "Portuguese    0.03882\n",
      "Esperanto     0.00776\n",
      "Italian       0.04501\n",
      "Turkish       0.01463\n",
      "Swedish       0.01486\n",
      "Polish        0.03895\n",
      "Dutch         0.01242\n",
      "Danish        0.00565\n",
      "Icelandic     0.00000\n",
      "Finnish       0.00281\n",
      "Czech         0.00740\n",
      "Name: c, dtype: float64\n"
     ]
    }
   ],
   "source": [
    "# A2(b): your code here\n",
    "row_c = letter_data.loc['c']\n",
    "print(row_c)"
   ]
  },
  {
   "cell_type": "markdown",
   "metadata": {
    "id": "2jazO01wG3lT"
   },
   "source": [
    "**A2(b) Expected Output**\n",
    "\n",
    "```\n",
    "French        0.03260\n",
    "German        0.02732\n",
    "Spanish       0.04019\n",
    "Portuguese    0.03882\n",
    "Esperanto     0.00776\n",
    "Italian       0.04501\n",
    "Turkish       0.01463\n",
    "Swedish       0.01486\n",
    "Polish        0.03895\n",
    "Dutch         0.01242\n",
    "Danish        0.00565\n",
    "Icelandic     0.00000\n",
    "Finnish       0.00281\n",
    "Czech         0.00740\n",
    "Name: c, dtype: float64\n",
    "```"
   ]
  },
  {
   "cell_type": "code",
   "execution_count": 67,
   "metadata": {
    "id": "dvQCbIGGQh7r",
    "tags": []
   },
   "outputs": [
    {
     "name": "stdout",
     "output_type": "stream",
     "text": [
      "French       -3.423443\n",
      "German       -3.600136\n",
      "Spanish      -3.214137\n",
      "Portuguese   -3.248820\n",
      "Esperanto    -4.858773\n",
      "Italian      -3.100871\n",
      "Turkish      -4.224681\n",
      "Swedish      -4.209082\n",
      "Polish       -3.245477\n",
      "Dutch        -4.388447\n",
      "Danish       -5.176100\n",
      "Icelandic         -inf\n",
      "Finnish      -5.874571\n",
      "Czech        -4.906275\n",
      "Name: c, dtype: float64\n"
     ]
    }
   ],
   "source": [
    "# A2(c): your code here\n",
    "print(np.log(row_c))"
   ]
  },
  {
   "cell_type": "markdown",
   "metadata": {
    "id": "0nUq2A8zG3lU"
   },
   "source": [
    "**A2(c) Expected Output**\n",
    "```\n",
    "French       -3.423443\n",
    "German       -3.600136\n",
    "Spanish      -3.214137\n",
    "Portuguese   -3.248820\n",
    "Esperanto    -4.858773\n",
    "Italian      -3.100871\n",
    "Turkish      -4.224681\n",
    "Swedish      -4.209082\n",
    "Polish       -3.245477\n",
    "Dutch        -4.388447\n",
    "Danish       -5.176100\n",
    "Icelandic         -inf\n",
    "Finnish      -5.874571\n",
    "Czech        -4.906275\n",
    "Name: c, dtype: float64\n",
    "```"
   ]
  },
  {
   "cell_type": "markdown",
   "metadata": {
    "id": "eWS85534AkKJ"
   },
   "source": [
    "## Problem A3 (4 points)\n",
    "Consider the results from problem A2 and answer the following questions:\n",
    "\n",
    "a) Are any English letters not present in the Polish text? Which one(s)?\n",
    "\n",
    "b) Which language has the highest probability of \"*c*\"?\n",
    "\n",
    "c) How can you tell from the log probabilities which language has the highest probability?\n",
    "\n",
    "d) Which language does not use the letter \"*c*\"? What happens to the log probability for that language?"
   ]
  },
  {
   "cell_type": "markdown",
   "metadata": {
    "id": "CMVVbHA_QyBI"
   },
   "source": [
    "**A3: your answer here**\n",
    "\n",
    "a) The letter \"q\" is not present in the Polish text; the probability that the letter \"q\" is in the Polish alphabet is 0.0.\n",
    "\n",
    "b) Italian has the highest probability of \"c\" with a probability of 0.045.\n",
    "\n",
    "c) Using the log probabilities, the language that has the highest probability of \"c\" is the least negative. In other words, the language with the largest log probability is the language that has the highest probability.\n",
    "\n",
    "d) Icelandic does not use the letter \"c\" since its probability is listed as 0.0. The log probability for Icelandic for the letter \"c\" is an infinite value (infinity). "
   ]
  },
  {
   "cell_type": "markdown",
   "metadata": {
    "id": "UodAwhK710-a"
   },
   "source": [
    "## Problem A4 (5 Points)\n",
    "\n",
    "a) Create a function `get_scores` that takes one argument, a string `s`. The function will return the sum of the log-probabilities of every character in the string `s` being present in each of the 14 languages in `letter_data`.\n",
    "\n",
    "In this function:\n",
    "\n",
    "1. Convert the input string `s` to lowercase.\n",
    "2. Use the function `np.zeros` to create a variable `language_scores` that is an array of 14 zeros (one for each language).\n",
    "3. Write a `for` loop that iterates over each letter `c` in `s`. (Remember that a Python string is an array of letters!) Within the `for` loop:\n",
    "    * First, check to see if letter `c` is in the `index` of `letter_data`.\n",
    "    * Then, if it is, calculate the log-probabilities of letter `c` occurring in each language (i.e. the same calculation as in problem A2c)\n",
    "    * Finally, add the log-probabilities of letter `c` occurring in each language to the array `language_scores`. (Remember, in `numpy` you can add the entire array with one operation!)\n",
    "4. Return `language_scores`.\n",
    "\n",
    "b) Use the `get_scores` function to evaluate the log probabilities of the string `\"abc\"` occurring in each of the 14 languages. Print this result.\n",
    "\n",
    "c) Which language is most likely to have produced this string?\n",
    "\n",
    "d) Why is Icelandic negative infinity?"
   ]
  },
  {
   "cell_type": "code",
   "execution_count": 7,
   "metadata": {
    "id": "l--aSYqRQ9DY",
    "tags": []
   },
   "outputs": [],
   "source": [
    "# A4(a): your code here\n",
    "def get_scores(s):\n",
    "    s = s.lower()\n",
    "    language_scores = np.zeros(14)\n",
    "    for c in s:\n",
    "        if letter_data.index.isin([c]).any():\n",
    "            log_prob_c = np.log(letter_data.loc[c])\n",
    "            language_scores = language_scores + log_prob_c\n",
    "    return language_scores"
   ]
  },
  {
   "cell_type": "code",
   "execution_count": 8,
   "metadata": {
    "id": "3P_EPtll0460",
    "tags": []
   },
   "outputs": [
    {
     "name": "stdout",
     "output_type": "stream",
     "text": [
      "French       -10.705159\n",
      "German       -10.301758\n",
      "Spanish       -9.184706\n",
      "Portuguese    -9.733711\n",
      "Esperanto    -11.594707\n",
      "Italian       -9.923585\n",
      "Turkish       -9.831033\n",
      "Swedish      -10.751993\n",
      "Polish        -9.550271\n",
      "Dutch        -11.125800\n",
      "Danish       -11.897375\n",
      "Icelandic          -inf\n",
      "Finnish      -13.851483\n",
      "Czech        -12.181902\n",
      "dtype: float64\n"
     ]
    }
   ],
   "source": [
    "# A4(b): your code here\n",
    "print(get_scores('abc'))"
   ]
  },
  {
   "cell_type": "markdown",
   "metadata": {
    "id": "L7iavq21G3lU"
   },
   "source": [
    "**A4(b) Expected Output**\n",
    "\n",
    "```\n",
    "French       -10.705159\n",
    "German       -10.301758\n",
    "Spanish       -9.184706\n",
    "Portuguese    -9.733711\n",
    "Esperanto    -11.594707\n",
    "Italian       -9.923585\n",
    "Turkish       -9.831033\n",
    "Swedish      -10.751993\n",
    "Polish        -9.550271\n",
    "Dutch        -11.125800\n",
    "Danish       -11.897375\n",
    "Icelandic          -inf\n",
    "Finnish      -13.851483\n",
    "Czech        -12.181902\n",
    "Name: a, dtype: float64\n",
    "```"
   ]
  },
  {
   "cell_type": "markdown",
   "metadata": {
    "id": "XKpo0y_wSI1q"
   },
   "source": [
    "**A4(c): your answer here** Spanish is most likely to have produced this string \"abc\". "
   ]
  },
  {
   "cell_type": "markdown",
   "metadata": {
    "id": "p78dPVdi1Gq3"
   },
   "source": [
    "**A4(d): your answer here** Icelandic is negative infinity because the model believes it is impossible for Icelandic to have produced the string \"abc\"."
   ]
  },
  {
   "cell_type": "markdown",
   "metadata": {
    "id": "qAGVonFCB4jh"
   },
   "source": [
    "## Problem A5 (6 Points)\n",
    "\n",
    "We have selected several short passages from Wikipedias in different languages. These languages include Dutch, Finnish, German, Icelandic, Italian, Polish, and Portuguese.\n",
    "\n",
    "(i) For each passage below, use your `get_scores` function to calculate and print the likelihood scores for each language.\n",
    "\n",
    "(ii) Then guess what language this text is (either using your own knowledge or using Google Translate). In one sentence, comment on whether your guess agrees with your code output’s highest likelihood language. If your guess doesn’t agree with the auto-detected language, explain why that might be (for example, by specifying any letters or phrases that might be particularly identifying of a language)."
   ]
  },
  {
   "cell_type": "code",
   "execution_count": 9,
   "metadata": {
    "id": "FBXszjK_G3lU"
   },
   "outputs": [],
   "source": [
    "# A5(a): given code\n",
    "text_a5a = \"Het Rijksmuseum in Amsterdam bevat een uitgebreide collectie van kunstwerken uit de Nederlandse Gouden Eeuw, waaronder schilderijen van Rembrandt en Vermeer.\""
   ]
  },
  {
   "cell_type": "code",
   "execution_count": 10,
   "metadata": {
    "id": "uO9Etc3cB8lw",
    "tags": []
   },
   "outputs": [
    {
     "name": "stdout",
     "output_type": "stream",
     "text": [
      "French       -405.287554\n",
      "German       -384.190684\n",
      "Spanish      -420.285253\n",
      "Portuguese   -421.466444\n",
      "Esperanto           -inf\n",
      "Italian      -427.758675\n",
      "Turkish             -inf\n",
      "Swedish      -398.180763\n",
      "Polish       -436.265275\n",
      "Dutch        -380.072679\n",
      "Danish       -395.037240\n",
      "Icelandic           -inf\n",
      "Finnish      -426.365139\n",
      "Czech        -438.919652\n",
      "dtype: float64\n"
     ]
    }
   ],
   "source": [
    "# A5(a)i: your code here to get scores for text sample text_a5a\n",
    "print(get_scores(text_a5a))"
   ]
  },
  {
   "cell_type": "markdown",
   "metadata": {
    "id": "4wMtgCdYT6ts"
   },
   "source": [
    "**A5(a)ii: your answer here**\n",
    "\n",
    "* I'm guessing that this text is Dutch. \n",
    "* This guess agrees with my code's outputted highest likelihood language. The language scores show that Dutch has the highest likelihood probability. "
   ]
  },
  {
   "cell_type": "code",
   "execution_count": 11,
   "metadata": {
    "id": "qehBGRv6G3lV"
   },
   "outputs": [],
   "source": [
    "# A5(b): given code\n",
    "text_a5b = \"La Torre di Pisa è famosa per la sua inclinazione, che è stata causata da un cedimento del terreno durante la costruzione.\""
   ]
  },
  {
   "cell_type": "code",
   "execution_count": 12,
   "metadata": {
    "id": "jEaob_DQT6eJ",
    "tags": []
   },
   "outputs": [
    {
     "name": "stdout",
     "output_type": "stream",
     "text": [
      "French       -283.114091\n",
      "German              -inf\n",
      "Spanish             -inf\n",
      "Portuguese          -inf\n",
      "Esperanto           -inf\n",
      "Italian      -277.345436\n",
      "Turkish             -inf\n",
      "Swedish             -inf\n",
      "Polish              -inf\n",
      "Dutch               -inf\n",
      "Danish              -inf\n",
      "Icelandic           -inf\n",
      "Finnish             -inf\n",
      "Czech               -inf\n",
      "dtype: float64\n"
     ]
    }
   ],
   "source": [
    "# A5(b)i: your code here to get scores for text sample text_a5b\n",
    "print(get_scores(text_a5b))"
   ]
  },
  {
   "cell_type": "markdown",
   "metadata": {
    "id": "C6UTZ8z4T6J7"
   },
   "source": [
    "**A5(b)ii: your answer here**\n",
    "\n",
    "* My guess is that this text is Italian. \n",
    "* My ugess agrees with my code's outputted highest likelihood language because Italian has the highiest likelihood probability. "
   ]
  },
  {
   "cell_type": "code",
   "execution_count": 13,
   "metadata": {
    "id": "yUddjl-3G3lV"
   },
   "outputs": [],
   "source": [
    "# A5(c): given code\n",
    "text_a5c = \"Lähtökohdat ja päämäärät vaihtelevat suuresti eri kulttuureissa, mutta filosofian peruskysymykset pysyvät samoina.\""
   ]
  },
  {
   "cell_type": "code",
   "execution_count": 14,
   "metadata": {
    "id": "0so9fIVST519",
    "tags": []
   },
   "outputs": [
    {
     "name": "stdout",
     "output_type": "stream",
     "text": [
      "French              -inf\n",
      "German       -352.426590\n",
      "Spanish             -inf\n",
      "Portuguese          -inf\n",
      "Esperanto           -inf\n",
      "Italian             -inf\n",
      "Turkish             -inf\n",
      "Swedish      -319.569705\n",
      "Polish              -inf\n",
      "Dutch               -inf\n",
      "Danish              -inf\n",
      "Icelandic           -inf\n",
      "Finnish      -304.385139\n",
      "Czech               -inf\n",
      "dtype: float64\n"
     ]
    }
   ],
   "source": [
    "# A5(c)i: your code here to get scores for text sample text_a5c\n",
    "print(get_scores(text_a5c))"
   ]
  },
  {
   "cell_type": "markdown",
   "metadata": {
    "id": "Wm-tZ_3pT5rp"
   },
   "source": [
    "**A5(c)ii: your answer here**\n",
    "\n",
    "* My guess is that this text is Swedish.\n",
    "* My guess did not agree with my code's outputted highest likelihood language which shows that the text is Finnish."
   ]
  },
  {
   "cell_type": "code",
   "execution_count": 15,
   "metadata": {
    "id": "Y9K34-HHG3lV"
   },
   "outputs": [],
   "source": [
    "# A5(d): given code\n",
    "text_a5d = \"Útganga landa úr Evrópusambandinu er stundum umdeild, þar sem margar þjóðir hafa ólíkar skoðanir á framtíðinni innan sambandsins.\""
   ]
  },
  {
   "cell_type": "code",
   "execution_count": 16,
   "metadata": {
    "id": "9WwmaC9IShGR",
    "tags": []
   },
   "outputs": [
    {
     "name": "stdout",
     "output_type": "stream",
     "text": [
      "French              -inf\n",
      "German              -inf\n",
      "Spanish             -inf\n",
      "Portuguese          -inf\n",
      "Esperanto           -inf\n",
      "Italian             -inf\n",
      "Turkish             -inf\n",
      "Swedish             -inf\n",
      "Polish              -inf\n",
      "Dutch               -inf\n",
      "Danish              -inf\n",
      "Icelandic    -337.139383\n",
      "Finnish             -inf\n",
      "Czech               -inf\n",
      "dtype: float64\n"
     ]
    }
   ],
   "source": [
    "# A5(d)i: your code here to get scores for text sample text_a5d\n",
    "print(get_scores(text_a5d))"
   ]
  },
  {
   "cell_type": "markdown",
   "metadata": {
    "id": "Vxwn58I7Sg8s"
   },
   "source": [
    "**A5(d)ii: your answer here**\n",
    "\n",
    "* I guessed that this text was Icelandic.\n",
    "* This guess agrees with my code's outputted highest likelihood language. Icelandic was the only language that my code outputted as a possible language. "
   ]
  },
  {
   "cell_type": "code",
   "execution_count": 17,
   "metadata": {
    "id": "EwX5sj8GG3lZ"
   },
   "outputs": [],
   "source": [
    "# A5(e): given code\n",
    "text_a5e = \"Der menschliche Körper besteht aus etwa 37 Billionen Zellen, die durch verschiedene biologische Prozesse miteinander verbunden sind.\""
   ]
  },
  {
   "cell_type": "code",
   "execution_count": 18,
   "metadata": {
    "id": "6PJVGzYwSgy4",
    "tags": []
   },
   "outputs": [
    {
     "name": "stdout",
     "output_type": "stream",
     "text": [
      "French              -inf\n",
      "German       -322.491652\n",
      "Spanish             -inf\n",
      "Portuguese          -inf\n",
      "Esperanto           -inf\n",
      "Italian             -inf\n",
      "Turkish             -inf\n",
      "Swedish      -341.173107\n",
      "Polish              -inf\n",
      "Dutch               -inf\n",
      "Danish              -inf\n",
      "Icelandic           -inf\n",
      "Finnish      -371.894533\n",
      "Czech               -inf\n",
      "dtype: float64\n"
     ]
    }
   ],
   "source": [
    "# A5(e)i: your code here to get scores for text sample text_a5e\n",
    "print(get_scores(text_a5e))"
   ]
  },
  {
   "cell_type": "markdown",
   "metadata": {
    "id": "_HrCyWDdSgoT"
   },
   "source": [
    "**A5(e)ii: your answer here**\n",
    "\n",
    "* My guess is that this text is German.\n",
    "* My guess agrees with my code's outputted highest likelihood language which displays German with the highest likelihood probability. "
   ]
  },
  {
   "cell_type": "code",
   "execution_count": 19,
   "metadata": {
    "id": "DBJeLVA8G3lZ"
   },
   "outputs": [],
   "source": [
    "# A5(f): given code\n",
    "text_a5f = \"A arquitetura moderna no Brasil foi amplamente influenciada por nomes como Oscar Niemeyer e Lúcio Costa, que projetaram edifícios icônicos em Brasília.\""
   ]
  },
  {
   "cell_type": "code",
   "execution_count": 20,
   "metadata": {
    "id": "KFYHkxP1Sge7",
    "tags": []
   },
   "outputs": [
    {
     "name": "stdout",
     "output_type": "stream",
     "text": [
      "French              -inf\n",
      "German              -inf\n",
      "Spanish             -inf\n",
      "Portuguese   -381.285088\n",
      "Esperanto           -inf\n",
      "Italian             -inf\n",
      "Turkish             -inf\n",
      "Swedish             -inf\n",
      "Polish              -inf\n",
      "Dutch               -inf\n",
      "Danish              -inf\n",
      "Icelandic           -inf\n",
      "Finnish             -inf\n",
      "Czech               -inf\n",
      "dtype: float64\n"
     ]
    }
   ],
   "source": [
    "# A5(f)i: your code here to get scores for text sample text_a5f\n",
    "print(get_scores(text_a5f))"
   ]
  },
  {
   "cell_type": "markdown",
   "metadata": {
    "id": "f3ZO_3skSgSk"
   },
   "source": [
    "**A5(f)ii: your answer here**\n",
    "\n",
    "* My guess is that this text is Spanish.  \n",
    "* My guess did not agree with my code's outputted highest likelihood language which displayed Spanish with a negative infinity likelihood probability. My code showed that this text is actually Portuguese."
   ]
  },
  {
   "cell_type": "code",
   "execution_count": 21,
   "metadata": {
    "id": "rSzRYpC5G3lZ"
   },
   "outputs": [],
   "source": [
    "# A5(g): given code\n",
    "text_a5g = \"Na początku swojej kariery sportowej, koszykarz zyskał sławę w USA, ale jego nazwisko, Qiang, jest niełatwe do wymówienia dla Polaków.\""
   ]
  },
  {
   "cell_type": "code",
   "execution_count": 22,
   "metadata": {
    "id": "HtdAjMMxSgHx",
    "tags": []
   },
   "outputs": [
    {
     "name": "stdout",
     "output_type": "stream",
     "text": [
      "French       -inf\n",
      "German       -inf\n",
      "Spanish      -inf\n",
      "Portuguese   -inf\n",
      "Esperanto    -inf\n",
      "Italian      -inf\n",
      "Turkish      -inf\n",
      "Swedish      -inf\n",
      "Polish       -inf\n",
      "Dutch        -inf\n",
      "Danish       -inf\n",
      "Icelandic    -inf\n",
      "Finnish      -inf\n",
      "Czech        -inf\n",
      "dtype: float64\n"
     ]
    }
   ],
   "source": [
    "# A5(g)i: your code here to get scores for text sample text_a5g\n",
    "print(get_scores(text_a5g))"
   ]
  },
  {
   "cell_type": "markdown",
   "metadata": {
    "id": "eU3SLMI-Sf7m"
   },
   "source": [
    "**A5(g)ii: your answer here**\n",
    "\n",
    "* My guess is that this text is Polish. \n",
    "* My guess does not agree with my code, which shows that this text is not any of the displayed languages. This may be because of the name \"Qiang\", which may make it hard for my code to detect the correct language."
   ]
  },
  {
   "cell_type": "markdown",
   "metadata": {
    "id": "kqXqTamYgUHe"
   },
   "source": [
    "# Part B: Predicting Movie Review Sentiment\n",
    "The file `movie_hw6.tsv` contains tab-delimited data for 4,835 movie reviews. Each review is labeled with either a 1 for \"positive\" or a 0 for \"negative\" sentiment."
   ]
  },
  {
   "cell_type": "markdown",
   "metadata": {
    "id": "1d84a5a4"
   },
   "source": [
    "## Problem B1 (1 point)\n",
    "Use `pd.read_csv` to read in `movie_hw6.tsv`. Note that `movie_hw6.tsv` is tab-delimited, so you need to specify the `delimiter=\"\\t\"`. Name the dataframe `reviews_df`.\n",
    "\n",
    "Fully print the first review in the dataframe `reviews_df` by selecting the column `text` and first row.\n",
    "\n",
    "Then, print the associated label with this review by selecting the column `label` and first row."
   ]
  },
  {
   "cell_type": "code",
   "execution_count": 23,
   "metadata": {
    "id": "eeb0fb72",
    "tags": []
   },
   "outputs": [
    {
     "name": "stdout",
     "output_type": "stream",
     "text": [
      "The central theme in this movie seems to be confusion, as the relationships, setting, acting and social context all lead to the same place: confusion. Even Harvey Keitel appears to be out of his element, and lacks his usual impeccable clarity, direction and intensity. To make matters worse, his character's name is 'Che', and we are only told (directly, by the narrator) well into the film that he is not 'that' Che, just a guy named Che. The family relationships remain unclear until the end of the film, and once defined, the family is divided - the younger generation off to America. So cliché. Other reviews discuss how the movie depicts the impact of the revolution on a boy's family; however the political stance of the director is murky at best, and we are never quite sure who is responsible for what bloodshed. So they lost their property (acquired by gambling profits) - so what? Refusing to take a political stand, when making a movie about the Cuban revolution, is an odd and cowardly choice. Not to mention the movie was in English! Why are all these Cubans speaking English? No wonder they did not get permission to film in Cuba. And if family life is most important to look at here, it would be great if we could figure out who is who - we are 'introduced' to them all in the beginning - a cheap way out of making the relationships clear throughout the film! The acting was mostly shallow, wooden, and unbelievable, timing was off all around. The 'special' visual effects were confusing and distracting. References to American films - and the black character as Greek chorus - strictly gratuitous, intellectually ostentatious, and consistently out of place. I only watched the whole movie because I was waiting for clarity, or some point to it all. It never happened.\n"
     ]
    }
   ],
   "source": [
    "# B1: your code here\n",
    "reviews_df = pd.read_csv('movie_hw6.tsv', delimiter = '\\t')\n",
    "print(reviews_df.iloc[0, 0])"
   ]
  },
  {
   "cell_type": "markdown",
   "metadata": {
    "id": "VvXSdbllG3la"
   },
   "source": [
    "**B1 Expected Output**\n",
    "\n",
    "```\n",
    "The central theme in this movie seems to be confusion, as the relationships, setting, acting and social context all lead to the same place: confusion. Even Harvey Keitel appears to be out of his element, and lacks his usual impeccable clarity, direction and intensity. To make matters worse, his character's name is 'Che', and we are only told (directly, by the narrator) well into the film that he is not 'that' Che, just a guy named Che. The family relationships remain unclear until the end of the film, and once defined, the family is divided - the younger generation off to America. So cliché. Other reviews discuss how the movie depicts the impact of the revolution on a boy's family; however the political stance of the director is murky at best, and we are never quite sure who is responsible for what bloodshed. So they lost their property (acquired by gambling profits) - so what? Refusing to take a political stand, when making a movie about the Cuban revolution, is an odd and cowardly choice. Not to mention the movie was in English! Why are all these Cubans speaking English? No wonder they did not get permission to film in Cuba. And if family life is most important to look at here, it would be great if we could figure out who is who - we are 'introduced' to them all in the beginning - a cheap way out of making the relationships clear throughout the film! The acting was mostly shallow, wooden, and unbelievable, timing was off all around. The 'special' visual effects were confusing and distracting. References to American films - and the black character as Greek chorus - strictly gratuitous, intellectually ostentatious, and consistently out of place. I only watched the whole movie because I was waiting for clarity, or some point to it all. It never happened.\n",
    "0\n",
    "```"
   ]
  },
  {
   "cell_type": "markdown",
   "metadata": {
    "id": "eb878e83"
   },
   "source": [
    "## Problem B2 (3 points)\n",
    "\n",
    "Next, we want to calculate the frequency and percentages of word occurrences in every review. To achieve this, you will use `scikit-learn`'s [`CountVectorizer()`](https://scikit-learn.org/stable/modules/generated/sklearn.feature_extraction.text.CountVectorizer.html) to convert all text in this set of reviews into a matrix of word counts.\n",
    "\n",
    "(a)\n",
    "First, create a variable called  `count_vectorizer` that is simply a `CountVectorizer` object. You do not need to specify any parameters in the `CountVectorizer`.\n",
    "\n",
    "(b) Then, take the `count_vectorizer` and use the  [`fit_transform`](https://scikit-learn.org/stable/modules/generated/sklearn.feature_extraction.text.CountVectorizer.html#sklearn.feature_extraction.text.CountVectorizer.fit_transform) function on `reviews_df`'s `text` column. The `fit_transform` function learns the vocabulary dictionary, which is the set of unique words across all reviews, and returns the review-term matrix. In this matrix, each row correponds to a review and each column represents a unique word in the learned vocabulary. Save the output of `fit_transform` in a variable called `word_counts` and print the shape of `word_counts`.\n",
    "\n",
    "(c) Transform `word_counts` by dividing it by the number of rows and save this in a variable called `word_shares`. Print the first row of `word_shares`.\n",
    "\n",
    "*Hint*: the number of rows of a matrix is the first element returned by `.shape`."
   ]
  },
  {
   "cell_type": "code",
   "execution_count": 24,
   "metadata": {
    "id": "d6c26c25",
    "tags": []
   },
   "outputs": [
    {
     "name": "stdout",
     "output_type": "stream",
     "text": [
      "(4835, 38280)\n",
      "<Compressed Sparse Row sparse matrix of dtype 'float64'\n",
      "\twith 176 stored elements and shape (1, 38280)>\n",
      "  Coords\tValues\n",
      "  (0, 585)\t0.00020682523267838676\n",
      "  (0, 754)\t0.00020682523267838676\n",
      "  (0, 770)\t0.0004136504653567735\n",
      "  (0, 1321)\t0.001034126163391934\n",
      "  (0, 1503)\t0.00020682523267838676\n",
      "  (0, 1504)\t0.00020682523267838676\n",
      "  (0, 1575)\t0.00020682523267838676\n",
      "  (0, 1621)\t0.002481902792140641\n",
      "  (0, 1919)\t0.00020682523267838676\n",
      "  (0, 2055)\t0.000827300930713547\n",
      "  (0, 2142)\t0.00020682523267838676\n",
      "  (0, 2225)\t0.0004136504653567735\n",
      "  (0, 2390)\t0.0004136504653567735\n",
      "  (0, 3156)\t0.0006204756980351603\n",
      "  (0, 3228)\t0.00020682523267838676\n",
      "  (0, 3298)\t0.00020682523267838676\n",
      "  (0, 3514)\t0.00020682523267838676\n",
      "  (0, 3753)\t0.00020682523267838676\n",
      "  (0, 3918)\t0.00020682523267838676\n",
      "  (0, 4350)\t0.00020682523267838676\n",
      "  (0, 5034)\t0.0004136504653567735\n",
      "  (0, 5716)\t0.00020682523267838676\n",
      "  (0, 5852)\t0.0004136504653567735\n",
      "  (0, 5939)\t0.0006204756980351603\n",
      "  (0, 5942)\t0.00020682523267838676\n",
      "  :\t:\n",
      "  (0, 34402)\t0.00020682523267838676\n",
      "  (0, 34478)\t0.002481902792140641\n",
      "  (0, 34522)\t0.00020682523267838676\n",
      "  (0, 35458)\t0.00020682523267838676\n",
      "  (0, 35489)\t0.00020682523267838676\n",
      "  (0, 36023)\t0.00020682523267838676\n",
      "  (0, 36171)\t0.00020682523267838676\n",
      "  (0, 36694)\t0.00020682523267838676\n",
      "  (0, 36871)\t0.00020682523267838676\n",
      "  (0, 37013)\t0.000827300930713547\n",
      "  (0, 37043)\t0.00020682523267838676\n",
      "  (0, 37090)\t0.00020682523267838676\n",
      "  (0, 37104)\t0.000827300930713547\n",
      "  (0, 37214)\t0.00020682523267838676\n",
      "  (0, 37241)\t0.00020682523267838676\n",
      "  (0, 37283)\t0.0004136504653567735\n",
      "  (0, 37300)\t0.00020682523267838676\n",
      "  (0, 37379)\t0.0006204756980351603\n",
      "  (0, 37385)\t0.00020682523267838676\n",
      "  (0, 37408)\t0.00020682523267838676\n",
      "  (0, 37683)\t0.00020682523267838676\n",
      "  (0, 37707)\t0.00020682523267838676\n",
      "  (0, 37788)\t0.00020682523267838676\n",
      "  (0, 37807)\t0.00020682523267838676\n",
      "  (0, 38077)\t0.00020682523267838676\n"
     ]
    }
   ],
   "source": [
    "# B2(a): your code here\n",
    "count_vectorizer = CountVectorizer()\n",
    "\n",
    "# B2(b): your code here\n",
    "word_counts = count_vectorizer.fit_transform(reviews_df['text'])\n",
    "print(word_counts.shape)\n",
    "\n",
    "# B2(c): your code here\n",
    "word_shares = word_counts / 4835\n",
    "print(word_shares[0])"
   ]
  },
  {
   "cell_type": "markdown",
   "metadata": {
    "id": "gSM0-OUTG3la"
   },
   "source": [
    "**B2 Expected Output**\n",
    "\n",
    "```\n",
    "Shape of word_counts: (4835, 38280)\n",
    "First row of word_shares: <Compressed Sparse Row sparse matrix of dtype 'float64'\n",
    "\twith 176 stored elements and shape (1, 38280)>\n",
    "  Coords\tValues\n",
    "  (0, 585)\t0.00020682523267838676\n",
    "  (0, 754)\t0.00020682523267838676\n",
    "  (0, 770)\t0.0004136504653567735\n",
    "  (0, 1321)\t0.001034126163391934\n",
    "  (0, 1503)\t0.00020682523267838676\n",
    "  (0, 1504)\t0.00020682523267838676\n",
    "  (0, 1575)\t0.00020682523267838676\n",
    "  (0, 1621)\t0.002481902792140641\n",
    "  (0, 1919)\t0.00020682523267838676\n",
    "  (0, 2055)\t0.000827300930713547\n",
    "  (0, 2142)\t0.00020682523267838676\n",
    "  (0, 2225)\t0.0004136504653567735\n",
    "  (0, 2390)\t0.0004136504653567735\n",
    "  (0, 3156)\t0.0006204756980351603\n",
    "  (0, 3228)\t0.00020682523267838676\n",
    "  (0, 3298)\t0.00020682523267838676\n",
    "  (0, 3514)\t0.00020682523267838676\n",
    "  (0, 3753)\t0.00020682523267838676\n",
    "  (0, 3918)\t0.00020682523267838676\n",
    "  (0, 4350)\t0.00020682523267838676\n",
    "  (0, 5034)\t0.0004136504653567735\n",
    "...\n",
    "  (0, 37707)\t0.00020682523267838676\n",
    "  (0, 37788)\t0.00020682523267838676\n",
    "  (0, 37807)\t0.00020682523267838676\n",
    "  (0, 38077)\t0.00020682523267838676\n",
    "```"
   ]
  },
  {
   "cell_type": "markdown",
   "metadata": {
    "id": "894636a8"
   },
   "source": [
    "##  Problem B3 (2 points)\n",
    "\n",
    "`CountVectorizer` converts a string to an array representing the number of times each word occurs, which are called the *term frequencies*. For each row (corresponding to one movie review), there will be a *term frequencies array*.\n",
    "\n",
    "Use the `count_vectorizer`'s function [`inverse_transform`](https://scikit-learn.org/stable/modules/generated/sklearn.feature_extraction.text.CountVectorizer.html#sklearn.feature_extraction.text.CountVectorizer.inverse_transform) to reverse this process for the first movie review, to go from word counts to a list of actual words. The first movie review is the zeroth row of `word_counts`. Save this to the variable `transformed_review`.\n",
    "\n",
    "Print two things: the original text of the first Movie review from `reviews_df`, and then `transformed_review`.\n"
   ]
  },
  {
   "cell_type": "code",
   "execution_count": 25,
   "metadata": {
    "id": "283719c3",
    "tags": []
   },
   "outputs": [
    {
     "name": "stdout",
     "output_type": "stream",
     "text": [
      "The central theme in this movie seems to be confusion, as the relationships, setting, acting and social context all lead to the same place: confusion. Even Harvey Keitel appears to be out of his element, and lacks his usual impeccable clarity, direction and intensity. To make matters worse, his character's name is 'Che', and we are only told (directly, by the narrator) well into the film that he is not 'that' Che, just a guy named Che. The family relationships remain unclear until the end of the film, and once defined, the family is divided - the younger generation off to America. So cliché. Other reviews discuss how the movie depicts the impact of the revolution on a boy's family; however the political stance of the director is murky at best, and we are never quite sure who is responsible for what bloodshed. So they lost their property (acquired by gambling profits) - so what? Refusing to take a political stand, when making a movie about the Cuban revolution, is an odd and cowardly choice. Not to mention the movie was in English! Why are all these Cubans speaking English? No wonder they did not get permission to film in Cuba. And if family life is most important to look at here, it would be great if we could figure out who is who - we are 'introduced' to them all in the beginning - a cheap way out of making the relationships clear throughout the film! The acting was mostly shallow, wooden, and unbelievable, timing was off all around. The 'special' visual effects were confusing and distracting. References to American films - and the black character as Greek chorus - strictly gratuitous, intellectually ostentatious, and consistently out of place. I only watched the whole movie because I was waiting for clarity, or some point to it all. It never happened.\n",
      "[array(['the', 'central', 'theme', 'in', 'this', 'movie', 'seems', 'to',\n",
      "       'be', 'confusion', 'as', 'relationships', 'setting', 'acting',\n",
      "       'and', 'social', 'context', 'all', 'lead', 'same', 'place', 'even',\n",
      "       'harvey', 'keitel', 'appears', 'out', 'of', 'his', 'element',\n",
      "       'lacks', 'usual', 'impeccable', 'clarity', 'direction',\n",
      "       'intensity', 'make', 'matters', 'worse', 'character', 'name', 'is',\n",
      "       'che', 'we', 'are', 'only', 'told', 'directly', 'by', 'narrator',\n",
      "       'well', 'into', 'film', 'that', 'he', 'not', 'just', 'guy',\n",
      "       'named', 'family', 'remain', 'unclear', 'until', 'end', 'once',\n",
      "       'defined', 'divided', 'younger', 'generation', 'off', 'america',\n",
      "       'so', 'cliché', 'other', 'reviews', 'discuss', 'how', 'depicts',\n",
      "       'impact', 'revolution', 'on', 'boy', 'however', 'political',\n",
      "       'stance', 'director', 'murky', 'at', 'best', 'never', 'quite',\n",
      "       'sure', 'who', 'responsible', 'for', 'what', 'bloodshed', 'they',\n",
      "       'lost', 'their', 'property', 'acquired', 'gambling', 'profits',\n",
      "       'refusing', 'take', 'stand', 'when', 'making', 'about', 'cuban',\n",
      "       'an', 'odd', 'cowardly', 'choice', 'mention', 'was', 'english',\n",
      "       'why', 'these', 'cubans', 'speaking', 'no', 'wonder', 'did', 'get',\n",
      "       'permission', 'cuba', 'if', 'life', 'most', 'important', 'look',\n",
      "       'here', 'it', 'would', 'great', 'could', 'figure', 'introduced',\n",
      "       'them', 'beginning', 'cheap', 'way', 'clear', 'throughout',\n",
      "       'mostly', 'shallow', 'wooden', 'unbelievable', 'timing', 'around',\n",
      "       'special', 'visual', 'effects', 'were', 'confusing', 'distracting',\n",
      "       'references', 'american', 'films', 'black', 'greek', 'chorus',\n",
      "       'strictly', 'gratuitous', 'intellectually', 'ostentatious',\n",
      "       'consistently', 'watched', 'whole', 'because', 'waiting', 'or',\n",
      "       'some', 'point', 'happened'], dtype='<U51')]\n"
     ]
    }
   ],
   "source": [
    "# B3: your code here\n",
    "transformed_review = count_vectorizer.inverse_transform(word_counts[0])\n",
    "\n",
    "print(reviews_df.iloc[0, 0])\n",
    "print(transformed_review)"
   ]
  },
  {
   "cell_type": "markdown",
   "metadata": {
    "id": "5gcbIBa4G3la"
   },
   "source": [
    "**B3 Expected Output**\n",
    "\n",
    "```\n",
    "The central theme in this movie seems to be confusion, as the relationships, setting, acting and social context all lead to the same place: confusion. Even Harvey Keitel appears to be out of his element, and lacks his usual impeccable clarity, direction and intensity. To make matters worse, his character's name is 'Che', and we are only told (directly, by the narrator) well into the film that he is not 'that' Che, just a guy named Che. The family relationships remain unclear until the end of the film, and once defined, the family is divided - the younger generation off to America. So cliché. Other reviews discuss how the movie depicts the impact of the revolution on a boy's family; however the political stance of the director is murky at best, and we are never quite sure who is responsible for what bloodshed. So they lost their property (acquired by gambling profits) - so what? Refusing to take a political stand, when making a movie about the Cuban revolution, is an odd and cowardly choice. Not to mention the movie was in English! Why are all these Cubans speaking English? No wonder they did not get permission to film in Cuba. And if family life is most important to look at here, it would be great if we could figure out who is who - we are 'introduced' to them all in the beginning - a cheap way out of making the relationships clear throughout the film! The acting was mostly shallow, wooden, and unbelievable, timing was off all around. The 'special' visual effects were confusing and distracting. References to American films - and the black character as Greek chorus - strictly gratuitous, intellectually ostentatious, and consistently out of place. I only watched the whole movie because I was waiting for clarity, or some point to it all. It never happened.\n",
    "[array(['the', 'central', 'theme', 'in', 'this', 'movie', 'seems', 'to',\n",
    "       'be', 'confusion', 'as', 'relationships', 'setting', 'acting',\n",
    "       'and', 'social', 'context', 'all', 'lead', 'same', 'place', 'even',\n",
    "       'harvey', 'keitel', 'appears', 'out', 'of', 'his', 'element',\n",
    "       'lacks', 'usual', 'impeccable', 'clarity', 'direction',\n",
    "       'intensity', 'make', 'matters', 'worse', 'character', 'name', 'is',\n",
    "       'che', 'we', 'are', 'only', 'told', 'directly', 'by', 'narrator',\n",
    "       'well', 'into', 'film', 'that', 'he', 'not', 'just', 'guy',\n",
    "       'named', 'family', 'remain', 'unclear', 'until', 'end', 'once',\n",
    "       'defined', 'divided', 'younger', 'generation', 'off', 'america',\n",
    "       'so', 'cliché', 'other', 'reviews', 'discuss', 'how', 'depicts',\n",
    "       'impact', 'revolution', 'on', 'boy', 'however', 'political',\n",
    "       'stance', 'director', 'murky', 'at', 'best', 'never', 'quite',\n",
    "       'sure', 'who', 'responsible', 'for', 'what', 'bloodshed', 'they',\n",
    "       'lost', 'their', 'property', 'acquired', 'gambling', 'profits',\n",
    "       'refusing', 'take', 'stand', 'when', 'making', 'about', 'cuban',\n",
    "       'an', 'odd', 'cowardly', 'choice', 'mention', 'was', 'english',\n",
    "       'why', 'these', 'cubans', 'speaking', 'no', 'wonder', 'did', 'get',\n",
    "       'permission', 'cuba', 'if', 'life', 'most', 'important', 'look',\n",
    "       'here', 'it', 'would', 'great', 'could', 'figure', 'introduced',\n",
    "       'them', 'beginning', 'cheap', 'way', 'clear', 'throughout',\n",
    "       'mostly', 'shallow', 'wooden', 'unbelievable', 'timing', 'around',\n",
    "       'special', 'visual', 'effects', 'were', 'confusing', 'distracting',\n",
    "       'references', 'american', 'films', 'black', 'greek', 'chorus',\n",
    "       'strictly', 'gratuitous', 'intellectually', 'ostentatious',\n",
    "       'consistently', 'watched', 'whole', 'because', 'waiting', 'or',\n",
    "       'some', 'point', 'happened'], dtype='<U51')]\n",
    "\n",
    "```"
   ]
  },
  {
   "cell_type": "markdown",
   "metadata": {
    "id": "YEeH5PjoG3la"
   },
   "source": [
    "##  Problem B4 (2 points)\n",
    "\n",
    "If we want to understand what `CountVectorizer` is doing, we can try to replicate the tokenization process for the first movie review. Apply the following methods to the original text associated with the first movie review in the following order:\n",
    "1. `.lower()`\n",
    "2. `.translate(str.maketrans('', '', string.punctuation))` (*Note:* this will remove all punctuation)\n",
    "3. `.split(' ')` (*Note:* this will split the text into a list)\n",
    "\n",
    "Print the resulting output."
   ]
  },
  {
   "cell_type": "code",
   "execution_count": 26,
   "metadata": {
    "id": "1S2zyAh6G3la",
    "tags": []
   },
   "outputs": [
    {
     "name": "stdout",
     "output_type": "stream",
     "text": [
      "['the', 'central', 'theme', 'in', 'this', 'movie', 'seems', 'to', 'be', 'confusion', 'as', 'the', 'relationships', 'setting', 'acting', 'and', 'social', 'context', 'all', 'lead', 'to', 'the', 'same', 'place', 'confusion', 'even', 'harvey', 'keitel', 'appears', 'to', 'be', 'out', 'of', 'his', 'element', 'and', 'lacks', 'his', 'usual', 'impeccable', 'clarity', 'direction', 'and', 'intensity', 'to', 'make', 'matters', 'worse', 'his', 'characters', 'name', 'is', 'che', 'and', 'we', 'are', 'only', 'told', 'directly', 'by', 'the', 'narrator', 'well', 'into', 'the', 'film', 'that', 'he', 'is', 'not', 'that', 'che', 'just', 'a', 'guy', 'named', 'che', 'the', 'family', 'relationships', 'remain', 'unclear', 'until', 'the', 'end', 'of', 'the', 'film', 'and', 'once', 'defined', 'the', 'family', 'is', 'divided', '', 'the', 'younger', 'generation', 'off', 'to', 'america', 'so', 'cliché', 'other', 'reviews', 'discuss', 'how', 'the', 'movie', 'depicts', 'the', 'impact', 'of', 'the', 'revolution', 'on', 'a', 'boys', 'family', 'however', 'the', 'political', 'stance', 'of', 'the', 'director', 'is', 'murky', 'at', 'best', 'and', 'we', 'are', 'never', 'quite', 'sure', 'who', 'is', 'responsible', 'for', 'what', 'bloodshed', 'so', 'they', 'lost', 'their', 'property', 'acquired', 'by', 'gambling', 'profits', '', 'so', 'what', 'refusing', 'to', 'take', 'a', 'political', 'stand', 'when', 'making', 'a', 'movie', 'about', 'the', 'cuban', 'revolution', 'is', 'an', 'odd', 'and', 'cowardly', 'choice', 'not', 'to', 'mention', 'the', 'movie', 'was', 'in', 'english', 'why', 'are', 'all', 'these', 'cubans', 'speaking', 'english', 'no', 'wonder', 'they', 'did', 'not', 'get', 'permission', 'to', 'film', 'in', 'cuba', 'and', 'if', 'family', 'life', 'is', 'most', 'important', 'to', 'look', 'at', 'here', 'it', 'would', 'be', 'great', 'if', 'we', 'could', 'figure', 'out', 'who', 'is', 'who', '', 'we', 'are', 'introduced', 'to', 'them', 'all', 'in', 'the', 'beginning', '', 'a', 'cheap', 'way', 'out', 'of', 'making', 'the', 'relationships', 'clear', 'throughout', 'the', 'film', 'the', 'acting', 'was', 'mostly', 'shallow', 'wooden', 'and', 'unbelievable', 'timing', 'was', 'off', 'all', 'around', 'the', 'special', 'visual', 'effects', 'were', 'confusing', 'and', 'distracting', 'references', 'to', 'american', 'films', '', 'and', 'the', 'black', 'character', 'as', 'greek', 'chorus', '', 'strictly', 'gratuitous', 'intellectually', 'ostentatious', 'and', 'consistently', 'out', 'of', 'place', 'i', 'only', 'watched', 'the', 'whole', 'movie', 'because', 'i', 'was', 'waiting', 'for', 'clarity', 'or', 'some', 'point', 'to', 'it', 'all', 'it', 'never', 'happened']\n"
     ]
    }
   ],
   "source": [
    "# B4: your code here\n",
    "cv_vis = reviews_df.iloc[0, 0].lower()\n",
    "cv_vis = cv_vis.translate(str.maketrans('', '', string.punctuation))\n",
    "cv_vis = cv_vis.split(' ')\n",
    "print(cv_vis)"
   ]
  },
  {
   "cell_type": "markdown",
   "metadata": {
    "id": "N_ahLSapG3la"
   },
   "source": [
    "**B4 Expected Output**\n",
    "```\n",
    "['the', 'central', 'theme', 'in', 'this', 'movie', 'seems', 'to', 'be', 'confusion', 'as', 'the', 'relationships', 'setting', 'acting', 'and', 'social', 'context', 'all', 'lead', 'to', 'the', 'same', 'place', 'confusion', 'even', 'harvey', 'keitel', 'appears', 'to', 'be', 'out', 'of', 'his', 'element', 'and', 'lacks', 'his', 'usual', 'impeccable', 'clarity', 'direction', 'and', 'intensity', 'to', 'make', 'matters', 'worse', 'his', 'characters', 'name', 'is', 'che', 'and', 'we', 'are', 'only', 'told', 'directly', 'by', 'the', 'narrator', 'well', 'into', 'the', 'film', 'that', 'he', 'is', 'not', 'that', 'che', 'just', 'a', 'guy', 'named', 'che', 'the', 'family', 'relationships', 'remain', 'unclear', 'until', 'the', 'end', 'of', 'the', 'film', 'and', 'once', 'defined', 'the', 'family', 'is', 'divided', '', 'the', 'younger', 'generation', 'off', 'to', 'america', 'so', 'cliché', 'other', 'reviews', 'discuss', 'how', 'the', 'movie', 'depicts', 'the', 'impact', 'of', 'the', 'revolution', 'on', 'a', 'boys', 'family', 'however', 'the', 'political', 'stance', 'of', 'the', 'director', 'is', 'murky', 'at', 'best', 'and', 'we', 'are', 'never', 'quite', 'sure', 'who', 'is', 'responsible', 'for', 'what', 'bloodshed', 'so', 'they', 'lost', 'their', 'property', 'acquired', 'by', 'gambling', 'profits', '', 'so', 'what', 'refusing', 'to', 'take', 'a', 'political', 'stand', 'when', 'making', 'a', 'movie', 'about', 'the', 'cuban', 'revolution', 'is', 'an', 'odd', 'and', 'cowardly', 'choice', 'not', 'to', 'mention', 'the', 'movie', 'was', 'in', 'english', 'why', 'are', 'all', 'these', 'cubans', 'speaking', 'english', 'no', 'wonder', 'they', 'did', 'not', 'get', 'permission', 'to', 'film', 'in', 'cuba', 'and', 'if', 'family', 'life', 'is', 'most', 'important', 'to', 'look', 'at', 'here', 'it', 'would', 'be', 'great', 'if', 'we', 'could', 'figure', 'out', 'who', 'is', 'who', '', 'we', 'are', 'introduced', 'to', 'them', 'all', 'in', 'the', 'beginning', '', 'a', 'cheap', 'way', 'out', 'of', 'making', 'the', 'relationships', 'clear', 'throughout', 'the', 'film', 'the', 'acting', 'was', 'mostly', 'shallow', 'wooden', 'and', 'unbelievable', 'timing', 'was', 'off', 'all', 'around', 'the', 'special', 'visual', 'effects', 'were', 'confusing', 'and', 'distracting', 'references', 'to', 'american', 'films', '', 'and', 'the', 'black', 'character', 'as', 'greek', 'chorus', '', 'strictly', 'gratuitous', 'intellectually', 'ostentatious', 'and', 'consistently', 'out', 'of', 'place', 'i', 'only', 'watched', 'the', 'whole', 'movie', 'because', 'i', 'was', 'waiting', 'for', 'clarity', 'or', 'some', 'point', 'to', 'it', 'all', 'it', 'never', 'happened']\n",
    "```"
   ]
  },
  {
   "cell_type": "markdown",
   "metadata": {
    "id": "xcCqSxKxa5E-"
   },
   "source": [
    "## Problem B5 (2 points)\n",
    "In 1-2 sentences, compare the results in B4 to B3. Describe what is and is not preserved from the original review in the output of B3.\n",
    "\n",
    "**Hint:**\n",
    "Refer to the [`CountVectorizer()`](https://scikit-learn.org/stable/modules/generated/sklearn.feature_extraction.text.CountVectorizer.html) documentation to see the default settings of the function. Compare the documentation to the approach in Problem B4."
   ]
  },
  {
   "cell_type": "markdown",
   "metadata": {
    "id": "5ee2b025"
   },
   "source": [
    "**B5: your answer here**\n",
    "The output of B3 is printed in as an array and only lists the unique words that are used in the first movie review. This means that words that are used more than once are only listed at the position of its first appearance. For example, the word \"confusion\" appears twice in the first sentence of this review, but only the first appearance of the word is displayed in the output. This is because `CounterVectorizer()` returns an array of terms used in a document. The code for B3 returns an output that displays all the words used in the first movie review in a list form. It removed all spaces and punctuation and simply listed all words as separate strings, regardless of how many times that word is used. "
   ]
  },
  {
   "cell_type": "markdown",
   "metadata": {
    "id": "a2e7a3ae"
   },
   "source": [
    "## Problem B6 (2 points)\n",
    "One of the problems you will face in data science is how to work with really big data sets. An important skill is knowing how to use the most efficient data representations.\n",
    "\n",
    "So far we have been working with \"dense\" arrays. An array with 20 rows and 10 columns will allocate memory for 200 numbers. Dense arrays are fine for small data sets.\n",
    "The `CountVectorizer` converts a string into a vector (array) representing the frequency of each word in each review.\n",
    "Since most words don't occur in most reviews, it returns a \"sparse\" array that does not explicitly represent values of zero.\n",
    "\n",
    "Print the first row associated with `word_counts`.\n",
    "\n",
    "Then convert `word_counts` into a dense matrix by applying `toarray()` and print the first row."
   ]
  },
  {
   "cell_type": "code",
   "execution_count": 27,
   "metadata": {
    "id": "a4714d08",
    "tags": []
   },
   "outputs": [
    {
     "name": "stdout",
     "output_type": "stream",
     "text": [
      "<Compressed Sparse Row sparse matrix of dtype 'int64'\n",
      "\twith 176 stored elements and shape (1, 38280)>\n",
      "  Coords\tValues\n",
      "  (0, 34078)\t24\n",
      "  (0, 5716)\t1\n",
      "  (0, 34102)\t1\n",
      "  (0, 17046)\t4\n",
      "  (0, 34198)\t1\n",
      "  (0, 22540)\t5\n",
      "  (0, 29982)\t1\n",
      "  (0, 34478)\t12\n",
      "  (0, 3156)\t3\n",
      "  (0, 7238)\t2\n",
      "  (0, 2225)\t2\n",
      "  (0, 27915)\t3\n",
      "  (0, 30210)\t1\n",
      "  (0, 770)\t2\n",
      "  (0, 1621)\t12\n",
      "  (0, 31475)\t1\n",
      "  (0, 7450)\t1\n",
      "  (0, 1321)\t5\n",
      "  (0, 19519)\t1\n",
      "  (0, 29329)\t1\n",
      "  (0, 25589)\t2\n",
      "  (0, 11768)\t1\n",
      "  (0, 15506)\t1\n",
      "  (0, 18725)\t1\n",
      "  (0, 1919)\t1\n",
      "  :\t:\n",
      "  (0, 31801)\t1\n",
      "  (0, 36694)\t1\n",
      "  (0, 10889)\t1\n",
      "  (0, 37241)\t1\n",
      "  (0, 7236)\t1\n",
      "  (0, 9936)\t1\n",
      "  (0, 27756)\t1\n",
      "  (0, 1504)\t1\n",
      "  (0, 12797)\t1\n",
      "  (0, 3753)\t1\n",
      "  (0, 14796)\t1\n",
      "  (0, 6186)\t1\n",
      "  (0, 32675)\t1\n",
      "  (0, 14762)\t1\n",
      "  (0, 17600)\t1\n",
      "  (0, 24120)\t1\n",
      "  (0, 7346)\t1\n",
      "  (0, 37043)\t1\n",
      "  (0, 37385)\t1\n",
      "  (0, 3228)\t1\n",
      "  (0, 36871)\t1\n",
      "  (0, 23998)\t1\n",
      "  (0, 31576)\t1\n",
      "  (0, 25791)\t1\n",
      "  (0, 15393)\t1\n",
      "[0 0 0 ... 0 0 0]\n"
     ]
    }
   ],
   "source": [
    "# B6: your code here\n",
    "print(word_counts[0, :])\n",
    "\n",
    "dense_word_counts = word_counts.toarray()\n",
    "print(dense_word_counts[0, :])"
   ]
  },
  {
   "cell_type": "markdown",
   "metadata": {
    "id": "_rusJuNuG3lb"
   },
   "source": [
    "**B6 Expected Output**\n",
    "\n",
    "```\n",
    "  (0, 34078)\t24\n",
    "  (0, 5716)\t1\n",
    "  (0, 34102)\t1\n",
    "  (0, 17046)\t4\n",
    "  (0, 34198)\t1\n",
    "  (0, 22540)\t5\n",
    "  (0, 29982)\t1\n",
    "  (0, 34478)\t12\n",
    "  (0, 3156)\t3\n",
    "  (0, 7238)\t2\n",
    "  (0, 2225)\t2\n",
    "  (0, 27915)\t3\n",
    "  (0, 30210)\t1\n",
    "  (0, 770)\t2\n",
    "  (0, 1621)\t12\n",
    "  (0, 31475)\t1\n",
    "  (0, 7450)\t1\n",
    "  (0, 1321)\t5\n",
    "  (0, 19519)\t1\n",
    "  (0, 29329)\t1\n",
    "  (0, 25589)\t2\n",
    "  (0, 11768)\t1\n",
    "  (0, 15506)\t1\n",
    "  (0, 18725)\t1\n",
    "  (0, 1919)\t1\n",
    "  :\t:\n",
    "  (0, 31801)\t1\n",
    "  (0, 36694)\t1\n",
    "  (0, 10889)\t1\n",
    "  (0, 37241)\t1\n",
    "  (0, 7236)\t1\n",
    "  (0, 9936)\t1\n",
    "  (0, 27756)\t1\n",
    "  (0, 1504)\t1\n",
    "  (0, 12797)\t1\n",
    "  (0, 3753)\t1\n",
    "  (0, 14796)\t1\n",
    "  (0, 6186)\t1\n",
    "  (0, 32675)\t1\n",
    "  (0, 14762)\t1\n",
    "  (0, 17600)\t1\n",
    "  (0, 24120)\t1\n",
    "  (0, 7346)\t1\n",
    "  (0, 37043)\t1\n",
    "  (0, 37385)\t1\n",
    "  (0, 3228)\t1\n",
    "  (0, 36871)\t1\n",
    "  (0, 23998)\t1\n",
    "  (0, 31576)\t1\n",
    "  (0, 25791)\t1\n",
    "  (0, 15393)\t1\n",
    "[0 0 0 ... 0 0 0]\n",
    "```"
   ]
  },
  {
   "cell_type": "markdown",
   "metadata": {
    "id": "tLxOnplsa5E_"
   },
   "source": [
    "## Problem B7 (2 points)\n",
    "\n",
    "A python floating point number takes 8 bytes to store. Calculate the number of bytes needed to store the full, dense matrix by multiplying the dimensions of `word_counts` by 8. Print the result.\n"
   ]
  },
  {
   "cell_type": "code",
   "execution_count": 28,
   "metadata": {
    "id": "2nYdJ0zJa5E_",
    "tags": []
   },
   "outputs": [
    {
     "name": "stdout",
     "output_type": "stream",
     "text": [
      "Number of bytes required to store dense word_counts: 1480670400\n"
     ]
    }
   ],
   "source": [
    "# B7: your code here\n",
    "dense_dim = dense_word_counts.shape\n",
    "dense_bytes = dense_dim[0] * dense_dim[1] * 8\n",
    "print(f\"Number of bytes required to store dense word_counts: {dense_bytes}\")"
   ]
  },
  {
   "cell_type": "markdown",
   "metadata": {
    "id": "R4V_7lDRG3lb"
   },
   "source": [
    "**B7 Expected Output**\n",
    "```\n",
    "Number of bytes required to store dense word_counts: 1480670400\n",
    "```"
   ]
  },
  {
   "cell_type": "markdown",
   "metadata": {
    "id": "PENX96ASa5E_"
   },
   "source": [
    "## Problem B8 (2 points)\n",
    "A sparse array needs to store `3` numbers for each non-zero value: the index of the row, the index of the column, and the actual floating point value. Assume each of these numbers takes 8 bytes.\n",
    "Calculate the number of bytes needed to store the sparse array. Print the value.\n",
    "\n",
    "*Hint:* You can extract the number of non-zero values from a sparse array using the attribute `.nnz`."
   ]
  },
  {
   "cell_type": "code",
   "execution_count": 29,
   "metadata": {
    "id": "FD1F-P2Ya5E_",
    "tags": []
   },
   "outputs": [
    {
     "name": "stdout",
     "output_type": "stream",
     "text": [
      "Number of bytes required to store sparse word_counts: 16197624\n"
     ]
    }
   ],
   "source": [
    "# B8: your code here\n",
    "sparse_dim = word_counts.nnz\n",
    "sparse_bytes = sparse_dim * 24\n",
    "print(f\"Number of bytes required to store sparse word_counts: {sparse_bytes}\")"
   ]
  },
  {
   "cell_type": "markdown",
   "metadata": {
    "id": "m9rdwiWHG3lb"
   },
   "source": [
    "**B8 Expected Output**\n",
    "```\n",
    "Number of bytes required to store sparse word_counts: 16197624\n",
    "```"
   ]
  },
  {
   "cell_type": "markdown",
   "metadata": {
    "id": "kZ_H1-Cha5E_"
   },
   "source": [
    "## Problem B9 (2 points)\n",
    "Print the size of the sparse array in bytes divided by the size of the dense array in bytes. Round the number to 3 decimals.\n",
    "\n",
    "**Hint**: the sparse array takes about 1% the number of bytes to store the same amount of information!"
   ]
  },
  {
   "cell_type": "code",
   "execution_count": 30,
   "metadata": {
    "id": "uRh2H7fDa5E_",
    "tags": []
   },
   "outputs": [
    {
     "name": "stdout",
     "output_type": "stream",
     "text": [
      "0.011\n"
     ]
    }
   ],
   "source": [
    "# B9: your code here\n",
    "print(round(sparse_bytes / dense_bytes, 3))"
   ]
  },
  {
   "cell_type": "markdown",
   "metadata": {
    "id": "TGqB6uL5G3lb"
   },
   "source": [
    "**B9 Expected Output**\n",
    "```\n",
    "0.011\n",
    "```"
   ]
  },
  {
   "cell_type": "markdown",
   "metadata": {
    "id": "94d16b0f"
   },
   "source": [
    "---\n",
    "## Demonstration: word frequencies\n",
    "\n",
    "One of the reasons it's hard to work with text data is that most distinct words (word types) are rare, but most of the words that occur in a document (word tokens) are frequent. Here we'll count the rare words and frequent words to show this effect.\n",
    "\n",
    "We're doing this as a demonstration because there are a lot of tricky programming issues relating to converting 2D arrays with one row to 1D arrays and functions that return one-element tuples containing arrays.\n",
    "\n",
    "There are about 1.1 million tokens in the collection."
   ]
  },
  {
   "cell_type": "code",
   "execution_count": 31,
   "metadata": {
    "id": "Uu7BVThxG3lc"
   },
   "outputs": [],
   "source": [
    "reviews_df = pd.read_csv(\"movie_hw6.tsv\", delimiter=\"\\t\")\n",
    "count_vectorizer = CountVectorizer()\n",
    "word_counts = count_vectorizer.fit_transform(reviews_df[\"text\"])"
   ]
  },
  {
   "cell_type": "code",
   "execution_count": 32,
   "metadata": {
    "id": "60c8ee86",
    "outputId": "6af6ae5a-e1ee-4603-98dc-52d3d4dac74e",
    "tags": []
   },
   "outputs": [
    {
     "name": "stdout",
     "output_type": "stream",
     "text": [
      "Total word tokens: 1118448\n"
     ]
    }
   ],
   "source": [
    "total_tokens = word_counts.sum()\n",
    "print(f\"Total word tokens: {total_tokens}\")"
   ]
  },
  {
   "cell_type": "markdown",
   "metadata": {
    "id": "ba378d82"
   },
   "source": [
    "Of the 38,280 distinct word types, 25,810 only occur once."
   ]
  },
  {
   "cell_type": "code",
   "execution_count": 33,
   "metadata": {
    "id": "b023fbc7",
    "outputId": "8195a227-2e2f-450d-d9eb-be675ab24160",
    "tags": []
   },
   "outputs": [
    {
     "name": "stdout",
     "output_type": "stream",
     "text": [
      "(38280,)\n",
      "words that occur once:  25810\n"
     ]
    }
   ],
   "source": [
    "word_totals = word_counts.sum(axis=0)\n",
    "word_totals = np.ravel(word_totals)\n",
    "print(word_totals.shape)\n",
    "vocabulary = count_vectorizer.get_feature_names_out()\n",
    "print(\"words that occur once: \", len(vocabulary[np.where(word_totals < 5)]))"
   ]
  },
  {
   "cell_type": "markdown",
   "metadata": {
    "id": "ed7c6754"
   },
   "source": [
    "Now let's look at the most frequent words. Counting words that occur more than 1000 times gives us about 70 word types that make up about 50% of all the word tokens in the collection!\n",
    "\n",
    "The most common three words (*the, and, of*) make up about 10% of the collection just by themselves. Frequencies drop off exponentially, and look closer to a line on a log-log plot - see [Zipf's Law](https://en.wikipedia.org/wiki/Zipf%27s_law)!"
   ]
  },
  {
   "cell_type": "code",
   "execution_count": 34,
   "metadata": {
    "id": "3b5e4cb5",
    "outputId": "8febb415-3012-4f18-ff43-75b9e65dfea4",
    "tags": []
   },
   "outputs": [
    {
     "name": "stdout",
     "output_type": "stream",
     "text": [
      "Total count:  602622\n",
      "[(66925, 'the'), (32128, 'and'), (28886, 'of'), (26816, 'to'), (21049, 'is'), (20060, 'br'), (19032, 'it'), (18535, 'in')]\n"
     ]
    },
    {
     "data": {
      "image/png": "[encoded data removed]",
      "text/plain": [
       "<Figure size 640x480 with 1 Axes>"
      ]
     },
     "metadata": {},
     "output_type": "display_data"
    },
    {
     "data": {
      "text/plain": [
       "<Axes: >"
      ]
     },
     "execution_count": 34,
     "metadata": {},
     "output_type": "execute_result"
    },
    {
     "data": {
      "image/png": "[encoded data removed]",
      "text/plain": [
       "<Figure size 640x480 with 1 Axes>"
      ]
     },
     "metadata": {},
     "output_type": "display_data"
    }
   ],
   "source": [
    "most_frequent_words = vocabulary[np.where(word_totals > 1000)]\n",
    "most_frequent_word_counts = word_totals[np.where(word_totals > 1000)]\n",
    "\n",
    "print(\"Total count: \", most_frequent_word_counts.sum())\n",
    "print(sorted(zip(most_frequent_word_counts, most_frequent_words), reverse=True)[:8])\n",
    "\n",
    "seaborn.lineplot(x=range(len(most_frequent_words), 0, -1),\n",
    "                 y=np.sort(most_frequent_word_counts))\n",
    "pyplot.show()\n",
    "pyplot.xscale('log')\n",
    "pyplot.yscale('log')\n",
    "seaborn.lineplot(x=range(len(most_frequent_words), 0, -1),\n",
    "                 y=np.sort(most_frequent_word_counts))"
   ]
  },
  {
   "cell_type": "markdown",
   "metadata": {
    "id": "i9fezGSda5FA"
   },
   "source": [
    "---"
   ]
  },
  {
   "cell_type": "markdown",
   "metadata": {
    "id": "85a7bc44"
   },
   "source": [
    "# Part C: Term Frequency - Inverse Document Frequency\n",
    "\n",
    "If we use the actual word counts, the values will be dominated by a few super-frequent words, and most of the other words will be rare words that we might never see again (such as typos, numbers, and variants like *yaaaaaaaassss*). In the next problems, we will read the reviews file again, but this time we will do two common pre-processing steps:\n",
    "\n",
    "1. Remove rare words that occur in fewer than five reviews\n",
    "2. Weight the remaining words by *inverse document frequency (IDF)*\n",
    "\n",
    "Term frequency is the number of times a word occurs in a document. **In our case, a document is a movie review**. The *document frequency* of a word type is the number of documents in the collection that contain at least one instance of the word. If the collection contains $D$ documents and $df_w$ is the document frequency of word $w$, the inverse document frequency for $w$ is usually defined as $-\\log(\\frac{df_w}{D}) = \\log(\\frac{D}{df_w})$.\n",
    "\n",
    "Using our favorite log probabilities, a word that occurs in 10% of documents would have IDF 2.3, and a word that occurs in 1 out of 100,000 documents would have IDF 11.5. Instead of recording the term frequency of word $w$ in document $d$, our array will now record the term frequency for $w$ in $d$ *multiplied* by the IDF for $w$. This weighting emphasizes rare words relative to frequent words.\n",
    "\n",
    "\n"
   ]
  },
  {
   "cell_type": "markdown",
   "metadata": {
    "id": "806b2477"
   },
   "source": [
    "## Problem C1 (2 points)\n",
    "\n",
    "Use the [`.get_feature_names_out()`](https://scikit-learn.org/stable/modules/generated/sklearn.feature_extraction.text.CountVectorizer.html#sklearn.feature_extraction.text.CountVectorizer.get_feature_names_out) function in `count_vectorizer` to get an array of the distinct word strings (word types) that the vectorizer identified in the reviews. This function allows us to identify the word strings that each value of `word_count` refers to. Save this as a variable called `vocabulary`. Print the first 20 elements.\n"
   ]
  },
  {
   "cell_type": "code",
   "execution_count": 35,
   "metadata": {
    "id": "43619732",
    "tags": []
   },
   "outputs": [
    {
     "name": "stdout",
     "output_type": "stream",
     "text": [
      "['00' '000' '007' '0079' '0080' '0083' '00am' '00pm' '00s' '01' '0148'\n",
      " '01pm' '02' '03' '039' '05' '06' '07' '08' '09']\n"
     ]
    }
   ],
   "source": [
    "# C1: your code here\n",
    "vocabulary = count_vectorizer.get_feature_names_out()\n",
    "print(vocabulary[:20])"
   ]
  },
  {
   "cell_type": "markdown",
   "metadata": {
    "id": "8AHJ9cDVG3ld"
   },
   "source": [
    "**C1 Expected Output**\n",
    "```\n",
    "['00' '000' '007' '0079' '0080' '0083' '00am' '00pm' '00s' '01' '0148'\n",
    " '01pm' '02' '03' '039' '05' '06' '07' '08' '09']\n",
    "```"
   ]
  },
  {
   "cell_type": "markdown",
   "metadata": {
    "id": "IrW1mshsa5E_"
   },
   "source": [
    "## Problem C2 (2 points)\n",
    "The strings in `vocabulary` are sorted in alphanumeric order (numbers, then letters).\n",
    "The *index* of a word is its position in this array. Use `np.where()` to find the index of the word \"fantastic\" within `vocabulary`. Name the output as `fantastic_index`, and print its value."
   ]
  },
  {
   "cell_type": "code",
   "execution_count": 36,
   "metadata": {
    "id": "J1d7kvgba5E_",
    "tags": []
   },
   "outputs": [
    {
     "name": "stdout",
     "output_type": "stream",
     "text": [
      "(array([12367]),)\n"
     ]
    }
   ],
   "source": [
    "# C2: your code here\n",
    "fantastic_index = np.where(vocabulary == 'fantastic')\n",
    "\n",
    "## Given code\n",
    "print(fantastic_index)"
   ]
  },
  {
   "cell_type": "markdown",
   "metadata": {
    "id": "cifRp5N1G3le"
   },
   "source": [
    "**C2 Expected Output**\n",
    "```\n",
    "(array([12367], dtype=int64),)\n",
    "```\n",
    "\n",
    "*You may also see:*\n",
    "```\n",
    "(array([12367]),)\n",
    "```"
   ]
  },
  {
   "cell_type": "markdown",
   "metadata": {
    "id": "UQexRF93bN5b"
   },
   "source": [
    "## Problem C3 (2 points)\n",
    "Given that there are `4835` reviews and we are dropping words that occur in fewer than `5` documents, use numpy functions and arithmetic to calculate the maximum possible IDF value for a word in the resulting collection. Print that value, rounded to 3 decimal places.\n"
   ]
  },
  {
   "cell_type": "code",
   "execution_count": 37,
   "metadata": {
    "id": "3778a0c5",
    "tags": []
   },
   "outputs": [
    {
     "name": "stdout",
     "output_type": "stream",
     "text": [
      "6.874\n"
     ]
    }
   ],
   "source": [
    "# C3: your code here\n",
    "idf = np.log(4835 / 5)\n",
    "print(round(idf, 3))"
   ]
  },
  {
   "cell_type": "markdown",
   "metadata": {
    "id": "-qPAw491G3le"
   },
   "source": [
    "**C3 Expected Output**\n",
    "```\n",
    "6.874\n",
    "```"
   ]
  },
  {
   "cell_type": "markdown",
   "metadata": {
    "id": "TLoyUT_Ya5FA"
   },
   "source": [
    "## Problem C4 (3 points)\n",
    "\n",
    "Instead of using CountVectorizer like we did before, we’ll now use a different scikit-learn function called [`TfidfVectorizer()`](https://scikit-learn.org/stable/modules/generated/sklearn.feature_extraction.text.TfidfVectorizer.html), which converts a collection of documents to a matrix of TF-IDF features.\n",
    "\n",
    "\n",
    "Using `TfidfVectorizer`, we will set 5 to be the minimum “document frequency”, i.e. `min_df`. Name the vectorizer `tfidf_vectorizer`.\n",
    "\n",
    "Then, use the `fit_transform()` function of `tfidf_vectorizer` to transform the `text` field of `reviews_df` into an array. Save this array as a new variable `reviews_tfidf`.\n",
    "\n",
    "Print the `type` of `reviews_tfidf`. Notice that it's stored in a Compressed Sparse Row (CSR) matrix -- something we explored in problems B7 and B8!"
   ]
  },
  {
   "cell_type": "code",
   "execution_count": 38,
   "metadata": {
    "id": "kc94sJKSa5FA",
    "tags": []
   },
   "outputs": [
    {
     "name": "stdout",
     "output_type": "stream",
     "text": [
      "<class 'scipy.sparse._csr.csr_matrix'>\n"
     ]
    }
   ],
   "source": [
    "# C4: your code here\n",
    "tfidf_vectorizer = TfidfVectorizer(min_df = 5)\n",
    "reviews_tfidf = tfidf_vectorizer.fit_transform(reviews_df['text'])\n",
    "print(type(reviews_tfidf))"
   ]
  },
  {
   "cell_type": "markdown",
   "metadata": {
    "id": "I9hxQr9YG3le"
   },
   "source": [
    "**C4 Expected Output**\n",
    "\n",
    "```\n",
    "<class 'scipy.sparse._csr.csr_matrix'>\n",
    "```"
   ]
  },
  {
   "cell_type": "markdown",
   "metadata": {
    "id": "btB5m-d0a5FA"
   },
   "source": [
    "## Problem C5 (3 points)\n",
    "\n",
    "Apply `.get_feature_names_out()` to `tfidf_vectorizer`, and name the output as `tfidf_vocabulary`.\n",
    "\n",
    "Use `np.where` to find the index of *fantastic* in `tfidf_vocabulary`. Name the index variable as `tfidf_fantastic_index`, and print its value."
   ]
  },
  {
   "cell_type": "code",
   "execution_count": 39,
   "metadata": {
    "id": "lVCueShCa5FA",
    "tags": []
   },
   "outputs": [
    {
     "name": "stdout",
     "output_type": "stream",
     "text": [
      "(array([3787]),)\n"
     ]
    }
   ],
   "source": [
    "# C5: your code here\n",
    "tfidf_vocabulary = tfidf_vectorizer.get_feature_names_out()\n",
    "tfidf_fantastic_index = np.where(tfidf_vocabulary == 'fantastic')\n",
    "\n",
    "## Given code\n",
    "print(tfidf_fantastic_index)"
   ]
  },
  {
   "cell_type": "markdown",
   "metadata": {
    "id": "CLrJcq8sG3le"
   },
   "source": [
    "**C5 Expected Output**\n",
    "```\n",
    "(array([3787], dtype=int64),)\n",
    "```\n",
    "\n",
    "*You may also see:*\n",
    "```\n",
    "(array([3787]),)\n",
    "```"
   ]
  },
  {
   "cell_type": "markdown",
   "metadata": {
    "id": "N9aTIfnAa5FA"
   },
   "source": [
    "## Problem C6 (3 points)\n",
    "(a) In the code cell below, compare the size differences between `tfidf_vocabulary` and our overall vocabulary (`vocabulary`) by dividing the size of `tfidf_vocabulary` with size of `vocabulary`. Print the number. Round to two decimals.\n",
    "\n",
    "(b) In one sentence, explain why `fantastic` is not in the same index position as before (based on your answer in (a))?"
   ]
  },
  {
   "cell_type": "code",
   "execution_count": 40,
   "metadata": {
    "id": "UmIu4pgfFX0H",
    "tags": []
   },
   "outputs": [
    {
     "name": "stdout",
     "output_type": "stream",
     "text": [
      "0.29\n"
     ]
    }
   ],
   "source": [
    "## C6(a): your code here\n",
    "print(round(tfidf_vocabulary.shape[0] / vocabulary.shape[0], 2))"
   ]
  },
  {
   "cell_type": "markdown",
   "metadata": {
    "id": "yG0GWgsgG3le"
   },
   "source": [
    "**C6(a) Expected Output**\n",
    "```\n",
    "0.29\n",
    "```"
   ]
  },
  {
   "cell_type": "markdown",
   "metadata": {
    "id": "9e8f6a12"
   },
   "source": [
    "**Your answer to C6(b) here** `fantastic` is not in the same index position as before because the array for `tfidf_vocabulary` is 0.29 times smaller in size than the array for `vocabulary` so it doesn't have as much content as `vocabulary`. "
   ]
  },
  {
   "cell_type": "markdown",
   "metadata": {
    "id": "9ae197d2"
   },
   "source": [
    "## Problem C7 (3 points)\n",
    "\n",
    "We want to use our reviews as inputs to classify the binary output `label`, which is either 1 or 0.\n",
    "\n",
    "Now that we have a curated representation of our reviews data set, we can try running a classifier on it.\n",
    "\n",
    "Use the usual `train_test_split` scikit-learn function (i.e., the one we've used on previous homeworks) to create a train/test split with 10% test size from the `reviews_tfidf` array (input X's) and the `label` column of `reviews_df` (output Y). Set `random_state` as `2950` for ease of grading. Name the output variables `tfidf_train`, `tfidf_test`, `ratings_train`, and `ratings_test`.\n",
    "\n",
    "Use string formatting to print the shape of `tfidf_train` and `tfidf_test`."
   ]
  },
  {
   "cell_type": "code",
   "execution_count": 41,
   "metadata": {
    "id": "a6b0fbec",
    "tags": []
   },
   "outputs": [
    {
     "name": "stdout",
     "output_type": "stream",
     "text": [
      "Train TF-IDF shape: (4351, 11122)\n",
      "Test TF-IDF shape: (484, 11122)\n"
     ]
    }
   ],
   "source": [
    "# C7: your code here\n",
    "tfidf_train, tfidf_test, ratings_train, ratings_test = \\\n",
    "    train_test_split(reviews_tfidf, reviews_df['label'], \\\n",
    "                     test_size = 0.1, random_state = 2950)\n",
    "print(f\"Train TF-IDF shape: {tfidf_train.shape}\")\n",
    "print(f\"Test TF-IDF shape: {tfidf_test.shape}\")"
   ]
  },
  {
   "cell_type": "markdown",
   "metadata": {
    "id": "Y5G7bJyBG3le"
   },
   "source": [
    "**C7 Expected Output**\n",
    "\n",
    "```\n",
    "Train TF-IDF shape: (4351, 11122)\n",
    "Test TF-IDF shape: (484, 11122)\n",
    "```\n"
   ]
  },
  {
   "cell_type": "markdown",
   "metadata": {
    "id": "hCozvP_qa5FB"
   },
   "source": [
    "## Problem C8 (3 points)\n",
    "\n",
    "The [`multinomial Naive Bayes classifier`](https://scikit-learn.org/dev/modules/generated/sklearn.naive_bayes.MultinomialNB.html) is an extension of a simple Naive Bayes classifier, but it applies to cases with discrete features. It works well with frequencies, such as word counts, but it can also handle continuous representations like term frequencies. It is most often used for prediction with text data. We will use `MultinomialNB` from scikit-learn (imported at the top of this notebook) to predict the label for a review.\n",
    "\n",
    "1. Create a classifier variable called `nb_classifier` using `MultinomialNB` with no input parameters.\n",
    "2. `fit` the `nb_classifier` with `tfidf_train` and `ratings_train`. Note that, as with logistic regression, you can pass strings as labels -- sklearn will translate these into `0` and `1` for you -- our data is already labeled as `0` and `1`, but keep in mind for future training!\n",
    "3. The default metric provided with the MultinomialNB  class is the mean accuracy, which you can call using [`.score()`](https://scikit-learn.org/stable/modules/generated/sklearn.naive_bayes.MultinomialNB.html#sklearn.naive_bayes.MultinomialNB.score). Use the `score()` function of `nb_classifier` to get average accuracy for the test vectors and the test ratings. Use string formatting to print this value rounded to two decimals."
   ]
  },
  {
   "cell_type": "code",
   "execution_count": 42,
   "metadata": {
    "id": "KV0TD1Hwa5FB",
    "tags": []
   },
   "outputs": [
    {
     "name": "stdout",
     "output_type": "stream",
     "text": [
      "accuracy: 0.87\n"
     ]
    }
   ],
   "source": [
    "# C8: your code here\n",
    "nb_classifier = MultinomialNB()\n",
    "nb_classifier = nb_classifier.fit(tfidf_train, ratings_train)\n",
    "score = nb_classifier.score(tfidf_test, ratings_test)\n",
    "print(f\"accuracy: {round(score, 2)}\")"
   ]
  },
  {
   "cell_type": "markdown",
   "metadata": {
    "id": "mBlk3KL0G3lf"
   },
   "source": [
    "**C8 Expected Output**\n",
    "\n",
    "```\n",
    "accuracy: 0.87\n",
    "```"
   ]
  },
  {
   "cell_type": "markdown",
   "metadata": {
    "id": "56b87df5"
   },
   "source": [
    "## Problem C9 (4 points)\n",
    "\n",
    "The field `.feature_log_prob_` on the `nb_classifier` object is an array with one row per label (positive, negative) and one column per word type (input \"feature\" in machine learning). Each entry represents the log probability of the word in that type of document.\n",
    "\n",
    "1. Create an array that represents the difference between these two rows (second row minus first row). Name this array `diff`.\n",
    "2. Use `zip` to merge this array with the `tfidf_vocabulary` array into a list of tuples.\n",
    "3. Sort this array in ascending order of `diff`. Name the resulting array as `sorted_words`.\n",
    "\n",
    "*Hint:* You can use the [`sorted`](https://docs.python.org/3/library/functions.html#sorted) function to sort the tuples.\n",
    "\n",
    "Print the first 5 elements in `sorted_words`."
   ]
  },
  {
   "cell_type": "code",
   "execution_count": 43,
   "metadata": {
    "id": "df79f848",
    "tags": []
   },
   "outputs": [
    {
     "name": "stdout",
     "output_type": "stream",
     "text": [
      "[(-2.272703214379934, 'waste'), (-2.030847277908455, 'worst'), (-1.9884312065895449, 'awful'), (-1.749727668826596, 'worse'), (-1.6775529902560748, 'terrible')]\n"
     ]
    }
   ],
   "source": [
    "# C9: your code here\n",
    "diff = nb_classifier.feature_log_prob_[1] - \\\n",
    "                    nb_classifier.feature_log_prob_[0]\n",
    "merged_list = list(zip(diff, tfidf_vocabulary))\n",
    "sorted_words = sorted(merged_list)\n",
    "print(sorted_words[0:5])"
   ]
  },
  {
   "cell_type": "markdown",
   "metadata": {
    "id": "CukIutwMG3lf"
   },
   "source": [
    "**C9 Expected Output**\n",
    "\n",
    "```\n",
    "[(-2.272703214379934, 'waste'), (-2.030847277908455, 'worst'), (-1.9884312065895449, 'awful'), (-1.749727668826596, 'worse'), (-1.6775529902560748, 'terrible')]\n",
    "```\n",
    "\n",
    "*You may also see:*\n",
    "```\n",
    "[(np.float64(-2.272703214379934), 'waste'), (np.float64(-2.030847277908455), 'worst'), (np.float64(-1.9884312065895449), 'awful'), (np.float64(-1.749727668826596), 'worse'), (np.float64(-1.6775529902560748), 'terrible')]\n",
    "```"
   ]
  },
  {
   "cell_type": "markdown",
   "metadata": {
    "id": "6BmDrE9Ea5FB"
   },
   "source": [
    "## Problem C10 (3 points)\n",
    "\n",
    "Use one for loop to print the difference in log probabilities (rounded to two decimal places) and the associated word for the first 10 entries in `sorted_words`.\n",
    "\n",
    "Use a second for loop to print the difference in log probabilities (rounded to two decimal places) and the associated word for the last 10 entries in `sorted_words`.\n",
    "\n",
    "You must use for loops and not just array indexing like in C9."
   ]
  },
  {
   "cell_type": "code",
   "execution_count": 44,
   "metadata": {
    "id": "3ZKo8ZsVa5FB",
    "tags": []
   },
   "outputs": [
    {
     "name": "stdout",
     "output_type": "stream",
     "text": [
      "-2.27 waste\n",
      "-2.03 worst\n",
      "-1.99 awful\n",
      "-1.75 worse\n",
      "-1.68 terrible\n",
      "-1.66 stupid\n",
      "-1.63 wasted\n",
      "-1.58 pathetic\n",
      "-1.57 laughable\n",
      "-1.57 horrible\n",
      "1.21 perfection\n",
      "1.22 beautifully\n",
      "1.28 matthau\n",
      "1.29 outstanding\n",
      "1.29 excellent\n",
      "1.30 terrific\n",
      "1.31 wonderful\n",
      "1.35 superb\n",
      "1.36 fantastic\n",
      "1.68 touching\n"
     ]
    }
   ],
   "source": [
    "# C10: your code here\n",
    "for f in sorted_words[:10]:\n",
    "    print(f\"{f[0]:.2f} {f[1]}\")\n",
    "\n",
    "for l in sorted_words[-10:]:\n",
    "    print(f\"{l[0]:.2f} {l[1]}\")"
   ]
  },
  {
   "cell_type": "markdown",
   "metadata": {
    "id": "jeKkSaByG3lf"
   },
   "source": [
    "**C10 Expected Output**\n",
    "\n",
    "```\n",
    "-2.27\twaste\n",
    "-2.03\tworst\n",
    "-1.99\tawful\n",
    "-1.75\tworse\n",
    "-1.68\tterrible\n",
    "-1.66\tstupid\n",
    "-1.63\twasted\n",
    "-1.58\tpathetic\n",
    "-1.57\tlaughable\n",
    "-1.57\thorrible\n",
    "1.21\tperfection\n",
    "1.22\tbeautifully\n",
    "1.28\tmatthau\n",
    "1.29\toutstanding\n",
    "1.29\texcellent\n",
    "1.30\tterrific\n",
    "1.31\twonderful\n",
    "1.35\tsuperb\n",
    "1.36\tfantastic\n",
    "1.68\ttouching\n",
    "```"
   ]
  },
  {
   "cell_type": "markdown",
   "metadata": {
    "id": "a0DVOS9ua5FB"
   },
   "source": [
    "## Problem C11 (2 points)\n",
    "\n",
    "In 1-2 sentences, describe what the log probabilities in C8 indicate; for example, what does a 1.36 value for `fantastic` imply? Comment on whether you think this is a good ranking of words for positive and negative reviews, and why.\n"
   ]
  },
  {
   "cell_type": "markdown",
   "metadata": {
    "id": "71200276"
   },
   "source": [
    "**Your answer to C11 here:** The log probabilities indicate how likely each word in `tfidf_vocabulary` will appear in either a positive or negative movie review; therefore, a 1.36 value for `fantastic` implies that the word is more likely to appear in a positive movie review. Because it takes the difference between the likelihood of each word being in a negative review and a positive review, this method creates a generally good ranking; higher likelihood of being in a positive review will create a positive log probability, as shown in the list from C10. However, some words such as `matthau` are seemingly random and don't intuitively correlate to a positive or negative review; yet it is listed as more likely to be in a positive review. While it is generally a good ranking, there does seem to be some inaccuracies. "
   ]
  },
  {
   "cell_type": "markdown",
   "metadata": {
    "id": "f6480acc"
   },
   "source": [
    "## Problem C12 (4 points)\n",
    "\n",
    "Here, you’ll get to write your own reviews and see if you can trick the classifier. The goal is to write four reviews:\n",
    "\n",
    "* The first review should be positive to you and score `1` to the classifier.\n",
    "* The second should be negative and score `0`.\n",
    "* The third should be positive but incorrectly score `0`.\n",
    "* The fourth should be negative and incorrectly score `1`. Use the words above as inspiration.\n",
    "\n",
    "Then, write code that does the following to confirm your written reviews:\n",
    "\n",
    "1. Create a list called `my_reviews` that contains four strings, each containing a review that you write.\n",
    "2. You will transform this list into an array using `tfidf_vectorizer.transform()`.\n",
    "3. Predict the rating of `my_reviews` using `nb_classifier` and `.predict()`. Your first review should give you a true positive, your second review should give you a true negative, your third review should give you a false negative, and your fourth review should give you a false positive."
   ]
  },
  {
   "cell_type": "code",
   "execution_count": 45,
   "metadata": {
    "id": "1145adba",
    "tags": []
   },
   "outputs": [
    {
     "data": {
      "text/plain": [
       "array([1, 0, 0, 1])"
      ]
     },
     "execution_count": 45,
     "metadata": {},
     "output_type": "execute_result"
    }
   ],
   "source": [
    "# C12: your code here\n",
    "my_reviews = ['The movie is excellent.', 'It was an awful experience.', \\\n",
    "              'You must be stupid to not like this movie because it was great.', \\\n",
    "              'This film was outstanding...at being bad.']\n",
    "my_reviews_vectorizer = tfidf_vectorizer.transform(my_reviews)\n",
    "nb_classifier.predict(my_reviews_vectorizer)"
   ]
  },
  {
   "cell_type": "markdown",
   "metadata": {
    "id": "-r9xTDFBG3lf"
   },
   "source": [
    "**C12 Expected Output**\n",
    "\n",
    "```\n",
    "array([1, 0, 0, 1])\n",
    "```"
   ]
  },
  {
   "cell_type": "markdown",
   "metadata": {
    "id": "LAmx6q01NZQf"
   },
   "source": [
    "# Part D: KMeans Clustering\n",
    "\n",
    "The file `reviews_hw6.tsv` contains tab-delimited data for 2000 reviews from Yelp. Each review has either a \"positive\" or \"negative\" rating. We're going to be classifying the Yelp reviews in a different way: using KMeans clustering, which clusters a collection of documents based on their similarity rather than classification."
   ]
  },
  {
   "cell_type": "markdown",
   "metadata": {
    "id": "7cd33a7e"
   },
   "source": [
    "## Problem D1 (3 points)\n",
    "\n",
    "Read in `reviews_hw6.tsv` and name the dataframe `cluster_df`. Note that, just like `movie_hw6.tsv`, this file's delimiter is `\\t` as well. Use `TfidfVectorizer` with `min_df=5` to convert the text data into a matrix of TF-IDF features. Name this vectorizer `tfidf_vectorizer`. Use the `fit_transform()` method of `tfidf_vectorizer` to transform the `Text` column of `cluster_df` into a matrix. Store this matrix as `cluster_tfidf`. Create a [`KMeans`](https://scikit-learn.org/stable/modules/generated/sklearn.cluster.KMeans.html) clustering model, setting $K=100$ and `random_state=2950`. Name the model as `clustering`. Apply `.fit` to `clustering` with our input of `reviews_tfidf` (since we don't need labels, there's no need to do a train/test split).\n"
   ]
  },
  {
   "cell_type": "code",
   "execution_count": 46,
   "metadata": {
    "id": "e85f8cd2",
    "tags": []
   },
   "outputs": [],
   "source": [
    "# D1: your code here\n",
    "cluster_df = pd.read_csv('reviews_hw6.tsv', delimiter = '\\t')\n",
    "tfidf_vectorizer = TfidfVectorizer(min_df = 5)\n",
    "cluster_tfidf = tfidf_vectorizer.fit_transform(cluster_df['Text'])\n",
    "clustering = KMeans(n_clusters = 100, \\\n",
    "                    random_state = 2950).fit(cluster_tfidf)"
   ]
  },
  {
   "cell_type": "markdown",
   "metadata": {
    "id": "zKeibRF2a5FB"
   },
   "source": [
    "## Problem D2 (2 points)\n",
    "The `.labels_` array in a K-means clustering object has one elment per review representing the index of the cluster the review is assigned to.\n",
    "\n",
    "Use `.labels_` to find the cluster associated with the review at index 39. Name this variable `target_cluster`.\n",
    "\n",
    "Print `target_cluster`.\n"
   ]
  },
  {
   "cell_type": "code",
   "execution_count": 47,
   "metadata": {
    "id": "ATUIHT94a5FB",
    "tags": []
   },
   "outputs": [
    {
     "name": "stdout",
     "output_type": "stream",
     "text": [
      "62\n"
     ]
    }
   ],
   "source": [
    "# D2: your code here\n",
    "target_cluster = clustering.labels_[39]\n",
    "print(target_cluster)"
   ]
  },
  {
   "cell_type": "markdown",
   "metadata": {
    "id": "Nx2pzeJjG3lf"
   },
   "source": [
    "**D2 Expected Output**\n",
    "```\n",
    "62\n",
    "```"
   ]
  },
  {
   "cell_type": "markdown",
   "metadata": {
    "id": "AxKT148Va5FB"
   },
   "source": [
    "## Problem D3 (2 points)\n",
    "Use `np.where` to get all the indices of all the reviews assigned to `target_cluster`.\n",
    "\n",
    "Print the indices.\n",
    "\n",
    "**Hint**: you can use `.labels_` again for this problem. There should be 22 reviews in `target_cluster`."
   ]
  },
  {
   "cell_type": "code",
   "execution_count": 48,
   "metadata": {
    "id": "74759144",
    "scrolled": true,
    "tags": []
   },
   "outputs": [
    {
     "name": "stdout",
     "output_type": "stream",
     "text": [
      "(array([  17,   39,  135,  155,  308,  671,  811,  842,  862,  933, 1042,\n",
      "       1056, 1105, 1254, 1431, 1443, 1452, 1671, 1708, 1872, 1948, 1958]),)\n"
     ]
    }
   ],
   "source": [
    "# D3: your code here\n",
    "cluster_reviews = np.where(clustering.labels_ == target_cluster)\n",
    "print(cluster_reviews)"
   ]
  },
  {
   "cell_type": "markdown",
   "metadata": {
    "id": "gbFVfWZCG3lg"
   },
   "source": [
    "**D3 Expected Output**\n",
    "```\n",
    "(array([  17,   39,  135,  155,  308,  671,  811,  842,  862,  933, 1042,\n",
    "       1056, 1105, 1254, 1431, 1443, 1452, 1671, 1708, 1872, 1948, 1958],\n",
    "      dtype=int64),)\n",
    "```\n",
    "\n",
    "*You may also see:*\n",
    "```\n",
    "(array([  17,   39,  135,  155,  308,  671,  811,  842,  862,  933, 1042,\n",
    "       1056, 1105, 1254, 1431, 1443, 1452, 1671, 1708, 1872, 1948, 1958]),)\n",
    "```"
   ]
  },
  {
   "cell_type": "markdown",
   "metadata": {
    "id": "Cwt10FHIa5FC"
   },
   "source": [
    "## Problem D4 (3 points)\n",
    "Use a for loop to make a list called `text_list` where each entry is `Text` (from `cluster_df`) for each of the reviews assigned to `target_cluster`."
   ]
  },
  {
   "cell_type": "code",
   "execution_count": 49,
   "metadata": {
    "id": "37cf3971",
    "scrolled": true,
    "tags": []
   },
   "outputs": [],
   "source": [
    "# D4: your code here\n",
    "text_list = []\n",
    "\n",
    "for i in cluster_reviews:\n",
    "    text = cluster_df['Text'].iloc[i]\n",
    "    text_list.append(str(text))"
   ]
  },
  {
   "cell_type": "markdown",
   "metadata": {
    "id": "M9mIZefFG3lg"
   },
   "source": [
    "Use the given code to make a word cloud from `text_list`."
   ]
  },
  {
   "cell_type": "code",
   "execution_count": 50,
   "metadata": {
    "id": "FG7eSqAiG3lg",
    "tags": []
   },
   "outputs": [
    {
     "data": {
      "image/png": "[encoded data removed]",
      "text/plain": [
       "<Figure size 640x480 with 1 Axes>"
      ]
     },
     "metadata": {},
     "output_type": "display_data"
    }
   ],
   "source": [
    "# Given code\n",
    "wordcloud = WordCloud(background_color=\"white\",\n",
    "                     width=500,\n",
    "                     height=500\n",
    "                     ).generate(' '.join(text_list))\n",
    "plt.imshow(wordcloud, interpolation='bilinear')\n",
    "plt.show()"
   ]
  },
  {
   "cell_type": "markdown",
   "metadata": {
    "id": "JNS3rNGha5FC"
   },
   "source": [
    "## Problem D5 (5 points)\n",
    "\n",
    "a) In one sentence, describe what cluster 62 (the `target_cluster`) is about.\n",
    "\n",
    "b) Check the text for two additional (different) clusters. For each cluster, write the cluster index number, and describe its themes."
   ]
  },
  {
   "cell_type": "markdown",
   "metadata": {
    "id": "6460d1f8"
   },
   "source": [
    "**D5(a): your answer here**\n",
    "\n",
    "* **What is cluster 62 about**: Cluster 62 seems to be about reviews for different burger places."
   ]
  },
  {
   "cell_type": "code",
   "execution_count": 51,
   "metadata": {
    "id": "heFk8KMZG3lg",
    "tags": []
   },
   "outputs": [
    {
     "name": "stdout",
     "output_type": "stream",
     "text": [
      "81\n"
     ]
    },
    {
     "data": {
      "image/png": "[encoded data removed]",
      "text/plain": [
       "<Figure size 640x480 with 1 Axes>"
      ]
     },
     "metadata": {},
     "output_type": "display_data"
    }
   ],
   "source": [
    "## D5(b)(i) explore one other cluster here:\n",
    "target_cluster2 = clustering.labels_[50]\n",
    "print(target_cluster2)\n",
    "\n",
    "cluster_reviews2 = np.where(clustering.labels_ == target_cluster2)\n",
    "text_list2 = []\n",
    "\n",
    "for i in cluster_reviews2:\n",
    "    text = cluster_df['Text'].iloc[i]\n",
    "    text_list2.append(str(text))\n",
    "\n",
    "wordcloud = WordCloud(background_color=\"white\",\n",
    "                     width=500,\n",
    "                     height=500\n",
    "                     ).generate(' '.join(text_list2))\n",
    "plt.imshow(wordcloud, interpolation='bilinear')\n",
    "plt.show()"
   ]
  },
  {
   "cell_type": "markdown",
   "metadata": {
    "id": "Eb-eChTs1WGg"
   },
   "source": [
    "**D5(b)(ii) describe the cluster index and theme here:** The cluster index number for this cluster is 81. The themes for this cluster include airports and different restaurants in Phoenix, and many reviews discuss people's experiences at these restaurants in regards to food, convenience, ambience, service, and more. "
   ]
  },
  {
   "cell_type": "code",
   "execution_count": 52,
   "metadata": {
    "id": "zX-3YR_KG3lg",
    "tags": []
   },
   "outputs": [
    {
     "name": "stdout",
     "output_type": "stream",
     "text": [
      "38\n"
     ]
    },
    {
     "data": {
      "image/png": "[encoded data removed]",
      "text/plain": [
       "<Figure size 640x480 with 1 Axes>"
      ]
     },
     "metadata": {},
     "output_type": "display_data"
    }
   ],
   "source": [
    "## D5(c)(i) explore another cluster here:\n",
    "target_cluster3 = clustering.labels_[47]\n",
    "print(target_cluster3)\n",
    "\n",
    "cluster_reviews3 = np.where(clustering.labels_ == target_cluster3)\n",
    "text_list3 = []\n",
    "\n",
    "for i in cluster_reviews3:\n",
    "    text = cluster_df['Text'].iloc[i]\n",
    "    text_list3.append(str(text))\n",
    "\n",
    "wordcloud = WordCloud(background_color=\"white\",\n",
    "                     width=500,\n",
    "                     height=500\n",
    "                     ).generate(' '.join(text_list3))\n",
    "plt.imshow(wordcloud, interpolation='bilinear')\n",
    "plt.show()"
   ]
  },
  {
   "cell_type": "markdown",
   "metadata": {
    "id": "dweZe4-41WGh"
   },
   "source": [
    "**D5(c)(ii) describe the cluster index and theme here:** The cluster index number for this cluster is 38. The themes for this cluster include different locations (hotels, bars, restaurants, etc.) in a city with descriptions about the city, its people, hotels, food, and more; the reviews also discuss what people think about these locations with adjectives such as favorite, love, worst, good, and more."
   ]
  },
  {
   "cell_type": "markdown",
   "metadata": {
    "id": "Bzm8ZzcyhCGq"
   },
   "source": [
    "# Part E: Singular Value Decomposition with Recipes"
   ]
  },
  {
   "cell_type": "markdown",
   "metadata": {
    "id": "oVf-1OchNAHT"
   },
   "source": [
    "Below, we'll use a dataset of ingredients in different recipes, which we'll call `recipes_df`. In this dataframe, each column is an ingredient and each row is a recipe. We have binary values for each ingredient. This tells us whether that ingredient is (1) or is not (0) used in the given recipe.\n",
    "\n",
    "This data is a subset of [a recipe ingredients dataset](https://www.kaggle.com/datasets/kaggle/recipe-ingredients-dataset) released on Kaggle by the meal planning site [Yummly](https://www.yummly.com/).\n",
    "\n",
    "## Problem E1 (3 points)\n",
    "Our goal is to perform SVD on this ingredient/recipe matrix. There's some additional metadata that we don't need for now.\n",
    "1. Use `pd.read_csv()` to read in `recipes_hw6.csv`. Name the dataframe `recipes_df`.\n",
    "2. Create a new dataframe called `ingredients_df` by dropping the `RecipeID` and `Cuisine` columns from `recipes_df`.\n",
    "3. Calculate the rank of `ingredients` using [`np.linalg.matrix_rank`](https://numpy.org/doc/stable/reference/generated/numpy.linalg.matrix_rank.html).  The matrix rank, in this context, indicates the number of linearly independent columns in the dataframe.\n",
    "\n",
    "Print the shape of `ingredients`.\n",
    "Print the rank of `ingredients`.\n"
   ]
  },
  {
   "cell_type": "code",
   "execution_count": 53,
   "metadata": {
    "id": "5lDVudfA4yeE",
    "tags": []
   },
   "outputs": [
    {
     "name": "stdout",
     "output_type": "stream",
     "text": [
      "Shape of ingredients: (1000, 200)\n",
      "Matrix rank of ingredients: 200\n"
     ]
    }
   ],
   "source": [
    "# E1: your code here\n",
    "recipes_df = pd.read_csv('recipes_hw6.csv')\n",
    "ingredients_df = recipes_df.drop(columns = ['RecipeID', 'Cuisine'])\n",
    "ingredients = np.linalg.matrix_rank(ingredients_df)\n",
    "\n",
    "print(f\"Shape of ingredients: {ingredients_df.shape}\")\n",
    "print(f\"Matrix rank of ingredients: {ingredients}\")"
   ]
  },
  {
   "cell_type": "markdown",
   "metadata": {
    "id": "Qg6gM9lvG3lg"
   },
   "source": [
    "**E1 Expected Output**\n",
    "\n",
    "```\n",
    "Shape of ingredients: (1000, 200)\n",
    "Matrix rank of ingredients: 200\n",
    "```"
   ]
  },
  {
   "cell_type": "markdown",
   "metadata": {
    "id": "4QqxUEfv1EVh"
   },
   "source": [
    "## Problem E2 (2 points)\n",
    "\n",
    "Using [`np.linalg.svd`](https://numpy.org/doc/stable/reference/generated/numpy.linalg.svd.html), generate the singular value decomposition of `ingredients_df`. Name the three outputs `U`, `s`, and `Vt`, respectively.\n",
    "\n",
    "Print the shape of `U`, `s`, `Vt`."
   ]
  },
  {
   "cell_type": "code",
   "execution_count": 54,
   "metadata": {
    "id": "fYwtsx2ea5FC",
    "tags": []
   },
   "outputs": [
    {
     "name": "stdout",
     "output_type": "stream",
     "text": [
      "The shape of U: (1000, 200)\n",
      "The shape of s: (200,)\n",
      "The shape of Vt: (200, 200)\n"
     ]
    }
   ],
   "source": [
    "# E2: your code here\n",
    "U, s, Vt = np.linalg.svd(ingredients_df, compute_uv = True, \\\n",
    "                         full_matrices = False)\n",
    "\n",
    "print(f\"The shape of U: {U.shape}\")\n",
    "print(f\"The shape of s: {s.shape}\")\n",
    "print(f\"The shape of Vt: {Vt.shape}\")"
   ]
  },
  {
   "cell_type": "markdown",
   "metadata": {
    "id": "_QIHkLN8G3lg"
   },
   "source": [
    "**E2 Expected Output**\n",
    "\n",
    "```\n",
    "The shape of U: (1000, 1000)\n",
    "The shape of s: (200,)\n",
    "The shape of Vt: (200, 200)\n",
    "```"
   ]
  },
  {
   "cell_type": "markdown",
   "metadata": {
    "id": "CLIiFK8XD8Yc"
   },
   "source": [
    "## Problem E3 (2 points)\n",
    "\n",
    "Describe what matrices `U`, `s`, and `Vt` represent in words, for our recipe data setting.\n"
   ]
  },
  {
   "cell_type": "markdown",
   "metadata": {
    "id": "QbhvVCqba5FC"
   },
   "source": [
    "**E3: Your answer here** For our recipe data setting, the matrix `U` represents the relationship between each recipe (rows) and the ingredients (concepts) of the recipe (columns). It shows the strength between a recipe and each concept/ingredient. The matrix `s` represents the ingredients in the data. It shows the strength/prevalence of each concept/ingredient in the total recipe data. The matrix `Vt` represents the relationship between the ingredients (rows) and the recipes (columns), and it shows the strength between a ingredient and each recipe. In the context of interpretation, it is like the inverse of the matrix `U`. "
   ]
  },
  {
   "cell_type": "markdown",
   "metadata": {
    "id": "K68kntaAa5FC"
   },
   "source": [
    "## Problem E4 (2 points)\n",
    "\n",
    "From Problem E1, you found the rank of `ingredients_df` is `200`. In two sentences, answer: What does rank represent in the SVD? What do the values in `s` represent?"
   ]
  },
  {
   "cell_type": "markdown",
   "metadata": {
    "id": "HroBWdiVa5FC"
   },
   "source": [
    "**E4: Your answer here** In the SVD, rank represents the number of ingredients that are listed in the ingredients_df that have impact on the recipe data, and it shows which of the ingredients/concepts have non-zero strengths. The values in `s` represent the strength of each ingredient/concept in the recipe data."
   ]
  },
  {
   "cell_type": "markdown",
   "metadata": {
    "id": "V5pCLKroa5FD"
   },
   "source": [
    "## Problem E5 (4 points)\n",
    "For the next sets of problems, we will work on reconstructing the `ingredients` matrix with less information. To do this, we will truncate the `U`, `S`, and `Vt` matrix to a lower rank. As an example, if we only wanted to compute the rank 10 approximation, we could truncate U, S, and Vt from the original rank number to rank 10 to create new matrices `U’`, `S’`, and `V’t`. We could then multiply `U’`, `S’`, and `V’t` to get the new approximation `A’`.\n",
    "\n",
    "We are going to reconstruct `ingredients` using rank 20 approximation.\n",
    "Use indexing to achieve the following:\n",
    "\n",
    "1. Create `U_trunc` by selecting first 20 columns (i.e. columns 0, 1, … 19) of `U`\n",
    "2. Create `s_trunc` by selecting first 20 elements (i.e. elements 0, 1, … 19) of `s`\n",
    "3. Create `Vt_trunc` by selecting first 20 rows (i.e. rows 0, 1, … 19) of `Vt`\n",
    "\n",
    "Print the shape of`U_trunc`, `S_trunc`, and `Vt_trunc`."
   ]
  },
  {
   "cell_type": "code",
   "execution_count": 55,
   "metadata": {
    "id": "p4kxeKaGa5FD",
    "tags": []
   },
   "outputs": [
    {
     "name": "stdout",
     "output_type": "stream",
     "text": [
      "U_trunc shape: (1000, 20)\n",
      "s_trunc shape: (20,)\n",
      "Vt_trunc shape: (20, 200)\n"
     ]
    }
   ],
   "source": [
    "# E5: your code here\n",
    "U_trunc = U[:, :20]\n",
    "print(f\"U_trunc shape: {U_trunc.shape}\")\n",
    "\n",
    "s_trunc = s[:20]\n",
    "print(f\"s_trunc shape: {s_trunc.shape}\")\n",
    "\n",
    "Vt_trunc = Vt[:20, :]\n",
    "print(f\"Vt_trunc shape: {Vt_trunc.shape}\")"
   ]
  },
  {
   "cell_type": "markdown",
   "metadata": {
    "id": "tiOtx2YoG3li"
   },
   "source": [
    "**E5 Expected Output**\n",
    "```\n",
    "U_trunc shape: (1000, 20)\n",
    "s_trunc shape: (20,)\n",
    "Vt_trunc shape: (20, 200)\n",
    "```"
   ]
  },
  {
   "cell_type": "markdown",
   "metadata": {
    "id": "UG2qtCQIa5FD"
   },
   "source": [
    "## Problem E6 (3 points)\n",
    "To reconstruct `ingredients_df`, we need to multiply the three truncated matrices together. However, the numpy array `s` is not in matrix form yet. The matrix form of `s` is what we refer to as $\\Sigma$, the singular value matrix. $\\Sigma$ is a diagonal matrix, which contains zeroes everywhere except the diagonal.\n",
    "\n",
    "Use [`np.diag`](https://numpy.org/doc/stable/reference/generated/numpy.diag.html) to create the diagonal matrix `Sigma_trunc`. The values along the diagonal of `Sigma_trunc` should be the values in `s_trunc`, with larger values in the upper left of the diagonal (and smaller values towards the bottom right).\n",
    "\n",
    "Print the top-left 5x5 section of `Sigma_trunc`."
   ]
  },
  {
   "cell_type": "code",
   "execution_count": 56,
   "metadata": {
    "id": "8PKCNMtIa5FD",
    "tags": []
   },
   "outputs": [
    {
     "name": "stdout",
     "output_type": "stream",
     "text": [
      "[[29.52774967  0.          0.          0.          0.        ]\n",
      " [ 0.         16.503721    0.          0.          0.        ]\n",
      " [ 0.          0.         14.82993976  0.          0.        ]\n",
      " [ 0.          0.          0.         14.51132379  0.        ]\n",
      " [ 0.          0.          0.          0.         13.17119057]]\n"
     ]
    }
   ],
   "source": [
    "# E6: your code here\n",
    "Sigma_trunc = np.diag(s_trunc)\n",
    "print(Sigma_trunc[:5, :5])"
   ]
  },
  {
   "cell_type": "markdown",
   "metadata": {
    "id": "gLcAJ_M6G3ll"
   },
   "source": [
    "**E6 Expected Output**\n",
    "```\n",
    "[[29.52774967  0.          0.          0.          0.        ]\n",
    " [ 0.         16.503721    0.          0.          0.        ]\n",
    " [ 0.          0.         14.82993976  0.          0.        ]\n",
    " [ 0.          0.          0.         14.51132379  0.        ]\n",
    " [ 0.          0.          0.          0.         13.17119057]]\n",
    "```"
   ]
  },
  {
   "cell_type": "markdown",
   "metadata": {
    "id": "qGQm_q66a5FD"
   },
   "source": [
    "## Problem E7 (3 points)\n",
    "Now we are going to create a 20-rank approximation of `ingredients_df`.\n",
    "\n",
    "Use matrix multiplication (with the `@` operator) to multiply `U_trunc`, `Sigma_trunc`, and `Vt_trunc` with matrix multiplication. Note that the order of matrix multiplication matters! Name the resulting dataframe `ingredients_reconstructed`.\n",
    "\n",
    "Print the shape of `ingredients_reconstructed`."
   ]
  },
  {
   "cell_type": "code",
   "execution_count": 57,
   "metadata": {
    "id": "v-SUSPHea5FD",
    "tags": []
   },
   "outputs": [
    {
     "name": "stdout",
     "output_type": "stream",
     "text": [
      "(1000, 200)\n"
     ]
    }
   ],
   "source": [
    "# E7: your code here\n",
    "ingredients_reconstructed = U_trunc @ Sigma_trunc @ Vt_trunc\n",
    "print(ingredients_reconstructed.shape)"
   ]
  },
  {
   "cell_type": "markdown",
   "metadata": {
    "id": "mekR6OSsG3ll"
   },
   "source": [
    "**E7 Expected Output**\n",
    "\n",
    "```\n",
    "(1000, 200)\n",
    "```\n"
   ]
  },
  {
   "cell_type": "markdown",
   "metadata": {
    "id": "hBwgAbAha5FD"
   },
   "source": [
    "## Problem E8 (3 points)\n",
    "In the problem after this one, we will compare a recipe between the original dataframe and the approximation dataframe. In order to do that, in this problem, we will:\n",
    "1. Use `np.round()` to round all the values of `ingredients_reconstructed` to `0.0` or `1.0`. (Note: you might end up with `-0` after rounding. We need these values to simply be 0, so you should use `np.abs()` to deal with `-0`.)\n",
    "2. Turn `ingredients_reconstructed` into a pandas dataframe, and name it `ingredients_reconstructed_df`. Then, set the column names of `ingredients_reconstructed_df` to be the same as the columns of `ingredients_df`.\n",
    "\n",
    "Print the first 5 rows of `ingredients_reconstructed_df` .\n"
   ]
  },
  {
   "cell_type": "code",
   "execution_count": 58,
   "metadata": {
    "id": "Q3KuOVCka5FD",
    "tags": []
   },
   "outputs": [
    {
     "name": "stdout",
     "output_type": "stream",
     "text": [
      "   all-purpose_flour  avocado  bacon  baking_powder  baking_soda  \\\n",
      "0                0.0      0.0    0.0            0.0          0.0   \n",
      "1                0.0      0.0    0.0            0.0          0.0   \n",
      "2                0.0      0.0    0.0            0.0          0.0   \n",
      "3                0.0      0.0    0.0            0.0          0.0   \n",
      "4                0.0      0.0    0.0            0.0          0.0   \n",
      "\n",
      "   balsamic_vinegar  bay_leaf  bay_leaves  beansprouts  bell_pepper  ...  \\\n",
      "0               0.0       0.0         0.0          0.0          0.0  ...   \n",
      "1               0.0       0.0         0.0          0.0          0.0  ...   \n",
      "2               0.0       0.0         0.0          0.0          0.0  ...   \n",
      "3               0.0       0.0         0.0          0.0          0.0  ...   \n",
      "4               0.0       0.0         0.0          0.0          0.0  ...   \n",
      "\n",
      "   water  whipping_cream  white_onion  white_pepper  white_sugar  \\\n",
      "0    0.0             0.0          0.0           0.0          0.0   \n",
      "1    0.0             0.0          0.0           0.0          0.0   \n",
      "2    0.0             0.0          0.0           0.0          0.0   \n",
      "3    0.0             0.0          0.0           0.0          0.0   \n",
      "4    0.0             0.0          0.0           0.0          0.0   \n",
      "\n",
      "   white_vinegar  whole_milk  worcestershire_sauce  yellow_onion  zucchini  \n",
      "0            0.0         0.0                   0.0           0.0       0.0  \n",
      "1            0.0         0.0                   0.0           0.0       0.0  \n",
      "2            0.0         0.0                   0.0           0.0       0.0  \n",
      "3            0.0         0.0                   0.0           0.0       0.0  \n",
      "4            0.0         0.0                   0.0           0.0       0.0  \n",
      "\n",
      "[5 rows x 200 columns]\n"
     ]
    }
   ],
   "source": [
    "# E8: your code here\n",
    "ingredients_reconstructed = np.abs(ingredients_reconstructed.round(0))\n",
    "ingredients_reconstructed_df = pd.DataFrame(ingredients_reconstructed)\n",
    "ingredients_reconstructed_df.columns = ingredients_df.columns\n",
    "print(ingredients_reconstructed_df.head())"
   ]
  },
  {
   "cell_type": "markdown",
   "metadata": {
    "id": "kooppaPYG3ll"
   },
   "source": [
    "**E8 Expected Output**\n",
    "```\n",
    "  all-purpose_flour  avocado  bacon  baking_powder  baking_soda  \\\n",
    "0                0.0      0.0    0.0            0.0          0.0   \n",
    "1                0.0      0.0    0.0            0.0          0.0   \n",
    "2                0.0      0.0    0.0            0.0          0.0   \n",
    "3                0.0      0.0    0.0            0.0          0.0   \n",
    "4                0.0      0.0    0.0            0.0          0.0   \n",
    "\n",
    "   balsamic_vinegar  bay_leaf  bay_leaves  beansprouts  bell_pepper  ...  \\\n",
    "0               0.0       0.0         0.0          0.0          0.0  ...   \n",
    "1               0.0       0.0         0.0          0.0          0.0  ...   \n",
    "2               0.0       0.0         0.0          0.0          0.0  ...   \n",
    "3               0.0       0.0         0.0          0.0          0.0  ...   \n",
    "4               0.0       0.0         0.0          0.0          0.0  ...   \n",
    "\n",
    "   water  whipping_cream  white_onion  white_pepper  white_sugar  \\\n",
    "0    0.0             0.0          0.0           0.0          0.0   \n",
    "1    0.0             0.0          0.0           0.0          0.0   \n",
    "2    0.0             0.0          0.0           0.0          0.0   \n",
    "3    0.0             0.0          0.0           0.0          0.0   \n",
    "4    0.0             0.0          0.0           0.0          0.0   \n",
    "\n",
    "   white_vinegar  whole_milk  worcestershire_sauce  yellow_onion  zucchini  \n",
    "0            0.0         0.0                   0.0           0.0       0.0  \n",
    "1            0.0         0.0                   0.0           0.0       0.0  \n",
    "2            0.0         0.0                   0.0           0.0       0.0  \n",
    "3            0.0         0.0                   0.0           0.0       0.0  \n",
    "4            0.0         0.0                   0.0           0.0       0.0  \n",
    "\n",
    "[5 rows x 200 columns]\n",
    "```\n"
   ]
  },
  {
   "cell_type": "markdown",
   "metadata": {
    "id": "KRA978Xsa5FD"
   },
   "source": [
    "## Problem E9 (4 points)\n",
    "(a) In the code cell below, print the ingredients of the recipe at index 137 in the original dataframe (`ingredients_df`), and then ingredients for that recipe in the reconstructed dataframe (`ingredients_reconstructed_df`). Only print the ingredients where the value is `1`. You may find this [stackoverflow post about filtering a series](https://stackoverflow.com/questions/28272137/pandas-how-to-filter-a-series) useful.\n",
    "\n",
    "(b) In the markdown cell below, describe what you think recipe 137 is.\n",
    "In 1-2 sentences, compare the differences between the original and reconstructed recipe. (Remember, our reconstructed dataframe is nice because we use far less data storage to generate the recipes -- but at what cost?)"
   ]
  },
  {
   "cell_type": "code",
   "execution_count": 59,
   "metadata": {
    "id": "1EnNoXU8g77X",
    "tags": []
   },
   "outputs": [
    {
     "name": "stdout",
     "output_type": "stream",
     "text": [
      "cayenne           1\n",
      "chili_powder      1\n",
      "cinnamon          1\n",
      "coriander         1\n",
      "cumin             1\n",
      "diced_tomatoes    1\n",
      "fresh_cilantro    1\n",
      "fresh_ginger      1\n",
      "garam_masala      1\n",
      "garlic_cloves     1\n",
      "lemon_juice       1\n",
      "onions            1\n",
      "pepper            1\n",
      "salt              1\n",
      "tomato_paste      1\n",
      "Name: 137, dtype: int64\n",
      "chili_powder     1.0\n",
      "garlic_cloves    1.0\n",
      "onions           1.0\n",
      "pepper           1.0\n",
      "salt             1.0\n",
      "Name: 137, dtype: float64\n"
     ]
    }
   ],
   "source": [
    "# E9: your code here\n",
    "original = ingredients_df.iloc[137]\n",
    "print(original[original == 1])\n",
    "\n",
    "reconstructed = ingredients_reconstructed_df.iloc[137]\n",
    "print(reconstructed[reconstructed == 1])"
   ]
  },
  {
   "cell_type": "markdown",
   "metadata": {
    "id": "3IPK018Ra5FD"
   },
   "source": [
    "- **What is Recipe 137**: I think recipe 137 is an Indian dish (maybe a type of curry or tomato-based stew). \n",
    "\n",
    "- **Describe ingredient differences between original and reconstructed df for Recipe 137**: The original recipe, though it uses more data storage, provides more information on what ingredients you need and is much more descriptive and helpful. The reconstructed recipe uses less data storage but it isn't very descriptive. It leaves you to guess what type of food you are making, especially since the ingredients that are listed are common and basic. "
   ]
  },
  {
   "cell_type": "markdown",
   "metadata": {
    "id": "W72Ubx0ma5FD"
   },
   "source": [
    "# Section F: Naïve Bayes and Gimme! Orders"
   ]
  },
  {
   "cell_type": "markdown",
   "metadata": {
    "id": "q5ZMbSpga5FD"
   },
   "source": [
    "## Problem F1\n",
    "\n",
    "| Email |  Bolded words | Category|\n",
    "| --- | --- | --- |\n",
    "| 1 | **\"espresso caramel\"** | complex |\n",
    "| 2 | **\"caramel mocha spice\"** | complex |\n",
    "| 3 | **\"americano espresso\"**  | simple |\n",
    "\n",
    "You are trying to build a classifier that uses the bolded words in an order to predict whether a Gimme order is simple or complex. The above table includes the bolded words in each of three orders, as well as whether the order was simple or complex.\n",
    "\n",
    "## Problem F1(a) (2 points)\n",
    "The given code below gives you two dataframes: `order_df` (our original dataframe) and `order_vocab`. Each row of `order_vocab` is a `single word` from `Order`. Using `order_vocab`, compute the following and print according to the format given. Use [`.nunique`](https://pandas.pydata.org/docs/reference/api/pandas.DataFrame.nunique.html) to look for distinct word count.\n",
    "\n",
    "*   Total distinct word count across all orders.\n",
    "*   Total word count in complex orders.\n",
    "*   Total word count in simple orders."
   ]
  },
  {
   "cell_type": "code",
   "execution_count": 60,
   "metadata": {
    "id": "S1DzqPJtFX0K",
    "outputId": "427e1ce9-b66b-4e72-ca8e-afed7f3e2354",
    "tags": []
   },
   "outputs": [
    {
     "data": {
      "text/html": [
       "<div>\n",
       "<style scoped>\n",
       "    .dataframe tbody tr th:only-of-type {\n",
       "        vertical-align: middle;\n",
       "    }\n",
       "\n",
       "    .dataframe tbody tr th {\n",
       "        vertical-align: top;\n",
       "    }\n",
       "\n",
       "    .dataframe thead th {\n",
       "        text-align: right;\n",
       "    }\n",
       "</style>\n",
       "<table border=\"1\" class=\"dataframe\">\n",
       "  <thead>\n",
       "    <tr style=\"text-align: right;\">\n",
       "      <th></th>\n",
       "      <th>Order</th>\n",
       "      <th>Bolded words</th>\n",
       "      <th>Category</th>\n",
       "    </tr>\n",
       "  </thead>\n",
       "  <tbody>\n",
       "    <tr>\n",
       "      <th>0</th>\n",
       "      <td>1</td>\n",
       "      <td>espresso caramel</td>\n",
       "      <td>complex</td>\n",
       "    </tr>\n",
       "    <tr>\n",
       "      <th>1</th>\n",
       "      <td>2</td>\n",
       "      <td>caramel mocha spice</td>\n",
       "      <td>complex</td>\n",
       "    </tr>\n",
       "    <tr>\n",
       "      <th>2</th>\n",
       "      <td>3</td>\n",
       "      <td>americano espresso</td>\n",
       "      <td>simple</td>\n",
       "    </tr>\n",
       "  </tbody>\n",
       "</table>\n",
       "</div>"
      ],
      "text/plain": [
       "   Order         Bolded words Category\n",
       "0      1     espresso caramel  complex\n",
       "1      2  caramel mocha spice  complex\n",
       "2      3   americano espresso   simple"
      ]
     },
     "execution_count": 60,
     "metadata": {},
     "output_type": "execute_result"
    }
   ],
   "source": [
    "# Given code\n",
    "\n",
    "order_data = {\n",
    "    'Order': [1, 2, 3],\n",
    "    'Bolded words': [\"espresso caramel\", \"caramel mocha spice\", \"americano espresso\"],\n",
    "    'Category': [\"complex\", \"complex\", \"simple\"]\n",
    "}\n",
    "\n",
    "order_df = pd.DataFrame(order_data)\n",
    "order_df"
   ]
  },
  {
   "cell_type": "code",
   "execution_count": 61,
   "metadata": {
    "id": "vetJvmhHFX0K",
    "outputId": "0de76e3e-d88a-4cd6-c6de-5b0f86de1aaf",
    "tags": []
   },
   "outputs": [
    {
     "data": {
      "text/html": [
       "<div>\n",
       "<style scoped>\n",
       "    .dataframe tbody tr th:only-of-type {\n",
       "        vertical-align: middle;\n",
       "    }\n",
       "\n",
       "    .dataframe tbody tr th {\n",
       "        vertical-align: top;\n",
       "    }\n",
       "\n",
       "    .dataframe thead th {\n",
       "        text-align: right;\n",
       "    }\n",
       "</style>\n",
       "<table border=\"1\" class=\"dataframe\">\n",
       "  <thead>\n",
       "    <tr style=\"text-align: right;\">\n",
       "      <th></th>\n",
       "      <th>Order</th>\n",
       "      <th>single word</th>\n",
       "      <th>Category</th>\n",
       "    </tr>\n",
       "  </thead>\n",
       "  <tbody>\n",
       "    <tr>\n",
       "      <th>0</th>\n",
       "      <td>1</td>\n",
       "      <td>espresso</td>\n",
       "      <td>complex</td>\n",
       "    </tr>\n",
       "    <tr>\n",
       "      <th>0</th>\n",
       "      <td>1</td>\n",
       "      <td>caramel</td>\n",
       "      <td>complex</td>\n",
       "    </tr>\n",
       "    <tr>\n",
       "      <th>1</th>\n",
       "      <td>2</td>\n",
       "      <td>caramel</td>\n",
       "      <td>complex</td>\n",
       "    </tr>\n",
       "    <tr>\n",
       "      <th>1</th>\n",
       "      <td>2</td>\n",
       "      <td>mocha</td>\n",
       "      <td>complex</td>\n",
       "    </tr>\n",
       "    <tr>\n",
       "      <th>1</th>\n",
       "      <td>2</td>\n",
       "      <td>spice</td>\n",
       "      <td>complex</td>\n",
       "    </tr>\n",
       "    <tr>\n",
       "      <th>2</th>\n",
       "      <td>3</td>\n",
       "      <td>americano</td>\n",
       "      <td>simple</td>\n",
       "    </tr>\n",
       "    <tr>\n",
       "      <th>2</th>\n",
       "      <td>3</td>\n",
       "      <td>espresso</td>\n",
       "      <td>simple</td>\n",
       "    </tr>\n",
       "  </tbody>\n",
       "</table>\n",
       "</div>"
      ],
      "text/plain": [
       "   Order single word Category\n",
       "0      1    espresso  complex\n",
       "0      1     caramel  complex\n",
       "1      2     caramel  complex\n",
       "1      2       mocha  complex\n",
       "1      2       spice  complex\n",
       "2      3   americano   simple\n",
       "2      3    espresso   simple"
      ]
     },
     "execution_count": 61,
     "metadata": {},
     "output_type": "execute_result"
    }
   ],
   "source": [
    "# Given code\n",
    "\n",
    "order_vocab = order_df.copy()\n",
    "order_vocab[\"single word\"] = order_vocab[\"Bolded words\"].apply(lambda x: x.split())\n",
    "order_vocab = order_vocab.explode(\"single word\")\n",
    "order_vocab = order_vocab[[\"Order\", \"single word\", \"Category\"]]\n",
    "order_vocab"
   ]
  },
  {
   "cell_type": "code",
   "execution_count": 62,
   "metadata": {
    "id": "att08iJYpUxH",
    "tags": []
   },
   "outputs": [
    {
     "name": "stdout",
     "output_type": "stream",
     "text": [
      "Distinct word count overall: 5\n",
      "Word count in complex orders: 5\n",
      "Word count in simple orders: 2\n"
     ]
    }
   ],
   "source": [
    "# F1(a): your code here\n",
    "distinct_wc = order_vocab['single word'].nunique()\n",
    "print(f\"Distinct word count overall: {distinct_wc}\")\n",
    "\n",
    "complex = order_vocab[order_vocab['Category'] == 'complex']\n",
    "complex_wc = len(complex['single word'])\n",
    "print(f\"Word count in complex orders: {complex_wc}\")\n",
    "\n",
    "simple = order_vocab[order_vocab['Category'] == 'simple']\n",
    "simple_wc = len(simple['single word'])\n",
    "print(f\"Word count in simple orders: {simple_wc}\")"
   ]
  },
  {
   "cell_type": "markdown",
   "metadata": {
    "id": "Wgrwg65UG3lm"
   },
   "source": [
    "**F1(a) Expected Output**\n",
    "```\n",
    "Distinct word count overall: 5\n",
    "Word count in complex orders: 5\n",
    "Word count in simple orders: 2\n",
    "```"
   ]
  },
  {
   "cell_type": "markdown",
   "metadata": {
    "id": "NUSDI2YZgmu3"
   },
   "source": [
    "## Problem F1(b) (2 points)\n",
    "\n",
    "Using these counts, fill in the # complex, # simple columns of the word frequency table provided. Calculate the probabilities $P(Word | Complex)$ and $P(Word | Simple)$ columns of the table accordingly. You should leave the probabilities in fractional form.\n"
   ]
  },
  {
   "cell_type": "markdown",
   "metadata": {
    "id": "4AY5VEyu1WGk"
   },
   "source": [
    "**your F1(b) answer here**\n",
    "\n",
    "| Word |  # complex | # simple | $P(Word \\| Complex)$  | $P(Word \\| Simple)$ |\n",
    "| --- | --- | --- | --- | --- |\n",
    "| \"espresso\" | 1 | 1 | 1/5 | 1/2 |\n",
    "| \"caramel\" | 2 | 0 | 2/5 | 0/2 |\n",
    "| \"mocha\" | 1 | 0 | 1/5 | 0/2 |\n",
    "| \"spice\" | 1 | 0 | 1/5 | 0/2 |\n",
    "| \"americano\" | 0 | 1 | 0/5 | 1/2 |\n"
   ]
  },
  {
   "cell_type": "markdown",
   "metadata": {
    "id": "uzv-Ya7Igmu3"
   },
   "source": [
    "## Problem F1(c) (2 points)\n",
    "Apply Laplace smoothing to calculate $P(Word | Complex)$ and $P(Word | Simple)$ with the correction. Remember that with Laplace smoothing, we increase the count of each distinct word by 1 (thus affecting the numerator), and increase the total count by the number of distinct words (affecting the denominator). You should leave the probabilities in fractional form."
   ]
  },
  {
   "cell_type": "markdown",
   "metadata": {
    "id": "3CkxAEHba5FD"
   },
   "source": [
    "**your F1(c) answer here**\n",
    "\n",
    "| Word |  $P(Word \\| Complex)$ (Laplace)  | $P(Word \\| Simple)$ (Laplace) |\n",
    "| --- | --- | --- |\n",
    "| \"espresso\" | 2/10 | 2/7 |\n",
    "| \"caramel\" | 3/10 | 1/7 |\n",
    "| \"mocha\" | 2/10 | 1/7 |\n",
    "| \"spice\" | 2/10 | 1/7 |\n",
    "| \"americano\" | 1/10 | 2/7 |"
   ]
  },
  {
   "cell_type": "markdown",
   "metadata": {
    "id": "oaL5e6xxa5FD"
   },
   "source": [
    "## Problem F2\n",
    "In the next set of problems, we will use Naive Bayes with Laplace correction to calculate the un-normalized probability that an order of \"espresso americano caramel\" is complex or simple.\n",
    "Note that for the following problems, all probability should be un-normalized.\n",
    "\n",
    "## Problem F2(a) (2 points)\n",
    "In markdown, write out the formula for calculating the (un-normalized) probability that the coffee order with bolded words “espresso americano caramel” is complex. First, fill in what we’re trying to solve (i.e. P(___ | ____)), and then write out the corresponding formula incorporating Bayes / chain rules. If you'd like to use math formatting in markdown, you can enclose formulas within leading and ending dollar sign symbols  (e.g.: $x+y$) ."
   ]
  },
  {
   "cell_type": "markdown",
   "metadata": {
    "id": "MwxUX_9qa5FD"
   },
   "source": [
    "**Markdown for F2(a) here:**\n",
    "- P(complex|\"espresso americano caramel\") $\\propto$ P(\"espresso americano caramel\"|complex)$*$P(complex)\n",
    "- P(complex|\"espresso americano caramel\") $\\propto$ P(\"espresso\"|complex)P(\"americano\"|complex)P(\"caramel\"|complex)$*$P(complex)"
   ]
  },
  {
   "cell_type": "markdown",
   "metadata": {
    "id": "_FJS9p_kgmu3"
   },
   "source": [
    "## Problem F2(b) (2 points)\n",
    "Write the code to calculate the numerator of the probability formula you wrote out in F2a (i.e., the un-normalized probability) that the order is *complex* given the words \"espresso americano caramel\". Then print both the calculated probability and its logarithm. Round both outputs to the fifth decimal point."
   ]
  },
  {
   "cell_type": "code",
   "execution_count": 63,
   "metadata": {
    "id": "ExaEU6Gda5FD",
    "tags": []
   },
   "outputs": [
    {
     "name": "stdout",
     "output_type": "stream",
     "text": [
      "0.004\n",
      "-5.52146\n"
     ]
    }
   ],
   "source": [
    "# F2(b): Calculate probability of complex order\n",
    "prob_espresso_complex = 2 / 10\n",
    "prob_americano_complex = 1 / 10\n",
    "prob_caramel_complex = 3 / 10\n",
    "prob_complex = 2 / 3\n",
    "\n",
    "f2a_complex_prob = prob_espresso_complex * prob_americano_complex \\\n",
    "                    * prob_caramel_complex * prob_complex\n",
    "log_complex_prob = np.log(f2a_complex_prob)\n",
    "\n",
    "print(round(f2a_complex_prob, 5))\n",
    "print(round(log_complex_prob, 5))"
   ]
  },
  {
   "cell_type": "markdown",
   "metadata": {
    "id": "83P2ScaHG3lm"
   },
   "source": [
    "**F2(b) Expected Output**\n",
    "```\n",
    "0.004\n",
    "-5.52146\n",
    "```"
   ]
  },
  {
   "cell_type": "markdown",
   "metadata": {
    "id": "TAxbYHbpgmu4"
   },
   "source": [
    "## Problem F2(c) (2 points)\n",
    "Write the code to calculate the numerator of the probability (i.e., the un-normalized probability) that the order is *simple* given the words \"espresso americano caramel\". Then print both the calculated probability and its logarithm. Round both outputs to the fifth decimal point.\n"
   ]
  },
  {
   "cell_type": "code",
   "execution_count": 64,
   "metadata": {
    "id": "2wRXaOFZa5FE",
    "tags": []
   },
   "outputs": [
    {
     "name": "stdout",
     "output_type": "stream",
     "text": [
      "0.00389\n",
      "-5.55005\n"
     ]
    }
   ],
   "source": [
    "# F2(c): Calculate probability of simple order\n",
    "prob_espresso_simple = 2 / 7\n",
    "prob_americano_simple = 2 / 7\n",
    "prob_caramel_simple = 1 / 7\n",
    "prob_simple = 1 / 3\n",
    "\n",
    "f2a_simple_prob = prob_espresso_simple * prob_americano_simple \\\n",
    "                    * prob_caramel_simple * prob_simple\n",
    "log_simple_prob = np.log(f2a_simple_prob)\n",
    "\n",
    "print(round(f2a_simple_prob, 5))\n",
    "print(round(log_simple_prob, 5))"
   ]
  },
  {
   "cell_type": "markdown",
   "metadata": {
    "id": "2qdzL20RG3ln"
   },
   "source": [
    "**F2(c) Expected Output**\n",
    "```\n",
    "0.00389\n",
    "-5.55005\n",
    "```"
   ]
  },
  {
   "cell_type": "markdown",
   "metadata": {
    "id": "2bmlJUYZgmu4"
   },
   "source": [
    "## Problem F2(d) (2 points)\n",
    "\n",
    "i) In the code block, calculate the exponential of the differences in log probabilies you get from F2(b) and F2(c). Round the output to the fifth decimal point.\n",
    "\n",
    "ii) In the markdown cell below, use 1 sentence to explain your decision about whether the order is more likely to be complex or simple, and how much more likely this is the case. Use the difference you outputted in the previous question when writing your answer.\n"
   ]
  },
  {
   "cell_type": "code",
   "execution_count": 65,
   "metadata": {
    "id": "DV5xBJ3QdHnf",
    "tags": []
   },
   "outputs": [
    {
     "name": "stdout",
     "output_type": "stream",
     "text": [
      "1.029\n"
     ]
    }
   ],
   "source": [
    "# your F2(d)(i) code here\n",
    "exp_diff = 2.718281828459045 ** (log_complex_prob - log_simple_prob)\n",
    "print(round(exp_diff, 5))"
   ]
  },
  {
   "cell_type": "markdown",
   "metadata": {
    "id": "ehKfmXlwa5FE"
   },
   "source": [
    "**F2(d)(ii) your answer here:** Because the exponentiated difference is 1.029, the order is 1.029 times more likely to be complex."
   ]
  }
 ],
 "metadata": {
  "colab": {
   "provenance": [],
   "toc_visible": true
  },
  "kernelspec": {
   "display_name": "Python 3 (ipykernel)",
   "language": "python",
   "name": "python3"
  },
  "language_info": {
   "codemirror_mode": {
    "name": "ipython",
    "version": 3
   },
   "file_extension": ".py",
   "mimetype": "text/x-python",
   "name": "python",
   "nbconvert_exporter": "python",
   "pygments_lexer": "ipython3",
   "version": "3.12.2"
  }
 },
 "nbformat": 4,
 "nbformat_minor": 4
}
