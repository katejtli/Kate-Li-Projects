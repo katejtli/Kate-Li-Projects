{
 "cells": [
  {
   "cell_type": "markdown",
   "id": "91d93e18-f92f-41c8-8ffe-a153f33c20bf",
   "metadata": {},
   "source": [
    "# INFO 3950 Mini-Project\n",
    "\n",
    "name: Kate Li\n",
    "\n",
    "netid: kl739"
   ]
  },
  {
   "cell_type": "markdown",
   "id": "db4753d1-3b37-46b1-9843-c8495662ce32",
   "metadata": {},
   "source": [
    "[RMP dataset from kaggle](https://www.kaggle.com/datasets/andreaspavlopoulos/prof-ratings-9c/data)\n",
    "\n",
    "Used both a simple sentiment analysis and a binary single layer neural net to analyze a model's performance on predicting sentiment of professor reviews from Ratemyprofessor.\n",
    "\n",
    "I was actually a little surprised that the models performed at only around 80-85% accuracy. I assumed that most professor ratings are rather straightforward with easily detectable sentiments in words (i.e. awesome, bad, etc.). I believe that some reviews contained more ambiguous wording, meaning that the review had a mix of both positive and negative which can lead to the confusion displayed by the models."
   ]
  },
  {
   "cell_type": "code",
   "execution_count": 2,
   "id": "53112574-e198-4cf6-8e59-d7cde143fab8",
   "metadata": {},
   "outputs": [],
   "source": [
    "import pandas as pd\n",
    "import numpy as np"
   ]
  },
  {
   "cell_type": "code",
   "execution_count": 3,
   "id": "90390c8b-dd81-4a6f-a899-00609448a72f",
   "metadata": {},
   "outputs": [
    {
     "data": {
      "text/html": [
       "<div>\n",
       "<style scoped>\n",
       "    .dataframe tbody tr th:only-of-type {\n",
       "        vertical-align: middle;\n",
       "    }\n",
       "\n",
       "    .dataframe tbody tr th {\n",
       "        vertical-align: top;\n",
       "    }\n",
       "\n",
       "    .dataframe thead th {\n",
       "        text-align: right;\n",
       "    }\n",
       "</style>\n",
       "<table border=\"1\" class=\"dataframe\">\n",
       "  <thead>\n",
       "    <tr style=\"text-align: right;\">\n",
       "      <th></th>\n",
       "      <th>star</th>\n",
       "      <th>comments</th>\n",
       "    </tr>\n",
       "  </thead>\n",
       "  <tbody>\n",
       "    <tr>\n",
       "      <th>0</th>\n",
       "      <td>5.0</td>\n",
       "      <td>This class is hard  but its a two-in-one gen-e...</td>\n",
       "    </tr>\n",
       "    <tr>\n",
       "      <th>1</th>\n",
       "      <td>5.0</td>\n",
       "      <td>Definitely going to choose Prof. Looney's clas...</td>\n",
       "    </tr>\n",
       "    <tr>\n",
       "      <th>2</th>\n",
       "      <td>4.0</td>\n",
       "      <td>I overall enjoyed this class because the assig...</td>\n",
       "    </tr>\n",
       "    <tr>\n",
       "      <th>3</th>\n",
       "      <td>5.0</td>\n",
       "      <td>Yes  it's possible to get an A but you'll defi...</td>\n",
       "    </tr>\n",
       "    <tr>\n",
       "      <th>4</th>\n",
       "      <td>5.0</td>\n",
       "      <td>Professor Looney has great knowledge in Astron...</td>\n",
       "    </tr>\n",
       "  </tbody>\n",
       "</table>\n",
       "</div>"
      ],
      "text/plain": [
       "   star                                           comments\n",
       "0   5.0  This class is hard  but its a two-in-one gen-e...\n",
       "1   5.0  Definitely going to choose Prof. Looney's clas...\n",
       "2   4.0  I overall enjoyed this class because the assig...\n",
       "3   5.0  Yes  it's possible to get an A but you'll defi...\n",
       "4   5.0  Professor Looney has great knowledge in Astron..."
      ]
     },
     "execution_count": 3,
     "metadata": {},
     "output_type": "execute_result"
    }
   ],
   "source": [
    "# load and prepare data\n",
    "rmp = pd.read_csv('rmp.csv')\n",
    "rmp = rmp.loc[:, ['student_star', 'comments']]\n",
    "rmp['student_star'] = pd.to_numeric(rmp['student_star'], errors = 'coerce')\n",
    "rmp = rmp.rename(columns = {'student_star': 'star'})\n",
    "rmp.head()"
   ]
  },
  {
   "cell_type": "code",
   "execution_count": 4,
   "id": "c1c1ddba-d4b6-4eb6-a6c2-5fc3128af069",
   "metadata": {},
   "outputs": [
    {
     "data": {
      "text/html": [
       "<div>\n",
       "<style scoped>\n",
       "    .dataframe tbody tr th:only-of-type {\n",
       "        vertical-align: middle;\n",
       "    }\n",
       "\n",
       "    .dataframe tbody tr th {\n",
       "        vertical-align: top;\n",
       "    }\n",
       "\n",
       "    .dataframe thead th {\n",
       "        text-align: right;\n",
       "    }\n",
       "</style>\n",
       "<table border=\"1\" class=\"dataframe\">\n",
       "  <thead>\n",
       "    <tr style=\"text-align: right;\">\n",
       "      <th></th>\n",
       "      <th>star</th>\n",
       "      <th>comments</th>\n",
       "      <th>label</th>\n",
       "    </tr>\n",
       "  </thead>\n",
       "  <tbody>\n",
       "    <tr>\n",
       "      <th>0</th>\n",
       "      <td>5.0</td>\n",
       "      <td>This class is hard  but its a two-in-one gen-e...</td>\n",
       "      <td>1</td>\n",
       "    </tr>\n",
       "    <tr>\n",
       "      <th>1</th>\n",
       "      <td>5.0</td>\n",
       "      <td>Definitely going to choose Prof. Looney's clas...</td>\n",
       "      <td>1</td>\n",
       "    </tr>\n",
       "    <tr>\n",
       "      <th>2</th>\n",
       "      <td>4.0</td>\n",
       "      <td>I overall enjoyed this class because the assig...</td>\n",
       "      <td>1</td>\n",
       "    </tr>\n",
       "    <tr>\n",
       "      <th>3</th>\n",
       "      <td>5.0</td>\n",
       "      <td>Yes  it's possible to get an A but you'll defi...</td>\n",
       "      <td>1</td>\n",
       "    </tr>\n",
       "    <tr>\n",
       "      <th>4</th>\n",
       "      <td>5.0</td>\n",
       "      <td>Professor Looney has great knowledge in Astron...</td>\n",
       "      <td>1</td>\n",
       "    </tr>\n",
       "  </tbody>\n",
       "</table>\n",
       "</div>"
      ],
      "text/plain": [
       "   star                                           comments  label\n",
       "0   5.0  This class is hard  but its a two-in-one gen-e...      1\n",
       "1   5.0  Definitely going to choose Prof. Looney's clas...      1\n",
       "2   4.0  I overall enjoyed this class because the assig...      1\n",
       "3   5.0  Yes  it's possible to get an A but you'll defi...      1\n",
       "4   5.0  Professor Looney has great knowledge in Astron...      1"
      ]
     },
     "execution_count": 4,
     "metadata": {},
     "output_type": "execute_result"
    }
   ],
   "source": [
    "# create function and column with binary labels based on the star ratings\n",
    "def rate_to_label(star):\n",
    "    if star >= 4:\n",
    "        return 1\n",
    "    else:\n",
    "        return 0\n",
    "\n",
    "rmp['label'] = rmp['star'].apply(rate_to_label)\n",
    "rmp.head()"
   ]
  },
  {
   "cell_type": "markdown",
   "id": "ba137633-cbce-4a94-be30-42c69e6c8a5d",
   "metadata": {},
   "source": [
    "## 1) Sentiment Analysis"
   ]
  },
  {
   "cell_type": "code",
   "execution_count": 6,
   "id": "fde968ce-acd4-4d5e-9a44-677525c73ccd",
   "metadata": {},
   "outputs": [],
   "source": [
    "from sklearn.feature_extraction.text import TfidfVectorizer\n",
    "from sklearn.model_selection import train_test_split\n",
    "from sklearn.linear_model import LogisticRegression\n",
    "from sklearn.metrics import accuracy_score, classification_report"
   ]
  },
  {
   "cell_type": "code",
   "execution_count": 7,
   "id": "9d735638-cc68-4d1e-b897-64375c0e1bec",
   "metadata": {},
   "outputs": [],
   "source": [
    "# tf_idf feature vectors\n",
    "tfidf = TfidfVectorizer(max_features = 10000)\n",
    "X = tfidf.fit_transform(rmp['comments'].astype(str))\n",
    "\n",
    "X_train, X_test, y_train, y_test = train_test_split(X, rmp['label'], test_size = 0.1, random_state = 42)"
   ]
  },
  {
   "cell_type": "code",
   "execution_count": 8,
   "id": "d86e3e99-63e0-4f98-b882-937f7df57bb9",
   "metadata": {},
   "outputs": [
    {
     "data": {
      "text/html": [
       "<style>#sk-container-id-1 {\n",
       "  /* Definition of color scheme common for light and dark mode */\n",
       "  --sklearn-color-text: black;\n",
       "  --sklearn-color-line: gray;\n",
       "  /* Definition of color scheme for unfitted estimators */\n",
       "  --sklearn-color-unfitted-level-0: #fff5e6;\n",
       "  --sklearn-color-unfitted-level-1: #f6e4d2;\n",
       "  --sklearn-color-unfitted-level-2: #ffe0b3;\n",
       "  --sklearn-color-unfitted-level-3: chocolate;\n",
       "  /* Definition of color scheme for fitted estimators */\n",
       "  --sklearn-color-fitted-level-0: #f0f8ff;\n",
       "  --sklearn-color-fitted-level-1: #d4ebff;\n",
       "  --sklearn-color-fitted-level-2: #b3dbfd;\n",
       "  --sklearn-color-fitted-level-3: cornflowerblue;\n",
       "\n",
       "  /* Specific color for light theme */\n",
       "  --sklearn-color-text-on-default-background: var(--sg-text-color, var(--theme-code-foreground, var(--jp-content-font-color1, black)));\n",
       "  --sklearn-color-background: var(--sg-background-color, var(--theme-background, var(--jp-layout-color0, white)));\n",
       "  --sklearn-color-border-box: var(--sg-text-color, var(--theme-code-foreground, var(--jp-content-font-color1, black)));\n",
       "  --sklearn-color-icon: #696969;\n",
       "\n",
       "  @media (prefers-color-scheme: dark) {\n",
       "    /* Redefinition of color scheme for dark theme */\n",
       "    --sklearn-color-text-on-default-background: var(--sg-text-color, var(--theme-code-foreground, var(--jp-content-font-color1, white)));\n",
       "    --sklearn-color-background: var(--sg-background-color, var(--theme-background, var(--jp-layout-color0, #111)));\n",
       "    --sklearn-color-border-box: var(--sg-text-color, var(--theme-code-foreground, var(--jp-content-font-color1, white)));\n",
       "    --sklearn-color-icon: #878787;\n",
       "  }\n",
       "}\n",
       "\n",
       "#sk-container-id-1 {\n",
       "  color: var(--sklearn-color-text);\n",
       "}\n",
       "\n",
       "#sk-container-id-1 pre {\n",
       "  padding: 0;\n",
       "}\n",
       "\n",
       "#sk-container-id-1 input.sk-hidden--visually {\n",
       "  border: 0;\n",
       "  clip: rect(1px 1px 1px 1px);\n",
       "  clip: rect(1px, 1px, 1px, 1px);\n",
       "  height: 1px;\n",
       "  margin: -1px;\n",
       "  overflow: hidden;\n",
       "  padding: 0;\n",
       "  position: absolute;\n",
       "  width: 1px;\n",
       "}\n",
       "\n",
       "#sk-container-id-1 div.sk-dashed-wrapped {\n",
       "  border: 1px dashed var(--sklearn-color-line);\n",
       "  margin: 0 0.4em 0.5em 0.4em;\n",
       "  box-sizing: border-box;\n",
       "  padding-bottom: 0.4em;\n",
       "  background-color: var(--sklearn-color-background);\n",
       "}\n",
       "\n",
       "#sk-container-id-1 div.sk-container {\n",
       "  /* jupyter's `normalize.less` sets `[hidden] { display: none; }`\n",
       "     but bootstrap.min.css set `[hidden] { display: none !important; }`\n",
       "     so we also need the `!important` here to be able to override the\n",
       "     default hidden behavior on the sphinx rendered scikit-learn.org.\n",
       "     See: https://github.com/scikit-learn/scikit-learn/issues/21755 */\n",
       "  display: inline-block !important;\n",
       "  position: relative;\n",
       "}\n",
       "\n",
       "#sk-container-id-1 div.sk-text-repr-fallback {\n",
       "  display: none;\n",
       "}\n",
       "\n",
       "div.sk-parallel-item,\n",
       "div.sk-serial,\n",
       "div.sk-item {\n",
       "  /* draw centered vertical line to link estimators */\n",
       "  background-image: linear-gradient(var(--sklearn-color-text-on-default-background), var(--sklearn-color-text-on-default-background));\n",
       "  background-size: 2px 100%;\n",
       "  background-repeat: no-repeat;\n",
       "  background-position: center center;\n",
       "}\n",
       "\n",
       "/* Parallel-specific style estimator block */\n",
       "\n",
       "#sk-container-id-1 div.sk-parallel-item::after {\n",
       "  content: \"\";\n",
       "  width: 100%;\n",
       "  border-bottom: 2px solid var(--sklearn-color-text-on-default-background);\n",
       "  flex-grow: 1;\n",
       "}\n",
       "\n",
       "#sk-container-id-1 div.sk-parallel {\n",
       "  display: flex;\n",
       "  align-items: stretch;\n",
       "  justify-content: center;\n",
       "  background-color: var(--sklearn-color-background);\n",
       "  position: relative;\n",
       "}\n",
       "\n",
       "#sk-container-id-1 div.sk-parallel-item {\n",
       "  display: flex;\n",
       "  flex-direction: column;\n",
       "}\n",
       "\n",
       "#sk-container-id-1 div.sk-parallel-item:first-child::after {\n",
       "  align-self: flex-end;\n",
       "  width: 50%;\n",
       "}\n",
       "\n",
       "#sk-container-id-1 div.sk-parallel-item:last-child::after {\n",
       "  align-self: flex-start;\n",
       "  width: 50%;\n",
       "}\n",
       "\n",
       "#sk-container-id-1 div.sk-parallel-item:only-child::after {\n",
       "  width: 0;\n",
       "}\n",
       "\n",
       "/* Serial-specific style estimator block */\n",
       "\n",
       "#sk-container-id-1 div.sk-serial {\n",
       "  display: flex;\n",
       "  flex-direction: column;\n",
       "  align-items: center;\n",
       "  background-color: var(--sklearn-color-background);\n",
       "  padding-right: 1em;\n",
       "  padding-left: 1em;\n",
       "}\n",
       "\n",
       "\n",
       "/* Toggleable style: style used for estimator/Pipeline/ColumnTransformer box that is\n",
       "clickable and can be expanded/collapsed.\n",
       "- Pipeline and ColumnTransformer use this feature and define the default style\n",
       "- Estimators will overwrite some part of the style using the `sk-estimator` class\n",
       "*/\n",
       "\n",
       "/* Pipeline and ColumnTransformer style (default) */\n",
       "\n",
       "#sk-container-id-1 div.sk-toggleable {\n",
       "  /* Default theme specific background. It is overwritten whether we have a\n",
       "  specific estimator or a Pipeline/ColumnTransformer */\n",
       "  background-color: var(--sklearn-color-background);\n",
       "}\n",
       "\n",
       "/* Toggleable label */\n",
       "#sk-container-id-1 label.sk-toggleable__label {\n",
       "  cursor: pointer;\n",
       "  display: block;\n",
       "  width: 100%;\n",
       "  margin-bottom: 0;\n",
       "  padding: 0.5em;\n",
       "  box-sizing: border-box;\n",
       "  text-align: center;\n",
       "}\n",
       "\n",
       "#sk-container-id-1 label.sk-toggleable__label-arrow:before {\n",
       "  /* Arrow on the left of the label */\n",
       "  content: \"▸\";\n",
       "  float: left;\n",
       "  margin-right: 0.25em;\n",
       "  color: var(--sklearn-color-icon);\n",
       "}\n",
       "\n",
       "#sk-container-id-1 label.sk-toggleable__label-arrow:hover:before {\n",
       "  color: var(--sklearn-color-text);\n",
       "}\n",
       "\n",
       "/* Toggleable content - dropdown */\n",
       "\n",
       "#sk-container-id-1 div.sk-toggleable__content {\n",
       "  max-height: 0;\n",
       "  max-width: 0;\n",
       "  overflow: hidden;\n",
       "  text-align: left;\n",
       "  /* unfitted */\n",
       "  background-color: var(--sklearn-color-unfitted-level-0);\n",
       "}\n",
       "\n",
       "#sk-container-id-1 div.sk-toggleable__content.fitted {\n",
       "  /* fitted */\n",
       "  background-color: var(--sklearn-color-fitted-level-0);\n",
       "}\n",
       "\n",
       "#sk-container-id-1 div.sk-toggleable__content pre {\n",
       "  margin: 0.2em;\n",
       "  border-radius: 0.25em;\n",
       "  color: var(--sklearn-color-text);\n",
       "  /* unfitted */\n",
       "  background-color: var(--sklearn-color-unfitted-level-0);\n",
       "}\n",
       "\n",
       "#sk-container-id-1 div.sk-toggleable__content.fitted pre {\n",
       "  /* unfitted */\n",
       "  background-color: var(--sklearn-color-fitted-level-0);\n",
       "}\n",
       "\n",
       "#sk-container-id-1 input.sk-toggleable__control:checked~div.sk-toggleable__content {\n",
       "  /* Expand drop-down */\n",
       "  max-height: 200px;\n",
       "  max-width: 100%;\n",
       "  overflow: auto;\n",
       "}\n",
       "\n",
       "#sk-container-id-1 input.sk-toggleable__control:checked~label.sk-toggleable__label-arrow:before {\n",
       "  content: \"▾\";\n",
       "}\n",
       "\n",
       "/* Pipeline/ColumnTransformer-specific style */\n",
       "\n",
       "#sk-container-id-1 div.sk-label input.sk-toggleable__control:checked~label.sk-toggleable__label {\n",
       "  color: var(--sklearn-color-text);\n",
       "  background-color: var(--sklearn-color-unfitted-level-2);\n",
       "}\n",
       "\n",
       "#sk-container-id-1 div.sk-label.fitted input.sk-toggleable__control:checked~label.sk-toggleable__label {\n",
       "  background-color: var(--sklearn-color-fitted-level-2);\n",
       "}\n",
       "\n",
       "/* Estimator-specific style */\n",
       "\n",
       "/* Colorize estimator box */\n",
       "#sk-container-id-1 div.sk-estimator input.sk-toggleable__control:checked~label.sk-toggleable__label {\n",
       "  /* unfitted */\n",
       "  background-color: var(--sklearn-color-unfitted-level-2);\n",
       "}\n",
       "\n",
       "#sk-container-id-1 div.sk-estimator.fitted input.sk-toggleable__control:checked~label.sk-toggleable__label {\n",
       "  /* fitted */\n",
       "  background-color: var(--sklearn-color-fitted-level-2);\n",
       "}\n",
       "\n",
       "#sk-container-id-1 div.sk-label label.sk-toggleable__label,\n",
       "#sk-container-id-1 div.sk-label label {\n",
       "  /* The background is the default theme color */\n",
       "  color: var(--sklearn-color-text-on-default-background);\n",
       "}\n",
       "\n",
       "/* On hover, darken the color of the background */\n",
       "#sk-container-id-1 div.sk-label:hover label.sk-toggleable__label {\n",
       "  color: var(--sklearn-color-text);\n",
       "  background-color: var(--sklearn-color-unfitted-level-2);\n",
       "}\n",
       "\n",
       "/* Label box, darken color on hover, fitted */\n",
       "#sk-container-id-1 div.sk-label.fitted:hover label.sk-toggleable__label.fitted {\n",
       "  color: var(--sklearn-color-text);\n",
       "  background-color: var(--sklearn-color-fitted-level-2);\n",
       "}\n",
       "\n",
       "/* Estimator label */\n",
       "\n",
       "#sk-container-id-1 div.sk-label label {\n",
       "  font-family: monospace;\n",
       "  font-weight: bold;\n",
       "  display: inline-block;\n",
       "  line-height: 1.2em;\n",
       "}\n",
       "\n",
       "#sk-container-id-1 div.sk-label-container {\n",
       "  text-align: center;\n",
       "}\n",
       "\n",
       "/* Estimator-specific */\n",
       "#sk-container-id-1 div.sk-estimator {\n",
       "  font-family: monospace;\n",
       "  border: 1px dotted var(--sklearn-color-border-box);\n",
       "  border-radius: 0.25em;\n",
       "  box-sizing: border-box;\n",
       "  margin-bottom: 0.5em;\n",
       "  /* unfitted */\n",
       "  background-color: var(--sklearn-color-unfitted-level-0);\n",
       "}\n",
       "\n",
       "#sk-container-id-1 div.sk-estimator.fitted {\n",
       "  /* fitted */\n",
       "  background-color: var(--sklearn-color-fitted-level-0);\n",
       "}\n",
       "\n",
       "/* on hover */\n",
       "#sk-container-id-1 div.sk-estimator:hover {\n",
       "  /* unfitted */\n",
       "  background-color: var(--sklearn-color-unfitted-level-2);\n",
       "}\n",
       "\n",
       "#sk-container-id-1 div.sk-estimator.fitted:hover {\n",
       "  /* fitted */\n",
       "  background-color: var(--sklearn-color-fitted-level-2);\n",
       "}\n",
       "\n",
       "/* Specification for estimator info (e.g. \"i\" and \"?\") */\n",
       "\n",
       "/* Common style for \"i\" and \"?\" */\n",
       "\n",
       ".sk-estimator-doc-link,\n",
       "a:link.sk-estimator-doc-link,\n",
       "a:visited.sk-estimator-doc-link {\n",
       "  float: right;\n",
       "  font-size: smaller;\n",
       "  line-height: 1em;\n",
       "  font-family: monospace;\n",
       "  background-color: var(--sklearn-color-background);\n",
       "  border-radius: 1em;\n",
       "  height: 1em;\n",
       "  width: 1em;\n",
       "  text-decoration: none !important;\n",
       "  margin-left: 1ex;\n",
       "  /* unfitted */\n",
       "  border: var(--sklearn-color-unfitted-level-1) 1pt solid;\n",
       "  color: var(--sklearn-color-unfitted-level-1);\n",
       "}\n",
       "\n",
       ".sk-estimator-doc-link.fitted,\n",
       "a:link.sk-estimator-doc-link.fitted,\n",
       "a:visited.sk-estimator-doc-link.fitted {\n",
       "  /* fitted */\n",
       "  border: var(--sklearn-color-fitted-level-1) 1pt solid;\n",
       "  color: var(--sklearn-color-fitted-level-1);\n",
       "}\n",
       "\n",
       "/* On hover */\n",
       "div.sk-estimator:hover .sk-estimator-doc-link:hover,\n",
       ".sk-estimator-doc-link:hover,\n",
       "div.sk-label-container:hover .sk-estimator-doc-link:hover,\n",
       ".sk-estimator-doc-link:hover {\n",
       "  /* unfitted */\n",
       "  background-color: var(--sklearn-color-unfitted-level-3);\n",
       "  color: var(--sklearn-color-background);\n",
       "  text-decoration: none;\n",
       "}\n",
       "\n",
       "div.sk-estimator.fitted:hover .sk-estimator-doc-link.fitted:hover,\n",
       ".sk-estimator-doc-link.fitted:hover,\n",
       "div.sk-label-container:hover .sk-estimator-doc-link.fitted:hover,\n",
       ".sk-estimator-doc-link.fitted:hover {\n",
       "  /* fitted */\n",
       "  background-color: var(--sklearn-color-fitted-level-3);\n",
       "  color: var(--sklearn-color-background);\n",
       "  text-decoration: none;\n",
       "}\n",
       "\n",
       "/* Span, style for the box shown on hovering the info icon */\n",
       ".sk-estimator-doc-link span {\n",
       "  display: none;\n",
       "  z-index: 9999;\n",
       "  position: relative;\n",
       "  font-weight: normal;\n",
       "  right: .2ex;\n",
       "  padding: .5ex;\n",
       "  margin: .5ex;\n",
       "  width: min-content;\n",
       "  min-width: 20ex;\n",
       "  max-width: 50ex;\n",
       "  color: var(--sklearn-color-text);\n",
       "  box-shadow: 2pt 2pt 4pt #999;\n",
       "  /* unfitted */\n",
       "  background: var(--sklearn-color-unfitted-level-0);\n",
       "  border: .5pt solid var(--sklearn-color-unfitted-level-3);\n",
       "}\n",
       "\n",
       ".sk-estimator-doc-link.fitted span {\n",
       "  /* fitted */\n",
       "  background: var(--sklearn-color-fitted-level-0);\n",
       "  border: var(--sklearn-color-fitted-level-3);\n",
       "}\n",
       "\n",
       ".sk-estimator-doc-link:hover span {\n",
       "  display: block;\n",
       "}\n",
       "\n",
       "/* \"?\"-specific style due to the `<a>` HTML tag */\n",
       "\n",
       "#sk-container-id-1 a.estimator_doc_link {\n",
       "  float: right;\n",
       "  font-size: 1rem;\n",
       "  line-height: 1em;\n",
       "  font-family: monospace;\n",
       "  background-color: var(--sklearn-color-background);\n",
       "  border-radius: 1rem;\n",
       "  height: 1rem;\n",
       "  width: 1rem;\n",
       "  text-decoration: none;\n",
       "  /* unfitted */\n",
       "  color: var(--sklearn-color-unfitted-level-1);\n",
       "  border: var(--sklearn-color-unfitted-level-1) 1pt solid;\n",
       "}\n",
       "\n",
       "#sk-container-id-1 a.estimator_doc_link.fitted {\n",
       "  /* fitted */\n",
       "  border: var(--sklearn-color-fitted-level-1) 1pt solid;\n",
       "  color: var(--sklearn-color-fitted-level-1);\n",
       "}\n",
       "\n",
       "/* On hover */\n",
       "#sk-container-id-1 a.estimator_doc_link:hover {\n",
       "  /* unfitted */\n",
       "  background-color: var(--sklearn-color-unfitted-level-3);\n",
       "  color: var(--sklearn-color-background);\n",
       "  text-decoration: none;\n",
       "}\n",
       "\n",
       "#sk-container-id-1 a.estimator_doc_link.fitted:hover {\n",
       "  /* fitted */\n",
       "  background-color: var(--sklearn-color-fitted-level-3);\n",
       "}\n",
       "</style><div id=\"sk-container-id-1\" class=\"sk-top-container\"><div class=\"sk-text-repr-fallback\"><pre>LogisticRegression(max_iter=1000)</pre><b>In a Jupyter environment, please rerun this cell to show the HTML representation or trust the notebook. <br />On GitHub, the HTML representation is unable to render, please try loading this page with nbviewer.org.</b></div><div class=\"sk-container\" hidden><div class=\"sk-item\"><div class=\"sk-estimator fitted sk-toggleable\"><input class=\"sk-toggleable__control sk-hidden--visually\" id=\"sk-estimator-id-1\" type=\"checkbox\" checked><label for=\"sk-estimator-id-1\" class=\"sk-toggleable__label fitted sk-toggleable__label-arrow fitted\">&nbsp;&nbsp;LogisticRegression<a class=\"sk-estimator-doc-link fitted\" rel=\"noreferrer\" target=\"_blank\" href=\"https://scikit-learn.org/1.4/modules/generated/sklearn.linear_model.LogisticRegression.html\">?<span>Documentation for LogisticRegression</span></a><span class=\"sk-estimator-doc-link fitted\">i<span>Fitted</span></span></label><div class=\"sk-toggleable__content fitted\"><pre>LogisticRegression(max_iter=1000)</pre></div> </div></div></div></div>"
      ],
      "text/plain": [
       "LogisticRegression(max_iter=1000)"
      ]
     },
     "execution_count": 8,
     "metadata": {},
     "output_type": "execute_result"
    }
   ],
   "source": [
    "# logreg model trained on train set\n",
    "clf = LogisticRegression(max_iter = 1000)\n",
    "clf.fit(X_train, y_train)"
   ]
  },
  {
   "cell_type": "code",
   "execution_count": 9,
   "id": "8ed8ff68-3f1f-40e8-b3a0-bc9b93637f9d",
   "metadata": {},
   "outputs": [
    {
     "name": "stdout",
     "output_type": "stream",
     "text": [
      "train accuracy score = 0.856341\n",
      "test accuracy score = 0.823000\n"
     ]
    }
   ],
   "source": [
    "# obtain scores based on test set\n",
    "y_train_pred = clf.predict(X_train)\n",
    "y_test_pred = clf.predict(X_test)\n",
    "\n",
    "train_accuracy = accuracy_score(y_train, y_train_pred)\n",
    "test_accuracy = accuracy_score(y_test, y_test_pred)\n",
    "\n",
    "print(f\"train accuracy score = {train_accuracy:.6f}\")\n",
    "print(f\"test accuracy score = {test_accuracy:.6f}\")"
   ]
  },
  {
   "cell_type": "code",
   "execution_count": 10,
   "id": "f70e5337-726a-4cd8-b9af-e1bf53d14b63",
   "metadata": {},
   "outputs": [
    {
     "name": "stdout",
     "output_type": "stream",
     "text": [
      "              precision    recall  f1-score   support\n",
      "\n",
      "    negative       0.77      0.80      0.78       802\n",
      "    positive       0.86      0.84      0.85      1198\n",
      "\n",
      "    accuracy                           0.82      2000\n",
      "   macro avg       0.82      0.82      0.82      2000\n",
      "weighted avg       0.82      0.82      0.82      2000\n",
      "\n"
     ]
    }
   ],
   "source": [
    "print(classification_report(y_test, y_test_pred, target_names = ['negative', 'positive']))"
   ]
  },
  {
   "cell_type": "code",
   "execution_count": 11,
   "id": "1c4eb2bf-0cb8-4c39-b798-c6354409fd66",
   "metadata": {},
   "outputs": [],
   "source": [
    "from sklearn.metrics import confusion_matrix, ConfusionMatrixDisplay"
   ]
  },
  {
   "cell_type": "code",
   "execution_count": 12,
   "id": "a17d43af-190a-47f9-93fd-bfd13f35c913",
   "metadata": {},
   "outputs": [
    {
     "data": {
      "text/plain": [
       "<sklearn.metrics._plot.confusion_matrix.ConfusionMatrixDisplay at 0x1460f01a0>"
      ]
     },
     "execution_count": 12,
     "metadata": {},
     "output_type": "execute_result"
    },
    {
     "data": {
      "image/png": "[encoded data removed]",
      "text/plain": [
       "<Figure size 640x480 with 2 Axes>"
      ]
     },
     "metadata": {},
     "output_type": "display_data"
    }
   ],
   "source": [
    "cm = confusion_matrix(y_test, y_test_pred)\n",
    "\n",
    "display = ConfusionMatrixDisplay(confusion_matrix = cm, display_labels = ['negative', 'positive'])\n",
    "display.plot(cmap = 'Blues')"
   ]
  },
  {
   "cell_type": "code",
   "execution_count": 13,
   "id": "851098a3-db98-40ce-98cc-79c9849fd5a8",
   "metadata": {},
   "outputs": [
    {
     "name": "stdout",
     "output_type": "stream",
     "text": [
      "top 20 positive words: ['keeps' 'always' 'professor' 'you' 'fair' 'highly' 'cares' 'love'\n",
      " 'enjoyed' 'hilarious' 'easy' 'loved' 'fun' 'excellent' 'helpful'\n",
      " 'wonderful' 'amazing' 'awesome' 'best' 'great']\n",
      "top 20 negative words: ['worst' 'not' 'avoid' 'horrible' 'rude' 'confusing' 'terrible' 'unclear'\n",
      " 'boring' 'nothing' 'awful' 'doesn' 'never' 'thinks' 'arrogant'\n",
      " 'unorganized' 'sucks' 'luck' 'useless' 'unhelpful']\n"
     ]
    }
   ],
   "source": [
    "# top 20 positive and negative words used\n",
    "tfidf_words = np.array(tfidf.get_feature_names_out())\n",
    "\n",
    "top_pos_idx = np.argsort(clf.coef_.flatten())[-20:]\n",
    "top_neg_idx = np.argsort(clf.coef_.flatten())[:20]\n",
    "\n",
    "print(f\"top 20 positive words: {tfidf_words[top_pos_idx]}\")\n",
    "print(f\"top 20 negative words: {tfidf_words[top_neg_idx]}\")"
   ]
  },
  {
   "cell_type": "markdown",
   "id": "a48ef237-81fb-4a9b-b2d0-fdede11e7d41",
   "metadata": {},
   "source": [
    "## 2) Binary Single Layer Neural Net"
   ]
  },
  {
   "cell_type": "code",
   "execution_count": 15,
   "id": "1bb9e327-2da1-4194-b9d1-c24f0338091b",
   "metadata": {},
   "outputs": [],
   "source": [
    "import nltk\n",
    "from nltk.corpus import stopwords\n",
    "from collections import Counter\n",
    "import re"
   ]
  },
  {
   "cell_type": "code",
   "execution_count": 16,
   "id": "bd9e30db-ea36-41a9-8936-5cbc574106f1",
   "metadata": {},
   "outputs": [],
   "source": [
    "# function for tokenization and removal of stopwords\n",
    "stop_words = set(stopwords.words('english'))\n",
    "def words(text):\n",
    "    words = re.findall(r\"\\b\\w+'\\w+|\\b\\w+\\b\", text.lower())\n",
    "    words = [word for word in words if word not in stop_words]\n",
    "    return words"
   ]
  },
  {
   "cell_type": "code",
   "execution_count": 17,
   "id": "ab80fc96-c61b-4269-befd-9df6a95ae719",
   "metadata": {},
   "outputs": [
    {
     "name": "stdout",
     "output_type": "stream",
     "text": [
      "0    [class, hard, two, one, gen, ed, knockout, con...\n",
      "1    [definitely, going, choose, prof, looney's, cl...\n",
      "2    [overall, enjoyed, class, assignments, straigh...\n",
      "3    [yes, possible, get, definitely, work, content...\n",
      "4    [professor, looney, great, knowledge, astronom...\n",
      "Name: comments, dtype: object\n"
     ]
    }
   ],
   "source": [
    "tokenized_words = rmp['comments'].astype(str).apply(words)\n",
    "print(tokenized_words.head())"
   ]
  },
  {
   "cell_type": "code",
   "execution_count": 18,
   "id": "9c2f7e58-2382-41cd-8aed-52202e8682e7",
   "metadata": {},
   "outputs": [],
   "source": [
    "# counter object with 10000 most common words used in ratings\n",
    "word_counter = Counter()\n",
    "for w in tokenized_words:\n",
    "    word_counter.update(w)\n",
    "\n",
    "vocab, vocabn = zip(*word_counter.most_common(10000))"
   ]
  },
  {
   "cell_type": "code",
   "execution_count": 19,
   "id": "1eb90834-88ee-4072-941e-1a8e8ca0bc4b",
   "metadata": {},
   "outputs": [],
   "source": [
    "vocab_dict = {word: index for index, word in enumerate(vocab)}\n",
    "Nf = len(vocab_dict)"
   ]
  },
  {
   "cell_type": "code",
   "execution_count": 20,
   "id": "e2e97a0a-6f51-48ee-9be6-6e67f2762307",
   "metadata": {},
   "outputs": [],
   "source": [
    "# create function for binary bag-of-words feature vector\n",
    "def features(text):\n",
    "    f = np.zeros(Nf)\n",
    "    for w in set(words(text)):\n",
    "        if w in vocab_dict:\n",
    "            f[vocab_dict[w]] = 1\n",
    "    return f"
   ]
  },
  {
   "cell_type": "code",
   "execution_count": 21,
   "id": "dec837dc-6f5c-4780-b935-02de931b1df5",
   "metadata": {},
   "outputs": [],
   "source": [
    "X_data = np.array([features(text) for text in rmp['comments'].astype(str)])\n",
    "y_data = np.array(rmp['label'])"
   ]
  },
  {
   "cell_type": "code",
   "execution_count": 22,
   "id": "6c1fe2b8-7cb3-4739-808f-797fd9ae2967",
   "metadata": {},
   "outputs": [],
   "source": [
    "X_train, X_test, y_train, y_test = train_test_split(X_data, y_data, test_size = 0.1, random_state = 42)"
   ]
  },
  {
   "cell_type": "code",
   "execution_count": 23,
   "id": "3e7f3857-060a-4211-830a-8ca01586d52f",
   "metadata": {},
   "outputs": [],
   "source": [
    "import torch\n",
    "import torch.nn as nn\n",
    "import torch.optim as optim"
   ]
  },
  {
   "cell_type": "code",
   "execution_count": 24,
   "id": "b61cfab0-2ea5-4745-9f69-51138b78b2fd",
   "metadata": {},
   "outputs": [],
   "source": [
    "# create binary neural net model with a single layer\n",
    "nn_model = nn.Sequential(\n",
    "    nn.Linear(10000, 128),\n",
    "    nn.ReLU(),\n",
    "    nn.Linear(128, 1),\n",
    "    nn.Sigmoid()\n",
    ")\n",
    "\n",
    "learning_rate = 1e-3;\n",
    "loss_fn = nn.BCELoss()\n",
    "optimizer = torch.optim.Adam(nn_model.parameters(), lr = learning_rate)"
   ]
  },
  {
   "cell_type": "code",
   "execution_count": 25,
   "id": "f82e6057-cfd5-4034-a4fd-ccbed13691a1",
   "metadata": {},
   "outputs": [],
   "source": [
    "X_train_tensor = torch.tensor(X_train).float()\n",
    "y_train_tensor = torch.tensor(y_train).float().unsqueeze(1)\n",
    "\n",
    "X_test_tensor = torch.tensor(X_test).float()\n",
    "y_test_tensor = torch.tensor(y_test).float().unsqueeze(1)"
   ]
  },
  {
   "cell_type": "code",
   "execution_count": 26,
   "id": "9b9600dc-9ffc-430d-9544-3d0a0216e31a",
   "metadata": {},
   "outputs": [
    {
     "name": "stdout",
     "output_type": "stream",
     "text": [
      "Epoch 1: loss=0.693, training_score=56.6%, test_score=60.5%\n",
      "Epoch 2: loss=0.685, training_score=60.7%, test_score=61.4%\n",
      "Epoch 3: loss=0.677, training_score=62.3%, test_score=62.6%\n",
      "Epoch 4: loss=0.669, training_score=64.3%, test_score=64.5%\n",
      "Epoch 5: loss=0.659, training_score=66.4%, test_score=66.6%\n",
      "Epoch 6: loss=0.649, training_score=68.6%, test_score=68.5%\n",
      "Epoch 7: loss=0.638, training_score=70.7%, test_score=70.2%\n",
      "Epoch 8: loss=0.628, training_score=72.6%, test_score=72.7%\n",
      "Epoch 9: loss=0.617, training_score=74.6%, test_score=73.7%\n",
      "Epoch 10: loss=0.607, training_score=76.4%, test_score=74.4%\n",
      "Epoch 11: loss=0.596, training_score=77.6%, test_score=75.1%\n",
      "Epoch 12: loss=0.585, training_score=78.7%, test_score=75.9%\n",
      "Epoch 13: loss=0.575, training_score=79.5%, test_score=76.8%\n",
      "Epoch 14: loss=0.565, training_score=80.0%, test_score=77.3%\n",
      "Epoch 15: loss=0.554, training_score=80.7%, test_score=77.9%\n",
      "Epoch 16: loss=0.544, training_score=81.1%, test_score=78.2%\n",
      "Epoch 17: loss=0.534, training_score=81.4%, test_score=78.1%\n",
      "Epoch 18: loss=0.524, training_score=81.7%, test_score=78.1%\n",
      "Epoch 19: loss=0.514, training_score=82.0%, test_score=78.3%\n",
      "Epoch 20: loss=0.504, training_score=82.2%, test_score=78.6%\n",
      "Epoch 21: loss=0.495, training_score=82.4%, test_score=78.9%\n",
      "Epoch 22: loss=0.486, training_score=82.6%, test_score=79.2%\n",
      "Epoch 23: loss=0.477, training_score=82.9%, test_score=79.2%\n",
      "Epoch 24: loss=0.468, training_score=83.0%, test_score=79.3%\n",
      "Epoch 25: loss=0.459, training_score=83.3%, test_score=79.3%\n",
      "Epoch 26: loss=0.451, training_score=83.5%, test_score=79.5%\n",
      "Epoch 27: loss=0.443, training_score=83.8%, test_score=79.8%\n",
      "Epoch 28: loss=0.436, training_score=84.0%, test_score=79.8%\n",
      "Epoch 29: loss=0.428, training_score=84.2%, test_score=79.8%\n",
      "Epoch 30: loss=0.421, training_score=84.3%, test_score=79.8%\n",
      "Epoch 31: loss=0.414, training_score=84.6%, test_score=79.8%\n",
      "Epoch 32: loss=0.407, training_score=84.7%, test_score=80.3%\n",
      "Epoch 33: loss=0.401, training_score=85.0%, test_score=80.3%\n",
      "Epoch 34: loss=0.394, training_score=85.1%, test_score=80.4%\n",
      "Epoch 35: loss=0.388, training_score=85.2%, test_score=80.5%\n",
      "Epoch 36: loss=0.383, training_score=85.4%, test_score=80.4%\n",
      "Epoch 37: loss=0.377, training_score=85.6%, test_score=80.1%\n",
      "Epoch 38: loss=0.372, training_score=85.8%, test_score=80.3%\n",
      "Epoch 39: loss=0.366, training_score=85.9%, test_score=80.2%\n",
      "Epoch 40: loss=0.361, training_score=86.1%, test_score=80.3%\n"
     ]
    }
   ],
   "source": [
    "# train and test scores for each epoch\n",
    "epochs = 40\n",
    "scores = []\n",
    "losses = []\n",
    "#test_losses = []\n",
    "\n",
    "for t in range(epochs):\n",
    "    print(f'Epoch {t+1}: ', end='')\n",
    "\n",
    "    nn_model.train() #turns on dropout\n",
    "    # Compute prediction and loss\n",
    "    pred = nn_model(X_train_tensor)\n",
    "    loss = loss_fn(pred, y_train_tensor)\n",
    "\n",
    "    # Backpropagation\n",
    "    optimizer.zero_grad()\n",
    "    loss.backward()\n",
    "    optimizer.step()\n",
    "\n",
    "    nn_model.eval()  #turns off dropout\n",
    "    test_pred = nn_model(X_test_tensor)\n",
    "    test_loss = loss_fn(test_pred, y_test_tensor)\n",
    "    losses.append((loss.item(), test_loss.item()))\n",
    "\n",
    "    train_pred_labels = (pred >= 0.5).float()\n",
    "    test_pred_labels = (test_pred >= 0.5).float()\n",
    "                  \n",
    "    train_score = (train_pred_labels == y_train_tensor).sum().item() / len(y_train_tensor)\n",
    "    test_score = (test_pred_labels == y_test_tensor).sum().item() / len(y_test_tensor)\n",
    "    print(f'loss={loss.item():.3f}, training_score={train_score:.1%}, test_score={test_score:.1%}')\n",
    "    scores.append((train_score, test_score))"
   ]
  },
  {
   "cell_type": "code",
   "execution_count": 27,
   "id": "bb31ca83-4865-4722-835b-cbad6f8a43c0",
   "metadata": {},
   "outputs": [],
   "source": [
    "import matplotlib.pyplot as plt"
   ]
  },
  {
   "cell_type": "code",
   "execution_count": 28,
   "id": "cba5cba2-b2a3-47c3-95e0-670351583dd3",
   "metadata": {},
   "outputs": [
    {
     "data": {
      "image/png": "[encoded data removed]",
      "text/plain": [
       "<Figure size 640x480 with 1 Axes>"
      ]
     },
     "metadata": {},
     "output_type": "display_data"
    }
   ],
   "source": [
    "train_losses, test_losses = zip(*losses)\n",
    "\n",
    "plt.plot(range(epochs), train_losses, label = 'train Loss')\n",
    "plt.plot(range(epochs), test_losses, label = 'test Loss')\n",
    "plt.xlabel('epochs')\n",
    "plt.ylabel('loss')\n",
    "plt.legend()\n",
    "plt.title('train and test loss')\n",
    "plt.show()"
   ]
  },
  {
   "cell_type": "code",
   "execution_count": 29,
   "id": "2ea04eba-ad2d-4e14-8168-be323b213979",
   "metadata": {},
   "outputs": [
    {
     "data": {
      "image/png": "[encoded data removed]",
      "text/plain": [
       "<Figure size 640x480 with 1 Axes>"
      ]
     },
     "metadata": {},
     "output_type": "display_data"
    }
   ],
   "source": [
    "train_scores, test_scores = zip(*scores)\n",
    "\n",
    "plt.plot(range(epochs), train_scores, label = 'train Score')\n",
    "plt.plot(range(epochs), test_scores, label = 'test Score')\n",
    "plt.xlabel('epochs')\n",
    "plt.ylabel('accuracy')\n",
    "plt.legend()\n",
    "plt.title('train and test accuracy')\n",
    "plt.show()"
   ]
  },
  {
   "cell_type": "code",
   "execution_count": 30,
   "id": "f5ff845d-58c8-44f6-b5dc-082f00dcc4ee",
   "metadata": {},
   "outputs": [
    {
     "data": {
      "text/plain": [
       "<sklearn.metrics._plot.confusion_matrix.ConfusionMatrixDisplay at 0x157e09ee0>"
      ]
     },
     "execution_count": 30,
     "metadata": {},
     "output_type": "execute_result"
    },
    {
     "data": {
      "image/png": "[encoded data removed]",
      "text/plain": [
       "<Figure size 640x480 with 2 Axes>"
      ]
     },
     "metadata": {},
     "output_type": "display_data"
    }
   ],
   "source": [
    "y_true = y_test_tensor.numpy()\n",
    "y_pred = test_pred_labels.numpy()\n",
    "\n",
    "cm = confusion_matrix(y_true, y_pred)\n",
    "\n",
    "display = ConfusionMatrixDisplay(confusion_matrix = cm, display_labels = ['negative', 'positive'])\n",
    "display.plot(cmap = 'Blues')"
   ]
  },
  {
   "cell_type": "code",
   "execution_count": 31,
   "id": "2b44a312-dc86-4bf6-b986-014e41d4380c",
   "metadata": {},
   "outputs": [],
   "source": [
    "# testing the model on new comments\n",
    "new_comments = [\n",
    "    \"The professor was very helpful and explained everything clearly.\",\n",
    "    \"This class was disorganized and the grading was unfair.\",\n",
    "    \"I learned a lot and would recommend this professor. Tough class but the professor made it doable.\",\n",
    "    \"Terrible experience, would not take this course again.\",\n",
    "    \"The professor was nice and tried to help his students, but he was unorganized and his exams were unfairly difficult.\"\n",
    "]"
   ]
  },
  {
   "cell_type": "code",
   "execution_count": 32,
   "id": "2fb39eb9-4c2f-4a69-88eb-255068fd8f9f",
   "metadata": {},
   "outputs": [
    {
     "name": "stderr",
     "output_type": "stream",
     "text": [
      "/var/folders/53/v8gmjymx1ms1ccqfn00fp1mw0000gn/T/ipykernel_36014/2620310948.py:2: UserWarning: Creating a tensor from a list of numpy.ndarrays is extremely slow. Please consider converting the list to a single numpy.ndarray with numpy.array() before converting to a tensor. (Triggered internally at /Users/runner/work/pytorch/pytorch/pytorch/torch/csrc/utils/tensor_new.cpp:257.)\n",
      "  new_tensor = torch.tensor(new_features).float()\n"
     ]
    }
   ],
   "source": [
    "new_features = [features(comment) for comment in new_comments]\n",
    "new_tensor = torch.tensor(new_features).float()\n",
    "\n",
    "nn_model.eval()\n",
    "with torch.no_grad():\n",
    "    pred = nn_model(new_tensor)\n",
    "\n",
    "pred_labels = (pred >= 0.5).int().squeeze().tolist()"
   ]
  },
  {
   "cell_type": "code",
   "execution_count": 33,
   "id": "f1ec0bd2-94b2-4155-b83c-b786a20ce097",
   "metadata": {},
   "outputs": [
    {
     "name": "stdout",
     "output_type": "stream",
     "text": [
      "\"The professor was very helpful and explained everything clearly.\", POSITIVE\n",
      "\"This class was disorganized and the grading was unfair.\", NEGATIVE\n",
      "\"I learned a lot and would recommend this professor. Tough class but the professor made it doable.\", POSITIVE\n",
      "\"Terrible experience, would not take this course again.\", NEGATIVE\n",
      "\"The professor was nice and tried to help his students, but he was unorganized and his exams were unfairly difficult.\", NEGATIVE\n"
     ]
    }
   ],
   "source": [
    "for comment, label in zip(new_comments, pred_labels):\n",
    "    sentiment = \"Positive\" if label == 1 else \"Negative\"\n",
    "    print(f'\"{comment}\", {sentiment.upper()}')"
   ]
  }
 ],
 "metadata": {
  "kernelspec": {
   "display_name": "Python 3 (ipykernel)",
   "language": "python",
   "name": "python3"
  },
  "language_info": {
   "codemirror_mode": {
    "name": "ipython",
    "version": 3
   },
   "file_extension": ".py",
   "mimetype": "text/x-python",
   "name": "python",
   "nbconvert_exporter": "python",
   "pygments_lexer": "ipython3",
   "version": "3.12.4"
  }
 },
 "nbformat": 4,
 "nbformat_minor": 5
}
