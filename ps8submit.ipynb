{
 "cells": [
  {
   "cell_type": "markdown",
   "id": "241db1d3-7b8b-4d63-8d68-8a3f94ef3430",
   "metadata": {},
   "source": [
    "# INFO 3950 ps8\n",
    "\n",
    "name: Kate Li\n",
    "\n",
    "netid: kl739"
   ]
  },
  {
   "cell_type": "code",
   "execution_count": 2,
   "id": "23d37333-0054-41ec-9e9c-3b8c5e12932a",
   "metadata": {},
   "outputs": [],
   "source": [
    "import torch, torch.nn as nn, torch.nn.functional as F, numpy as np\n",
    "import matplotlib.pyplot as plt # for making figures\n",
    "%matplotlib inline"
   ]
  },
  {
   "cell_type": "markdown",
   "id": "d237105a-4f78-467d-baad-383b51ace6c9",
   "metadata": {},
   "source": [
    "## 1)"
   ]
  },
  {
   "cell_type": "code",
   "execution_count": 4,
   "id": "1b761090-d517-4cfd-bf32-6f922bf7982e",
   "metadata": {},
   "outputs": [
    {
     "data": {
      "text/plain": [
       "(32033,\n",
       " ['emma', 'olivia', 'ava', 'isabella', 'sophia', 'charlotte', 'mia', 'amelia'])"
      ]
     },
     "execution_count": 4,
     "metadata": {},
     "output_type": "execute_result"
    }
   ],
   "source": [
    "# read in all the words, I called it ak_names.txt, call it what you like\n",
    "words = open('names.txt', 'r').read().splitlines()\n",
    "len(words), words[:8]"
   ]
  },
  {
   "cell_type": "code",
   "execution_count": 5,
   "id": "ddb5fecc-3c2c-49d2-88fd-806af1c805db",
   "metadata": {},
   "outputs": [
    {
     "name": "stdout",
     "output_type": "stream",
     "text": [
      "{1: 'a', 2: 'b', 3: 'c', 4: 'd', 5: 'e', 6: 'f', 7: 'g', 8: 'h', 9: 'i', 10: 'j', 11: 'k', 12: 'l', 13: 'm', 14: 'n', 15: 'o', 16: 'p', 17: 'q', 18: 'r', 19: 's', 20: 't', 21: 'u', 22: 'v', 23: 'w', 24: 'x', 25: 'y', 26: 'z', 0: '.'}\n"
     ]
    }
   ],
   "source": [
    "# build the vocabulary of characters and mappings to/from integers\n",
    "chars = sorted(list(set(''.join(words)))) # 26 characters\n",
    "stoi = {s:i+1 for i,s in enumerate(chars)}  # string to integer conversion\n",
    "stoi['.'] = 0  # add in '.' for padding and for end of name\n",
    "itos = {i:s for s,i in stoi.items()}  # integer back to string\n",
    "print(itos)"
   ]
  },
  {
   "cell_type": "markdown",
   "id": "11057bcf-0759-4d71-b66f-070220ad35bc",
   "metadata": {},
   "source": [
    "He builds a dataset of character n-grams to train on with this function:"
   ]
  },
  {
   "cell_type": "code",
   "execution_count": 7,
   "id": "bfc1f99e-77ad-43b6-98af-711f5cb0ea60",
   "metadata": {},
   "outputs": [],
   "source": [
    "# build the dataset\n",
    "block_size = 3 # context length: how many characters do we take to predict the next one?\n",
    "\n",
    "def build_dataset(words):  \n",
    "    X, Y = [], []\n",
    "    for w in words:\n",
    "        context = [0] * block_size\n",
    "        for ch in w + '.':\n",
    "            ix = stoi[ch]\n",
    "            X.append(context)\n",
    "            Y.append(ix)\n",
    "            context = context[1:] + [ix] # crop and append\n",
    "\n",
    "    X = torch.tensor(X)\n",
    "    Y = torch.tensor(Y)\n",
    "    print(X.shape, Y.shape)\n",
    "    return X, Y"
   ]
  },
  {
   "cell_type": "code",
   "execution_count": 8,
   "id": "c1efc073-7b2f-4fb6-8e2d-7985ed790caa",
   "metadata": {},
   "outputs": [
    {
     "name": "stdout",
     "output_type": "stream",
     "text": [
      "torch.Size([182778, 3]) torch.Size([182778])\n",
      "torch.Size([22633, 3]) torch.Size([22633])\n",
      "torch.Size([22735, 3]) torch.Size([22735])\n"
     ]
    }
   ],
   "source": [
    "#import random\n",
    "#random.seed(42)\n",
    "#random.shuffle(words)  #instead use in original order\n",
    "\n",
    "n1 = int(0.8*len(words)) #80% train\n",
    "n2 = int(0.9*len(words)) #10% validation / dev\n",
    "\n",
    "X_train, y_train = build_dataset(words[:n1]) #80%\n",
    "X_dev, y_dev = build_dataset(words[n1:n2])  #10%\n",
    "X_test, y_test = build_dataset(words[n2:])  #10%"
   ]
  },
  {
   "cell_type": "markdown",
   "id": "a77d6bc2-7036-4be8-a32f-2588fa1b2abe",
   "metadata": {},
   "source": [
    "### A. \n",
    "The first part of this assignment is to build a model to learn the properties of the training set well enough to generate text from it, starting from this template:"
   ]
  },
  {
   "cell_type": "code",
   "execution_count": 10,
   "id": "8823093e-14da-4c2a-bd5f-0930bcdb0766",
   "metadata": {},
   "outputs": [],
   "source": [
    "block_size = 3\n",
    "n_embd = 2\n",
    "vocab_size = 27\n",
    "h_layer = 200\n",
    "\n",
    "model = nn.Sequential(\n",
    "    nn.Embedding(vocab_size, n_embd),\n",
    "    nn.Flatten(),\n",
    "    nn.Linear(block_size * n_embd, h_layer),\n",
    "    nn.ReLU(),\n",
    "    nn.Linear(h_layer, vocab_size)\n",
    ")\n",
    "\n",
    "learning_rate = .001\n",
    "loss_fn = nn.CrossEntropyLoss()\n",
    "optimizer = torch.optim.Adam(model.parameters(), lr=learning_rate)"
   ]
  },
  {
   "cell_type": "code",
   "execution_count": 11,
   "id": "e3f28d35-2654-46e7-8c36-534578d2d371",
   "metadata": {},
   "outputs": [
    {
     "data": {
      "text/plain": [
       "(torch.Size([32]), torch.Size([32, 3]))"
      ]
     },
     "execution_count": 11,
     "metadata": {},
     "output_type": "execute_result"
    }
   ],
   "source": [
    "batch_size=32\n",
    "ix = torch.randint(0, len(X_train), (batch_size,))\n",
    "ix.shape, X_train[ix].shape"
   ]
  },
  {
   "cell_type": "markdown",
   "id": "6dd050bb-9f63-461c-8b28-8808165467d9",
   "metadata": {},
   "source": [
    "**i)** Write the code to finish the definition of the model, and train it using 100000 steps of random batch_size=32 chunks, as explained above."
   ]
  },
  {
   "cell_type": "code",
   "execution_count": 13,
   "id": "76b6abaf-6151-4faa-b59a-d48168204813",
   "metadata": {},
   "outputs": [
    {
     "name": "stdout",
     "output_type": "stream",
     "text": [
      "step 0: training loss = 3.2931\n",
      "step 5000: training loss = 2.3635\n",
      "step 10000: training loss = 2.2294\n",
      "step 15000: training loss = 2.1114\n",
      "step 20000: training loss = 2.2774\n",
      "step 25000: training loss = 2.1768\n",
      "step 30000: training loss = 1.8327\n",
      "step 35000: training loss = 2.3272\n",
      "step 40000: training loss = 2.0077\n",
      "step 45000: training loss = 2.5261\n",
      "step 50000: training loss = 2.1829\n",
      "step 55000: training loss = 2.3572\n",
      "step 60000: training loss = 2.2615\n",
      "step 65000: training loss = 2.1957\n",
      "step 70000: training loss = 1.9445\n",
      "step 75000: training loss = 2.1234\n",
      "step 80000: training loss = 2.2075\n",
      "step 85000: training loss = 2.1043\n",
      "step 90000: training loss = 2.3675\n",
      "step 95000: training loss = 1.9241\n"
     ]
    }
   ],
   "source": [
    "for step in range(100000):\n",
    "    ix = torch.randint(0, len(X_train), (batch_size,))\n",
    "    logits = model(X_train[ix])\n",
    "    loss = loss_fn(logits, y_train[ix])\n",
    "\n",
    "    optimizer.zero_grad()\n",
    "    loss.backward()\n",
    "    optimizer.step()\n",
    "\n",
    "    if step % 5000 == 0:\n",
    "        print(f\"step {step}: training loss = {loss.item():.4f}\")"
   ]
  },
  {
   "cell_type": "code",
   "execution_count": 14,
   "id": "70e405fc-642a-416b-9938-896473026224",
   "metadata": {},
   "outputs": [
    {
     "data": {
      "text/plain": [
       "tensor(2.4730, grad_fn=<NllLossBackward0>)"
      ]
     },
     "execution_count": 14,
     "metadata": {},
     "output_type": "execute_result"
    }
   ],
   "source": [
    "logits = model(X_test)\n",
    "F.cross_entropy(logits, y_test)"
   ]
  },
  {
   "cell_type": "markdown",
   "id": "e1601b9e-cbe6-40b9-8588-33c3d41f659b",
   "metadata": {},
   "source": [
    "**ii)** You can visualize the learned embeddings output from the first layer as below, and since we're not using a random seed in common, your embedding won't look exactly like this one, but should share the feature that it \"figures out\" that vowels are somehow similar in role and groups them together, and that characters like '.' and 'q' are somehow different from the rest:"
   ]
  },
  {
   "cell_type": "code",
   "execution_count": 16,
   "id": "cf0315b0-9feb-49d5-a43b-698a71703c3c",
   "metadata": {},
   "outputs": [
    {
     "data": {
      "image/png": "[encoded data removed]",
      "text/plain": [
       "<Figure size 500x500 with 1 Axes>"
      ]
     },
     "metadata": {},
     "output_type": "display_data"
    }
   ],
   "source": [
    "C=model[0](torch.tensor(range(vocab_size)))\n",
    "\n",
    "vowels = set('aeiou')\n",
    "alphabet = set('abcdefghijklmnopqrstuvwxyz')\n",
    "colors = []\n",
    "\n",
    "for i in range(vocab_size):\n",
    "    ch = itos[i].lower()\n",
    "    if ch in vowels:\n",
    "        colors.append('red')\n",
    "    elif ch in alphabet:\n",
    "        colors.append('blue')\n",
    "    else:\n",
    "        colors.append('green')\n",
    "\n",
    "\n",
    "# visualize dimensions 0 and 1 of the embedding matrix C for all characters\n",
    "plt.figure(figsize=(5,5))\n",
    "\n",
    "plt.scatter(*C.data.T, s=100, c=colors)\n",
    "for i in range(len(C)):\n",
    "    plt.text(C[i,0].item(), C[i,1].item(), itos[i], ha=\"center\", va=\"center\", color='white')\n",
    "plt.grid(ls=':')\n",
    "\n",
    "# I figured out how to group the vowels together but I'm not sure how the model figures out that q would be different.\n",
    "# I think my visualization is still valid and useful though"
   ]
  },
  {
   "cell_type": "markdown",
   "id": "29405308-6618-4ddc-aa12-9236c2070f00",
   "metadata": {},
   "source": [
    "### B."
   ]
  },
  {
   "cell_type": "code",
   "execution_count": 18,
   "id": "8ec5dea5-83e5-4b4f-b0db-8848f385724b",
   "metadata": {},
   "outputs": [
    {
     "name": "stdout",
     "output_type": "stream",
     "text": [
      "kamya.\n",
      "ilita.\n",
      "sary.\n",
      "bairranton.\n",
      "khey.\n",
      "breianya.\n",
      "avyn.\n",
      "brean.\n",
      "sos.\n",
      "y.\n",
      "elley.\n",
      "salon.\n",
      "arar.\n",
      "sha.\n",
      "valixd.\n",
      "mamym.\n",
      "warsitti.\n",
      "mik.\n",
      "eleenn.\n",
      "ermier.\n"
     ]
    }
   ],
   "source": [
    "for i in range(20):\n",
    "    context = torch.tensor([[0]*block_size])\n",
    "    word = []\n",
    "    generate = True\n",
    "\n",
    "    while generate:\n",
    "        probs = F.softmax(model(context), dim=-1)\n",
    "        idx_next = torch.multinomial(probs, num_samples=1).item()\n",
    "        word.append(itos[idx_next])\n",
    "        context = torch.tensor([context[0][1:].tolist() + [idx_next]])\n",
    "\n",
    "        if idx_next == 0:\n",
    "            generate = False\n",
    "\n",
    "    print(''.join(word))"
   ]
  },
  {
   "cell_type": "markdown",
   "id": "ff7f54cc-bd87-4c9f-a660-ea700b1e04eb",
   "metadata": {},
   "source": [
    "### C.\n",
    "**i.** Now increase the size of the embedding dimension to `n_embd=10`, which should give better performance (`n_embd=2` was just for visualization). The training loss should come down to the $< 2.1$ range."
   ]
  },
  {
   "cell_type": "code",
   "execution_count": 20,
   "id": "ff0d5c37-cf16-4ba4-96c9-6e6cceae743d",
   "metadata": {},
   "outputs": [],
   "source": [
    "block_size = 3\n",
    "n_embd = 10\n",
    "vocab_size = 27\n",
    "h_layer = 200\n",
    "\n",
    "model = nn.Sequential(\n",
    "    nn.Embedding(vocab_size, n_embd),\n",
    "    nn.Flatten(),\n",
    "    nn.Linear(block_size * n_embd, h_layer),\n",
    "    nn.ReLU(),\n",
    "    nn.Linear(h_layer, vocab_size)\n",
    ")\n",
    "\n",
    "learning_rate = .001\n",
    "loss_fn = nn.CrossEntropyLoss()\n",
    "optimizer = torch.optim.Adam(model.parameters(), lr=learning_rate)"
   ]
  },
  {
   "cell_type": "code",
   "execution_count": 21,
   "id": "f25a79b1-4d86-4f8c-877b-9cebb5781cd8",
   "metadata": {},
   "outputs": [
    {
     "data": {
      "text/plain": [
       "(torch.Size([32]), torch.Size([32, 3]))"
      ]
     },
     "execution_count": 21,
     "metadata": {},
     "output_type": "execute_result"
    }
   ],
   "source": [
    "batch_size=32\n",
    "ix = torch.randint(0, len(X_train), (batch_size,))\n",
    "ix.shape, X_train[ix].shape"
   ]
  },
  {
   "cell_type": "code",
   "execution_count": 22,
   "id": "1d369034-0953-4945-be6b-9666676c3bfe",
   "metadata": {},
   "outputs": [
    {
     "name": "stdout",
     "output_type": "stream",
     "text": [
      "step 0: training loss = 3.3188\n",
      "step 5000: training loss = 1.8888\n",
      "step 10000: training loss = 1.9710\n",
      "step 15000: training loss = 2.2075\n",
      "step 20000: training loss = 1.9699\n",
      "step 25000: training loss = 1.9506\n",
      "step 30000: training loss = 2.0816\n",
      "step 35000: training loss = 2.2773\n",
      "step 40000: training loss = 1.8244\n",
      "step 45000: training loss = 1.9464\n",
      "step 50000: training loss = 1.8387\n",
      "step 55000: training loss = 1.6438\n",
      "step 60000: training loss = 2.2155\n",
      "step 65000: training loss = 2.0160\n",
      "step 70000: training loss = 1.5859\n",
      "step 75000: training loss = 2.2948\n",
      "step 80000: training loss = 2.3725\n",
      "step 85000: training loss = 1.9479\n",
      "step 90000: training loss = 2.1164\n",
      "step 95000: training loss = 2.0295\n"
     ]
    }
   ],
   "source": [
    "for step in range(100000):\n",
    "    ix = torch.randint(0, len(X_train), (batch_size,))\n",
    "    logits = model(X_train[ix])\n",
    "    loss = loss_fn(logits, y_train[ix])\n",
    "\n",
    "    optimizer.zero_grad()\n",
    "    loss.backward()\n",
    "    optimizer.step()\n",
    "\n",
    "    if step % 5000 == 0:\n",
    "        print(f\"step {step}: training loss = {loss.item():.4f}\")"
   ]
  },
  {
   "cell_type": "code",
   "execution_count": 23,
   "id": "a0f2ad4a-87a6-4f02-afe8-f7e75c544c26",
   "metadata": {},
   "outputs": [
    {
     "data": {
      "text/plain": [
       "tensor(2.3810, grad_fn=<NllLossBackward0>)"
      ]
     },
     "execution_count": 23,
     "metadata": {},
     "output_type": "execute_result"
    }
   ],
   "source": [
    "logits = model(X_test)\n",
    "F.cross_entropy(logits, y_test)"
   ]
  },
  {
   "cell_type": "markdown",
   "id": "b7cdd020-222a-47fb-b4f1-468dee546f73",
   "metadata": {},
   "source": [
    "**ii.** Generate 20 examples. There might be only subtle differences, but see how they compare to the earlier."
   ]
  },
  {
   "cell_type": "code",
   "execution_count": 25,
   "id": "f3869c46-ea59-4a2d-befd-29fcdf12474f",
   "metadata": {},
   "outputs": [
    {
     "name": "stdout",
     "output_type": "stream",
     "text": [
      "tyse.\n",
      "khiardani.\n",
      "emma.\n",
      "coloyn.\n",
      "ariah.\n",
      "holten.\n",
      "rydorristifh.\n",
      "alton.\n",
      "aliamylaytanna.\n",
      "jordian.\n",
      "chrikolani.\n",
      "sha.\n",
      "milla.\n",
      "rhelmi.\n",
      "damaur.\n",
      "aar.\n",
      "vika.\n",
      "avristefa.\n",
      "madviyah.\n",
      "braul.\n"
     ]
    }
   ],
   "source": [
    "for i in range(20):\n",
    "    context = torch.tensor([[0]*block_size])\n",
    "    word = []\n",
    "    generate = True\n",
    "\n",
    "    while generate:\n",
    "        probs = F.softmax(model(context), dim=-1)\n",
    "        idx_next = torch.multinomial(probs, num_samples=1).item()\n",
    "        word.append(itos[idx_next])\n",
    "        context = torch.tensor([context[0][1:].tolist() + [idx_next]])\n",
    "\n",
    "        if idx_next == 0:\n",
    "            generate = False\n",
    "\n",
    "    print(''.join(word))"
   ]
  },
  {
   "cell_type": "markdown",
   "id": "b2dd37fe-0739-4cbf-948d-8c040572f76e",
   "metadata": {},
   "source": [
    "### D.\n",
    "Train a model with `blocksize=4` (you'll need to generate new training data), and calculate the loss on the training and test sets.  Generate 20 examples -- it might now look more constrained (and less creative), based on predicting from preceding four characters."
   ]
  },
  {
   "cell_type": "code",
   "execution_count": 27,
   "id": "3a17a0c7-cada-4e5e-a4f0-f4708272c3ed",
   "metadata": {},
   "outputs": [],
   "source": [
    "block_size = 4\n",
    "\n",
    "def build_dataset(words):  \n",
    "    X, Y = [], []\n",
    "    for w in words:\n",
    "        context = [0] * block_size\n",
    "        for ch in w + '.':\n",
    "            ix = stoi[ch]\n",
    "            X.append(context)\n",
    "            Y.append(ix)\n",
    "            context = context[1:] + [ix] # crop and append\n",
    "\n",
    "    X = torch.tensor(X)\n",
    "    Y = torch.tensor(Y)\n",
    "    print(X.shape, Y.shape)\n",
    "    return X, Y"
   ]
  },
  {
   "cell_type": "code",
   "execution_count": 28,
   "id": "f2de3799-d011-465b-8af8-98ac2e507a53",
   "metadata": {},
   "outputs": [
    {
     "name": "stdout",
     "output_type": "stream",
     "text": [
      "torch.Size([182778, 4]) torch.Size([182778])\n",
      "torch.Size([22633, 4]) torch.Size([22633])\n",
      "torch.Size([22735, 4]) torch.Size([22735])\n"
     ]
    }
   ],
   "source": [
    "n1 = int(0.8*len(words)) #80% train\n",
    "n2 = int(0.9*len(words)) #10% validation / dev\n",
    "\n",
    "X_train, y_train = build_dataset(words[:n1]) #80%\n",
    "X_dev, y_dev = build_dataset(words[n1:n2])  #10%\n",
    "X_test, y_test = build_dataset(words[n2:])  #10%"
   ]
  },
  {
   "cell_type": "code",
   "execution_count": 29,
   "id": "31322d56-5397-4c92-87e9-4a6356b13ada",
   "metadata": {},
   "outputs": [],
   "source": [
    "block_size = 4\n",
    "n_embd = 10\n",
    "vocab_size = 27\n",
    "h_layer = 200\n",
    "\n",
    "model = nn.Sequential(\n",
    "    nn.Embedding(vocab_size, n_embd),\n",
    "    nn.Flatten(),\n",
    "    nn.Linear(n_embd * block_size, h_layer),\n",
    "    nn.ReLU(),\n",
    "    nn.Linear(h_layer, vocab_size)\n",
    ")\n",
    "learning_rate = .001\n",
    "loss_fn = nn.CrossEntropyLoss()\n",
    "optimizer = torch.optim.Adam(model.parameters(), lr=learning_rate)"
   ]
  },
  {
   "cell_type": "code",
   "execution_count": 30,
   "id": "2bf1387d-cc31-4161-85cc-ae9c6961f590",
   "metadata": {},
   "outputs": [
    {
     "data": {
      "text/plain": [
       "(torch.Size([32]), torch.Size([32, 4]))"
      ]
     },
     "execution_count": 30,
     "metadata": {},
     "output_type": "execute_result"
    }
   ],
   "source": [
    "batch_size=32\n",
    "ix = torch.randint(0, len(X_train), (batch_size,))\n",
    "ix.shape, X_train[ix].shape"
   ]
  },
  {
   "cell_type": "code",
   "execution_count": 31,
   "id": "81e2a84b-d996-43df-b1cd-08c9c65b4c8c",
   "metadata": {},
   "outputs": [
    {
     "name": "stdout",
     "output_type": "stream",
     "text": [
      "step 0: training loss = 3.4023\n",
      "step 5000: training loss = 1.9628\n",
      "step 10000: training loss = 1.8641\n",
      "step 15000: training loss = 2.3548\n",
      "step 20000: training loss = 2.2468\n",
      "step 25000: training loss = 2.2600\n",
      "step 30000: training loss = 1.9106\n",
      "step 35000: training loss = 1.8816\n",
      "step 40000: training loss = 2.2161\n",
      "step 45000: training loss = 1.8768\n",
      "step 50000: training loss = 2.1665\n",
      "step 55000: training loss = 2.1344\n",
      "step 60000: training loss = 2.1623\n",
      "step 65000: training loss = 2.1172\n",
      "step 70000: training loss = 1.9787\n",
      "step 75000: training loss = 2.1632\n",
      "step 80000: training loss = 2.1899\n",
      "step 85000: training loss = 1.7928\n",
      "step 90000: training loss = 1.9377\n",
      "step 95000: training loss = 1.6410\n"
     ]
    }
   ],
   "source": [
    "for step in range(100000):\n",
    "    ix = torch.randint(0, len(X_train), (batch_size,))\n",
    "    logits = model(X_train[ix])\n",
    "    loss = loss_fn(logits, y_train[ix])\n",
    "\n",
    "    optimizer.zero_grad()\n",
    "    loss.backward()\n",
    "    optimizer.step()\n",
    "\n",
    "    if step % 5000 == 0:\n",
    "        print(f\"step {step}: training loss = {loss.item():.4f}\")"
   ]
  },
  {
   "cell_type": "code",
   "execution_count": 32,
   "id": "21729634-c1a9-44e5-8407-ceb526ca0d7a",
   "metadata": {},
   "outputs": [
    {
     "data": {
      "text/plain": [
       "tensor(2.3692, grad_fn=<NllLossBackward0>)"
      ]
     },
     "execution_count": 32,
     "metadata": {},
     "output_type": "execute_result"
    }
   ],
   "source": [
    "logits = model(X_test)\n",
    "F.cross_entropy(logits, y_test)"
   ]
  },
  {
   "cell_type": "code",
   "execution_count": 33,
   "id": "0bfa3ec2-280b-4b15-81e5-6c1e25ba58c1",
   "metadata": {},
   "outputs": [
    {
     "name": "stdout",
     "output_type": "stream",
     "text": [
      "adara.\n",
      "memmera.\n",
      "sacha.\n",
      "syanne.\n",
      "lealeya.\n",
      "azana.\n",
      "lari.\n",
      "marilynn.\n",
      "syeve.\n",
      "aziyah.\n",
      "hazsofia.\n",
      "remiah.\n",
      "farm.\n",
      "jayde.\n",
      "malynn.\n",
      "jemckynnlee.\n",
      "sabher.\n",
      "kingsaysha.\n",
      "zobelani.\n",
      "nistopheros.\n"
     ]
    }
   ],
   "source": [
    "for i in range(20):\n",
    "    context = torch.tensor([[0]*block_size])\n",
    "    word = []\n",
    "    generate = True\n",
    "\n",
    "    while generate:\n",
    "        probs = F.softmax(model(context), dim=-1)\n",
    "        idx_next = torch.multinomial(probs, num_samples=1).item()\n",
    "        word.append(itos[idx_next])\n",
    "        context = torch.tensor([context[0][1:].tolist() + [idx_next]])\n",
    "\n",
    "        if idx_next == 0:\n",
    "            generate = False\n",
    "\n",
    "    print(''.join(word))"
   ]
  },
  {
   "cell_type": "markdown",
   "id": "2f5b2055-234e-4ac7-871c-04dd1ea5416d",
   "metadata": {},
   "source": [
    "### E.\n",
    "How many parameters are trained for each of the four models in A, C, D ?"
   ]
  },
  {
   "cell_type": "markdown",
   "id": "0c439356-b4bf-4e47-acc8-34c5b70a249f",
   "metadata": {},
   "source": [
    "**Model A**\n",
    "\n",
    "block_size = 3 <br/>\n",
    "n_embd = 2 <br/>\n",
    "vocab_size = 27 <br/>\n",
    "h_layer = 200 <br/>\n",
    "\n",
    "model = nn.Sequential(\n",
    "\n",
    "    nn.Embedding(vocab_size, n_embd),\n",
    "    nn.Flatten(),\n",
    "    nn.Linear(block_size * n_embd, h_layer),    \n",
    "    nn.ReLU(),    \n",
    "    nn.Linear(h_layer, vocab_size)\n",
    ")\n",
    "\n",
    "- embedding layer: 27 * 2 = 54 parameters\n",
    "- linear layer 1: 3 * 2 * 200 + 200 = 1400 parameters\n",
    "    - bias = 200\n",
    "- linear layer 2: 200 * 27 + 27 = 5427 parameters\n",
    "  - bias = 27\n",
    "- total = 6881 parameters"
   ]
  },
  {
   "cell_type": "markdown",
   "id": "9bf62cc7-9b37-4006-9ea6-3f3502697689",
   "metadata": {},
   "source": [
    "**Model C**\n",
    "\n",
    "block_size = 3 <br/>\n",
    "n_embd = 10 <br/>\n",
    "vocab_size = 27 <br/>\n",
    "h_layer = 200 <br/>\n",
    "\n",
    "model = nn.Sequential(\n",
    "\n",
    "    nn.Embedding(vocab_size, n_embd),\n",
    "    nn.Flatten(),\n",
    "    nn.Linear(block_size * n_embd, h_layer),\n",
    "    nn.ReLU(),\n",
    "    nn.Linear(h_layer, vocab_size)\n",
    ")\n",
    "\n",
    "- embedding layer: 27 * 10 = 270 parameters\n",
    "- linear layer 1: 3 * 10 * 200 + 200 = 6200 parameters\n",
    "    - bias = 200\n",
    "- linear layer 2: 200 * 27 + 27 = 5427 parameters\n",
    "    - bias = 27\n",
    "- total = 11897 parameters"
   ]
  },
  {
   "cell_type": "markdown",
   "id": "0f517168-e69d-4f6b-adca-b29807984efe",
   "metadata": {},
   "source": [
    "**Model D**\n",
    "\n",
    "block_size = 4 <br/>\n",
    "n_embd = 10 <br/>\n",
    "vocab_size = 27 <br/>\n",
    "h_layer = 200 <br/>\n",
    "\n",
    "model = nn.Sequential(\n",
    "\n",
    "    nn.Embedding(vocab_size, n_embd),\n",
    "    nn.Flatten(),\n",
    "    nn.Linear(n_embd * block_size, h_layer),\n",
    "    nn.ReLU(),\n",
    "    nn.Linear(h_layer, vocab_size)\n",
    ")\n",
    "\n",
    "- embedding layer: 27 * 10 = 270 parameters\n",
    "- linear layer 1: 10 * 4 * 200 + 200 = 8200 parameters\n",
    "    - bias = 200\n",
    "- linear layer 2: 200 * 27 + 27 = 5427 parameters\n",
    "    - bias = 27\n",
    "- total = 13897 parameters"
   ]
  }
 ],
 "metadata": {
  "kernelspec": {
   "display_name": "Python 3 (ipykernel)",
   "language": "python",
   "name": "python3"
  },
  "language_info": {
   "codemirror_mode": {
    "name": "ipython",
    "version": 3
   },
   "file_extension": ".py",
   "mimetype": "text/x-python",
   "name": "python",
   "nbconvert_exporter": "python",
   "pygments_lexer": "ipython3",
   "version": "3.12.4"
  }
 },
 "nbformat": 4,
 "nbformat_minor": 5
}
